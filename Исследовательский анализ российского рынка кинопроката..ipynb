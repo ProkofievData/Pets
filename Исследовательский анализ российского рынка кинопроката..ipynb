{
 "cells": [
  {
   "cell_type": "markdown",
   "metadata": {
    "id": "sIfNaMOxgFyK"
   },
   "source": [
    "# Исследование данных о российском кинопрокате\n",
    "\n"
   ]
  },
  {
   "cell_type": "markdown",
   "metadata": {},
   "source": [
    "## Описание проекта"
   ]
  },
  {
   "cell_type": "markdown",
   "metadata": {},
   "source": [
    "Заказчик этого исследования — Министерство культуры Российской Федерации. \n",
    "Необходимо изучить рынок российского кинопроката и выявить текущие тренды. Особенно важно уделить внимание фильмам, которые получили государственную поддержку, и ответить на вопрос, насколько такие фильмы интересны зрителю. \n",
    "Работа будет проведена с данными, опубликованными на портале открытых данных Министерства культуры. Набор данных содержит информацию о прокатных удостоверениях, сборах и государственной поддержке фильмов, а также информацию с сайта КиноПоиск. \n",
    "\n",
    "План проекта:\n",
    "- Предобработка данных, включающая в себя: заполнение пропусков в данных, удаление дубликатов, изменение типов данных, а также нахождение аномалий и необычных значений в столбцах с категориальными и количественными значениями.\n",
    "- Добавление новых столбцов для дальнейшей работы с данными\n",
    "- Исследование динамики сборов фильмов по годам\n",
    "- Изучение влияния возрастного ограничения на сборы фильмов\n",
    "- Исследование фильмов с гос. поддержкой, выявление интересных закономерностей\n",
    "- Общий вывод"
   ]
  },
  {
   "cell_type": "markdown",
   "metadata": {},
   "source": [
    "### Информация о данных"
   ]
  },
  {
   "cell_type": "code",
   "execution_count": 1,
   "metadata": {},
   "outputs": [],
   "source": [
    "import string\n",
    "import pandas as pd\n",
    "pd.set_option('display.float_format', '{:,.2f}'.format)"
   ]
  },
  {
   "cell_type": "code",
   "execution_count": 2,
   "metadata": {
    "id": "dw87FlzMgFyM"
   },
   "outputs": [
    {
     "name": "stdout",
     "output_type": "stream",
     "text": [
      "                  title   puNumber           show_start_date            type  \\\n",
      "0      Открытый простор  221048915  2015-11-27T12:00:00.000Z  Художественный   \n",
      "1  Особо важное задание  111013716  2016-09-13T12:00:00.000Z  Художественный   \n",
      "2          Особо опасен  221038416  2016-10-10T12:00:00.000Z  Художественный   \n",
      "3          Особо опасен  221026916  2016-06-10T12:00:00.000Z  Художественный   \n",
      "4          Особо опасен  221030815  2015-07-29T12:00:00.000Z  Художественный   \n",
      "\n",
      "                                         film_studio production_country  \\\n",
      "0  Тачстоун Пикчерз, Кобальт Пикчерз, Бикон Пикче...                США   \n",
      "1                              Киностудия \"Мосфильм\"               СССР   \n",
      "2  Юниверсал Пикчерз, Кикстарт Продакшнз, Марк Пл...                США   \n",
      "3  Юниверсал Пикчерз, Кикстарт Продакшнз, Марк Пл...                США   \n",
      "4  Юниверсал Пикчерз, Кикстарт Продакшнз, Марк Пл...                США   \n",
      "\n",
      "            director                                           producer  \\\n",
      "0      Кевин Костнер          Дэвид Валдес, Кевин Костнер, Джейк Эбертс   \n",
      "1          Е.Матвеев                                                NaN   \n",
      "2  Тимур Бекмамбетов  Джим Лемли, Джейсон Нетер, Марк Е.Платт, Яйн Смит   \n",
      "3  Тимур Бекмамбетов  Джим Лемли, Джейсон Нетер, Марк Е.Платт, Яйн Смит   \n",
      "4  Тимур Бекмамбетов  Джим Лемли, Джейсон Нетер, Марк Е.Платт, Яйн Смит   \n",
      "\n",
      "                 age_restriction  refundable_support  nonrefundable_support  \\\n",
      "0    «18+» - запрещено для детей                 NaN                    NaN   \n",
      "1  «6+» - для детей старше 6 лет                 NaN                    NaN   \n",
      "2    «18+» - запрещено для детей                 NaN                    NaN   \n",
      "3    «18+» - запрещено для детей                 NaN                    NaN   \n",
      "4    «18+» - запрещено для детей                 NaN                    NaN   \n",
      "\n",
      "   budget financing_source ratings                     genres  \n",
      "0     NaN              NaN     7.2     боевик,драма,мелодрама  \n",
      "1     NaN              NaN     6.6              драма,военный  \n",
      "2     NaN              NaN     6.8  фантастика,боевик,триллер  \n",
      "3     NaN              NaN     6.8  фантастика,боевик,триллер  \n",
      "4     NaN              NaN     6.8  фантастика,боевик,триллер  \n"
     ]
    },
    {
     "data": {
      "text/html": [
       "<div>\n",
       "<style scoped>\n",
       "    .dataframe tbody tr th:only-of-type {\n",
       "        vertical-align: middle;\n",
       "    }\n",
       "\n",
       "    .dataframe tbody tr th {\n",
       "        vertical-align: top;\n",
       "    }\n",
       "\n",
       "    .dataframe thead th {\n",
       "        text-align: right;\n",
       "    }\n",
       "</style>\n",
       "<table border=\"1\" class=\"dataframe\">\n",
       "  <thead>\n",
       "    <tr style=\"text-align: right;\">\n",
       "      <th></th>\n",
       "      <th>puNumber</th>\n",
       "      <th>box_office</th>\n",
       "    </tr>\n",
       "  </thead>\n",
       "  <tbody>\n",
       "    <tr>\n",
       "      <th>0</th>\n",
       "      <td>111000113</td>\n",
       "      <td>2,450.00</td>\n",
       "    </tr>\n",
       "    <tr>\n",
       "      <th>1</th>\n",
       "      <td>111000115</td>\n",
       "      <td>61,040.00</td>\n",
       "    </tr>\n",
       "    <tr>\n",
       "      <th>2</th>\n",
       "      <td>111000116</td>\n",
       "      <td>153,030,013.40</td>\n",
       "    </tr>\n",
       "    <tr>\n",
       "      <th>3</th>\n",
       "      <td>111000117</td>\n",
       "      <td>12,260,956.00</td>\n",
       "    </tr>\n",
       "    <tr>\n",
       "      <th>4</th>\n",
       "      <td>111000118</td>\n",
       "      <td>163,684,057.79</td>\n",
       "    </tr>\n",
       "  </tbody>\n",
       "</table>\n",
       "</div>"
      ],
      "text/plain": [
       "    puNumber     box_office\n",
       "0  111000113       2,450.00\n",
       "1  111000115      61,040.00\n",
       "2  111000116 153,030,013.40\n",
       "3  111000117  12,260,956.00\n",
       "4  111000118 163,684,057.79"
      ]
     },
     "execution_count": 2,
     "metadata": {},
     "output_type": "execute_result"
    }
   ],
   "source": [
    "data_1 = pd.read_csv('/datasets/mkrf_movies.csv')\n",
    "print(data_1.head())\n",
    "data_2 = pd.read_csv('/datasets/mkrf_shows.csv')\n",
    "data_2.head()\n"
   ]
  },
  {
   "cell_type": "markdown",
   "metadata": {},
   "source": [
    "Изучим общую информацию о датасетах"
   ]
  },
  {
   "cell_type": "code",
   "execution_count": 3,
   "metadata": {},
   "outputs": [
    {
     "name": "stdout",
     "output_type": "stream",
     "text": [
      "<class 'pandas.core.frame.DataFrame'>\n",
      "RangeIndex: 7486 entries, 0 to 7485\n",
      "Data columns (total 15 columns):\n",
      " #   Column                 Non-Null Count  Dtype  \n",
      "---  ------                 --------------  -----  \n",
      " 0   title                  7486 non-null   object \n",
      " 1   puNumber               7486 non-null   object \n",
      " 2   show_start_date        7486 non-null   object \n",
      " 3   type                   7486 non-null   object \n",
      " 4   film_studio            7468 non-null   object \n",
      " 5   production_country     7484 non-null   object \n",
      " 6   director               7477 non-null   object \n",
      " 7   producer               6918 non-null   object \n",
      " 8   age_restriction        7486 non-null   object \n",
      " 9   refundable_support     332 non-null    float64\n",
      " 10  nonrefundable_support  332 non-null    float64\n",
      " 11  budget                 332 non-null    float64\n",
      " 12  financing_source       332 non-null    object \n",
      " 13  ratings                6519 non-null   object \n",
      " 14  genres                 6510 non-null   object \n",
      "dtypes: float64(3), object(12)\n",
      "memory usage: 877.4+ KB\n",
      "None\n",
      "<class 'pandas.core.frame.DataFrame'>\n",
      "RangeIndex: 3158 entries, 0 to 3157\n",
      "Data columns (total 2 columns):\n",
      " #   Column      Non-Null Count  Dtype  \n",
      "---  ------      --------------  -----  \n",
      " 0   puNumber    3158 non-null   int64  \n",
      " 1   box_office  3158 non-null   float64\n",
      "dtypes: float64(1), int64(1)\n",
      "memory usage: 49.5 KB\n",
      "None\n"
     ]
    }
   ],
   "source": [
    "print(data_1.info())\n",
    "print(data_2.info())"
   ]
  },
  {
   "cell_type": "markdown",
   "metadata": {},
   "source": [
    "### Произведем слияние датасетов"
   ]
  },
  {
   "cell_type": "markdown",
   "metadata": {},
   "source": [
    "Найдем строковые значения в столбце puNumber и удалим строки с ними, затем переведем весь столбец в формат int."
   ]
  },
  {
   "cell_type": "code",
   "execution_count": 4,
   "metadata": {},
   "outputs": [],
   "source": [
    "sorted(data_1['puNumber'].unique(), reverse=True)[0:10] \n",
    "data_1 = data_1.loc[data_1['puNumber'] != 'нет'] \n",
    "data_1['puNumber'] = data_1['puNumber'].astype('int64')\n"
   ]
  },
  {
   "cell_type": "markdown",
   "metadata": {},
   "source": [
    "Соединим таблицы по столбцу puNumber таким образом, чтобы сохранились все строки из первой таблицы.\n",
    "\n"
   ]
  },
  {
   "cell_type": "code",
   "execution_count": 5,
   "metadata": {},
   "outputs": [],
   "source": [
    "data = data_1.merge(data_2, on='puNumber', how='left')\n",
    "\n",
    "\n",
    "\n"
   ]
  },
  {
   "cell_type": "markdown",
   "metadata": {},
   "source": [
    "Проведем проверку. Убедимся, что информация в о датасете data и data_1 в их общих столбцах совпадает, а также что совпадает количество пропусков в срезе data и датасете data_1. "
   ]
  },
  {
   "cell_type": "code",
   "execution_count": 6,
   "metadata": {},
   "outputs": [
    {
     "name": "stdout",
     "output_type": "stream",
     "text": [
      "<class 'pandas.core.frame.DataFrame'>\n",
      "Int64Index: 7485 entries, 0 to 7484\n",
      "Data columns (total 16 columns):\n",
      " #   Column                 Non-Null Count  Dtype  \n",
      "---  ------                 --------------  -----  \n",
      " 0   title                  7485 non-null   object \n",
      " 1   puNumber               7485 non-null   int64  \n",
      " 2   show_start_date        7485 non-null   object \n",
      " 3   type                   7485 non-null   object \n",
      " 4   film_studio            7467 non-null   object \n",
      " 5   production_country     7483 non-null   object \n",
      " 6   director               7476 non-null   object \n",
      " 7   producer               6917 non-null   object \n",
      " 8   age_restriction        7485 non-null   object \n",
      " 9   refundable_support     332 non-null    float64\n",
      " 10  nonrefundable_support  332 non-null    float64\n",
      " 11  budget                 332 non-null    float64\n",
      " 12  financing_source       332 non-null    object \n",
      " 13  ratings                6519 non-null   object \n",
      " 14  genres                 6510 non-null   object \n",
      " 15  box_office             3158 non-null   float64\n",
      "dtypes: float64(4), int64(1), object(11)\n",
      "memory usage: 994.1+ KB\n",
      "<class 'pandas.core.frame.DataFrame'>\n",
      "Int64Index: 7485 entries, 0 to 7485\n",
      "Data columns (total 15 columns):\n",
      " #   Column                 Non-Null Count  Dtype  \n",
      "---  ------                 --------------  -----  \n",
      " 0   title                  7485 non-null   object \n",
      " 1   puNumber               7485 non-null   int64  \n",
      " 2   show_start_date        7485 non-null   object \n",
      " 3   type                   7485 non-null   object \n",
      " 4   film_studio            7467 non-null   object \n",
      " 5   production_country     7483 non-null   object \n",
      " 6   director               7476 non-null   object \n",
      " 7   producer               6917 non-null   object \n",
      " 8   age_restriction        7485 non-null   object \n",
      " 9   refundable_support     332 non-null    float64\n",
      " 10  nonrefundable_support  332 non-null    float64\n",
      " 11  budget                 332 non-null    float64\n",
      " 12  financing_source       332 non-null    object \n",
      " 13  ratings                6519 non-null   object \n",
      " 14  genres                 6510 non-null   object \n",
      "dtypes: float64(3), int64(1), object(11)\n",
      "memory usage: 935.6+ KB\n",
      "None None 31150 31150\n"
     ]
    }
   ],
   "source": [
    "print(data.info(), data_1.info(), data.loc[:, 'title':'genres'].isna().sum().sum(), data_1.isna().sum().sum())"
   ]
  },
  {
   "cell_type": "markdown",
   "metadata": {},
   "source": [
    "### Посмотрим еще раз на данные"
   ]
  },
  {
   "cell_type": "code",
   "execution_count": 7,
   "metadata": {},
   "outputs": [
    {
     "name": "stdout",
     "output_type": "stream",
     "text": [
      "<class 'pandas.core.frame.DataFrame'>\n",
      "Int64Index: 7485 entries, 0 to 7484\n",
      "Data columns (total 16 columns):\n",
      " #   Column                 Non-Null Count  Dtype  \n",
      "---  ------                 --------------  -----  \n",
      " 0   title                  7485 non-null   object \n",
      " 1   puNumber               7485 non-null   int64  \n",
      " 2   show_start_date        7485 non-null   object \n",
      " 3   type                   7485 non-null   object \n",
      " 4   film_studio            7467 non-null   object \n",
      " 5   production_country     7483 non-null   object \n",
      " 6   director               7476 non-null   object \n",
      " 7   producer               6917 non-null   object \n",
      " 8   age_restriction        7485 non-null   object \n",
      " 9   refundable_support     332 non-null    float64\n",
      " 10  nonrefundable_support  332 non-null    float64\n",
      " 11  budget                 332 non-null    float64\n",
      " 12  financing_source       332 non-null    object \n",
      " 13  ratings                6519 non-null   object \n",
      " 14  genres                 6510 non-null   object \n",
      " 15  box_office             3158 non-null   float64\n",
      "dtypes: float64(4), int64(1), object(11)\n",
      "memory usage: 994.1+ KB\n",
      "None\n"
     ]
    }
   ],
   "source": [
    "print(data.info())\n"
   ]
  },
  {
   "cell_type": "markdown",
   "metadata": {},
   "source": [
    "#### Пропуски"
   ]
  },
  {
   "cell_type": "code",
   "execution_count": 8,
   "metadata": {},
   "outputs": [
    {
     "data": {
      "text/plain": [
       "title                       0\n",
       "puNumber                    0\n",
       "show_start_date             0\n",
       "type                        0\n",
       "film_studio                18\n",
       "production_country          2\n",
       "director                    9\n",
       "producer                  568\n",
       "age_restriction             0\n",
       "refundable_support       7153\n",
       "nonrefundable_support    7153\n",
       "budget                   7153\n",
       "financing_source         7153\n",
       "ratings                   966\n",
       "genres                    975\n",
       "box_office               4327\n",
       "dtype: int64"
      ]
     },
     "execution_count": 8,
     "metadata": {},
     "output_type": "execute_result"
    }
   ],
   "source": [
    "data.isna().sum()"
   ]
  },
  {
   "cell_type": "markdown",
   "metadata": {},
   "source": [
    "#### Переименование "
   ]
  },
  {
   "cell_type": "code",
   "execution_count": 9,
   "metadata": {},
   "outputs": [],
   "source": [
    "data = data.rename(columns={'puNumber' : 'punumber'})"
   ]
  },
  {
   "cell_type": "markdown",
   "metadata": {
    "id": "KLDGpPG0gFyM"
   },
   "source": [
    "## Шаг 2. Предобработка данных"
   ]
  },
  {
   "cell_type": "markdown",
   "metadata": {},
   "source": [
    "### Преобразование типов данных"
   ]
  },
  {
   "cell_type": "markdown",
   "metadata": {},
   "source": [
    "Преобразования не помешали бы в столбце ratings. Есть строковые значения, их нужно удалить или перевести в тип float.\n",
    "Также значения из show_start_date необходимо привести к типу datetime.\n"
   ]
  },
  {
   "cell_type": "markdown",
   "metadata": {},
   "source": [
    "#### ratings"
   ]
  },
  {
   "cell_type": "code",
   "execution_count": 10,
   "metadata": {},
   "outputs": [],
   "source": [
    "#data['ratings'] = data['ratings'].astype('float64') #исходя из ошибки, видимо, есть какое-то количество значений в процентах\n",
    "data['ratings'] = data['ratings'].astype('str')\n",
    "data['ratings'] = data['ratings'].str.replace('%', '')\n",
    "data['ratings'] = data['ratings'].astype('float64')\n",
    "data.query('ratings > 10')['ratings'].count() #значений выше 10 немного, скорее всего, все они вызваны записью в процентах\n",
    "data.loc[data['ratings'] > 10, 'ratings'] = data.loc[data['ratings'] > 10, 'ratings'] / 10 #поделим эти значения на 10, чтобы перевести в десятичную шкалу\n"
   ]
  },
  {
   "cell_type": "markdown",
   "metadata": {},
   "source": [
    "#### show_start_date"
   ]
  },
  {
   "cell_type": "code",
   "execution_count": 11,
   "metadata": {},
   "outputs": [],
   "source": [
    "data['show_start_date'] = pd.to_datetime(data['show_start_date'], format='%Y-%m-%d').dt.tz_localize(None)\n",
    "\n",
    "\n",
    "\n",
    "                                 \n",
    "    "
   ]
  },
  {
   "cell_type": "markdown",
   "metadata": {
    "id": "i0MOLbF-gFyP"
   },
   "source": [
    "### Шаг 2.2. Изучим пропуски в датафрейме\n",
    "\n",
    "\n"
   ]
  },
  {
   "cell_type": "code",
   "execution_count": 12,
   "metadata": {},
   "outputs": [
    {
     "data": {
      "text/plain": [
       "7485"
      ]
     },
     "execution_count": 12,
     "metadata": {},
     "output_type": "execute_result"
    }
   ],
   "source": [
    "temp = data.copy() # создаем копию датасета до преобразования\n",
    "len(temp)"
   ]
  },
  {
   "cell_type": "markdown",
   "metadata": {
    "id": "8MJD_lkngFyP"
   },
   "source": [
    "#### film_studio, production_country, director\n",
    "Пропусков мало, придумать что-либо сложно => можно просто удалить"
   ]
  },
  {
   "cell_type": "code",
   "execution_count": 13,
   "metadata": {},
   "outputs": [
    {
     "name": "stdout",
     "output_type": "stream",
     "text": [
      "18 2 9\n"
     ]
    }
   ],
   "source": [
    "print(data['film_studio'].isna().sum(),\n",
    "data['production_country'].isna().sum(),\n",
    "data['director'].isna().sum())\n",
    "\n",
    "\n",
    "\n",
    "\n",
    "                                 \n",
    "    "
   ]
  },
  {
   "cell_type": "code",
   "execution_count": 14,
   "metadata": {},
   "outputs": [],
   "source": [
    "data = data.query('~film_studio.isna()')\n",
    "data = data.query('~production_country.isna()')\n",
    "data = data.query('~director.isna()')"
   ]
  },
  {
   "cell_type": "markdown",
   "metadata": {},
   "source": [
    "#### producer\n",
    "Пропусков много, удалять данные жалко. Заменить на наиболее вероятное значение получится вряд ли, поэтому лучше заменить на unknown."
   ]
  },
  {
   "cell_type": "code",
   "execution_count": 15,
   "metadata": {},
   "outputs": [],
   "source": [
    "data['producer'] = data['producer'].fillna('unknown')"
   ]
  },
  {
   "cell_type": "markdown",
   "metadata": {},
   "source": [
    "#### refundable_support, nonrefundable_support, budget, financing_source      \n",
    "Если эти данные не указаны, скорее всего, фильм просто не получал государственной поддержки. Поэтому оставим как есть.\n"
   ]
  },
  {
   "cell_type": "markdown",
   "metadata": {},
   "source": [
    "#### ratings\n",
    "Каким-либо разумным или наиболее вероятным значением заменить не получится => лучше оставить пропуски незаполненными."
   ]
  },
  {
   "cell_type": "code",
   "execution_count": 16,
   "metadata": {},
   "outputs": [
    {
     "data": {
      "text/plain": [
       "title                       0\n",
       "punumber                    0\n",
       "show_start_date             0\n",
       "type                        0\n",
       "film_studio                 0\n",
       "production_country          0\n",
       "director                    0\n",
       "producer                    0\n",
       "age_restriction             0\n",
       "refundable_support       7126\n",
       "nonrefundable_support    7126\n",
       "budget                   7126\n",
       "financing_source         7126\n",
       "ratings                   947\n",
       "genres                    956\n",
       "box_office               4303\n",
       "dtype: int64"
      ]
     },
     "execution_count": 16,
     "metadata": {},
     "output_type": "execute_result"
    }
   ],
   "source": [
    "data['ratings'] = data['ratings'].astype('object')\n",
    "data.query('ratings == \"Series([], )\"')['ratings'].count()\n",
    "data.loc[data['ratings'] == \"Series([], )\", 'ratings'] = None\n",
    "data['ratings'] = data['ratings'].astype('float64')\n",
    "data.isna().sum()\n"
   ]
  },
  {
   "cell_type": "markdown",
   "metadata": {},
   "source": [
    "#### genres\n",
    "Пропусков довольно много, удалив строки с ними, мы потеряем множество данных. Лучше заполнить на unknown. "
   ]
  },
  {
   "cell_type": "code",
   "execution_count": 17,
   "metadata": {},
   "outputs": [],
   "source": [
    "data['genres'] = data['genres'].fillna('unknown')"
   ]
  },
  {
   "cell_type": "markdown",
   "metadata": {},
   "source": [
    "#### box office\n",
    "Очевидно, в данном столбце пропуск означает, что фильм не был в российском прокате."
   ]
  },
  {
   "cell_type": "code",
   "execution_count": 2,
   "metadata": {},
   "outputs": [
    {
     "ename": "NameError",
     "evalue": "name 'temp' is not defined",
     "output_type": "error",
     "traceback": [
      "\u001b[0;31m---------------------------------------------------------------------------\u001b[0m",
      "\u001b[0;31mNameError\u001b[0m                                 Traceback (most recent call last)",
      "\u001b[0;32m/tmp/ipykernel_62/1324061045.py\u001b[0m in \u001b[0;36m<module>\u001b[0;34m\u001b[0m\n\u001b[0;32m----> 1\u001b[0;31m \u001b[0ma\u001b[0m\u001b[0;34m,\u001b[0m \u001b[0mb\u001b[0m \u001b[0;34m=\u001b[0m \u001b[0mlen\u001b[0m\u001b[0;34m(\u001b[0m\u001b[0mtemp\u001b[0m\u001b[0;34m)\u001b[0m\u001b[0;34m,\u001b[0m \u001b[0mlen\u001b[0m\u001b[0;34m(\u001b[0m\u001b[0mdata\u001b[0m\u001b[0;34m)\u001b[0m\u001b[0;34m\u001b[0m\u001b[0;34m\u001b[0m\u001b[0m\n\u001b[0m\u001b[1;32m      2\u001b[0m \u001b[0mprint\u001b[0m\u001b[0;34m(\u001b[0m\u001b[0mlen\u001b[0m\u001b[0;34m(\u001b[0m\u001b[0mtemp\u001b[0m\u001b[0;34m)\u001b[0m\u001b[0;34m,\u001b[0m \u001b[0mlen\u001b[0m\u001b[0;34m(\u001b[0m\u001b[0mdata\u001b[0m\u001b[0;34m)\u001b[0m\u001b[0;34m,\u001b[0m \u001b[0mround\u001b[0m\u001b[0;34m(\u001b[0m\u001b[0;34m(\u001b[0m\u001b[0ma\u001b[0m\u001b[0;34m-\u001b[0m\u001b[0mb\u001b[0m\u001b[0;34m)\u001b[0m\u001b[0;34m/\u001b[0m\u001b[0ma\u001b[0m\u001b[0;34m*\u001b[0m\u001b[0;36m100\u001b[0m\u001b[0;34m,\u001b[0m \u001b[0;36m2\u001b[0m\u001b[0;34m)\u001b[0m\u001b[0;34m)\u001b[0m\u001b[0;34m\u001b[0m\u001b[0;34m\u001b[0m\u001b[0m\n",
      "\u001b[0;31mNameError\u001b[0m: name 'temp' is not defined"
     ]
    }
   ],
   "source": [
    "a, b = len(temp), len(data)\n",
    "print(len(temp), len(data), round((a-b)/a*100, 2))"
   ]
  },
  {
   "cell_type": "markdown",
   "metadata": {
    "id": "4c6k1t9ygFyQ"
   },
   "source": [
    "### Шаг 2.3. Изучим дубликаты в датафрейме\n"
   ]
  },
  {
   "cell_type": "markdown",
   "metadata": {
    "id": "52fOPrEBgFyQ"
   },
   "source": [
    "#### Шаг 2.4. Изучим категориальные значения\n"
   ]
  },
  {
   "cell_type": "markdown",
   "metadata": {},
   "source": [
    "##### Проблемы, встречающиеся в категориальных данных:\n",
    "- Перечисление значений в разных комбинациях, что не позволяет проводить корректную группировку\n",
    "- Перечисление через разные сепараторы\n",
    "- Пробелы по краям строк\n",
    "\n",
    "##### Какая работа проведена: \n",
    "- Убраны пробелы по краям строк\n",
    "- Знаки препинания приведены к единому формату там, где это возможно\n",
    "- Удалены дубликаты\n",
    "\n",
    "Теперь возможно решение проблемы перечисления путем выделения первых значений в отдельный столбец или разбиения значений на множества. Однако для дальнейшего анализа подобные преобразования понадобятся только для столбцов genres & director. Эти преобразования будут выполнены в другом разделе."
   ]
  },
  {
   "cell_type": "code",
   "execution_count": 19,
   "metadata": {},
   "outputs": [
    {
     "data": {
      "text/plain": [
       "array(['Дэвид Валдес, Кевин Костнер, Джейк Эбертс', 'unknown',\n",
       "       'Джим Лемли, Джейсон Нетер, Марк Е.Платт, Яйн Смит', ...,\n",
       "       'Поппи Бегум, Ник Пойнц',\n",
       "       'Джефф Боулер, Дэниэл Гродник, Луильо Руис, Брэт Саксон, Кирк Шоу',\n",
       "       'Дженнифер Додж'], dtype=object)"
      ]
     },
     "execution_count": 19,
     "metadata": {},
     "output_type": "execute_result"
    }
   ],
   "source": [
    "data['director'].unique()[0:100]\n",
    "data['production_country'].unique()[0:100]\n",
    "data['producer'].unique()\n"
   ]
  },
  {
   "cell_type": "markdown",
   "metadata": {},
   "source": [
    "Приведем данные к единому формату"
   ]
  },
  {
   "cell_type": "code",
   "execution_count": 20,
   "metadata": {
    "scrolled": true
   },
   "outputs": [
    {
     "data": {
      "text/html": [
       "<div>\n",
       "<style scoped>\n",
       "    .dataframe tbody tr th:only-of-type {\n",
       "        vertical-align: middle;\n",
       "    }\n",
       "\n",
       "    .dataframe tbody tr th {\n",
       "        vertical-align: top;\n",
       "    }\n",
       "\n",
       "    .dataframe thead th {\n",
       "        text-align: right;\n",
       "    }\n",
       "</style>\n",
       "<table border=\"1\" class=\"dataframe\">\n",
       "  <thead>\n",
       "    <tr style=\"text-align: right;\">\n",
       "      <th></th>\n",
       "      <th>title</th>\n",
       "      <th>punumber</th>\n",
       "      <th>show_start_date</th>\n",
       "      <th>type</th>\n",
       "      <th>film_studio</th>\n",
       "      <th>production_country</th>\n",
       "      <th>director</th>\n",
       "      <th>producer</th>\n",
       "      <th>age_restriction</th>\n",
       "      <th>refundable_support</th>\n",
       "      <th>nonrefundable_support</th>\n",
       "      <th>budget</th>\n",
       "      <th>financing_source</th>\n",
       "      <th>ratings</th>\n",
       "      <th>genres</th>\n",
       "      <th>box_office</th>\n",
       "    </tr>\n",
       "  </thead>\n",
       "  <tbody>\n",
       "    <tr>\n",
       "      <th>0</th>\n",
       "      <td>открытый простор</td>\n",
       "      <td>221048915</td>\n",
       "      <td>2015-11-27 12:00:00</td>\n",
       "      <td>художественный</td>\n",
       "      <td>тачстоун пикчерз,кобальт пикчерз,бикон пикчерз...</td>\n",
       "      <td>сша</td>\n",
       "      <td>кевин костнер</td>\n",
       "      <td>дэвид валдес,кевин костнер,джейк эбертс</td>\n",
       "      <td>«18+» ,запрещено для детей</td>\n",
       "      <td>NaN</td>\n",
       "      <td>NaN</td>\n",
       "      <td>NaN</td>\n",
       "      <td>NaN</td>\n",
       "      <td>7.20</td>\n",
       "      <td>боевик,драма,мелодрама</td>\n",
       "      <td>NaN</td>\n",
       "    </tr>\n",
       "    <tr>\n",
       "      <th>1</th>\n",
       "      <td>особо важное задание</td>\n",
       "      <td>111013716</td>\n",
       "      <td>2016-09-13 12:00:00</td>\n",
       "      <td>художественный</td>\n",
       "      <td>киностудия \"мосфильм\"</td>\n",
       "      <td>ссср</td>\n",
       "      <td>е.матвеев</td>\n",
       "      <td>unknown</td>\n",
       "      <td>«6+» ,для детей старше 6 лет</td>\n",
       "      <td>NaN</td>\n",
       "      <td>NaN</td>\n",
       "      <td>NaN</td>\n",
       "      <td>NaN</td>\n",
       "      <td>6.60</td>\n",
       "      <td>драма,военный</td>\n",
       "      <td>NaN</td>\n",
       "    </tr>\n",
       "    <tr>\n",
       "      <th>2</th>\n",
       "      <td>особо опасен</td>\n",
       "      <td>221038416</td>\n",
       "      <td>2016-10-10 12:00:00</td>\n",
       "      <td>художественный</td>\n",
       "      <td>юниверсал пикчерз,кикстарт продакшнз,марк плат...</td>\n",
       "      <td>сша</td>\n",
       "      <td>тимур бекмамбетов</td>\n",
       "      <td>джим лемли,джейсон нетер,марк е.платт,яйн смит</td>\n",
       "      <td>«18+» ,запрещено для детей</td>\n",
       "      <td>NaN</td>\n",
       "      <td>NaN</td>\n",
       "      <td>NaN</td>\n",
       "      <td>NaN</td>\n",
       "      <td>6.80</td>\n",
       "      <td>фантастика,боевик,триллер</td>\n",
       "      <td>NaN</td>\n",
       "    </tr>\n",
       "    <tr>\n",
       "      <th>3</th>\n",
       "      <td>особо опасен</td>\n",
       "      <td>221026916</td>\n",
       "      <td>2016-06-10 12:00:00</td>\n",
       "      <td>художественный</td>\n",
       "      <td>юниверсал пикчерз,кикстарт продакшнз,марк плат...</td>\n",
       "      <td>сша</td>\n",
       "      <td>тимур бекмамбетов</td>\n",
       "      <td>джим лемли,джейсон нетер,марк е.платт,яйн смит</td>\n",
       "      <td>«18+» ,запрещено для детей</td>\n",
       "      <td>NaN</td>\n",
       "      <td>NaN</td>\n",
       "      <td>NaN</td>\n",
       "      <td>NaN</td>\n",
       "      <td>6.80</td>\n",
       "      <td>фантастика,боевик,триллер</td>\n",
       "      <td>NaN</td>\n",
       "    </tr>\n",
       "    <tr>\n",
       "      <th>4</th>\n",
       "      <td>особо опасен</td>\n",
       "      <td>221030815</td>\n",
       "      <td>2015-07-29 12:00:00</td>\n",
       "      <td>художественный</td>\n",
       "      <td>юниверсал пикчерз,кикстарт продакшнз,марк плат...</td>\n",
       "      <td>сша</td>\n",
       "      <td>тимур бекмамбетов</td>\n",
       "      <td>джим лемли,джейсон нетер,марк е.платт,яйн смит</td>\n",
       "      <td>«18+» ,запрещено для детей</td>\n",
       "      <td>NaN</td>\n",
       "      <td>NaN</td>\n",
       "      <td>NaN</td>\n",
       "      <td>NaN</td>\n",
       "      <td>6.80</td>\n",
       "      <td>фантастика,боевик,триллер</td>\n",
       "      <td>NaN</td>\n",
       "    </tr>\n",
       "    <tr>\n",
       "      <th>5</th>\n",
       "      <td>остановился поезд</td>\n",
       "      <td>111013816</td>\n",
       "      <td>2016-09-13 12:00:00</td>\n",
       "      <td>художественный</td>\n",
       "      <td>киностудия \"мосфильм\"</td>\n",
       "      <td>ссср</td>\n",
       "      <td>в.абдрашитов</td>\n",
       "      <td>unknown</td>\n",
       "      <td>«6+» ,для детей старше 6 лет</td>\n",
       "      <td>NaN</td>\n",
       "      <td>NaN</td>\n",
       "      <td>NaN</td>\n",
       "      <td>NaN</td>\n",
       "      <td>7.70</td>\n",
       "      <td>драма</td>\n",
       "      <td>NaN</td>\n",
       "    </tr>\n",
       "    <tr>\n",
       "      <th>6</th>\n",
       "      <td>любовь и голуби</td>\n",
       "      <td>111007013</td>\n",
       "      <td>2013-10-18 12:00:00</td>\n",
       "      <td>художественный</td>\n",
       "      <td>киностудия \"мосфильм\"</td>\n",
       "      <td>ссср</td>\n",
       "      <td>в.меньшов</td>\n",
       "      <td>unknown</td>\n",
       "      <td>«12+» ,для детей старше 12 лет</td>\n",
       "      <td>NaN</td>\n",
       "      <td>NaN</td>\n",
       "      <td>NaN</td>\n",
       "      <td>NaN</td>\n",
       "      <td>8.30</td>\n",
       "      <td>мелодрама,комедия</td>\n",
       "      <td>2,700.00</td>\n",
       "    </tr>\n",
       "    <tr>\n",
       "      <th>7</th>\n",
       "      <td>любовь и сигареты</td>\n",
       "      <td>221074614</td>\n",
       "      <td>2014-12-29 12:00:00</td>\n",
       "      <td>художественный</td>\n",
       "      <td>юнайтед артистс,грин стрит филмз,айкон интерте...</td>\n",
       "      <td>сша</td>\n",
       "      <td>джон туртурро</td>\n",
       "      <td>джон пенотти,джон туртурро</td>\n",
       "      <td>«18+» ,запрещено для детей</td>\n",
       "      <td>NaN</td>\n",
       "      <td>NaN</td>\n",
       "      <td>NaN</td>\n",
       "      <td>NaN</td>\n",
       "      <td>6.60</td>\n",
       "      <td>мюзикл,мелодрама,комедия</td>\n",
       "      <td>NaN</td>\n",
       "    </tr>\n",
       "    <tr>\n",
       "      <th>8</th>\n",
       "      <td>отпетые мошенники.</td>\n",
       "      <td>121011416</td>\n",
       "      <td>2016-05-05 12:00:00</td>\n",
       "      <td>художественный</td>\n",
       "      <td>пульсар продюксьон,тф1 фильм</td>\n",
       "      <td>франция</td>\n",
       "      <td>эрик беснард</td>\n",
       "      <td>патрис леду</td>\n",
       "      <td>«18+» ,запрещено для детей</td>\n",
       "      <td>NaN</td>\n",
       "      <td>NaN</td>\n",
       "      <td>NaN</td>\n",
       "      <td>NaN</td>\n",
       "      <td>8.00</td>\n",
       "      <td>комедия,криминал</td>\n",
       "      <td>NaN</td>\n",
       "    </tr>\n",
       "    <tr>\n",
       "      <th>9</th>\n",
       "      <td>отпуск за свой счет</td>\n",
       "      <td>111019114</td>\n",
       "      <td>2014-12-01 12:00:00</td>\n",
       "      <td>художественный</td>\n",
       "      <td>киностудия \"мосфильм\",телевидение внр</td>\n",
       "      <td>ссср,венгрия</td>\n",
       "      <td>в.титов</td>\n",
       "      <td>unknown</td>\n",
       "      <td>«12+» ,для детей старше 12 лет</td>\n",
       "      <td>NaN</td>\n",
       "      <td>NaN</td>\n",
       "      <td>NaN</td>\n",
       "      <td>NaN</td>\n",
       "      <td>7.80</td>\n",
       "      <td>мелодрама,комедия</td>\n",
       "      <td>NaN</td>\n",
       "    </tr>\n",
       "    <tr>\n",
       "      <th>10</th>\n",
       "      <td>превосходство борна /по одноименной новелле ро...</td>\n",
       "      <td>221031416</td>\n",
       "      <td>2016-06-29 12:00:00</td>\n",
       "      <td>художественный</td>\n",
       "      <td>кеннеди/маршал компани,юниверсал пикчерз,гипно...</td>\n",
       "      <td>сша</td>\n",
       "      <td>пол грингросс</td>\n",
       "      <td>патрик кроули,фрэнк маршалл,пол сэндберг</td>\n",
       "      <td>«16+» ,для детей старше 16 лет</td>\n",
       "      <td>NaN</td>\n",
       "      <td>NaN</td>\n",
       "      <td>NaN</td>\n",
       "      <td>NaN</td>\n",
       "      <td>7.70</td>\n",
       "      <td>боевик,триллер,детектив</td>\n",
       "      <td>NaN</td>\n",
       "    </tr>\n",
       "    <tr>\n",
       "      <th>11</th>\n",
       "      <td>ответный ход</td>\n",
       "      <td>111019014</td>\n",
       "      <td>2014-12-01 12:00:00</td>\n",
       "      <td>художественный</td>\n",
       "      <td>киностудия \"мосфильм\"</td>\n",
       "      <td>ссср</td>\n",
       "      <td>м.туманишвили</td>\n",
       "      <td>unknown</td>\n",
       "      <td>«12+» ,для детей старше 12 лет</td>\n",
       "      <td>NaN</td>\n",
       "      <td>NaN</td>\n",
       "      <td>NaN</td>\n",
       "      <td>NaN</td>\n",
       "      <td>7.80</td>\n",
       "      <td>боевик,драма,приключения</td>\n",
       "      <td>NaN</td>\n",
       "    </tr>\n",
       "    <tr>\n",
       "      <th>12</th>\n",
       "      <td>малышка на миллион /по мотивам рассказов ф.х.т...</td>\n",
       "      <td>221011415</td>\n",
       "      <td>2015-04-03 12:00:00</td>\n",
       "      <td>художественный</td>\n",
       "      <td>уорнер бразерс,лейкшор интертейнмент,малпасо п...</td>\n",
       "      <td>сша</td>\n",
       "      <td>клинт иствуд</td>\n",
       "      <td>клинт иствуд,том розенберг,альберт с.рудди,пол...</td>\n",
       "      <td>«16+» ,для детей старше 16 лет</td>\n",
       "      <td>NaN</td>\n",
       "      <td>NaN</td>\n",
       "      <td>NaN</td>\n",
       "      <td>NaN</td>\n",
       "      <td>8.10</td>\n",
       "      <td>драма,спорт</td>\n",
       "      <td>NaN</td>\n",
       "    </tr>\n",
       "    <tr>\n",
       "      <th>13</th>\n",
       "      <td>преданный садовник</td>\n",
       "      <td>121003106</td>\n",
       "      <td>2013-08-26 12:00:00</td>\n",
       "      <td>художественный</td>\n",
       "      <td>потбойлер продакшнз,эпсилон моушн пикчерз,скай...</td>\n",
       "      <td>германия,великобритания</td>\n",
       "      <td>фернанду мейрелльеш</td>\n",
       "      <td>саймон чэннинг уильямс</td>\n",
       "      <td>«16+» ,для детей старше 16 лет</td>\n",
       "      <td>NaN</td>\n",
       "      <td>NaN</td>\n",
       "      <td>NaN</td>\n",
       "      <td>NaN</td>\n",
       "      <td>7.10</td>\n",
       "      <td>триллер,драма,мелодрама</td>\n",
       "      <td>NaN</td>\n",
       "    </tr>\n",
       "    <tr>\n",
       "      <th>14</th>\n",
       "      <td>отель /по мотивам пьесы джона уэбстера/</td>\n",
       "      <td>221008812</td>\n",
       "      <td>2012-01-27 12:00:00</td>\n",
       "      <td>художественный</td>\n",
       "      <td>кэтлей,отель продакшнс,мунстоун интертейнмент,...</td>\n",
       "      <td>великобритания ,италия</td>\n",
       "      <td>майк фиггис</td>\n",
       "      <td>этчи стро,анни стюарт,майк фиггис</td>\n",
       "      <td>«18+» ,запрещено для детей</td>\n",
       "      <td>NaN</td>\n",
       "      <td>NaN</td>\n",
       "      <td>NaN</td>\n",
       "      <td>NaN</td>\n",
       "      <td>6.00</td>\n",
       "      <td>комедия,мелодрама</td>\n",
       "      <td>NaN</td>\n",
       "    </tr>\n",
       "    <tr>\n",
       "      <th>15</th>\n",
       "      <td>председатель</td>\n",
       "      <td>111014916</td>\n",
       "      <td>2016-09-13 12:00:00</td>\n",
       "      <td>художественный</td>\n",
       "      <td>киностудия \"мосфильм\"</td>\n",
       "      <td>ссср</td>\n",
       "      <td>а.салтыков</td>\n",
       "      <td>unknown</td>\n",
       "      <td>«12+» ,для детей старше 12 лет</td>\n",
       "      <td>NaN</td>\n",
       "      <td>NaN</td>\n",
       "      <td>NaN</td>\n",
       "      <td>NaN</td>\n",
       "      <td>8.30</td>\n",
       "      <td>драма</td>\n",
       "      <td>NaN</td>\n",
       "    </tr>\n",
       "    <tr>\n",
       "      <th>16</th>\n",
       "      <td>осенний марафон</td>\n",
       "      <td>111007513</td>\n",
       "      <td>2013-10-18 12:00:00</td>\n",
       "      <td>художественный</td>\n",
       "      <td>киностудия \"мосфильм\"</td>\n",
       "      <td>ссср</td>\n",
       "      <td>г.данелия</td>\n",
       "      <td>unknown</td>\n",
       "      <td>«12+» ,для детей старше 12 лет</td>\n",
       "      <td>NaN</td>\n",
       "      <td>NaN</td>\n",
       "      <td>NaN</td>\n",
       "      <td>NaN</td>\n",
       "      <td>8.00</td>\n",
       "      <td>драма,мелодрама,комедия</td>\n",
       "      <td>NaN</td>\n",
       "    </tr>\n",
       "    <tr>\n",
       "      <th>17</th>\n",
       "      <td>осень</td>\n",
       "      <td>111027914</td>\n",
       "      <td>2014-12-24 12:00:00</td>\n",
       "      <td>художественный</td>\n",
       "      <td>киностудия \"мосфильм\"</td>\n",
       "      <td>ссср</td>\n",
       "      <td>а.смирнов</td>\n",
       "      <td>unknown</td>\n",
       "      <td>«12+» ,для детей старше 12 лет</td>\n",
       "      <td>NaN</td>\n",
       "      <td>NaN</td>\n",
       "      <td>NaN</td>\n",
       "      <td>NaN</td>\n",
       "      <td>7.40</td>\n",
       "      <td>драма,мелодрама</td>\n",
       "      <td>NaN</td>\n",
       "    </tr>\n",
       "    <tr>\n",
       "      <th>18</th>\n",
       "      <td>неподдающиеся</td>\n",
       "      <td>111003616</td>\n",
       "      <td>2016-02-12 12:00:00</td>\n",
       "      <td>художественный</td>\n",
       "      <td>киностудия \"мосфильм\"</td>\n",
       "      <td>ссср</td>\n",
       "      <td>ю.чулюкин</td>\n",
       "      <td>unknown</td>\n",
       "      <td>«6+» ,для детей старше 6 лет</td>\n",
       "      <td>NaN</td>\n",
       "      <td>NaN</td>\n",
       "      <td>NaN</td>\n",
       "      <td>NaN</td>\n",
       "      <td>8.00</td>\n",
       "      <td>мелодрама,комедия</td>\n",
       "      <td>360.00</td>\n",
       "    </tr>\n",
       "    <tr>\n",
       "      <th>19</th>\n",
       "      <td>неподсуден</td>\n",
       "      <td>111003716</td>\n",
       "      <td>2016-02-12 12:00:00</td>\n",
       "      <td>художественный</td>\n",
       "      <td>киностудия \"мосфильм\"</td>\n",
       "      <td>ссср</td>\n",
       "      <td>в.краснопольский,в.усков</td>\n",
       "      <td>unknown</td>\n",
       "      <td>«6+» ,для детей старше 6 лет</td>\n",
       "      <td>NaN</td>\n",
       "      <td>NaN</td>\n",
       "      <td>NaN</td>\n",
       "      <td>NaN</td>\n",
       "      <td>7.70</td>\n",
       "      <td>драма</td>\n",
       "      <td>420.00</td>\n",
       "    </tr>\n",
       "  </tbody>\n",
       "</table>\n",
       "</div>"
      ],
      "text/plain": [
       "                                                title   punumber  \\\n",
       "0                                    открытый простор  221048915   \n",
       "1                                особо важное задание  111013716   \n",
       "2                                        особо опасен  221038416   \n",
       "3                                        особо опасен  221026916   \n",
       "4                                        особо опасен  221030815   \n",
       "5                                   остановился поезд  111013816   \n",
       "6                                     любовь и голуби  111007013   \n",
       "7                                   любовь и сигареты  221074614   \n",
       "8                                  отпетые мошенники.  121011416   \n",
       "9                                 отпуск за свой счет  111019114   \n",
       "10  превосходство борна /по одноименной новелле ро...  221031416   \n",
       "11                                       ответный ход  111019014   \n",
       "12  малышка на миллион /по мотивам рассказов ф.х.т...  221011415   \n",
       "13                                 преданный садовник  121003106   \n",
       "14            отель /по мотивам пьесы джона уэбстера/  221008812   \n",
       "15                                       председатель  111014916   \n",
       "16                                    осенний марафон  111007513   \n",
       "17                                              осень  111027914   \n",
       "18                                      неподдающиеся  111003616   \n",
       "19                                         неподсуден  111003716   \n",
       "\n",
       "       show_start_date            type  \\\n",
       "0  2015-11-27 12:00:00  художественный   \n",
       "1  2016-09-13 12:00:00  художественный   \n",
       "2  2016-10-10 12:00:00  художественный   \n",
       "3  2016-06-10 12:00:00  художественный   \n",
       "4  2015-07-29 12:00:00  художественный   \n",
       "5  2016-09-13 12:00:00  художественный   \n",
       "6  2013-10-18 12:00:00  художественный   \n",
       "7  2014-12-29 12:00:00  художественный   \n",
       "8  2016-05-05 12:00:00  художественный   \n",
       "9  2014-12-01 12:00:00  художественный   \n",
       "10 2016-06-29 12:00:00  художественный   \n",
       "11 2014-12-01 12:00:00  художественный   \n",
       "12 2015-04-03 12:00:00  художественный   \n",
       "13 2013-08-26 12:00:00  художественный   \n",
       "14 2012-01-27 12:00:00  художественный   \n",
       "15 2016-09-13 12:00:00  художественный   \n",
       "16 2013-10-18 12:00:00  художественный   \n",
       "17 2014-12-24 12:00:00  художественный   \n",
       "18 2016-02-12 12:00:00  художественный   \n",
       "19 2016-02-12 12:00:00  художественный   \n",
       "\n",
       "                                          film_studio  \\\n",
       "0   тачстоун пикчерз,кобальт пикчерз,бикон пикчерз...   \n",
       "1                               киностудия \"мосфильм\"   \n",
       "2   юниверсал пикчерз,кикстарт продакшнз,марк плат...   \n",
       "3   юниверсал пикчерз,кикстарт продакшнз,марк плат...   \n",
       "4   юниверсал пикчерз,кикстарт продакшнз,марк плат...   \n",
       "5                               киностудия \"мосфильм\"   \n",
       "6                               киностудия \"мосфильм\"   \n",
       "7   юнайтед артистс,грин стрит филмз,айкон интерте...   \n",
       "8                        пульсар продюксьон,тф1 фильм   \n",
       "9               киностудия \"мосфильм\",телевидение внр   \n",
       "10  кеннеди/маршал компани,юниверсал пикчерз,гипно...   \n",
       "11                              киностудия \"мосфильм\"   \n",
       "12  уорнер бразерс,лейкшор интертейнмент,малпасо п...   \n",
       "13  потбойлер продакшнз,эпсилон моушн пикчерз,скай...   \n",
       "14  кэтлей,отель продакшнс,мунстоун интертейнмент,...   \n",
       "15                              киностудия \"мосфильм\"   \n",
       "16                              киностудия \"мосфильм\"   \n",
       "17                              киностудия \"мосфильм\"   \n",
       "18                              киностудия \"мосфильм\"   \n",
       "19                              киностудия \"мосфильм\"   \n",
       "\n",
       "         production_country                  director  \\\n",
       "0                       сша             кевин костнер   \n",
       "1                      ссср                 е.матвеев   \n",
       "2                       сша         тимур бекмамбетов   \n",
       "3                       сша         тимур бекмамбетов   \n",
       "4                       сша         тимур бекмамбетов   \n",
       "5                      ссср              в.абдрашитов   \n",
       "6                      ссср                 в.меньшов   \n",
       "7                       сша             джон туртурро   \n",
       "8                   франция              эрик беснард   \n",
       "9              ссср,венгрия                   в.титов   \n",
       "10                      сша             пол грингросс   \n",
       "11                     ссср             м.туманишвили   \n",
       "12                      сша              клинт иствуд   \n",
       "13  германия,великобритания       фернанду мейрелльеш   \n",
       "14   великобритания ,италия               майк фиггис   \n",
       "15                     ссср                а.салтыков   \n",
       "16                     ссср                 г.данелия   \n",
       "17                     ссср                 а.смирнов   \n",
       "18                     ссср                 ю.чулюкин   \n",
       "19                     ссср  в.краснопольский,в.усков   \n",
       "\n",
       "                                             producer  \\\n",
       "0             дэвид валдес,кевин костнер,джейк эбертс   \n",
       "1                                             unknown   \n",
       "2      джим лемли,джейсон нетер,марк е.платт,яйн смит   \n",
       "3      джим лемли,джейсон нетер,марк е.платт,яйн смит   \n",
       "4      джим лемли,джейсон нетер,марк е.платт,яйн смит   \n",
       "5                                             unknown   \n",
       "6                                             unknown   \n",
       "7                          джон пенотти,джон туртурро   \n",
       "8                                         патрис леду   \n",
       "9                                             unknown   \n",
       "10           патрик кроули,фрэнк маршалл,пол сэндберг   \n",
       "11                                            unknown   \n",
       "12  клинт иствуд,том розенберг,альберт с.рудди,пол...   \n",
       "13                             саймон чэннинг уильямс   \n",
       "14                  этчи стро,анни стюарт,майк фиггис   \n",
       "15                                            unknown   \n",
       "16                                            unknown   \n",
       "17                                            unknown   \n",
       "18                                            unknown   \n",
       "19                                            unknown   \n",
       "\n",
       "                   age_restriction  refundable_support  nonrefundable_support  \\\n",
       "0       «18+» ,запрещено для детей                 NaN                    NaN   \n",
       "1     «6+» ,для детей старше 6 лет                 NaN                    NaN   \n",
       "2       «18+» ,запрещено для детей                 NaN                    NaN   \n",
       "3       «18+» ,запрещено для детей                 NaN                    NaN   \n",
       "4       «18+» ,запрещено для детей                 NaN                    NaN   \n",
       "5     «6+» ,для детей старше 6 лет                 NaN                    NaN   \n",
       "6   «12+» ,для детей старше 12 лет                 NaN                    NaN   \n",
       "7       «18+» ,запрещено для детей                 NaN                    NaN   \n",
       "8       «18+» ,запрещено для детей                 NaN                    NaN   \n",
       "9   «12+» ,для детей старше 12 лет                 NaN                    NaN   \n",
       "10  «16+» ,для детей старше 16 лет                 NaN                    NaN   \n",
       "11  «12+» ,для детей старше 12 лет                 NaN                    NaN   \n",
       "12  «16+» ,для детей старше 16 лет                 NaN                    NaN   \n",
       "13  «16+» ,для детей старше 16 лет                 NaN                    NaN   \n",
       "14      «18+» ,запрещено для детей                 NaN                    NaN   \n",
       "15  «12+» ,для детей старше 12 лет                 NaN                    NaN   \n",
       "16  «12+» ,для детей старше 12 лет                 NaN                    NaN   \n",
       "17  «12+» ,для детей старше 12 лет                 NaN                    NaN   \n",
       "18    «6+» ,для детей старше 6 лет                 NaN                    NaN   \n",
       "19    «6+» ,для детей старше 6 лет                 NaN                    NaN   \n",
       "\n",
       "    budget financing_source  ratings                     genres  box_office  \n",
       "0      NaN              NaN     7.20     боевик,драма,мелодрама         NaN  \n",
       "1      NaN              NaN     6.60              драма,военный         NaN  \n",
       "2      NaN              NaN     6.80  фантастика,боевик,триллер         NaN  \n",
       "3      NaN              NaN     6.80  фантастика,боевик,триллер         NaN  \n",
       "4      NaN              NaN     6.80  фантастика,боевик,триллер         NaN  \n",
       "5      NaN              NaN     7.70                      драма         NaN  \n",
       "6      NaN              NaN     8.30          мелодрама,комедия    2,700.00  \n",
       "7      NaN              NaN     6.60   мюзикл,мелодрама,комедия         NaN  \n",
       "8      NaN              NaN     8.00           комедия,криминал         NaN  \n",
       "9      NaN              NaN     7.80          мелодрама,комедия         NaN  \n",
       "10     NaN              NaN     7.70    боевик,триллер,детектив         NaN  \n",
       "11     NaN              NaN     7.80   боевик,драма,приключения         NaN  \n",
       "12     NaN              NaN     8.10                драма,спорт         NaN  \n",
       "13     NaN              NaN     7.10    триллер,драма,мелодрама         NaN  \n",
       "14     NaN              NaN     6.00          комедия,мелодрама         NaN  \n",
       "15     NaN              NaN     8.30                      драма         NaN  \n",
       "16     NaN              NaN     8.00    драма,мелодрама,комедия         NaN  \n",
       "17     NaN              NaN     7.40            драма,мелодрама         NaN  \n",
       "18     NaN              NaN     8.00          мелодрама,комедия      360.00  \n",
       "19     NaN              NaN     7.70                      драма      420.00  "
      ]
     },
     "execution_count": 20,
     "metadata": {},
     "output_type": "execute_result"
    }
   ],
   "source": [
    "data.duplicated().sum()\n",
    "data.columns\n",
    "for i in list(data.columns) :\n",
    "    if data[i].dtype == 'object' :\n",
    "        data[i] = data[i].str.lower()\n",
    "        data[i] = data[i].str.strip()\n",
    "        data[i] = data[i].str.replace('-', ',')\n",
    "        data[i] = data[i].str.replace(', ', ',')\n",
    "        data[i] = data[i].str.replace(' - ', ',')\n",
    "data.head()\n",
    "data = data.drop_duplicates(subset=['title', 'punumber', 'director']) #самые важные параметры для выявления дубликатов\n",
    "data.head(20)\n"
   ]
  },
  {
   "cell_type": "markdown",
   "metadata": {
    "id": "XFSN5lrEgFyR"
   },
   "source": [
    "#### Шаг 2.5. Проверим количественные значения\n",
    "\n"
   ]
  },
  {
   "cell_type": "markdown",
   "metadata": {},
   "source": [
    "В столбце budget есть нулевые значения, хотя при этом в этих же строках есть данные по государственной поддержке. Так как мы ничего не знаем про другие составляющие бюджета, имеет смысл заполнить  нулевые значения в budget суммой значений из refundable_support и nonrefundable_support"
   ]
  },
  {
   "cell_type": "code",
   "execution_count": 21,
   "metadata": {
    "id": "YbzClBxagFyS"
   },
   "outputs": [
    {
     "data": {
      "text/plain": [
       "0"
      ]
     },
     "execution_count": 21,
     "metadata": {},
     "output_type": "execute_result"
    }
   ],
   "source": [
    "#data.loc[~data['refundable_support'].isna()][['refundable_support', 'nonrefundable_support', 'budget', 'financing_source']].head(20)\n",
    "#mean_own_budget = ((data.query('~nonrefundable_support.isna() & budget != 0')['budget'] - data.query('~nonrefundable_support.isna() & budget != 0')['refundable_support'] - data.query('~refundable_support.isna()')['nonrefundable_support']) / (data.query('~nonrefundable_support.isna() & budget != 0')['refundable_support'] + data.query('~refundable_support.isna()')['nonrefundable_support'])).mean()\n",
    "data.loc[data['budget'] == 0, 'budget'] = data.loc[data['budget'] == 0, 'refundable_support'] + data.loc[data['budget'] == 0, 'nonrefundable_support'] \n",
    "data.loc[data['budget'] == 0, 'budget'].count()\n"
   ]
  },
  {
   "cell_type": "markdown",
   "metadata": {},
   "source": [
    "Также необходимо проверить, существуют ли строки с бюджетом меньшим чем сумма гос.поддержки.\n",
    "upd их нет"
   ]
  },
  {
   "cell_type": "code",
   "execution_count": 22,
   "metadata": {},
   "outputs": [
    {
     "data": {
      "text/html": [
       "<div>\n",
       "<style scoped>\n",
       "    .dataframe tbody tr th:only-of-type {\n",
       "        vertical-align: middle;\n",
       "    }\n",
       "\n",
       "    .dataframe tbody tr th {\n",
       "        vertical-align: top;\n",
       "    }\n",
       "\n",
       "    .dataframe thead th {\n",
       "        text-align: right;\n",
       "    }\n",
       "</style>\n",
       "<table border=\"1\" class=\"dataframe\">\n",
       "  <thead>\n",
       "    <tr style=\"text-align: right;\">\n",
       "      <th></th>\n",
       "      <th>title</th>\n",
       "      <th>punumber</th>\n",
       "      <th>show_start_date</th>\n",
       "      <th>type</th>\n",
       "      <th>film_studio</th>\n",
       "      <th>production_country</th>\n",
       "      <th>director</th>\n",
       "      <th>producer</th>\n",
       "      <th>age_restriction</th>\n",
       "      <th>refundable_support</th>\n",
       "      <th>nonrefundable_support</th>\n",
       "      <th>budget</th>\n",
       "      <th>financing_source</th>\n",
       "      <th>ratings</th>\n",
       "      <th>genres</th>\n",
       "      <th>box_office</th>\n",
       "    </tr>\n",
       "  </thead>\n",
       "  <tbody>\n",
       "  </tbody>\n",
       "</table>\n",
       "</div>"
      ],
      "text/plain": [
       "Empty DataFrame\n",
       "Columns: [title, punumber, show_start_date, type, film_studio, production_country, director, producer, age_restriction, refundable_support, nonrefundable_support, budget, financing_source, ratings, genres, box_office]\n",
       "Index: []"
      ]
     },
     "execution_count": 22,
     "metadata": {},
     "output_type": "execute_result"
    }
   ],
   "source": [
    "data.loc[data['budget'] < (data['refundable_support'] + data['nonrefundable_support'])]\n"
   ]
  },
  {
   "cell_type": "markdown",
   "metadata": {},
   "source": [
    "#### Выявление аномалий"
   ]
  },
  {
   "cell_type": "code",
   "execution_count": 23,
   "metadata": {},
   "outputs": [
    {
     "name": "stdout",
     "output_type": "stream",
     "text": [
      "[[<AxesSubplot:title={'center':'punumber'}>\n",
      "  <AxesSubplot:title={'center':'show_start_date'}>\n",
      "  <AxesSubplot:title={'center':'refundable_support'}>]\n",
      " [<AxesSubplot:title={'center':'nonrefundable_support'}>\n",
      "  <AxesSubplot:title={'center':'budget'}>\n",
      "  <AxesSubplot:title={'center':'ratings'}>]\n",
      " [<AxesSubplot:title={'center':'box_office'}> <AxesSubplot:>\n",
      "  <AxesSubplot:>]]\n"
     ]
    },
    {
     "data": {
      "text/html": [
       "<div>\n",
       "<style scoped>\n",
       "    .dataframe tbody tr th:only-of-type {\n",
       "        vertical-align: middle;\n",
       "    }\n",
       "\n",
       "    .dataframe tbody tr th {\n",
       "        vertical-align: top;\n",
       "    }\n",
       "\n",
       "    .dataframe thead th {\n",
       "        text-align: right;\n",
       "    }\n",
       "</style>\n",
       "<table border=\"1\" class=\"dataframe\">\n",
       "  <thead>\n",
       "    <tr style=\"text-align: right;\">\n",
       "      <th></th>\n",
       "      <th>punumber</th>\n",
       "      <th>refundable_support</th>\n",
       "      <th>nonrefundable_support</th>\n",
       "      <th>budget</th>\n",
       "      <th>ratings</th>\n",
       "      <th>box_office</th>\n",
       "    </tr>\n",
       "  </thead>\n",
       "  <tbody>\n",
       "    <tr>\n",
       "      <th>count</th>\n",
       "      <td>7,458.00</td>\n",
       "      <td>332.00</td>\n",
       "      <td>332.00</td>\n",
       "      <td>332.00</td>\n",
       "      <td>6,511.00</td>\n",
       "      <td>3,155.00</td>\n",
       "    </tr>\n",
       "    <tr>\n",
       "      <th>mean</th>\n",
       "      <td>135,214,429.91</td>\n",
       "      <td>11,864,457.83</td>\n",
       "      <td>48,980,988.89</td>\n",
       "      <td>131,422,395.80</td>\n",
       "      <td>6.49</td>\n",
       "      <td>76,551,328.80</td>\n",
       "    </tr>\n",
       "    <tr>\n",
       "      <th>std</th>\n",
       "      <td>38,359,046.05</td>\n",
       "      <td>24,916,555.26</td>\n",
       "      <td>59,980,117.92</td>\n",
       "      <td>187,148,242.67</td>\n",
       "      <td>1.11</td>\n",
       "      <td>240,455,853.44</td>\n",
       "    </tr>\n",
       "    <tr>\n",
       "      <th>min</th>\n",
       "      <td>1,811,096.00</td>\n",
       "      <td>0.00</td>\n",
       "      <td>0.00</td>\n",
       "      <td>6,000,000.00</td>\n",
       "      <td>1.00</td>\n",
       "      <td>0.00</td>\n",
       "    </tr>\n",
       "    <tr>\n",
       "      <th>25%</th>\n",
       "      <td>113,000,117.25</td>\n",
       "      <td>0.00</td>\n",
       "      <td>25,000,000.00</td>\n",
       "      <td>45,524,799.50</td>\n",
       "      <td>5.90</td>\n",
       "      <td>87,090.50</td>\n",
       "    </tr>\n",
       "    <tr>\n",
       "      <th>50%</th>\n",
       "      <td>121,015,514.50</td>\n",
       "      <td>0.00</td>\n",
       "      <td>30,000,000.00</td>\n",
       "      <td>71,196,901.50</td>\n",
       "      <td>6.60</td>\n",
       "      <td>2,338,049.90</td>\n",
       "    </tr>\n",
       "    <tr>\n",
       "      <th>75%</th>\n",
       "      <td>124,003,288.75</td>\n",
       "      <td>15,000,000.00</td>\n",
       "      <td>40,375,000.00</td>\n",
       "      <td>150,000,000.00</td>\n",
       "      <td>7.20</td>\n",
       "      <td>23,995,460.84</td>\n",
       "    </tr>\n",
       "    <tr>\n",
       "      <th>max</th>\n",
       "      <td>231,001,111.00</td>\n",
       "      <td>180,000,000.00</td>\n",
       "      <td>400,000,000.00</td>\n",
       "      <td>2,305,074,303.00</td>\n",
       "      <td>9.90</td>\n",
       "      <td>3,073,568,690.79</td>\n",
       "    </tr>\n",
       "  </tbody>\n",
       "</table>\n",
       "</div>"
      ],
      "text/plain": [
       "            punumber  refundable_support  nonrefundable_support  \\\n",
       "count       7,458.00              332.00                 332.00   \n",
       "mean  135,214,429.91       11,864,457.83          48,980,988.89   \n",
       "std    38,359,046.05       24,916,555.26          59,980,117.92   \n",
       "min     1,811,096.00                0.00                   0.00   \n",
       "25%   113,000,117.25                0.00          25,000,000.00   \n",
       "50%   121,015,514.50                0.00          30,000,000.00   \n",
       "75%   124,003,288.75       15,000,000.00          40,375,000.00   \n",
       "max   231,001,111.00      180,000,000.00         400,000,000.00   \n",
       "\n",
       "                budget  ratings       box_office  \n",
       "count           332.00 6,511.00         3,155.00  \n",
       "mean    131,422,395.80     6.49    76,551,328.80  \n",
       "std     187,148,242.67     1.11   240,455,853.44  \n",
       "min       6,000,000.00     1.00             0.00  \n",
       "25%      45,524,799.50     5.90        87,090.50  \n",
       "50%      71,196,901.50     6.60     2,338,049.90  \n",
       "75%     150,000,000.00     7.20    23,995,460.84  \n",
       "max   2,305,074,303.00     9.90 3,073,568,690.79  "
      ]
     },
     "execution_count": 23,
     "metadata": {},
     "output_type": "execute_result"
    },
    {
     "data": {
      "image/png": "[encoded data removed]",
      "text/plain": [
       "<Figure size 1440x1440 with 9 Axes>"
      ]
     },
     "metadata": {
      "needs_background": "light"
     },
     "output_type": "display_data"
    }
   ],
   "source": [
    "print(data.hist(figsize=(20,20)))\n",
    "data.describe()"
   ]
  },
  {
   "cell_type": "markdown",
   "metadata": {},
   "source": [
    "##### box_office\n",
    "В описании данных столбца box_office видно, что минимальное значение = 0. Такого быть не может. Я выяснил, что информации по денежным сборам советских фильмов попросту не может быть, поэтому их сборы лучше заменить на пропуски. Таким же образом лучше поступить и с фильмами производства других стран, сборы которых меньше 10000 (это слишком мало, скорее всего, сборы в таких фильмах указаны в тысячах или миллионах, но мы этого узнать не можем)."
   ]
  },
  {
   "cell_type": "code",
   "execution_count": 24,
   "metadata": {},
   "outputs": [],
   "source": [
    "data.query('box_office == 0')['box_office'].count()\n",
    "data.query('box_office < 10000')['film_studio'].value_counts()\n",
    "data.loc[data['production_country'] == \"ссср\", 'box_office'] = None\n",
    "data.loc[data['box_office'] < 10000, 'box_office'] = None"
   ]
  },
  {
   "cell_type": "markdown",
   "metadata": {
    "id": "Eu6oWp2CgFyS"
   },
   "source": [
    "#### Шаг 2.6. Добавим новые столбцы\n",
    "\n",
    "\n",
    "\n"
   ]
  },
  {
   "cell_type": "markdown",
   "metadata": {
    "id": "7GgW-UpAgFyS"
   },
   "source": [
    "- Создадим столбец с информацией о годе проката. Выделим год из даты премьеры фильма."
   ]
  },
  {
   "cell_type": "code",
   "execution_count": 1,
   "metadata": {
    "id": "I-yd1DkWgFyT"
   },
   "outputs": [
    {
     "ename": "NameError",
     "evalue": "name 'data' is not defined",
     "output_type": "error",
     "traceback": [
      "\u001b[0;31m---------------------------------------------------------------------------\u001b[0m",
      "\u001b[0;31mNameError\u001b[0m                                 Traceback (most recent call last)",
      "\u001b[0;32m/tmp/ipykernel_62/2958489532.py\u001b[0m in \u001b[0;36m<module>\u001b[0;34m\u001b[0m\n\u001b[0;32m----> 1\u001b[0;31m \u001b[0mdata\u001b[0m\u001b[0;34m[\u001b[0m\u001b[0;34m'year'\u001b[0m\u001b[0;34m]\u001b[0m \u001b[0;34m=\u001b[0m \u001b[0mdata\u001b[0m\u001b[0;34m[\u001b[0m\u001b[0;34m'show_start_date'\u001b[0m\u001b[0;34m]\u001b[0m\u001b[0;34m.\u001b[0m\u001b[0mdt\u001b[0m\u001b[0;34m.\u001b[0m\u001b[0myear\u001b[0m\u001b[0;34m\u001b[0m\u001b[0;34m\u001b[0m\u001b[0m\n\u001b[0m",
      "\u001b[0;31mNameError\u001b[0m: name 'data' is not defined"
     ]
    }
   ],
   "source": [
    "data['year'] = data['show_start_date'].dt.year\n"
   ]
  },
  {
   "cell_type": "markdown",
   "metadata": {
    "id": "nFTDLDYOgFyT"
   },
   "source": [
    "- Создадим два столбца: с именем и фамилией главного режиссёра и основным жанром фильма. В столбцы войдут первые значения из списка режиссёров и жанров соответственно.\n",
    "\n"
   ]
  },
  {
   "cell_type": "code",
   "execution_count": 26,
   "metadata": {},
   "outputs": [
    {
     "data": {
      "text/html": [
       "<div>\n",
       "<style scoped>\n",
       "    .dataframe tbody tr th:only-of-type {\n",
       "        vertical-align: middle;\n",
       "    }\n",
       "\n",
       "    .dataframe tbody tr th {\n",
       "        vertical-align: top;\n",
       "    }\n",
       "\n",
       "    .dataframe thead th {\n",
       "        text-align: right;\n",
       "    }\n",
       "</style>\n",
       "<table border=\"1\" class=\"dataframe\">\n",
       "  <thead>\n",
       "    <tr style=\"text-align: right;\">\n",
       "      <th></th>\n",
       "      <th>title</th>\n",
       "      <th>punumber</th>\n",
       "      <th>show_start_date</th>\n",
       "      <th>type</th>\n",
       "      <th>film_studio</th>\n",
       "      <th>production_country</th>\n",
       "      <th>director</th>\n",
       "      <th>producer</th>\n",
       "      <th>age_restriction</th>\n",
       "      <th>refundable_support</th>\n",
       "      <th>nonrefundable_support</th>\n",
       "      <th>budget</th>\n",
       "      <th>financing_source</th>\n",
       "      <th>ratings</th>\n",
       "      <th>genres</th>\n",
       "      <th>box_office</th>\n",
       "      <th>year</th>\n",
       "      <th>main_director</th>\n",
       "      <th>main_genre</th>\n",
       "    </tr>\n",
       "  </thead>\n",
       "  <tbody>\n",
       "    <tr>\n",
       "      <th>0</th>\n",
       "      <td>открытый простор</td>\n",
       "      <td>221048915</td>\n",
       "      <td>2015-11-27 12:00:00</td>\n",
       "      <td>художественный</td>\n",
       "      <td>тачстоун пикчерз,кобальт пикчерз,бикон пикчерз...</td>\n",
       "      <td>сша</td>\n",
       "      <td>кевин костнер</td>\n",
       "      <td>дэвид валдес,кевин костнер,джейк эбертс</td>\n",
       "      <td>«18+» ,запрещено для детей</td>\n",
       "      <td>NaN</td>\n",
       "      <td>NaN</td>\n",
       "      <td>NaN</td>\n",
       "      <td>NaN</td>\n",
       "      <td>7.20</td>\n",
       "      <td>боевик,драма,мелодрама</td>\n",
       "      <td>NaN</td>\n",
       "      <td>2015</td>\n",
       "      <td>кевин костнер</td>\n",
       "      <td>боевик</td>\n",
       "    </tr>\n",
       "    <tr>\n",
       "      <th>1</th>\n",
       "      <td>особо важное задание</td>\n",
       "      <td>111013716</td>\n",
       "      <td>2016-09-13 12:00:00</td>\n",
       "      <td>художественный</td>\n",
       "      <td>киностудия \"мосфильм\"</td>\n",
       "      <td>ссср</td>\n",
       "      <td>е.матвеев</td>\n",
       "      <td>unknown</td>\n",
       "      <td>«6+» ,для детей старше 6 лет</td>\n",
       "      <td>NaN</td>\n",
       "      <td>NaN</td>\n",
       "      <td>NaN</td>\n",
       "      <td>NaN</td>\n",
       "      <td>6.60</td>\n",
       "      <td>драма,военный</td>\n",
       "      <td>NaN</td>\n",
       "      <td>2016</td>\n",
       "      <td>е.матвеев</td>\n",
       "      <td>драма</td>\n",
       "    </tr>\n",
       "    <tr>\n",
       "      <th>2</th>\n",
       "      <td>особо опасен</td>\n",
       "      <td>221038416</td>\n",
       "      <td>2016-10-10 12:00:00</td>\n",
       "      <td>художественный</td>\n",
       "      <td>юниверсал пикчерз,кикстарт продакшнз,марк плат...</td>\n",
       "      <td>сша</td>\n",
       "      <td>тимур бекмамбетов</td>\n",
       "      <td>джим лемли,джейсон нетер,марк е.платт,яйн смит</td>\n",
       "      <td>«18+» ,запрещено для детей</td>\n",
       "      <td>NaN</td>\n",
       "      <td>NaN</td>\n",
       "      <td>NaN</td>\n",
       "      <td>NaN</td>\n",
       "      <td>6.80</td>\n",
       "      <td>фантастика,боевик,триллер</td>\n",
       "      <td>NaN</td>\n",
       "      <td>2016</td>\n",
       "      <td>тимур бекмамбетов</td>\n",
       "      <td>фантастика</td>\n",
       "    </tr>\n",
       "    <tr>\n",
       "      <th>3</th>\n",
       "      <td>особо опасен</td>\n",
       "      <td>221026916</td>\n",
       "      <td>2016-06-10 12:00:00</td>\n",
       "      <td>художественный</td>\n",
       "      <td>юниверсал пикчерз,кикстарт продакшнз,марк плат...</td>\n",
       "      <td>сша</td>\n",
       "      <td>тимур бекмамбетов</td>\n",
       "      <td>джим лемли,джейсон нетер,марк е.платт,яйн смит</td>\n",
       "      <td>«18+» ,запрещено для детей</td>\n",
       "      <td>NaN</td>\n",
       "      <td>NaN</td>\n",
       "      <td>NaN</td>\n",
       "      <td>NaN</td>\n",
       "      <td>6.80</td>\n",
       "      <td>фантастика,боевик,триллер</td>\n",
       "      <td>NaN</td>\n",
       "      <td>2016</td>\n",
       "      <td>тимур бекмамбетов</td>\n",
       "      <td>фантастика</td>\n",
       "    </tr>\n",
       "    <tr>\n",
       "      <th>4</th>\n",
       "      <td>особо опасен</td>\n",
       "      <td>221030815</td>\n",
       "      <td>2015-07-29 12:00:00</td>\n",
       "      <td>художественный</td>\n",
       "      <td>юниверсал пикчерз,кикстарт продакшнз,марк плат...</td>\n",
       "      <td>сша</td>\n",
       "      <td>тимур бекмамбетов</td>\n",
       "      <td>джим лемли,джейсон нетер,марк е.платт,яйн смит</td>\n",
       "      <td>«18+» ,запрещено для детей</td>\n",
       "      <td>NaN</td>\n",
       "      <td>NaN</td>\n",
       "      <td>NaN</td>\n",
       "      <td>NaN</td>\n",
       "      <td>6.80</td>\n",
       "      <td>фантастика,боевик,триллер</td>\n",
       "      <td>NaN</td>\n",
       "      <td>2015</td>\n",
       "      <td>тимур бекмамбетов</td>\n",
       "      <td>фантастика</td>\n",
       "    </tr>\n",
       "  </tbody>\n",
       "</table>\n",
       "</div>"
      ],
      "text/plain": [
       "                  title   punumber     show_start_date            type  \\\n",
       "0      открытый простор  221048915 2015-11-27 12:00:00  художественный   \n",
       "1  особо важное задание  111013716 2016-09-13 12:00:00  художественный   \n",
       "2          особо опасен  221038416 2016-10-10 12:00:00  художественный   \n",
       "3          особо опасен  221026916 2016-06-10 12:00:00  художественный   \n",
       "4          особо опасен  221030815 2015-07-29 12:00:00  художественный   \n",
       "\n",
       "                                         film_studio production_country  \\\n",
       "0  тачстоун пикчерз,кобальт пикчерз,бикон пикчерз...                сша   \n",
       "1                              киностудия \"мосфильм\"               ссср   \n",
       "2  юниверсал пикчерз,кикстарт продакшнз,марк плат...                сша   \n",
       "3  юниверсал пикчерз,кикстарт продакшнз,марк плат...                сша   \n",
       "4  юниверсал пикчерз,кикстарт продакшнз,марк плат...                сша   \n",
       "\n",
       "            director                                        producer  \\\n",
       "0      кевин костнер         дэвид валдес,кевин костнер,джейк эбертс   \n",
       "1          е.матвеев                                         unknown   \n",
       "2  тимур бекмамбетов  джим лемли,джейсон нетер,марк е.платт,яйн смит   \n",
       "3  тимур бекмамбетов  джим лемли,джейсон нетер,марк е.платт,яйн смит   \n",
       "4  тимур бекмамбетов  джим лемли,джейсон нетер,марк е.платт,яйн смит   \n",
       "\n",
       "                age_restriction  refundable_support  nonrefundable_support  \\\n",
       "0    «18+» ,запрещено для детей                 NaN                    NaN   \n",
       "1  «6+» ,для детей старше 6 лет                 NaN                    NaN   \n",
       "2    «18+» ,запрещено для детей                 NaN                    NaN   \n",
       "3    «18+» ,запрещено для детей                 NaN                    NaN   \n",
       "4    «18+» ,запрещено для детей                 NaN                    NaN   \n",
       "\n",
       "   budget financing_source  ratings                     genres  box_office  \\\n",
       "0     NaN              NaN     7.20     боевик,драма,мелодрама         NaN   \n",
       "1     NaN              NaN     6.60              драма,военный         NaN   \n",
       "2     NaN              NaN     6.80  фантастика,боевик,триллер         NaN   \n",
       "3     NaN              NaN     6.80  фантастика,боевик,триллер         NaN   \n",
       "4     NaN              NaN     6.80  фантастика,боевик,триллер         NaN   \n",
       "\n",
       "   year      main_director  main_genre  \n",
       "0  2015      кевин костнер      боевик  \n",
       "1  2016          е.матвеев       драма  \n",
       "2  2016  тимур бекмамбетов  фантастика  \n",
       "3  2016  тимур бекмамбетов  фантастика  \n",
       "4  2015  тимур бекмамбетов  фантастика  "
      ]
     },
     "execution_count": 26,
     "metadata": {},
     "output_type": "execute_result"
    }
   ],
   "source": [
    "#data['director'].unique()[0:100]\n",
    "def main(column) :\n",
    "    column = str(column)\n",
    "    return column.strip().split(',')[0]\n",
    "data['main_director'] = data['director'].apply(main)\n",
    "data['main_genre'] = data['genres'].apply(main)\n",
    "data.head()"
   ]
  },
  {
   "cell_type": "markdown",
   "metadata": {
    "id": "1FsCXHwdgFyU"
   },
   "source": [
    "- Посчитаем, какую долю от общего бюджета фильма составляет государственная поддержка."
   ]
  },
  {
   "cell_type": "code",
   "execution_count": 27,
   "metadata": {},
   "outputs": [],
   "source": [
    "data['gov_support_to_whole'] = (data['refundable_support'] + data['nonrefundable_support']) / data['budget']\n"
   ]
  },
  {
   "cell_type": "markdown",
   "metadata": {},
   "source": [
    "#### Выводы по предобработке:\n",
    "- Произведено слияние двух датасетов с сохранением всех значений из mkrf_movies \n",
    "- Изменены типы данных в столбцах ratings и show_start_date\n",
    "- Обработаны пропуски в столбцах film_studio, production_country, director, producer, budget, genres, box_office\n",
    "- Категориальные значения приведены к единому формату\n",
    "- Удалены ставшие явными дубликаты\n",
    "- Выявлены и обработаны количественные аномалии в столбцах budget и box_office\n",
    "- Добавлены новые столбцы для дальнейшей работы с данными: год премьеры, главный режиссер, главный жанр, доля гос. поддержки в общем бюджете\n"
   ]
  },
  {
   "cell_type": "markdown",
   "metadata": {
    "id": "6t4EukPLgFyV"
   },
   "source": [
    "### Шаг 3. Проведите исследовательский анализ данных\n"
   ]
  },
  {
   "cell_type": "markdown",
   "metadata": {
    "id": "vAH8WCzugFyV"
   },
   "source": [
    "#### Количество фильмов в прокате\n",
    "- Посмотрим, сколько фильмов выходило в прокат каждый год. Посчитаем, какую долю составляют фильмы с указанной информацией о прокате в кинотеатрах."
   ]
  },
  {
   "cell_type": "code",
   "execution_count": 28,
   "metadata": {
    "id": "ABeV47y7gFyW"
   },
   "outputs": [
    {
     "name": "stdout",
     "output_type": "stream",
     "text": [
      "Доля фильмов, побывавших в прокате: 0.3492893537141325\n"
     ]
    },
    {
     "data": {
      "image/png": "[encoded data removed]",
      "text/plain": [
       "<Figure size 432x288 with 1 Axes>"
      ]
     },
     "metadata": {
      "needs_background": "light"
     },
     "output_type": "display_data"
    }
   ],
   "source": [
    "data.pivot_table(index='year', values='box_office', aggfunc='count').reset_index().plot(kind='bar', x='year', y='box_office', ylabel='count', title='Количество фильмов в прокате')\n",
    "print('Доля фильмов, побывавших в прокате:', data['box_office'].count() / data['punumber'].count())\n"
   ]
  },
  {
   "cell_type": "markdown",
   "metadata": {
    "id": "BEOdcIrIgFyW"
   },
   "source": [
    "#### Динамика суммы сборов\n",
    "Изучим, как менялась динамика проката по годам."
   ]
  },
  {
   "cell_type": "code",
   "execution_count": 29,
   "metadata": {},
   "outputs": [
    {
     "name": "stdout",
     "output_type": "stream",
     "text": [
      "0    2010\n",
      "Name: year, dtype: int64 2274770.0\n",
      "8    2018\n",
      "Name: year, dtype: int64 49668361909.31999\n"
     ]
    },
    {
     "data": {
      "image/png": "[encoded data removed]",
      "text/plain": [
       "<Figure size 432x288 with 1 Axes>"
      ]
     },
     "metadata": {
      "needs_background": "light"
     },
     "output_type": "display_data"
    }
   ],
   "source": [
    "sum_box = data.pivot_table(index='year', values='box_office', aggfunc='sum').reset_index()\n",
    "sum_box.plot(kind='bar', x='year', y='box_office', ylabel='sum', title='Сумма сборов фильмов в прокате')\n",
    "print(sum_box.loc[sum_box['box_office'] == sum_box['box_office'].min()]['year'], sum_box['box_office'].min())\n",
    "print(sum_box.loc[sum_box['box_office'] == sum_box['box_office'].max()]['year'], sum_box['box_office'].max())"
   ]
  },
  {
   "cell_type": "markdown",
   "metadata": {
    "id": "tfEhofYvgFyX"
   },
   "source": [
    "- Меньше всего фильмов в прокате было в 2010 году (не более 20), больше всего - в 2019(более 500). Наблюдается тенденция повышения количества фильмов, вышедших в прокат с каждым годом. Однако такой разрыв между отрезками 2010-2013 и 2014-2019 каждется подозрительным. Возможно, данные просто стали собираться лучше или понятие проката расширилось, например, стали учитывать небольшие камерные кинотеатры.\n",
    "\n",
    "- Самая большая сумма сборов была в 2018 году и равнялась 49668361909, самая маленькая была в 2010 и равнялась 2274770.\n",
    "\n",
    "- с 2016 года сумма сборов не растет и держится на уровне 50 млрд."
   ]
  },
  {
   "cell_type": "markdown",
   "metadata": {
    "id": "G-7qS-N-gFyY"
   },
   "source": [
    "#### Среднее и медиана  сборов\n",
    "- Самое высокое среднее значение сборов было в 2017 году и составляло 140 000 000. До 2014 года фильмы не собирали и миллиона. Опять же, на мой взгляд, проблемы в самих данных. Как минимум, из прошлого пункта понятно, что выборка слишком мала."
   ]
  },
  {
   "cell_type": "code",
   "execution_count": 30,
   "metadata": {
    "id": "jmp-rgg9gFyY"
   },
   "outputs": [
    {
     "name": "stdout",
     "output_type": "stream",
     "text": [
      "Среднее:\n"
     ]
    },
    {
     "data": {
      "text/html": [
       "<div>\n",
       "<style scoped>\n",
       "    .dataframe tbody tr th:only-of-type {\n",
       "        vertical-align: middle;\n",
       "    }\n",
       "\n",
       "    .dataframe tbody tr th {\n",
       "        vertical-align: top;\n",
       "    }\n",
       "\n",
       "    .dataframe thead th {\n",
       "        text-align: right;\n",
       "    }\n",
       "</style>\n",
       "<table border=\"1\" class=\"dataframe\">\n",
       "  <thead>\n",
       "    <tr style=\"text-align: right;\">\n",
       "      <th></th>\n",
       "      <th>year</th>\n",
       "      <th>box_office</th>\n",
       "    </tr>\n",
       "  </thead>\n",
       "  <tbody>\n",
       "    <tr>\n",
       "      <th>0</th>\n",
       "      <td>2010</td>\n",
       "      <td>113,738.50</td>\n",
       "    </tr>\n",
       "    <tr>\n",
       "      <th>1</th>\n",
       "      <td>2011</td>\n",
       "      <td>514,028.00</td>\n",
       "    </tr>\n",
       "    <tr>\n",
       "      <th>2</th>\n",
       "      <td>2012</td>\n",
       "      <td>137,391.08</td>\n",
       "    </tr>\n",
       "    <tr>\n",
       "      <th>3</th>\n",
       "      <td>2013</td>\n",
       "      <td>525,011.54</td>\n",
       "    </tr>\n",
       "    <tr>\n",
       "      <th>4</th>\n",
       "      <td>2014</td>\n",
       "      <td>46,821,500.36</td>\n",
       "    </tr>\n",
       "    <tr>\n",
       "      <th>5</th>\n",
       "      <td>2015</td>\n",
       "      <td>91,006,774.94</td>\n",
       "    </tr>\n",
       "    <tr>\n",
       "      <th>6</th>\n",
       "      <td>2016</td>\n",
       "      <td>95,350,711.87</td>\n",
       "    </tr>\n",
       "    <tr>\n",
       "      <th>7</th>\n",
       "      <td>2017</td>\n",
       "      <td>136,414,885.72</td>\n",
       "    </tr>\n",
       "    <tr>\n",
       "      <th>8</th>\n",
       "      <td>2018</td>\n",
       "      <td>104,785,573.65</td>\n",
       "    </tr>\n",
       "    <tr>\n",
       "      <th>9</th>\n",
       "      <td>2019</td>\n",
       "      <td>91,715,335.62</td>\n",
       "    </tr>\n",
       "  </tbody>\n",
       "</table>\n",
       "</div>"
      ],
      "text/plain": [
       "   year     box_office\n",
       "0  2010     113,738.50\n",
       "1  2011     514,028.00\n",
       "2  2012     137,391.08\n",
       "3  2013     525,011.54\n",
       "4  2014  46,821,500.36\n",
       "5  2015  91,006,774.94\n",
       "6  2016  95,350,711.87\n",
       "7  2017 136,414,885.72\n",
       "8  2018 104,785,573.65\n",
       "9  2019  91,715,335.62"
      ]
     },
     "execution_count": 30,
     "metadata": {},
     "output_type": "execute_result"
    },
    {
     "data": {
      "image/png": "[encoded data removed]",
      "text/plain": [
       "<Figure size 432x288 with 1 Axes>"
      ]
     },
     "metadata": {
      "needs_background": "light"
     },
     "output_type": "display_data"
    }
   ],
   "source": [
    "print('Среднее:')\n",
    "data.pivot_table(index='year', values='box_office', aggfunc='mean').reset_index().plot(kind='bar', x='year', y='box_office', ylabel='mean', title='Среднее значение сборов фильмов в прокате')\n",
    "data.pivot_table(index='year', values='box_office', aggfunc='mean').reset_index()\n"
   ]
  },
  {
   "cell_type": "code",
   "execution_count": 31,
   "metadata": {},
   "outputs": [
    {
     "name": "stdout",
     "output_type": "stream",
     "text": [
      "Медиана:\n"
     ]
    },
    {
     "data": {
      "text/html": [
       "<div>\n",
       "<style scoped>\n",
       "    .dataframe tbody tr th:only-of-type {\n",
       "        vertical-align: middle;\n",
       "    }\n",
       "\n",
       "    .dataframe tbody tr th {\n",
       "        vertical-align: top;\n",
       "    }\n",
       "\n",
       "    .dataframe thead th {\n",
       "        text-align: right;\n",
       "    }\n",
       "</style>\n",
       "<table border=\"1\" class=\"dataframe\">\n",
       "  <thead>\n",
       "    <tr style=\"text-align: right;\">\n",
       "      <th></th>\n",
       "      <th>year</th>\n",
       "      <th>box_office</th>\n",
       "    </tr>\n",
       "  </thead>\n",
       "  <tbody>\n",
       "    <tr>\n",
       "      <th>0</th>\n",
       "      <td>2010</td>\n",
       "      <td>23,612.50</td>\n",
       "    </tr>\n",
       "    <tr>\n",
       "      <th>1</th>\n",
       "      <td>2011</td>\n",
       "      <td>42,691.00</td>\n",
       "    </tr>\n",
       "    <tr>\n",
       "      <th>2</th>\n",
       "      <td>2012</td>\n",
       "      <td>30,500.00</td>\n",
       "    </tr>\n",
       "    <tr>\n",
       "      <th>3</th>\n",
       "      <td>2013</td>\n",
       "      <td>32,582.50</td>\n",
       "    </tr>\n",
       "    <tr>\n",
       "      <th>4</th>\n",
       "      <td>2014</td>\n",
       "      <td>346,964.00</td>\n",
       "    </tr>\n",
       "    <tr>\n",
       "      <th>5</th>\n",
       "      <td>2015</td>\n",
       "      <td>6,966,965.35</td>\n",
       "    </tr>\n",
       "    <tr>\n",
       "      <th>6</th>\n",
       "      <td>2016</td>\n",
       "      <td>4,683,779.79</td>\n",
       "    </tr>\n",
       "    <tr>\n",
       "      <th>7</th>\n",
       "      <td>2017</td>\n",
       "      <td>10,177,833.50</td>\n",
       "    </tr>\n",
       "    <tr>\n",
       "      <th>8</th>\n",
       "      <td>2018</td>\n",
       "      <td>8,911,533.94</td>\n",
       "    </tr>\n",
       "    <tr>\n",
       "      <th>9</th>\n",
       "      <td>2019</td>\n",
       "      <td>4,693,586.59</td>\n",
       "    </tr>\n",
       "  </tbody>\n",
       "</table>\n",
       "</div>"
      ],
      "text/plain": [
       "   year    box_office\n",
       "0  2010     23,612.50\n",
       "1  2011     42,691.00\n",
       "2  2012     30,500.00\n",
       "3  2013     32,582.50\n",
       "4  2014    346,964.00\n",
       "5  2015  6,966,965.35\n",
       "6  2016  4,683,779.79\n",
       "7  2017 10,177,833.50\n",
       "8  2018  8,911,533.94\n",
       "9  2019  4,693,586.59"
      ]
     },
     "execution_count": 31,
     "metadata": {},
     "output_type": "execute_result"
    },
    {
     "data": {
      "image/png": "[encoded data removed]",
      "text/plain": [
       "<Figure size 432x288 with 1 Axes>"
      ]
     },
     "metadata": {
      "needs_background": "light"
     },
     "output_type": "display_data"
    }
   ],
   "source": [
    "print('Медиана:')\n",
    "data.pivot_table(index='year', values='box_office', aggfunc='median').reset_index().plot(kind='bar', x='year', y='box_office', ylabel='median', title='Медианное значение сборов фильмов в прокате')\n",
    "data.pivot_table(index='year', values='box_office', aggfunc='median').reset_index()\n"
   ]
  },
  {
   "cell_type": "markdown",
   "metadata": {
    "id": "Ok89WFwJgFyZ"
   },
   "source": [
    "#### Возрастное ограничение и сборы \n",
    "- Определим, влияет ли возрастное ограничение аудитории («6+», «12+», «16+», «18+» и т. д.) на сборы фильма в прокате в период с 2015 по 2019 год. Фильмы с каким возрастным ограничением собрали больше всего денег в прокате? Меняется ли картина в зависимости от года? "
   ]
  },
  {
   "cell_type": "markdown",
   "metadata": {},
   "source": [
    "Выводы по суммарным значениям:\n",
    "- Cуммарно самые большие сборы в категории фильмов для детей старше 16. Скорее всего, таких фильмов попросту больше всего. В этом мы убедимся, посмотрев на среднее.\n",
    "- Линейной зависимости между возрастным ограничением и количеством сборов нет.\n",
    "- С 15 по 19 год наблюдается рост сборов фильмов с ограничением 18+\n",
    "- В 17 году рост сборов фильмов 16+ сменяется ппадением. С другой стороны, в том же году падение фильмов 12+ сменяется ростом. Скорее всего, это просто совпадение, но у меня есть некоторые предположения: 1) возможно, в этом году поменялись критерии определения возрастной отметки фильмов 2) эти категории являются конкурирующими за подростковую аудиторию, поэтому рост числа фильмов в одной категории, чем бы он ни был вызван, повысит конкуренцию для фильмов из другой категории и снизит их посещаемость.\n",
    "\n",
    "Выводы по средним значениям:\n",
    "- Несмотря на то, что самые большие суммарные сборы у фильмов категории 16+, топ по средним значениям делят фильмы 12+ и 6+. Можем сделать вывод о том, что детские фильмы приносят более высокие сборы в среднем, чем фильмы других категорий, хотя взрослых фильмов снимается больше.\n",
    "- Среднее значение сборов фильмов 18+ не растет, что говорит о том, что рост суммарных сборов обусловлен ростом количества фильмов с такой отметкой. Есть два расклада: 1) ужесточаются критерии определения фильма как взрослого, все больше и больше фильмов попадают в эту категорию 2) растет спрос и следовательно предложение на фильмы с элементами насилия или эротики\n",
    "- В 17 году рост средних сборов фильмов 16+ сменился на падение."
   ]
  },
  {
   "cell_type": "code",
   "execution_count": 32,
   "metadata": {},
   "outputs": [
    {
     "data": {
      "text/plain": [
       "array(['«18+»', '«6+»', '«12+»', '«16+»', '«0+»'], dtype=object)"
      ]
     },
     "execution_count": 32,
     "metadata": {},
     "output_type": "execute_result"
    }
   ],
   "source": [
    "data['age_restriction'] = data['age_restriction'].str.split(' ,').str[0]\n",
    "data['age_restriction'].unique()"
   ]
  },
  {
   "cell_type": "code",
   "execution_count": 33,
   "metadata": {},
   "outputs": [
    {
     "data": {
      "text/plain": [
       "age_restriction\n",
       "«0+»     168\n",
       "«12+»    393\n",
       "«16+»    879\n",
       "«18+»    827\n",
       "«6+»     338\n",
       "Name: box_office, dtype: int64"
      ]
     },
     "execution_count": 33,
     "metadata": {},
     "output_type": "execute_result"
    }
   ],
   "source": [
    "data.groupby('age_restriction')['box_office'].count()"
   ]
  },
  {
   "cell_type": "code",
   "execution_count": 34,
   "metadata": {
    "scrolled": false
   },
   "outputs": [
    {
     "data": {
      "image/png": "[encoded data removed]",
      "text/plain": [
       "<Figure size 576x576 with 1 Axes>"
      ]
     },
     "metadata": {
      "needs_background": "light"
     },
     "output_type": "display_data"
    }
   ],
   "source": [
    "\n",
    "import matplotlib.pyplot as plt\n",
    "\n",
    "data.query('year > 2014').pivot_table(index='age_restriction', values='box_office', aggfunc='sum').plot(kind='bar', figsize=(8,8), ylabel='sum_box_office', title='Сборы фильмов разных возрастных категорий')\n",
    "plt.show()"
   ]
  },
  {
   "cell_type": "code",
   "execution_count": 35,
   "metadata": {
    "id": "jsSbEqfjgFya",
    "scrolled": false
   },
   "outputs": [
    {
     "data": {
      "text/plain": [
       "<AxesSubplot:title={'center':'Сборы фильмов разных возрастных категорий по годам'}, xlabel='year', ylabel='sum_box_office'>"
      ]
     },
     "execution_count": 35,
     "metadata": {},
     "output_type": "execute_result"
    },
    {
     "data": {
      "image/png": "[encoded data removed]",
      "text/plain": [
       "<Figure size 648x648 with 1 Axes>"
      ]
     },
     "metadata": {
      "needs_background": "light"
     },
     "output_type": "display_data"
    }
   ],
   "source": [
    "data.query('year > 2014').pivot_table(index='year', values='box_office', columns='age_restriction', aggfunc='sum').plot(kind='bar', figsize=(9,9), ylabel='sum_box_office', title='Сборы фильмов разных возрастных категорий по годам')\n",
    "                                                  "
   ]
  },
  {
   "cell_type": "code",
   "execution_count": 36,
   "metadata": {},
   "outputs": [
    {
     "data": {
      "text/plain": [
       "<AxesSubplot:title={'center':'Средние сборы фильмов разных возрастных категорий'}, xlabel='age_restriction', ylabel='mean_box_office'>"
      ]
     },
     "execution_count": 36,
     "metadata": {},
     "output_type": "execute_result"
    },
    {
     "data": {
      "image/png": "[encoded data removed]",
      "text/plain": [
       "<Figure size 576x576 with 1 Axes>"
      ]
     },
     "metadata": {
      "needs_background": "light"
     },
     "output_type": "display_data"
    }
   ],
   "source": [
    "data.query('year > 2014').pivot_table(index='age_restriction', values='box_office', aggfunc='mean').plot(kind='bar', figsize=(8,8), ylabel='mean_box_office', title='Средние сборы фильмов разных возрастных категорий')"
   ]
  },
  {
   "cell_type": "code",
   "execution_count": 37,
   "metadata": {
    "scrolled": true
   },
   "outputs": [
    {
     "data": {
      "text/plain": [
       "<AxesSubplot:title={'center':'Средние сборы фильмов разных возрастных категорий'}, xlabel='year', ylabel='mean_box_office'>"
      ]
     },
     "execution_count": 37,
     "metadata": {},
     "output_type": "execute_result"
    },
    {
     "data": {
      "image/png": "[encoded data removed]",
      "text/plain": [
       "<Figure size 648x648 with 1 Axes>"
      ]
     },
     "metadata": {
      "needs_background": "light"
     },
     "output_type": "display_data"
    }
   ],
   "source": [
    "data.query('year > 2014').pivot_table(index='year', values='box_office', columns='age_restriction', aggfunc='mean').plot(kind='bar', figsize=(9,9), ylabel='mean_box_office', title='Средние сборы фильмов разных возрастных категорий')"
   ]
  },
  {
   "cell_type": "code",
   "execution_count": 38,
   "metadata": {},
   "outputs": [
    {
     "data": {
      "image/png": "[encoded data removed]",
      "text/plain": [
       "<Figure size 576x576 with 1 Axes>"
      ]
     },
     "metadata": {
      "needs_background": "light"
     },
     "output_type": "display_data"
    }
   ],
   "source": [
    "import seaborn as sns\n",
    "temp = data.copy()\n",
    "year_mask = (temp['year'] >= 2015) & (temp['year'] <= 2019)\n",
    "\n",
    "plt.figure(figsize=(8, 8))\n",
    "(sns.boxplot(data = temp.loc[year_mask], y = 'box_office', x='age_restriction', showfliers=False, showmeans=True)\n",
    "    .set(title = 'Кассовые сборы в зависимости от возрастной категории', \n",
    "         xlabel = 'Возрастные категории', ylabel = 'Кассовый сбор'))\n",
    "plt.text(0, 3.8e8,'Треугольник показывает среднее значение')\n",
    "plt.show()"
   ]
  },
  {
   "cell_type": "markdown",
   "metadata": {
    "id": "l_Kg6Ku4gFya"
   },
   "source": [
    "### Шаг 4. Исследуем фильмы, которые получили государственную поддержку\n"
   ]
  },
  {
   "cell_type": "markdown",
   "metadata": {},
   "source": [
    "#### Среднее значение гос. поддержки. Соотношение возвратных и невозвратных средств.\n",
    "Среднее значение государственной поддержки составляет 60 845 446 рублей. \n",
    "Среднее соотношение государственной поддержки к общему бюджету фильмов примерно равно 1/2. При этом есть фильмы, полностью профинансированные государством.\n",
    "Средняя доля возвратных средств в общей сумме гос. поддержки составляет 0.14. Это немного."
   ]
  },
  {
   "cell_type": "code",
   "execution_count": 39,
   "metadata": {},
   "outputs": [
    {
     "name": "stdout",
     "output_type": "stream",
     "text": [
      "60845446.72289157 count   332.00\n",
      "mean      0.54\n",
      "std       0.20\n",
      "min       0.04\n",
      "25%       0.38\n",
      "50%       0.61\n",
      "75%       0.66\n",
      "max       1.00\n",
      "dtype: float64 0.1406050393333901\n"
     ]
    },
    {
     "name": "stderr",
     "output_type": "stream",
     "text": [
      "/tmp/ipykernel_592/2717014709.py:2: SettingWithCopyWarning: \n",
      "A value is trying to be set on a copy of a slice from a DataFrame.\n",
      "Try using .loc[row_indexer,col_indexer] = value instead\n",
      "\n",
      "See the caveats in the documentation: https://pandas.pydata.org/pandas-docs/stable/user_guide/indexing.html#returning-a-view-versus-a-copy\n",
      "  data_support['support'] = data_support['refundable_support'] + data_support['nonrefundable_support']\n"
     ]
    }
   ],
   "source": [
    "data_support = data.query('~budget.isna()')\n",
    "data_support['support'] = data_support['refundable_support'] + data_support['nonrefundable_support']\n",
    "print(data_support['support'].mean(), \n",
    "(data_support['support'] / data_support['budget']).describe(), \n",
    "(data_support['refundable_support'] / (data_support['nonrefundable_support'] + data_support['refundable_support'])).mean())\n"
   ]
  },
  {
   "cell_type": "markdown",
   "metadata": {},
   "source": [
    "#### Источники помощи\n",
    "- Больше всего денег дает в среднем Фонд кино - 100 млн. Из них только четверть возвратные. Министерство культуры в среднем дает меньше, около 30млн, причем только невозвратных средств. "
   ]
  },
  {
   "cell_type": "code",
   "execution_count": 40,
   "metadata": {},
   "outputs": [
    {
     "data": {
      "text/plain": [
       "<AxesSubplot:title={'center':'Размер средней поддержки по источникам'}, xlabel='financing_source'>"
      ]
     },
     "execution_count": 40,
     "metadata": {},
     "output_type": "execute_result"
    },
    {
     "data": {
      "image/png": "[encoded data removed]",
      "text/plain": [
       "<Figure size 432x288 with 1 Axes>"
      ]
     },
     "metadata": {
      "needs_background": "light"
     },
     "output_type": "display_data"
    }
   ],
   "source": [
    "data['financing_source'].unique()\n",
    "data_support.pivot_table(index='financing_source', values=['refundable_support', 'nonrefundable_support'], aggfunc='mean').reset_index().plot(kind='bar', x='financing_source', stacked=True, title='Размер средней поддержки по источникам')"
   ]
  },
  {
   "cell_type": "markdown",
   "metadata": {},
   "source": [
    "#### Окупаемость фильмоф с гос.поддержкой\n",
    "- Окупается лишь четверть фильмов с государственной поддержкой. Большинство фильмов с гос. поддержкой имеют убытки до 200 млн. Однако фильмов, приносящих колоссальную прибыль, сильно больше, чем фильмов, приносящих колоссальные убытки. Поэтому среднее сильно выше медианы.\n",
    "- Зависимости между долей гос денег в бюджете и окупаемостью фильма нет"
   ]
  },
  {
   "cell_type": "code",
   "execution_count": 41,
   "metadata": {},
   "outputs": [
    {
     "name": "stdout",
     "output_type": "stream",
     "text": [
      "0.23795180722891565\n",
      "count              314.00\n",
      "mean         1,320,630.94\n",
      "std        317,812,039.65\n",
      "min     -1,971,477,243.41\n",
      "25%        -70,061,013.25\n",
      "50%        -40,325,612.25\n",
      "75%           -353,885.47\n",
      "max      2,913,568,690.79\n",
      "Name: profit, dtype: float64\n"
     ]
    },
    {
     "name": "stderr",
     "output_type": "stream",
     "text": [
      "/tmp/ipykernel_592/1789765237.py:2: SettingWithCopyWarning: \n",
      "A value is trying to be set on a copy of a slice from a DataFrame.\n",
      "Try using .loc[row_indexer,col_indexer] = value instead\n",
      "\n",
      "See the caveats in the documentation: https://pandas.pydata.org/pandas-docs/stable/user_guide/indexing.html#returning-a-view-versus-a-copy\n",
      "  data_support['profit'] = data_support['box_office'] - data_support['budget']\n"
     ]
    }
   ],
   "source": [
    "print(data_support.loc[(data_support['box_office'] - data_support['budget']) > 0]['budget'].count() / 332)\n",
    "data_support['profit'] = data_support['box_office'] - data_support['budget']\n",
    "print(data_support['profit'].describe())\n",
    "\n"
   ]
  },
  {
   "cell_type": "code",
   "execution_count": 42,
   "metadata": {},
   "outputs": [
    {
     "data": {
      "image/png": "[encoded data removed]",
      "text/plain": [
       "<Figure size 504x504 with 1 Axes>"
      ]
     },
     "metadata": {
      "needs_background": "light"
     },
     "output_type": "display_data"
    }
   ],
   "source": [
    "import matplotlib.pyplot as plt\n",
    "data_support['profit'].hist(figsize=(7,7), bins=15)\n",
    "plt.title('Распределение значений окупаемости фильмов с гос.поддержкой')\n",
    "plt.xlabel('Прибыль')\n",
    "plt.ylabel('Частота')\n",
    "plt.legend(['profit'])\n",
    "plt.show()"
   ]
  },
  {
   "cell_type": "code",
   "execution_count": 43,
   "metadata": {},
   "outputs": [
    {
     "name": "stderr",
     "output_type": "stream",
     "text": [
      "/tmp/ipykernel_592/1754466605.py:1: SettingWithCopyWarning: \n",
      "A value is trying to be set on a copy of a slice from a DataFrame.\n",
      "Try using .loc[row_indexer,col_indexer] = value instead\n",
      "\n",
      "See the caveats in the documentation: https://pandas.pydata.org/pandas-docs/stable/user_guide/indexing.html#returning-a-view-versus-a-copy\n",
      "  data_support['support_to_budget'] = data_support['support'] / data_support['budget']\n"
     ]
    },
    {
     "data": {
      "text/plain": [
       "<AxesSubplot:title={'center':'Рассение прибыли в зависимости от доли гос.поддержки'}, xlabel='support_to_budget', ylabel='profit'>"
      ]
     },
     "execution_count": 43,
     "metadata": {},
     "output_type": "execute_result"
    },
    {
     "data": {
      "image/png": "[encoded data removed]",
      "text/plain": [
       "<Figure size 432x288 with 1 Axes>"
      ]
     },
     "metadata": {
      "needs_background": "light"
     },
     "output_type": "display_data"
    }
   ],
   "source": [
    "data_support['support_to_budget'] = data_support['support'] / data_support['budget']\n",
    "data_support.plot(kind='scatter', x='support_to_budget', y='profit', title='Рассение прибыли в зависимости от доли гос.поддержки')\n"
   ]
  },
  {
   "cell_type": "markdown",
   "metadata": {},
   "source": [
    "#### рейтинг фильмов с гос. поддержкой\n",
    "- Средний рейтинг фильмов с гос.поддержкой = 6, что почти не отличается от среднего рейтинга фильмов без гос.поддержки. Это же касается и остальных параметров (отклонение, медиана).\n",
    "- Зависимость между долей гос. финансирования и рейтингом фильма отсутствует\n"
   ]
  },
  {
   "cell_type": "code",
   "execution_count": 44,
   "metadata": {
    "scrolled": true
   },
   "outputs": [
    {
     "name": "stdout",
     "output_type": "stream",
     "text": [
      "count   316.00\n",
      "mean      6.02\n",
      "std       1.15\n",
      "min       1.00\n",
      "25%       5.30\n",
      "50%       6.20\n",
      "75%       6.70\n",
      "max       9.40\n",
      "Name: ratings, dtype: float64\n"
     ]
    },
    {
     "data": {
      "text/plain": [
       "count   6,195.00\n",
       "mean        6.51\n",
       "std         1.11\n",
       "min         1.10\n",
       "25%         5.90\n",
       "50%         6.60\n",
       "75%         7.30\n",
       "max         9.90\n",
       "Name: ratings, dtype: float64"
      ]
     },
     "execution_count": 44,
     "metadata": {},
     "output_type": "execute_result"
    }
   ],
   "source": [
    "print(data_support['ratings'].describe())\n",
    "data.query('budget.isna()')['ratings'].describe()"
   ]
  },
  {
   "cell_type": "code",
   "execution_count": 45,
   "metadata": {},
   "outputs": [
    {
     "data": {
      "text/plain": [
       "<AxesSubplot:title={'center':'Рассеяние рейтинга в зависимости от доли гос.поддержки'}, xlabel='support_to_budget', ylabel='ratings'>"
      ]
     },
     "execution_count": 45,
     "metadata": {},
     "output_type": "execute_result"
    },
    {
     "data": {
      "image/png": "[encoded data removed]",
      "text/plain": [
       "<Figure size 432x288 with 1 Axes>"
      ]
     },
     "metadata": {
      "needs_background": "light"
     },
     "output_type": "display_data"
    }
   ],
   "source": [
    "\n",
    "data_support.plot(kind='scatter', x='support_to_budget', y='ratings', title='Рассеяние рейтинга в зависимости от доли гос.поддержки')"
   ]
  },
  {
   "cell_type": "markdown",
   "metadata": {},
   "source": [
    "#### Сборы фильмов с гос. поддержкой\n",
    "Зависимости между долей гос.поддержки в общем бюджете фильма и сборами нет. У меня была гипотеза, что фильмы с гос. поддержкой лучше пиарятся (при поддержке гос. каналов), в целом ориентированы на массовую публику, поэтому и их суммарные сборы должны быть выше."
   ]
  },
  {
   "cell_type": "code",
   "execution_count": 46,
   "metadata": {},
   "outputs": [
    {
     "data": {
      "text/plain": [
       "<AxesSubplot:title={'center':'Рассеяние сборов в зависимости от доли гос. поддержки'}, xlabel='support_to_budget', ylabel='box_office'>"
      ]
     },
     "execution_count": 46,
     "metadata": {},
     "output_type": "execute_result"
    },
    {
     "data": {
      "image/png": "[encoded data removed]",
      "text/plain": [
       "<Figure size 432x288 with 1 Axes>"
      ]
     },
     "metadata": {
      "needs_background": "light"
     },
     "output_type": "display_data"
    }
   ],
   "source": [
    "data_support.plot(kind='scatter', x='support_to_budget', y='box_office', title='Рассеяние сборов в зависимости от доли гос. поддержки')"
   ]
  },
  {
   "cell_type": "markdown",
   "metadata": {},
   "source": [
    "#### Жанр и гос. поддержка\n",
    "- Распределение жанров для фильмов с гос. поддержкой не отличается от распределения жанров для всех фильмов за одним исключением: комедийные фильмы занимают бОльшую долю. В остальном какой-то спефицики выделения средств по жанрам нет."
   ]
  },
  {
   "cell_type": "code",
   "execution_count": 47,
   "metadata": {},
   "outputs": [
    {
     "name": "stderr",
     "output_type": "stream",
     "text": [
      "/tmp/ipykernel_592/4061141978.py:7: SettingWithCopyWarning: \n",
      "A value is trying to be set on a copy of a slice from a DataFrame.\n",
      "Try using .loc[row_indexer,col_indexer] = value instead\n",
      "\n",
      "See the caveats in the documentation: https://pandas.pydata.org/pandas-docs/stable/user_guide/indexing.html#returning-a-view-versus-a-copy\n",
      "  data_support['main_genre_2'] = data_support['main_genre'].apply(genre_category)\n"
     ]
    },
    {
     "data": {
      "text/plain": [
       "<AxesSubplot:ylabel='фильмы с гос. поддержкой'>"
      ]
     },
     "execution_count": 47,
     "metadata": {},
     "output_type": "execute_result"
    },
    {
     "data": {
      "image/png": "[encoded data removed]",
      "text/plain": [
       "<Figure size 504x504 with 1 Axes>"
      ]
     },
     "metadata": {},
     "output_type": "display_data"
    }
   ],
   "source": [
    "# Жанры фильмов с гос. поддержкой\n",
    "def genre_category(column) :\n",
    "    if data_support.loc[data_support['main_genre'] == column]['main_genre'].count() < 10 :\n",
    "        return('другой')\n",
    "    else :\n",
    "        return(column)\n",
    "data_support['main_genre_2'] = data_support['main_genre'].apply(genre_category)\n",
    "data_support.groupby('main_genre_2')['punumber'].count().plot(kind='pie', ylabel='фильмы с гос. поддержкой', figsize=(7,7), autopct='%1.0f%%')\n"
   ]
  },
  {
   "cell_type": "code",
   "execution_count": 48,
   "metadata": {},
   "outputs": [
    {
     "data": {
      "text/plain": [
       "<AxesSubplot:ylabel='все фильмы'>"
      ]
     },
     "execution_count": 48,
     "metadata": {},
     "output_type": "execute_result"
    },
    {
     "data": {
      "image/png": "[encoded data removed]",
      "text/plain": [
       "<Figure size 504x504 with 1 Axes>"
      ]
     },
     "metadata": {},
     "output_type": "display_data"
    }
   ],
   "source": [
    "data['main_genre_2'] = data['main_genre'].apply(genre_category)\n",
    "data.groupby('main_genre_2')['punumber'].count().plot(kind='pie', ylabel='все фильмы', figsize=(7,7), autopct='%1.0f%%')"
   ]
  },
  {
   "cell_type": "markdown",
   "metadata": {
    "id": "V2gYwMcPgFyd"
   },
   "source": [
    "### Шаг 5. Выводы"
   ]
  },
  {
   "cell_type": "markdown",
   "metadata": {
    "id": "AYRg3dzXgFye"
   },
   "source": [
    "#### Важные наблюдения и рекомендации для дальнейших исследований\n",
    "\n",
    "##### Прокат и сборы\n",
    "- С каждым годом число фильмов, вышедших в прокат, растет. Однако странными кажутся данные до 2014 года, то же касается и средних сборов. Это задел для дальнейшей работы и исследований - разобраться, почему фильмов в прокате до 2014 года так мало и почему у них такие аномально маленькие сборы.\n",
    "- с 2016 года сумма сборов остается примерно на одном уровне, рынок кинопроката стагнирует.\n",
    "- Самое высокое среднее значение сборов было в 2017 году и составляло 140 000 000. Интересно было бы исследовать специфику этого года, проанализировать, чем вызван успех фильмов, вышедших в 2017, что происходило в киноиндустрии в этом году.\n",
    "\n",
    "##### Возрастное ограничение\n",
    "- Линейной зависимости между возрастным ограничением и количеством сборов нет.\n",
    "- В 17 году рост сборов фильмов 16+ сменяется падением. С другой стороны, в том же году падение фильмов 12+ сменяется ростом. По графикам видно, что динамика этих двух категорий как бы противонаправлена. Возможно, существует связь. Для дальнейшего исследования и подтверждения гипотезы имеет смысл обратить внимание на юридические изменения в области возрастных ограничений и тренды в кино.\n",
    "- С 15 по 19 год наблюдается рост сборов фильмов с ограничением 18+. Аналогично, дальнейшее исследование предполагает изучение юридических изменений и трендов в киноиндустрии.\n",
    "- Детские фильмы имеют самые большие сборы.\n",
    "\n",
    "##### Фильмы с гос. поддержкой\n",
    "- Среднее соотношение гос. поддержки к общему бюджету фильмов с гос. поддержкой составляет чуть больше половины\n",
    "- На удивление, в среднем доля возвратных средств в сумме общей поддержкки равна 0.14.\n",
    "- Окупается лишь четверть фильмов с государственной поддержкой. Однако это ничего не говорит об их качестве, потому что мы не можем провести сравнительный анализ. Дальнейшее исследование предполагает сбор данных о бюджете фильмов без государственной поддержки.\n",
    "- Зависимости между долей гос. денег в бюджете и окупаемостью фильма нет. Это может указывать на то, что связь между гос. финансированием и успешностью (речь прежде всего о финансках, но не только о них) отсутствует.\n",
    "- Рейтинг фильмов с гос. поддержкой по всем параметрам почти не отличается от рейтинга фильмов без гос. поддержки.\n",
    "- Комедийных фильмов в долях больше в категории фильмов с гос. поддержкой. Скорее всего, это всего лишь корреляция. Просто в россии любят снимать комедии (а фильмы с гос. поддержкой - все российского производства).\n",
    "\n",
    "\n"
   ]
  }
 ],
 "metadata": {
  "ExecuteTimeLog": [
   {
    "duration": 537,
    "start_time": "2021-07-07T10:12:08.634Z"
   },
   {
    "duration": 206,
    "start_time": "2021-07-07T10:12:30.191Z"
   },
   {
    "duration": 227,
    "start_time": "2021-07-07T10:12:33.078Z"
   },
   {
    "duration": 153,
    "start_time": "2021-07-07T10:13:42.146Z"
   },
   {
    "duration": 233,
    "start_time": "2021-07-07T10:30:09.252Z"
   },
   {
    "duration": 19,
    "start_time": "2021-07-07T10:30:15.577Z"
   },
   {
    "duration": 18,
    "start_time": "2021-07-07T10:30:57.348Z"
   },
   {
    "duration": 19,
    "start_time": "2021-07-07T10:31:17.452Z"
   },
   {
    "duration": 21,
    "start_time": "2021-07-07T10:31:32.227Z"
   },
   {
    "duration": 27,
    "start_time": "2021-07-07T10:32:06.588Z"
   },
   {
    "duration": 23,
    "start_time": "2021-07-07T10:32:43.645Z"
   },
   {
    "duration": 24,
    "start_time": "2021-07-07T10:33:06.948Z"
   },
   {
    "duration": 7,
    "start_time": "2021-07-07T10:33:28.558Z"
   },
   {
    "duration": 23,
    "start_time": "2021-07-07T10:33:43.761Z"
   },
   {
    "duration": 28,
    "start_time": "2021-07-07T10:34:13.466Z"
   },
   {
    "duration": 23,
    "start_time": "2021-07-07T10:35:56.187Z"
   },
   {
    "duration": 6,
    "start_time": "2021-07-07T10:36:48.182Z"
   },
   {
    "duration": 14,
    "start_time": "2021-07-07T10:37:49.641Z"
   },
   {
    "duration": 6,
    "start_time": "2021-07-07T10:38:06.694Z"
   },
   {
    "duration": 6,
    "start_time": "2021-07-07T10:38:13.493Z"
   },
   {
    "duration": 19,
    "start_time": "2021-07-07T10:38:44.056Z"
   },
   {
    "duration": 186,
    "start_time": "2021-07-07T10:48:35.618Z"
   },
   {
    "duration": 24,
    "start_time": "2021-07-07T10:48:51.498Z"
   },
   {
    "duration": 20,
    "start_time": "2021-07-07T10:48:59.415Z"
   },
   {
    "duration": 20,
    "start_time": "2021-07-07T10:53:02.195Z"
   },
   {
    "duration": 188,
    "start_time": "2021-07-07T10:54:40.486Z"
   },
   {
    "duration": 115,
    "start_time": "2021-07-07T10:54:52.552Z"
   },
   {
    "duration": 214,
    "start_time": "2021-07-07T10:54:56.354Z"
   },
   {
    "duration": 47,
    "start_time": "2021-07-07T10:54:58.282Z"
   },
   {
    "duration": 217,
    "start_time": "2021-07-07T10:59:16.075Z"
   },
   {
    "duration": 51,
    "start_time": "2021-07-07T10:59:16.243Z"
   },
   {
    "duration": 578,
    "start_time": "2021-07-07T10:59:18.774Z"
   },
   {
    "duration": 161,
    "start_time": "2021-07-07T10:59:21.238Z"
   },
   {
    "duration": 59,
    "start_time": "2021-07-07T10:59:21.453Z"
   },
   {
    "duration": 3,
    "start_time": "2021-07-07T11:02:10.786Z"
   },
   {
    "duration": 13,
    "start_time": "2021-07-07T11:07:07.722Z"
   },
   {
    "duration": 26,
    "start_time": "2021-07-07T11:07:17.958Z"
   },
   {
    "duration": 22,
    "start_time": "2021-07-07T11:08:17.939Z"
   },
   {
    "duration": 212,
    "start_time": "2021-07-07T11:08:19.665Z"
   },
   {
    "duration": 21,
    "start_time": "2021-07-07T11:08:29.945Z"
   },
   {
    "duration": 31,
    "start_time": "2021-07-07T11:08:38.899Z"
   },
   {
    "duration": 23,
    "start_time": "2021-07-07T11:08:54.527Z"
   },
   {
    "duration": 8,
    "start_time": "2021-07-07T11:18:55.974Z"
   },
   {
    "duration": 7,
    "start_time": "2021-07-07T11:19:03.639Z"
   },
   {
    "duration": 7,
    "start_time": "2021-07-07T11:19:06.444Z"
   },
   {
    "duration": 578,
    "start_time": "2021-07-07T12:09:59.576Z"
   },
   {
    "duration": 195,
    "start_time": "2021-07-07T12:10:00.156Z"
   },
   {
    "duration": 115,
    "start_time": "2021-07-07T12:10:00.353Z"
   },
   {
    "duration": 3,
    "start_time": "2021-07-07T12:10:00.470Z"
   },
   {
    "duration": 32,
    "start_time": "2021-07-07T12:10:00.474Z"
   },
   {
    "duration": 23,
    "start_time": "2021-07-07T12:10:00.508Z"
   },
   {
    "duration": 19,
    "start_time": "2021-07-07T12:10:00.533Z"
   },
   {
    "duration": 44,
    "start_time": "2021-07-07T12:10:00.553Z"
   },
   {
    "duration": 7,
    "start_time": "2021-07-07T12:10:00.600Z"
   },
   {
    "duration": 7,
    "start_time": "2021-07-07T12:19:45.761Z"
   },
   {
    "duration": 21,
    "start_time": "2021-07-07T12:21:35.482Z"
   },
   {
    "duration": 21,
    "start_time": "2021-07-07T12:29:23.569Z"
   },
   {
    "duration": 525,
    "start_time": "2021-07-07T12:29:44.542Z"
   },
   {
    "duration": 214,
    "start_time": "2021-07-07T12:29:45.069Z"
   },
   {
    "duration": 92,
    "start_time": "2021-07-07T12:29:45.285Z"
   },
   {
    "duration": 3,
    "start_time": "2021-07-07T12:29:45.379Z"
   },
   {
    "duration": 28,
    "start_time": "2021-07-07T12:29:45.384Z"
   },
   {
    "duration": 23,
    "start_time": "2021-07-07T12:29:45.413Z"
   },
   {
    "duration": 21,
    "start_time": "2021-07-07T12:29:45.437Z"
   },
   {
    "duration": 41,
    "start_time": "2021-07-07T12:29:45.460Z"
   },
   {
    "duration": 7,
    "start_time": "2021-07-07T12:29:45.502Z"
   },
   {
    "duration": 20,
    "start_time": "2021-07-07T12:29:45.511Z"
   },
   {
    "duration": 12,
    "start_time": "2021-07-07T12:34:02.800Z"
   },
   {
    "duration": 7,
    "start_time": "2021-07-07T12:35:10.479Z"
   },
   {
    "duration": 8,
    "start_time": "2021-07-07T12:35:22.440Z"
   },
   {
    "duration": 6,
    "start_time": "2021-07-07T12:35:35.649Z"
   },
   {
    "duration": 6,
    "start_time": "2021-07-07T12:35:43.107Z"
   },
   {
    "duration": 22,
    "start_time": "2021-07-07T12:38:03.029Z"
   },
   {
    "duration": 10,
    "start_time": "2021-07-07T12:38:06.592Z"
   },
   {
    "duration": 563,
    "start_time": "2021-07-07T12:38:46.493Z"
   },
   {
    "duration": 265,
    "start_time": "2021-07-07T12:38:47.058Z"
   },
   {
    "duration": 94,
    "start_time": "2021-07-07T12:38:47.325Z"
   },
   {
    "duration": 3,
    "start_time": "2021-07-07T12:38:47.422Z"
   },
   {
    "duration": 30,
    "start_time": "2021-07-07T12:38:47.427Z"
   },
   {
    "duration": 16,
    "start_time": "2021-07-07T12:38:53.305Z"
   },
   {
    "duration": 10,
    "start_time": "2021-07-07T12:38:53.499Z"
   },
   {
    "duration": 8,
    "start_time": "2021-07-07T12:39:48.161Z"
   },
   {
    "duration": 27,
    "start_time": "2021-07-07T12:41:17.629Z"
   },
   {
    "duration": 17,
    "start_time": "2021-07-07T12:41:17.867Z"
   },
   {
    "duration": 21,
    "start_time": "2021-07-07T12:41:19.310Z"
   },
   {
    "duration": 7,
    "start_time": "2021-07-07T12:41:19.544Z"
   },
   {
    "duration": 20,
    "start_time": "2021-07-07T12:41:20.504Z"
   },
   {
    "duration": 554,
    "start_time": "2021-07-07T12:56:23.696Z"
   },
   {
    "duration": 200,
    "start_time": "2021-07-07T12:56:25.234Z"
   },
   {
    "duration": 119,
    "start_time": "2021-07-07T12:56:25.480Z"
   },
   {
    "duration": 4,
    "start_time": "2021-07-07T12:56:25.762Z"
   },
   {
    "duration": 26,
    "start_time": "2021-07-07T12:56:27.172Z"
   },
   {
    "duration": 12,
    "start_time": "2021-07-07T12:56:29.051Z"
   },
   {
    "duration": 10,
    "start_time": "2021-07-07T12:56:29.291Z"
   },
   {
    "duration": 8,
    "start_time": "2021-07-07T12:56:29.623Z"
   },
   {
    "duration": 28,
    "start_time": "2021-07-07T12:56:32.137Z"
   },
   {
    "duration": 19,
    "start_time": "2021-07-07T12:56:39.785Z"
   },
   {
    "duration": 20,
    "start_time": "2021-07-07T12:56:44.297Z"
   },
   {
    "duration": 7,
    "start_time": "2021-07-07T12:56:45.392Z"
   },
   {
    "duration": 23,
    "start_time": "2021-07-07T12:56:46.615Z"
   },
   {
    "duration": 4,
    "start_time": "2021-07-07T12:57:06.625Z"
   },
   {
    "duration": 32,
    "start_time": "2021-07-07T12:57:36.690Z"
   },
   {
    "duration": 18,
    "start_time": "2021-07-07T12:58:00.149Z"
   },
   {
    "duration": 15,
    "start_time": "2021-07-07T12:59:16.793Z"
   },
   {
    "duration": 7,
    "start_time": "2021-07-07T13:19:22.624Z"
   },
   {
    "duration": 6,
    "start_time": "2021-07-07T14:17:33.527Z"
   },
   {
    "duration": 9,
    "start_time": "2021-07-07T14:17:48.409Z"
   },
   {
    "duration": 8,
    "start_time": "2021-07-07T14:20:13.060Z"
   },
   {
    "duration": 8,
    "start_time": "2021-07-07T14:20:37.957Z"
   },
   {
    "duration": 8,
    "start_time": "2021-07-07T14:20:47.470Z"
   },
   {
    "duration": 9,
    "start_time": "2021-07-07T14:20:54.503Z"
   },
   {
    "duration": 10,
    "start_time": "2021-07-07T14:28:57.763Z"
   },
   {
    "duration": 3,
    "start_time": "2021-07-07T14:30:23.377Z"
   },
   {
    "duration": 3,
    "start_time": "2021-07-07T14:30:36.489Z"
   },
   {
    "duration": 103,
    "start_time": "2021-07-07T14:30:52.351Z"
   },
   {
    "duration": 8,
    "start_time": "2021-07-07T14:30:54.763Z"
   },
   {
    "duration": 8,
    "start_time": "2021-07-07T14:31:29.301Z"
   },
   {
    "duration": 13,
    "start_time": "2021-07-07T14:31:44.516Z"
   },
   {
    "duration": 7,
    "start_time": "2021-07-07T14:33:10.972Z"
   },
   {
    "duration": 11,
    "start_time": "2021-07-07T14:33:27.780Z"
   },
   {
    "duration": 8,
    "start_time": "2021-07-07T14:34:44.588Z"
   },
   {
    "duration": 57,
    "start_time": "2021-07-07T14:35:59.042Z"
   },
   {
    "duration": 3,
    "start_time": "2021-07-07T14:36:28.168Z"
   },
   {
    "duration": 5,
    "start_time": "2021-07-07T14:36:46.254Z"
   },
   {
    "duration": 4,
    "start_time": "2021-07-07T14:36:52.714Z"
   },
   {
    "duration": 3,
    "start_time": "2021-07-07T14:36:56.612Z"
   },
   {
    "duration": 4,
    "start_time": "2021-07-07T14:36:57.049Z"
   },
   {
    "duration": 3,
    "start_time": "2021-07-07T14:39:21.214Z"
   },
   {
    "duration": 7,
    "start_time": "2021-07-07T14:39:52.406Z"
   },
   {
    "duration": 11,
    "start_time": "2021-07-07T14:39:58.576Z"
   },
   {
    "duration": 9,
    "start_time": "2021-07-07T14:40:26.301Z"
   },
   {
    "duration": 10,
    "start_time": "2021-07-07T14:40:31.704Z"
   },
   {
    "duration": 11,
    "start_time": "2021-07-07T14:40:36.249Z"
   },
   {
    "duration": 10,
    "start_time": "2021-07-07T14:40:39.783Z"
   },
   {
    "duration": 9,
    "start_time": "2021-07-07T14:40:48.558Z"
   },
   {
    "duration": 10,
    "start_time": "2021-07-07T14:40:57.143Z"
   },
   {
    "duration": 9,
    "start_time": "2021-07-07T14:41:06.074Z"
   },
   {
    "duration": 4324,
    "start_time": "2021-07-07T14:41:22.004Z"
   },
   {
    "duration": 11,
    "start_time": "2021-07-07T14:41:33.392Z"
   },
   {
    "duration": 9,
    "start_time": "2021-07-07T14:41:39.288Z"
   },
   {
    "duration": 569,
    "start_time": "2021-07-07T14:42:14.387Z"
   },
   {
    "duration": 197,
    "start_time": "2021-07-07T14:42:14.959Z"
   },
   {
    "duration": 84,
    "start_time": "2021-07-07T14:42:16.052Z"
   },
   {
    "duration": 4,
    "start_time": "2021-07-07T14:42:16.900Z"
   },
   {
    "duration": 27,
    "start_time": "2021-07-07T14:42:19.898Z"
   },
   {
    "duration": 12,
    "start_time": "2021-07-07T14:42:21.577Z"
   },
   {
    "duration": 9,
    "start_time": "2021-07-07T14:42:21.813Z"
   },
   {
    "duration": 9,
    "start_time": "2021-07-07T14:42:22.569Z"
   },
   {
    "duration": 29,
    "start_time": "2021-07-07T14:42:25.837Z"
   },
   {
    "duration": 20,
    "start_time": "2021-07-07T14:42:27.003Z"
   },
   {
    "duration": 21,
    "start_time": "2021-07-07T14:42:28.767Z"
   },
   {
    "duration": 7,
    "start_time": "2021-07-07T14:42:29.838Z"
   },
   {
    "duration": 4,
    "start_time": "2021-07-07T14:43:25.493Z"
   },
   {
    "duration": 7,
    "start_time": "2021-07-07T14:43:26.573Z"
   },
   {
    "duration": 10,
    "start_time": "2021-07-07T14:43:31.639Z"
   },
   {
    "duration": 9,
    "start_time": "2021-07-07T14:43:32.046Z"
   },
   {
    "duration": 10,
    "start_time": "2021-07-07T14:43:33.301Z"
   },
   {
    "duration": 12,
    "start_time": "2021-07-07T14:43:33.658Z"
   },
   {
    "duration": 8,
    "start_time": "2021-07-07T14:43:34.552Z"
   },
   {
    "duration": 9,
    "start_time": "2021-07-07T14:43:35.058Z"
   },
   {
    "duration": 12,
    "start_time": "2021-07-07T14:43:35.914Z"
   },
   {
    "duration": 17,
    "start_time": "2021-07-07T14:45:34.368Z"
   },
   {
    "duration": 512,
    "start_time": "2021-07-07T14:51:58.236Z"
   },
   {
    "duration": 223,
    "start_time": "2021-07-07T14:51:58.750Z"
   },
   {
    "duration": 93,
    "start_time": "2021-07-07T14:51:58.977Z"
   },
   {
    "duration": 4,
    "start_time": "2021-07-07T14:51:59.071Z"
   },
   {
    "duration": 37,
    "start_time": "2021-07-07T14:51:59.077Z"
   },
   {
    "duration": 18,
    "start_time": "2021-07-07T14:51:59.116Z"
   },
   {
    "duration": 10,
    "start_time": "2021-07-07T14:51:59.137Z"
   },
   {
    "duration": 8,
    "start_time": "2021-07-07T14:51:59.149Z"
   },
   {
    "duration": 54,
    "start_time": "2021-07-07T14:51:59.158Z"
   },
   {
    "duration": 18,
    "start_time": "2021-07-07T14:51:59.213Z"
   },
   {
    "duration": 22,
    "start_time": "2021-07-07T14:51:59.232Z"
   },
   {
    "duration": 36,
    "start_time": "2021-07-07T14:51:59.255Z"
   },
   {
    "duration": 7,
    "start_time": "2021-07-07T14:51:59.293Z"
   },
   {
    "duration": 10,
    "start_time": "2021-07-07T14:51:59.302Z"
   },
   {
    "duration": 9,
    "start_time": "2021-07-07T14:51:59.313Z"
   },
   {
    "duration": 11,
    "start_time": "2021-07-07T14:51:59.324Z"
   },
   {
    "duration": 8,
    "start_time": "2021-07-07T14:51:59.337Z"
   },
   {
    "duration": 46,
    "start_time": "2021-07-07T14:51:59.347Z"
   },
   {
    "duration": 22,
    "start_time": "2021-07-07T14:51:59.395Z"
   },
   {
    "duration": 24,
    "start_time": "2021-07-07T14:57:32.911Z"
   },
   {
    "duration": 7,
    "start_time": "2021-07-07T14:58:22.070Z"
   },
   {
    "duration": 4,
    "start_time": "2021-07-07T14:59:11.239Z"
   },
   {
    "duration": 25,
    "start_time": "2021-07-07T15:07:22.208Z"
   },
   {
    "duration": 16,
    "start_time": "2021-07-07T15:08:25.560Z"
   },
   {
    "duration": 15,
    "start_time": "2021-07-07T15:08:40.647Z"
   },
   {
    "duration": 14,
    "start_time": "2021-07-07T15:08:46.669Z"
   },
   {
    "duration": 533,
    "start_time": "2021-07-07T15:18:07.440Z"
   },
   {
    "duration": 173,
    "start_time": "2021-07-07T15:18:07.974Z"
   },
   {
    "duration": 84,
    "start_time": "2021-07-07T15:18:08.149Z"
   },
   {
    "duration": 3,
    "start_time": "2021-07-07T15:18:08.235Z"
   },
   {
    "duration": 30,
    "start_time": "2021-07-07T15:18:08.240Z"
   },
   {
    "duration": 22,
    "start_time": "2021-07-07T15:18:08.272Z"
   },
   {
    "duration": 11,
    "start_time": "2021-07-07T15:18:08.295Z"
   },
   {
    "duration": 11,
    "start_time": "2021-07-07T15:18:08.309Z"
   },
   {
    "duration": 40,
    "start_time": "2021-07-07T15:18:08.322Z"
   },
   {
    "duration": 42,
    "start_time": "2021-07-07T15:18:08.364Z"
   },
   {
    "duration": 22,
    "start_time": "2021-07-07T15:18:08.408Z"
   },
   {
    "duration": 5,
    "start_time": "2021-07-07T15:18:08.432Z"
   },
   {
    "duration": 13,
    "start_time": "2021-07-07T15:18:08.439Z"
   },
   {
    "duration": 9,
    "start_time": "2021-07-07T15:18:08.454Z"
   },
   {
    "duration": 32,
    "start_time": "2021-07-07T15:18:08.465Z"
   },
   {
    "duration": 10,
    "start_time": "2021-07-07T15:18:08.501Z"
   },
   {
    "duration": 7,
    "start_time": "2021-07-07T15:18:08.513Z"
   },
   {
    "duration": 11,
    "start_time": "2021-07-07T15:18:08.521Z"
   },
   {
    "duration": 17,
    "start_time": "2021-07-07T15:18:08.534Z"
   },
   {
    "duration": 44,
    "start_time": "2021-07-07T15:18:08.553Z"
   },
   {
    "duration": 22,
    "start_time": "2021-07-07T15:18:08.599Z"
   },
   {
    "duration": 61,
    "start_time": "2021-07-07T15:18:08.622Z"
   },
   {
    "duration": 7,
    "start_time": "2021-07-07T15:18:39.457Z"
   },
   {
    "duration": 5,
    "start_time": "2021-07-07T16:05:17.020Z"
   },
   {
    "duration": 5,
    "start_time": "2021-07-07T16:51:28.794Z"
   },
   {
    "duration": 546,
    "start_time": "2021-07-07T16:52:26.306Z"
   },
   {
    "duration": 203,
    "start_time": "2021-07-07T16:52:27.523Z"
   },
   {
    "duration": 85,
    "start_time": "2021-07-07T16:52:27.736Z"
   },
   {
    "duration": 4,
    "start_time": "2021-07-07T16:52:27.899Z"
   },
   {
    "duration": 25,
    "start_time": "2021-07-07T16:52:28.674Z"
   },
   {
    "duration": 8,
    "start_time": "2021-07-07T16:52:32.956Z"
   },
   {
    "duration": 18,
    "start_time": "2021-07-07T16:52:35.616Z"
   },
   {
    "duration": 6,
    "start_time": "2021-07-07T16:52:36.913Z"
   },
   {
    "duration": 11,
    "start_time": "2021-07-07T16:52:40.258Z"
   },
   {
    "duration": 10,
    "start_time": "2021-07-07T16:52:46.251Z"
   },
   {
    "duration": 8,
    "start_time": "2021-07-07T16:52:47.182Z"
   },
   {
    "duration": 27,
    "start_time": "2021-07-07T16:53:20.391Z"
   },
   {
    "duration": 20,
    "start_time": "2021-07-07T16:53:22.022Z"
   },
   {
    "duration": 23,
    "start_time": "2021-07-07T16:53:23.690Z"
   },
   {
    "duration": 8,
    "start_time": "2021-07-07T16:53:24.261Z"
   },
   {
    "duration": 4,
    "start_time": "2021-07-07T16:53:38.733Z"
   },
   {
    "duration": 7,
    "start_time": "2021-07-07T16:53:40.445Z"
   },
   {
    "duration": 11,
    "start_time": "2021-07-07T16:53:41.348Z"
   },
   {
    "duration": 13,
    "start_time": "2021-07-07T16:53:45.250Z"
   },
   {
    "duration": 12,
    "start_time": "2021-07-07T16:53:45.467Z"
   },
   {
    "duration": 4,
    "start_time": "2021-07-07T16:55:32.704Z"
   },
   {
    "duration": 12,
    "start_time": "2021-07-07T16:55:49.012Z"
   },
   {
    "duration": 18,
    "start_time": "2021-07-07T16:55:49.547Z"
   },
   {
    "duration": 611,
    "start_time": "2021-07-07T16:58:35.156Z"
   },
   {
    "duration": 200,
    "start_time": "2021-07-07T16:58:35.770Z"
   },
   {
    "duration": 86,
    "start_time": "2021-07-07T16:58:35.972Z"
   },
   {
    "duration": 3,
    "start_time": "2021-07-07T16:58:36.060Z"
   },
   {
    "duration": 27,
    "start_time": "2021-07-07T16:58:36.065Z"
   },
   {
    "duration": 8,
    "start_time": "2021-07-07T16:58:36.094Z"
   },
   {
    "duration": 17,
    "start_time": "2021-07-07T16:58:36.103Z"
   },
   {
    "duration": 5,
    "start_time": "2021-07-07T16:58:36.123Z"
   },
   {
    "duration": 11,
    "start_time": "2021-07-07T16:58:36.130Z"
   },
   {
    "duration": 7,
    "start_time": "2021-07-07T16:58:36.143Z"
   },
   {
    "duration": 37,
    "start_time": "2021-07-07T16:58:36.152Z"
   },
   {
    "duration": 27,
    "start_time": "2021-07-07T16:58:36.191Z"
   },
   {
    "duration": 19,
    "start_time": "2021-07-07T16:58:36.219Z"
   },
   {
    "duration": 49,
    "start_time": "2021-07-07T16:58:36.240Z"
   },
   {
    "duration": 6,
    "start_time": "2021-07-07T16:58:36.291Z"
   },
   {
    "duration": 3,
    "start_time": "2021-07-07T16:58:36.299Z"
   },
   {
    "duration": 13,
    "start_time": "2021-07-07T16:58:36.304Z"
   },
   {
    "duration": 10,
    "start_time": "2021-07-07T16:58:36.319Z"
   },
   {
    "duration": 10,
    "start_time": "2021-07-07T16:58:36.331Z"
   },
   {
    "duration": 44,
    "start_time": "2021-07-07T16:58:36.343Z"
   },
   {
    "duration": 4,
    "start_time": "2021-07-07T16:58:36.388Z"
   },
   {
    "duration": 13,
    "start_time": "2021-07-07T16:58:36.394Z"
   },
   {
    "duration": 16,
    "start_time": "2021-07-07T16:58:36.410Z"
   },
   {
    "duration": 8,
    "start_time": "2021-07-07T17:02:31.629Z"
   },
   {
    "duration": 8,
    "start_time": "2021-07-07T17:02:34.308Z"
   },
   {
    "duration": 6,
    "start_time": "2021-07-07T17:05:13.483Z"
   },
   {
    "duration": 17,
    "start_time": "2021-07-07T17:05:20.606Z"
   },
   {
    "duration": 7,
    "start_time": "2021-07-07T17:05:34.638Z"
   },
   {
    "duration": 3,
    "start_time": "2021-07-07T17:06:31.883Z"
   },
   {
    "duration": 570,
    "start_time": "2021-07-07T17:06:37.165Z"
   },
   {
    "duration": 174,
    "start_time": "2021-07-07T17:06:37.737Z"
   },
   {
    "duration": 47,
    "start_time": "2021-07-07T17:06:37.913Z"
   },
   {
    "duration": 3,
    "start_time": "2021-07-07T17:06:37.962Z"
   },
   {
    "duration": 27,
    "start_time": "2021-07-07T17:06:37.967Z"
   },
   {
    "duration": 7,
    "start_time": "2021-07-07T17:06:37.996Z"
   },
   {
    "duration": 16,
    "start_time": "2021-07-07T17:06:38.005Z"
   },
   {
    "duration": 6,
    "start_time": "2021-07-07T17:06:38.024Z"
   },
   {
    "duration": 12,
    "start_time": "2021-07-07T17:06:38.031Z"
   },
   {
    "duration": 41,
    "start_time": "2021-07-07T17:06:38.045Z"
   },
   {
    "duration": 8,
    "start_time": "2021-07-07T17:06:38.088Z"
   },
   {
    "duration": 26,
    "start_time": "2021-07-07T17:06:38.098Z"
   },
   {
    "duration": 17,
    "start_time": "2021-07-07T17:06:38.126Z"
   },
   {
    "duration": 43,
    "start_time": "2021-07-07T17:06:38.144Z"
   },
   {
    "duration": 6,
    "start_time": "2021-07-07T17:06:38.188Z"
   },
   {
    "duration": 5,
    "start_time": "2021-07-07T17:06:38.195Z"
   },
   {
    "duration": 9,
    "start_time": "2021-07-07T17:06:38.201Z"
   },
   {
    "duration": 12,
    "start_time": "2021-07-07T17:06:38.212Z"
   },
   {
    "duration": 11,
    "start_time": "2021-07-07T17:06:38.226Z"
   },
   {
    "duration": 47,
    "start_time": "2021-07-07T17:06:38.239Z"
   },
   {
    "duration": 4,
    "start_time": "2021-07-07T17:06:38.288Z"
   },
   {
    "duration": 13,
    "start_time": "2021-07-07T17:06:38.293Z"
   },
   {
    "duration": 5,
    "start_time": "2021-07-07T17:06:38.309Z"
   },
   {
    "duration": 18,
    "start_time": "2021-07-07T17:06:38.325Z"
   },
   {
    "duration": 20,
    "start_time": "2021-07-07T17:07:02.805Z"
   },
   {
    "duration": 19,
    "start_time": "2021-07-07T17:07:08.527Z"
   },
   {
    "duration": 19,
    "start_time": "2021-07-07T17:07:12.758Z"
   },
   {
    "duration": 22,
    "start_time": "2021-07-07T17:07:17.497Z"
   },
   {
    "duration": 19,
    "start_time": "2021-07-07T17:07:19.645Z"
   },
   {
    "duration": 10,
    "start_time": "2021-07-07T17:07:34.239Z"
   },
   {
    "duration": 17,
    "start_time": "2021-07-07T17:07:54.144Z"
   },
   {
    "duration": 14,
    "start_time": "2021-07-07T17:08:14.357Z"
   },
   {
    "duration": 616,
    "start_time": "2021-07-07T17:08:45.254Z"
   },
   {
    "duration": 178,
    "start_time": "2021-07-07T17:08:45.872Z"
   },
   {
    "duration": 60,
    "start_time": "2021-07-07T17:08:46.054Z"
   },
   {
    "duration": 3,
    "start_time": "2021-07-07T17:08:46.116Z"
   },
   {
    "duration": 26,
    "start_time": "2021-07-07T17:08:46.121Z"
   },
   {
    "duration": 7,
    "start_time": "2021-07-07T17:08:46.149Z"
   },
   {
    "duration": 17,
    "start_time": "2021-07-07T17:08:46.158Z"
   },
   {
    "duration": 14,
    "start_time": "2021-07-07T17:08:46.176Z"
   },
   {
    "duration": 17,
    "start_time": "2021-07-07T17:08:46.193Z"
   },
   {
    "duration": 9,
    "start_time": "2021-07-07T17:08:46.211Z"
   },
   {
    "duration": 21,
    "start_time": "2021-07-07T17:08:46.221Z"
   },
   {
    "duration": 49,
    "start_time": "2021-07-07T17:08:46.244Z"
   },
   {
    "duration": 24,
    "start_time": "2021-07-07T17:08:46.295Z"
   },
   {
    "duration": 22,
    "start_time": "2021-07-07T17:08:46.321Z"
   },
   {
    "duration": 6,
    "start_time": "2021-07-07T17:08:46.345Z"
   },
   {
    "duration": 5,
    "start_time": "2021-07-07T17:08:46.353Z"
   },
   {
    "duration": 13,
    "start_time": "2021-07-07T17:08:46.386Z"
   },
   {
    "duration": 12,
    "start_time": "2021-07-07T17:08:46.402Z"
   },
   {
    "duration": 10,
    "start_time": "2021-07-07T17:08:46.415Z"
   },
   {
    "duration": 7,
    "start_time": "2021-07-07T17:08:46.427Z"
   },
   {
    "duration": 8,
    "start_time": "2021-07-07T17:08:46.435Z"
   },
   {
    "duration": 68,
    "start_time": "2021-07-07T17:08:46.446Z"
   },
   {
    "duration": 13,
    "start_time": "2021-07-07T17:08:46.516Z"
   },
   {
    "duration": 78,
    "start_time": "2021-07-07T17:08:46.530Z"
   },
   {
    "duration": 40,
    "start_time": "2021-07-07T17:09:08.185Z"
   },
   {
    "duration": 16,
    "start_time": "2021-07-07T17:09:19.324Z"
   },
   {
    "duration": 21,
    "start_time": "2021-07-07T17:09:23.290Z"
   },
   {
    "duration": 13,
    "start_time": "2021-07-07T17:09:54.812Z"
   },
   {
    "duration": 13,
    "start_time": "2021-07-07T17:10:02.039Z"
   },
   {
    "duration": 10,
    "start_time": "2021-07-07T17:10:29.632Z"
   },
   {
    "duration": 13,
    "start_time": "2021-07-07T17:10:52.372Z"
   },
   {
    "duration": 13,
    "start_time": "2021-07-07T17:11:17.270Z"
   },
   {
    "duration": 13,
    "start_time": "2021-07-07T17:14:59.284Z"
   },
   {
    "duration": 547,
    "start_time": "2021-07-07T17:18:52.403Z"
   },
   {
    "duration": 163,
    "start_time": "2021-07-07T17:18:52.952Z"
   },
   {
    "duration": 44,
    "start_time": "2021-07-07T17:18:53.117Z"
   },
   {
    "duration": 3,
    "start_time": "2021-07-07T17:18:53.162Z"
   },
   {
    "duration": 26,
    "start_time": "2021-07-07T17:18:53.167Z"
   },
   {
    "duration": 6,
    "start_time": "2021-07-07T17:18:53.195Z"
   },
   {
    "duration": 15,
    "start_time": "2021-07-07T17:18:53.203Z"
   },
   {
    "duration": 5,
    "start_time": "2021-07-07T17:18:53.220Z"
   },
   {
    "duration": 11,
    "start_time": "2021-07-07T17:18:53.228Z"
   },
   {
    "duration": 9,
    "start_time": "2021-07-07T17:18:53.241Z"
   },
   {
    "duration": 41,
    "start_time": "2021-07-07T17:18:53.252Z"
   },
   {
    "duration": 33,
    "start_time": "2021-07-07T17:18:53.295Z"
   },
   {
    "duration": 19,
    "start_time": "2021-07-07T17:18:53.330Z"
   },
   {
    "duration": 49,
    "start_time": "2021-07-07T17:18:53.350Z"
   },
   {
    "duration": 5,
    "start_time": "2021-07-07T17:18:53.401Z"
   },
   {
    "duration": 5,
    "start_time": "2021-07-07T17:18:53.408Z"
   },
   {
    "duration": 11,
    "start_time": "2021-07-07T17:18:53.414Z"
   },
   {
    "duration": 9,
    "start_time": "2021-07-07T17:18:53.427Z"
   },
   {
    "duration": 10,
    "start_time": "2021-07-07T17:18:53.437Z"
   },
   {
    "duration": 39,
    "start_time": "2021-07-07T17:18:53.448Z"
   },
   {
    "duration": 26,
    "start_time": "2021-07-07T17:18:55.799Z"
   },
   {
    "duration": 598,
    "start_time": "2021-07-07T17:20:17.862Z"
   },
   {
    "duration": 161,
    "start_time": "2021-07-07T17:20:18.462Z"
   },
   {
    "duration": 45,
    "start_time": "2021-07-07T17:20:18.626Z"
   },
   {
    "duration": 4,
    "start_time": "2021-07-07T17:20:18.673Z"
   },
   {
    "duration": 38,
    "start_time": "2021-07-07T17:20:26.877Z"
   },
   {
    "duration": 7,
    "start_time": "2021-07-07T17:20:37.405Z"
   },
   {
    "duration": 19,
    "start_time": "2021-07-07T17:20:51.534Z"
   },
   {
    "duration": 5,
    "start_time": "2021-07-07T17:20:57.228Z"
   },
   {
    "duration": 7,
    "start_time": "2021-07-07T17:21:08.235Z"
   },
   {
    "duration": 19,
    "start_time": "2021-07-07T17:21:42.158Z"
   },
   {
    "duration": 14,
    "start_time": "2021-07-07T17:21:50.225Z"
   },
   {
    "duration": 22,
    "start_time": "2021-07-07T17:22:54.104Z"
   },
   {
    "duration": 5,
    "start_time": "2021-07-07T17:22:56.371Z"
   },
   {
    "duration": 14,
    "start_time": "2021-07-07T17:22:58.316Z"
   },
   {
    "duration": 5,
    "start_time": "2021-07-07T17:22:58.493Z"
   },
   {
    "duration": 35,
    "start_time": "2021-07-07T17:22:59.666Z"
   },
   {
    "duration": 6,
    "start_time": "2021-07-07T17:23:02.410Z"
   },
   {
    "duration": 611,
    "start_time": "2021-07-07T17:24:59.664Z"
   },
   {
    "duration": 178,
    "start_time": "2021-07-07T17:25:01.945Z"
   },
   {
    "duration": 47,
    "start_time": "2021-07-07T17:25:02.125Z"
   },
   {
    "duration": 2,
    "start_time": "2021-07-07T17:25:07.903Z"
   },
   {
    "duration": 254,
    "start_time": "2021-07-07T17:25:08.232Z"
   },
   {
    "duration": 182,
    "start_time": "2021-07-07T17:25:08.671Z"
   },
   {
    "duration": 6,
    "start_time": "2021-07-07T17:25:13.104Z"
   },
   {
    "duration": 36,
    "start_time": "2021-07-07T17:25:13.662Z"
   },
   {
    "duration": 7,
    "start_time": "2021-07-07T17:25:14.528Z"
   },
   {
    "duration": 24,
    "start_time": "2021-07-07T17:25:27.982Z"
   },
   {
    "duration": 3,
    "start_time": "2021-07-07T17:25:48.982Z"
   },
   {
    "duration": 165,
    "start_time": "2021-07-07T17:25:48.987Z"
   },
   {
    "duration": 50,
    "start_time": "2021-07-07T17:25:49.154Z"
   },
   {
    "duration": 4,
    "start_time": "2021-07-07T17:25:49.206Z"
   },
   {
    "duration": 26,
    "start_time": "2021-07-07T17:25:49.212Z"
   },
   {
    "duration": 7,
    "start_time": "2021-07-07T17:25:49.240Z"
   },
   {
    "duration": 16,
    "start_time": "2021-07-07T17:25:49.249Z"
   },
   {
    "duration": 22,
    "start_time": "2021-07-07T17:25:49.266Z"
   },
   {
    "duration": 16,
    "start_time": "2021-07-07T17:25:49.291Z"
   },
   {
    "duration": 9,
    "start_time": "2021-07-07T17:25:49.309Z"
   },
   {
    "duration": 7,
    "start_time": "2021-07-07T17:25:49.319Z"
   },
   {
    "duration": 28,
    "start_time": "2021-07-07T17:25:49.328Z"
   },
   {
    "duration": 44,
    "start_time": "2021-07-07T17:25:49.357Z"
   },
   {
    "duration": 22,
    "start_time": "2021-07-07T17:25:49.403Z"
   },
   {
    "duration": 7,
    "start_time": "2021-07-07T17:25:49.427Z"
   },
   {
    "duration": 3,
    "start_time": "2021-07-07T17:25:49.436Z"
   },
   {
    "duration": 44,
    "start_time": "2021-07-07T17:25:49.441Z"
   },
   {
    "duration": 12,
    "start_time": "2021-07-07T17:25:49.488Z"
   },
   {
    "duration": 13,
    "start_time": "2021-07-07T17:25:49.502Z"
   },
   {
    "duration": 10,
    "start_time": "2021-07-07T17:25:49.516Z"
   },
   {
    "duration": 62,
    "start_time": "2021-07-07T17:25:49.527Z"
   },
   {
    "duration": 26,
    "start_time": "2021-07-07T17:26:51.809Z"
   },
   {
    "duration": 26,
    "start_time": "2021-07-07T17:26:55.759Z"
   },
   {
    "duration": 26,
    "start_time": "2021-07-07T17:27:04.501Z"
   },
   {
    "duration": 25,
    "start_time": "2021-07-07T17:28:24.859Z"
   },
   {
    "duration": 21,
    "start_time": "2021-07-07T17:28:55.250Z"
   },
   {
    "duration": 21,
    "start_time": "2021-07-07T17:28:58.885Z"
   },
   {
    "duration": 7,
    "start_time": "2021-07-07T17:45:40.972Z"
   },
   {
    "duration": 13,
    "start_time": "2021-07-07T17:45:42.529Z"
   },
   {
    "duration": 27,
    "start_time": "2021-07-07T17:45:51.026Z"
   },
   {
    "duration": 518,
    "start_time": "2021-07-07T17:46:15.532Z"
   },
   {
    "duration": 235,
    "start_time": "2021-07-07T17:46:16.053Z"
   },
   {
    "duration": 80,
    "start_time": "2021-07-07T17:46:16.292Z"
   },
   {
    "duration": 5,
    "start_time": "2021-07-07T17:46:16.373Z"
   },
   {
    "duration": 26,
    "start_time": "2021-07-07T17:46:16.380Z"
   },
   {
    "duration": 7,
    "start_time": "2021-07-07T17:46:16.408Z"
   },
   {
    "duration": 16,
    "start_time": "2021-07-07T17:46:16.418Z"
   },
   {
    "duration": 5,
    "start_time": "2021-07-07T17:46:16.436Z"
   },
   {
    "duration": 13,
    "start_time": "2021-07-07T17:46:16.442Z"
   },
   {
    "duration": 35,
    "start_time": "2021-07-07T17:46:16.456Z"
   },
   {
    "duration": 8,
    "start_time": "2021-07-07T17:46:16.493Z"
   },
   {
    "duration": 28,
    "start_time": "2021-07-07T17:46:16.502Z"
   },
   {
    "duration": 17,
    "start_time": "2021-07-07T17:46:16.532Z"
   },
   {
    "duration": 44,
    "start_time": "2021-07-07T17:46:16.551Z"
   },
   {
    "duration": 6,
    "start_time": "2021-07-07T17:46:16.597Z"
   },
   {
    "duration": 4,
    "start_time": "2021-07-07T17:46:16.605Z"
   },
   {
    "duration": 9,
    "start_time": "2021-07-07T17:46:16.610Z"
   },
   {
    "duration": 9,
    "start_time": "2021-07-07T17:46:16.621Z"
   },
   {
    "duration": 10,
    "start_time": "2021-07-07T17:46:16.632Z"
   },
   {
    "duration": 43,
    "start_time": "2021-07-07T17:46:16.644Z"
   },
   {
    "duration": 26,
    "start_time": "2021-07-07T17:46:16.689Z"
   },
   {
    "duration": 19,
    "start_time": "2021-07-07T17:46:16.718Z"
   },
   {
    "duration": 8,
    "start_time": "2021-07-07T17:46:16.738Z"
   },
   {
    "duration": 43,
    "start_time": "2021-07-07T17:46:16.747Z"
   },
   {
    "duration": 19,
    "start_time": "2021-07-07T17:46:16.791Z"
   },
   {
    "duration": 9,
    "start_time": "2021-07-07T17:46:16.812Z"
   },
   {
    "duration": 60,
    "start_time": "2021-07-07T17:46:16.822Z"
   },
   {
    "duration": -8,
    "start_time": "2021-07-07T17:46:16.892Z"
   },
   {
    "duration": 12,
    "start_time": "2021-07-07T17:48:47.707Z"
   },
   {
    "duration": 553,
    "start_time": "2021-07-07T18:10:09.350Z"
   },
   {
    "duration": 230,
    "start_time": "2021-07-07T18:10:09.905Z"
   },
   {
    "duration": 97,
    "start_time": "2021-07-07T18:10:10.137Z"
   },
   {
    "duration": 5,
    "start_time": "2021-07-07T18:10:10.236Z"
   },
   {
    "duration": 29,
    "start_time": "2021-07-07T18:10:10.242Z"
   },
   {
    "duration": 7,
    "start_time": "2021-07-07T18:10:10.272Z"
   },
   {
    "duration": 15,
    "start_time": "2021-07-07T18:10:10.281Z"
   },
   {
    "duration": 4,
    "start_time": "2021-07-07T18:10:10.299Z"
   },
   {
    "duration": 14,
    "start_time": "2021-07-07T18:10:10.305Z"
   },
   {
    "duration": 8,
    "start_time": "2021-07-07T18:10:10.321Z"
   },
   {
    "duration": 8,
    "start_time": "2021-07-07T18:10:10.331Z"
   },
   {
    "duration": 56,
    "start_time": "2021-07-07T18:10:10.341Z"
   },
   {
    "duration": 19,
    "start_time": "2021-07-07T18:10:10.399Z"
   },
   {
    "duration": 23,
    "start_time": "2021-07-07T18:10:10.419Z"
   },
   {
    "duration": 6,
    "start_time": "2021-07-07T18:10:10.444Z"
   },
   {
    "duration": 9,
    "start_time": "2021-07-07T18:10:10.451Z"
   },
   {
    "duration": 30,
    "start_time": "2021-07-07T18:10:10.462Z"
   },
   {
    "duration": 9,
    "start_time": "2021-07-07T18:10:10.494Z"
   },
   {
    "duration": 14,
    "start_time": "2021-07-07T18:10:10.505Z"
   },
   {
    "duration": 7,
    "start_time": "2021-07-07T18:10:10.521Z"
   },
   {
    "duration": 26,
    "start_time": "2021-07-07T18:10:10.530Z"
   },
   {
    "duration": 44,
    "start_time": "2021-07-07T18:10:10.558Z"
   },
   {
    "duration": 7,
    "start_time": "2021-07-07T18:10:10.605Z"
   },
   {
    "duration": 11,
    "start_time": "2021-07-07T18:10:10.614Z"
   },
   {
    "duration": 19,
    "start_time": "2021-07-07T18:10:10.626Z"
   },
   {
    "duration": 44,
    "start_time": "2021-07-07T18:10:10.646Z"
   },
   {
    "duration": 516,
    "start_time": "2021-07-07T18:14:00.826Z"
   },
   {
    "duration": 230,
    "start_time": "2021-07-07T18:14:01.344Z"
   },
   {
    "duration": 105,
    "start_time": "2021-07-07T18:14:01.576Z"
   },
   {
    "duration": 5,
    "start_time": "2021-07-07T18:14:01.683Z"
   },
   {
    "duration": 46,
    "start_time": "2021-07-07T18:14:01.690Z"
   },
   {
    "duration": 7,
    "start_time": "2021-07-07T18:14:01.738Z"
   },
   {
    "duration": 20,
    "start_time": "2021-07-07T18:14:01.747Z"
   },
   {
    "duration": 16,
    "start_time": "2021-07-07T18:14:01.769Z"
   },
   {
    "duration": 14,
    "start_time": "2021-07-07T18:14:01.787Z"
   },
   {
    "duration": 15,
    "start_time": "2021-07-07T18:14:01.803Z"
   },
   {
    "duration": 12,
    "start_time": "2021-07-07T18:14:01.820Z"
   },
   {
    "duration": 35,
    "start_time": "2021-07-07T18:14:01.833Z"
   },
   {
    "duration": 31,
    "start_time": "2021-07-07T18:14:01.869Z"
   },
   {
    "duration": 37,
    "start_time": "2021-07-07T18:14:01.902Z"
   },
   {
    "duration": 8,
    "start_time": "2021-07-07T18:14:01.942Z"
   },
   {
    "duration": 16,
    "start_time": "2021-07-07T18:14:01.952Z"
   },
   {
    "duration": 13,
    "start_time": "2021-07-07T18:14:01.970Z"
   },
   {
    "duration": 32,
    "start_time": "2021-07-07T18:14:01.985Z"
   },
   {
    "duration": 11,
    "start_time": "2021-07-07T18:14:02.019Z"
   },
   {
    "duration": 22,
    "start_time": "2021-07-07T18:14:02.031Z"
   },
   {
    "duration": 27,
    "start_time": "2021-07-07T18:14:02.055Z"
   },
   {
    "duration": 18,
    "start_time": "2021-07-07T18:14:02.084Z"
   },
   {
    "duration": 18,
    "start_time": "2021-07-07T18:14:02.106Z"
   },
   {
    "duration": 11,
    "start_time": "2021-07-07T18:14:02.126Z"
   },
   {
    "duration": 21,
    "start_time": "2021-07-07T18:14:02.138Z"
   },
   {
    "duration": 32,
    "start_time": "2021-07-07T18:14:02.161Z"
   },
   {
    "duration": 28,
    "start_time": "2021-07-07T18:14:44.295Z"
   },
   {
    "duration": 6,
    "start_time": "2021-07-07T18:15:05.834Z"
   },
   {
    "duration": 511,
    "start_time": "2021-07-07T18:15:41.541Z"
   },
   {
    "duration": 183,
    "start_time": "2021-07-07T18:15:42.054Z"
   },
   {
    "duration": 50,
    "start_time": "2021-07-07T18:15:42.239Z"
   },
   {
    "duration": 5,
    "start_time": "2021-07-07T18:15:42.291Z"
   },
   {
    "duration": 48,
    "start_time": "2021-07-07T18:15:42.297Z"
   },
   {
    "duration": 8,
    "start_time": "2021-07-07T18:15:42.346Z"
   },
   {
    "duration": 17,
    "start_time": "2021-07-07T18:15:42.356Z"
   },
   {
    "duration": 15,
    "start_time": "2021-07-07T18:15:42.375Z"
   },
   {
    "duration": 12,
    "start_time": "2021-07-07T18:15:42.392Z"
   },
   {
    "duration": 7,
    "start_time": "2021-07-07T18:15:42.406Z"
   },
   {
    "duration": 7,
    "start_time": "2021-07-07T18:15:42.415Z"
   },
   {
    "duration": 29,
    "start_time": "2021-07-07T18:15:42.423Z"
   },
   {
    "duration": 43,
    "start_time": "2021-07-07T18:15:42.453Z"
   },
   {
    "duration": 18,
    "start_time": "2021-07-07T18:15:42.497Z"
   },
   {
    "duration": 6,
    "start_time": "2021-07-07T18:15:42.516Z"
   },
   {
    "duration": 3,
    "start_time": "2021-07-07T18:15:42.523Z"
   },
   {
    "duration": 18,
    "start_time": "2021-07-07T18:15:42.528Z"
   },
   {
    "duration": 10,
    "start_time": "2021-07-07T18:15:42.547Z"
   },
   {
    "duration": 36,
    "start_time": "2021-07-07T18:15:42.559Z"
   },
   {
    "duration": 8,
    "start_time": "2021-07-07T18:15:42.597Z"
   },
   {
    "duration": 28,
    "start_time": "2021-07-07T18:15:42.606Z"
   },
   {
    "duration": 52,
    "start_time": "2021-07-07T18:15:42.635Z"
   },
   {
    "duration": 7,
    "start_time": "2021-07-07T18:15:42.690Z"
   },
   {
    "duration": 10,
    "start_time": "2021-07-07T18:15:42.699Z"
   },
   {
    "duration": 19,
    "start_time": "2021-07-07T18:15:42.711Z"
   },
   {
    "duration": 9,
    "start_time": "2021-07-07T18:15:42.732Z"
   },
   {
    "duration": 5,
    "start_time": "2021-07-07T18:15:42.743Z"
   },
   {
    "duration": 1450,
    "start_time": "2021-07-07T18:15:51.984Z"
   },
   {
    "duration": 161,
    "start_time": "2021-07-07T18:15:53.435Z"
   },
   {
    "duration": 124,
    "start_time": "2021-07-07T18:15:53.598Z"
   },
   {
    "duration": 5,
    "start_time": "2021-07-07T18:15:53.724Z"
   },
   {
    "duration": 34,
    "start_time": "2021-07-07T18:15:53.730Z"
   },
   {
    "duration": 7,
    "start_time": "2021-07-07T18:15:53.765Z"
   },
   {
    "duration": 15,
    "start_time": "2021-07-07T18:15:53.773Z"
   },
   {
    "duration": 5,
    "start_time": "2021-07-07T18:15:53.791Z"
   },
   {
    "duration": 19,
    "start_time": "2021-07-07T18:15:53.798Z"
   },
   {
    "duration": 9,
    "start_time": "2021-07-07T18:15:53.818Z"
   },
   {
    "duration": 19,
    "start_time": "2021-07-07T18:15:53.828Z"
   },
   {
    "duration": 27,
    "start_time": "2021-07-07T18:15:53.848Z"
   },
   {
    "duration": 16,
    "start_time": "2021-07-07T18:15:53.884Z"
   },
   {
    "duration": 29,
    "start_time": "2021-07-07T18:15:53.901Z"
   },
   {
    "duration": 5,
    "start_time": "2021-07-07T18:15:53.932Z"
   },
   {
    "duration": 15,
    "start_time": "2021-07-07T18:15:53.939Z"
   },
   {
    "duration": 13,
    "start_time": "2021-07-07T18:15:53.956Z"
   },
   {
    "duration": 20,
    "start_time": "2021-07-07T18:15:53.971Z"
   },
   {
    "duration": 14,
    "start_time": "2021-07-07T18:15:53.992Z"
   },
   {
    "duration": 9,
    "start_time": "2021-07-07T18:15:54.009Z"
   },
   {
    "duration": 28,
    "start_time": "2021-07-07T18:15:54.020Z"
   },
   {
    "duration": 50,
    "start_time": "2021-07-07T18:15:54.051Z"
   },
   {
    "duration": 8,
    "start_time": "2021-07-07T18:15:54.105Z"
   },
   {
    "duration": 11,
    "start_time": "2021-07-07T18:15:54.115Z"
   },
   {
    "duration": 20,
    "start_time": "2021-07-07T18:15:54.128Z"
   },
   {
    "duration": 13,
    "start_time": "2021-07-07T18:15:54.184Z"
   },
   {
    "duration": 7,
    "start_time": "2021-07-07T18:15:54.199Z"
   },
   {
    "duration": 7,
    "start_time": "2021-07-07T18:17:08.042Z"
   },
   {
    "duration": 8,
    "start_time": "2021-07-07T18:17:21.008Z"
   },
   {
    "duration": 7,
    "start_time": "2021-07-07T18:17:29.003Z"
   },
   {
    "duration": 8,
    "start_time": "2021-07-07T18:17:32.492Z"
   },
   {
    "duration": 9,
    "start_time": "2021-07-07T18:17:41.758Z"
   },
   {
    "duration": 255,
    "start_time": "2021-07-07T18:20:20.897Z"
   },
   {
    "duration": 173,
    "start_time": "2021-07-07T18:20:26.636Z"
   },
   {
    "duration": 7,
    "start_time": "2021-07-07T18:21:47.164Z"
   },
   {
    "duration": 254,
    "start_time": "2021-07-07T18:23:08.703Z"
   },
   {
    "duration": 21,
    "start_time": "2021-07-07T18:23:22.506Z"
   },
   {
    "duration": 315,
    "start_time": "2021-07-07T18:25:54.801Z"
   },
   {
    "duration": 34,
    "start_time": "2021-07-07T18:26:51.817Z"
   },
   {
    "duration": 327,
    "start_time": "2021-07-07T18:26:56.147Z"
   },
   {
    "duration": 342,
    "start_time": "2021-07-07T18:27:15.887Z"
   },
   {
    "duration": 302,
    "start_time": "2021-07-07T18:28:18.569Z"
   },
   {
    "duration": 226,
    "start_time": "2021-07-07T18:29:20.879Z"
   },
   {
    "duration": 207,
    "start_time": "2021-07-07T18:29:58.114Z"
   },
   {
    "duration": 140,
    "start_time": "2021-07-07T18:32:04.372Z"
   },
   {
    "duration": 158,
    "start_time": "2021-07-07T18:32:32.508Z"
   },
   {
    "duration": 145,
    "start_time": "2021-07-07T18:32:41.365Z"
   },
   {
    "duration": 132,
    "start_time": "2021-07-07T18:32:45.199Z"
   },
   {
    "duration": 11,
    "start_time": "2021-07-07T18:35:24.679Z"
   },
   {
    "duration": 268,
    "start_time": "2021-07-07T18:36:16.145Z"
   },
   {
    "duration": 227,
    "start_time": "2021-07-07T18:37:04.918Z"
   },
   {
    "duration": 3,
    "start_time": "2021-07-07T18:37:33.012Z"
   },
   {
    "duration": 671,
    "start_time": "2021-07-07T18:37:38.295Z"
   },
   {
    "duration": 54,
    "start_time": "2021-07-07T18:37:53.406Z"
   },
   {
    "duration": 631,
    "start_time": "2021-07-07T18:37:56.463Z"
   },
   {
    "duration": 19,
    "start_time": "2021-07-07T18:39:40.535Z"
   },
   {
    "duration": 20,
    "start_time": "2021-07-07T18:40:12.236Z"
   },
   {
    "duration": 633,
    "start_time": "2021-07-07T18:42:00.398Z"
   },
   {
    "duration": 218,
    "start_time": "2021-07-07T18:42:01.033Z"
   },
   {
    "duration": 49,
    "start_time": "2021-07-07T18:42:01.253Z"
   },
   {
    "duration": 5,
    "start_time": "2021-07-07T18:42:01.303Z"
   },
   {
    "duration": 27,
    "start_time": "2021-07-07T18:42:01.310Z"
   },
   {
    "duration": 8,
    "start_time": "2021-07-07T18:42:01.339Z"
   },
   {
    "duration": 20,
    "start_time": "2021-07-07T18:42:01.348Z"
   },
   {
    "duration": 6,
    "start_time": "2021-07-07T18:42:01.386Z"
   },
   {
    "duration": 16,
    "start_time": "2021-07-07T18:42:01.394Z"
   },
   {
    "duration": 9,
    "start_time": "2021-07-07T18:42:01.411Z"
   },
   {
    "duration": 11,
    "start_time": "2021-07-07T18:42:01.421Z"
   },
   {
    "duration": 31,
    "start_time": "2021-07-07T18:42:01.434Z"
   },
   {
    "duration": 18,
    "start_time": "2021-07-07T18:42:01.485Z"
   },
   {
    "duration": 23,
    "start_time": "2021-07-07T18:42:01.505Z"
   },
   {
    "duration": 6,
    "start_time": "2021-07-07T18:42:01.530Z"
   },
   {
    "duration": 10,
    "start_time": "2021-07-07T18:42:01.538Z"
   },
   {
    "duration": 13,
    "start_time": "2021-07-07T18:42:01.550Z"
   },
   {
    "duration": 24,
    "start_time": "2021-07-07T18:42:01.564Z"
   },
   {
    "duration": 20,
    "start_time": "2021-07-07T18:42:01.590Z"
   },
   {
    "duration": 8,
    "start_time": "2021-07-07T18:42:01.611Z"
   },
   {
    "duration": 31,
    "start_time": "2021-07-07T18:42:01.620Z"
   },
   {
    "duration": 39,
    "start_time": "2021-07-07T18:42:01.653Z"
   },
   {
    "duration": 8,
    "start_time": "2021-07-07T18:42:01.696Z"
   },
   {
    "duration": 13,
    "start_time": "2021-07-07T18:42:01.705Z"
   },
   {
    "duration": 20,
    "start_time": "2021-07-07T18:42:01.720Z"
   },
   {
    "duration": 12,
    "start_time": "2021-07-07T18:42:01.741Z"
   },
   {
    "duration": 35,
    "start_time": "2021-07-07T18:42:01.755Z"
   },
   {
    "duration": 14,
    "start_time": "2021-07-07T18:42:01.792Z"
   },
   {
    "duration": 188,
    "start_time": "2021-07-07T18:42:01.808Z"
   },
   {
    "duration": 19,
    "start_time": "2021-07-07T18:42:01.998Z"
   },
   {
    "duration": 175,
    "start_time": "2021-07-07T18:42:02.019Z"
   },
   {
    "duration": 134,
    "start_time": "2021-07-07T18:42:02.196Z"
   },
   {
    "duration": 10,
    "start_time": "2021-07-07T18:42:02.331Z"
   },
   {
    "duration": 19,
    "start_time": "2021-07-07T18:42:02.343Z"
   },
   {
    "duration": 628,
    "start_time": "2021-07-07T18:46:30.701Z"
   },
   {
    "duration": 183,
    "start_time": "2021-07-07T18:46:31.331Z"
   },
   {
    "duration": 48,
    "start_time": "2021-07-07T18:46:31.516Z"
   },
   {
    "duration": 5,
    "start_time": "2021-07-07T18:46:31.566Z"
   },
   {
    "duration": 28,
    "start_time": "2021-07-07T18:46:31.572Z"
   },
   {
    "duration": 8,
    "start_time": "2021-07-07T18:46:31.602Z"
   },
   {
    "duration": 19,
    "start_time": "2021-07-07T18:46:31.611Z"
   },
   {
    "duration": 6,
    "start_time": "2021-07-07T18:46:31.633Z"
   },
   {
    "duration": 17,
    "start_time": "2021-07-07T18:46:31.642Z"
   },
   {
    "duration": 10,
    "start_time": "2021-07-07T18:46:31.684Z"
   },
   {
    "duration": 9,
    "start_time": "2021-07-07T18:46:31.695Z"
   },
   {
    "duration": 28,
    "start_time": "2021-07-07T18:46:31.705Z"
   },
   {
    "duration": 18,
    "start_time": "2021-07-07T18:46:31.735Z"
   },
   {
    "duration": 48,
    "start_time": "2021-07-07T18:46:31.755Z"
   },
   {
    "duration": 6,
    "start_time": "2021-07-07T18:46:31.804Z"
   },
   {
    "duration": 4,
    "start_time": "2021-07-07T18:46:31.812Z"
   },
   {
    "duration": 9,
    "start_time": "2021-07-07T18:46:31.817Z"
   },
   {
    "duration": 10,
    "start_time": "2021-07-07T18:46:31.827Z"
   },
   {
    "duration": 12,
    "start_time": "2021-07-07T18:46:31.838Z"
   },
   {
    "duration": 39,
    "start_time": "2021-07-07T18:46:31.851Z"
   },
   {
    "duration": 24,
    "start_time": "2021-07-07T18:46:31.892Z"
   },
   {
    "duration": 15,
    "start_time": "2021-07-07T18:46:31.918Z"
   },
   {
    "duration": 7,
    "start_time": "2021-07-07T18:46:31.936Z"
   },
   {
    "duration": 8,
    "start_time": "2021-07-07T18:46:31.944Z"
   },
   {
    "duration": 19,
    "start_time": "2021-07-07T18:46:31.984Z"
   },
   {
    "duration": 10,
    "start_time": "2021-07-07T18:46:32.004Z"
   },
   {
    "duration": 5,
    "start_time": "2021-07-07T18:46:32.016Z"
   },
   {
    "duration": 9,
    "start_time": "2021-07-07T18:46:32.023Z"
   },
   {
    "duration": 199,
    "start_time": "2021-07-07T18:46:32.033Z"
   },
   {
    "duration": 19,
    "start_time": "2021-07-07T18:46:32.234Z"
   },
   {
    "duration": 159,
    "start_time": "2021-07-07T18:46:32.255Z"
   },
   {
    "duration": 134,
    "start_time": "2021-07-07T18:46:32.416Z"
   },
   {
    "duration": 10,
    "start_time": "2021-07-07T18:46:32.552Z"
   },
   {
    "duration": 34,
    "start_time": "2021-07-07T18:46:32.563Z"
   },
   {
    "duration": 1039,
    "start_time": "2021-07-08T08:41:09.419Z"
   },
   {
    "duration": 333,
    "start_time": "2021-07-08T08:41:10.459Z"
   },
   {
    "duration": 173,
    "start_time": "2021-07-08T08:41:10.794Z"
   },
   {
    "duration": 5,
    "start_time": "2021-07-08T08:41:10.968Z"
   },
   {
    "duration": 25,
    "start_time": "2021-07-08T08:41:10.975Z"
   },
   {
    "duration": 9,
    "start_time": "2021-07-08T08:41:11.002Z"
   },
   {
    "duration": 18,
    "start_time": "2021-07-08T08:41:11.013Z"
   },
   {
    "duration": 6,
    "start_time": "2021-07-08T08:41:11.033Z"
   },
   {
    "duration": 44,
    "start_time": "2021-07-08T08:41:11.042Z"
   },
   {
    "duration": 10,
    "start_time": "2021-07-08T08:41:11.088Z"
   },
   {
    "duration": 9,
    "start_time": "2021-07-08T08:41:11.100Z"
   },
   {
    "duration": 27,
    "start_time": "2021-07-08T08:41:11.111Z"
   },
   {
    "duration": 46,
    "start_time": "2021-07-08T08:41:11.140Z"
   },
   {
    "duration": 17,
    "start_time": "2021-07-08T08:41:11.187Z"
   },
   {
    "duration": 6,
    "start_time": "2021-07-08T08:41:11.206Z"
   },
   {
    "duration": 5,
    "start_time": "2021-07-08T08:41:11.213Z"
   },
   {
    "duration": 10,
    "start_time": "2021-07-08T08:41:11.219Z"
   },
   {
    "duration": 9,
    "start_time": "2021-07-08T08:41:11.230Z"
   },
   {
    "duration": 45,
    "start_time": "2021-07-08T08:41:11.241Z"
   },
   {
    "duration": 7,
    "start_time": "2021-07-08T08:41:11.287Z"
   },
   {
    "duration": 24,
    "start_time": "2021-07-08T08:41:11.296Z"
   },
   {
    "duration": 16,
    "start_time": "2021-07-08T08:41:11.322Z"
   },
   {
    "duration": 7,
    "start_time": "2021-07-08T08:41:11.341Z"
   },
   {
    "duration": 41,
    "start_time": "2021-07-08T08:41:11.349Z"
   },
   {
    "duration": 17,
    "start_time": "2021-07-08T08:41:11.391Z"
   },
   {
    "duration": 9,
    "start_time": "2021-07-08T08:41:11.410Z"
   },
   {
    "duration": 5,
    "start_time": "2021-07-08T08:41:11.421Z"
   },
   {
    "duration": 6,
    "start_time": "2021-07-08T08:41:11.428Z"
   },
   {
    "duration": 198,
    "start_time": "2021-07-08T08:41:11.435Z"
   },
   {
    "duration": 18,
    "start_time": "2021-07-08T08:41:11.635Z"
   },
   {
    "duration": 155,
    "start_time": "2021-07-08T08:41:11.655Z"
   },
   {
    "duration": 138,
    "start_time": "2021-07-08T08:41:11.811Z"
   },
   {
    "duration": 10,
    "start_time": "2021-07-08T08:41:11.950Z"
   },
   {
    "duration": 29,
    "start_time": "2021-07-08T08:41:11.961Z"
   },
   {
    "duration": 171,
    "start_time": "2021-07-08T08:47:44.522Z"
   },
   {
    "duration": 124,
    "start_time": "2021-07-08T08:47:46.872Z"
   },
   {
    "duration": 191,
    "start_time": "2021-07-08T08:47:58.148Z"
   },
   {
    "duration": 191,
    "start_time": "2021-07-08T08:48:07.412Z"
   },
   {
    "duration": 261,
    "start_time": "2021-07-08T08:48:10.385Z"
   },
   {
    "duration": 255,
    "start_time": "2021-07-08T08:48:14.494Z"
   },
   {
    "duration": 219,
    "start_time": "2021-07-08T08:48:22.752Z"
   },
   {
    "duration": 173,
    "start_time": "2021-07-08T08:49:06.395Z"
   },
   {
    "duration": 180,
    "start_time": "2021-07-08T08:49:21.011Z"
   },
   {
    "duration": 6,
    "start_time": "2021-07-08T08:50:31.697Z"
   },
   {
    "duration": 10,
    "start_time": "2021-07-08T08:50:47.394Z"
   },
   {
    "duration": 11,
    "start_time": "2021-07-08T08:53:49.332Z"
   },
   {
    "duration": 171,
    "start_time": "2021-07-08T08:54:28.408Z"
   },
   {
    "duration": 636,
    "start_time": "2021-07-08T09:02:48.385Z"
   },
   {
    "duration": 227,
    "start_time": "2021-07-08T09:02:49.023Z"
   },
   {
    "duration": 104,
    "start_time": "2021-07-08T09:02:49.252Z"
   },
   {
    "duration": 5,
    "start_time": "2021-07-08T09:02:49.358Z"
   },
   {
    "duration": 27,
    "start_time": "2021-07-08T09:02:49.365Z"
   },
   {
    "duration": 8,
    "start_time": "2021-07-08T09:02:49.394Z"
   },
   {
    "duration": 18,
    "start_time": "2021-07-08T09:02:49.404Z"
   },
   {
    "duration": 6,
    "start_time": "2021-07-08T09:02:49.424Z"
   },
   {
    "duration": 11,
    "start_time": "2021-07-08T09:02:49.433Z"
   },
   {
    "duration": 13,
    "start_time": "2021-07-08T09:02:49.485Z"
   },
   {
    "duration": 9,
    "start_time": "2021-07-08T09:02:49.500Z"
   },
   {
    "duration": 38,
    "start_time": "2021-07-08T09:02:49.511Z"
   },
   {
    "duration": 42,
    "start_time": "2021-07-08T09:02:49.551Z"
   },
   {
    "duration": 21,
    "start_time": "2021-07-08T09:02:49.594Z"
   },
   {
    "duration": 6,
    "start_time": "2021-07-08T09:02:49.616Z"
   },
   {
    "duration": 3,
    "start_time": "2021-07-08T09:02:49.623Z"
   },
   {
    "duration": 9,
    "start_time": "2021-07-08T09:02:49.628Z"
   },
   {
    "duration": 52,
    "start_time": "2021-07-08T09:02:49.638Z"
   },
   {
    "duration": 11,
    "start_time": "2021-07-08T09:02:49.692Z"
   },
   {
    "duration": 8,
    "start_time": "2021-07-08T09:02:49.704Z"
   },
   {
    "duration": 27,
    "start_time": "2021-07-08T09:02:49.713Z"
   },
   {
    "duration": 59,
    "start_time": "2021-07-08T09:02:49.741Z"
   },
   {
    "duration": 8,
    "start_time": "2021-07-08T09:02:49.803Z"
   },
   {
    "duration": 14,
    "start_time": "2021-07-08T09:02:49.813Z"
   },
   {
    "duration": 20,
    "start_time": "2021-07-08T09:02:49.829Z"
   },
   {
    "duration": 44,
    "start_time": "2021-07-08T09:02:49.851Z"
   },
   {
    "duration": 14,
    "start_time": "2021-07-08T09:02:49.896Z"
   },
   {
    "duration": 221,
    "start_time": "2021-07-08T09:02:49.912Z"
   },
   {
    "duration": 6,
    "start_time": "2021-07-08T09:02:50.134Z"
   },
   {
    "duration": 206,
    "start_time": "2021-07-08T09:02:50.142Z"
   },
   {
    "duration": 19,
    "start_time": "2021-07-08T09:02:50.350Z"
   },
   {
    "duration": 21,
    "start_time": "2021-07-08T09:02:50.370Z"
   },
   {
    "duration": 20,
    "start_time": "2021-07-08T09:02:50.393Z"
   },
   {
    "duration": 5,
    "start_time": "2021-07-08T09:02:50.414Z"
   },
   {
    "duration": 5,
    "start_time": "2021-07-08T09:03:34.173Z"
   },
   {
    "duration": 6,
    "start_time": "2021-07-08T09:04:49.062Z"
   },
   {
    "duration": 9,
    "start_time": "2021-07-08T09:04:50.118Z"
   },
   {
    "duration": 14,
    "start_time": "2021-07-08T09:04:58.512Z"
   },
   {
    "duration": 9,
    "start_time": "2021-07-08T09:05:10.988Z"
   },
   {
    "duration": 11,
    "start_time": "2021-07-08T09:05:11.743Z"
   },
   {
    "duration": 7,
    "start_time": "2021-07-08T09:05:25.677Z"
   },
   {
    "duration": 13,
    "start_time": "2021-07-08T09:05:47.189Z"
   },
   {
    "duration": 13,
    "start_time": "2021-07-08T09:05:54.755Z"
   },
   {
    "duration": 4,
    "start_time": "2021-07-08T09:06:29.189Z"
   },
   {
    "duration": 244,
    "start_time": "2021-07-08T09:06:29.195Z"
   },
   {
    "duration": 91,
    "start_time": "2021-07-08T09:06:29.441Z"
   },
   {
    "duration": 4,
    "start_time": "2021-07-08T09:06:29.534Z"
   },
   {
    "duration": 28,
    "start_time": "2021-07-08T09:06:29.540Z"
   },
   {
    "duration": 6,
    "start_time": "2021-07-08T09:06:29.570Z"
   },
   {
    "duration": 18,
    "start_time": "2021-07-08T09:06:29.578Z"
   },
   {
    "duration": 5,
    "start_time": "2021-07-08T09:06:29.597Z"
   },
   {
    "duration": 13,
    "start_time": "2021-07-08T09:06:29.605Z"
   },
   {
    "duration": 8,
    "start_time": "2021-07-08T09:06:29.620Z"
   },
   {
    "duration": 7,
    "start_time": "2021-07-08T09:06:29.630Z"
   },
   {
    "duration": 63,
    "start_time": "2021-07-08T09:06:29.639Z"
   },
   {
    "duration": 17,
    "start_time": "2021-07-08T09:06:29.704Z"
   },
   {
    "duration": 20,
    "start_time": "2021-07-08T09:06:29.723Z"
   },
   {
    "duration": 6,
    "start_time": "2021-07-08T09:06:29.745Z"
   },
   {
    "duration": 3,
    "start_time": "2021-07-08T09:06:29.752Z"
   },
   {
    "duration": 7,
    "start_time": "2021-07-08T09:06:29.785Z"
   },
   {
    "duration": 11,
    "start_time": "2021-07-08T09:06:29.794Z"
   },
   {
    "duration": 15,
    "start_time": "2021-07-08T09:06:29.807Z"
   },
   {
    "duration": 8,
    "start_time": "2021-07-08T09:06:29.823Z"
   },
   {
    "duration": 70,
    "start_time": "2021-07-08T09:06:29.832Z"
   },
   {
    "duration": 17,
    "start_time": "2021-07-08T09:06:29.903Z"
   },
   {
    "duration": 9,
    "start_time": "2021-07-08T09:06:29.921Z"
   },
   {
    "duration": 9,
    "start_time": "2021-07-08T09:06:29.932Z"
   },
   {
    "duration": 57,
    "start_time": "2021-07-08T09:06:29.942Z"
   },
   {
    "duration": 11,
    "start_time": "2021-07-08T09:06:30.001Z"
   },
   {
    "duration": 19,
    "start_time": "2021-07-08T09:06:30.016Z"
   },
   {
    "duration": 217,
    "start_time": "2021-07-08T09:06:30.037Z"
   },
   {
    "duration": 6,
    "start_time": "2021-07-08T09:06:30.255Z"
   },
   {
    "duration": 205,
    "start_time": "2021-07-08T09:06:30.263Z"
   },
   {
    "duration": 27,
    "start_time": "2021-07-08T09:06:30.470Z"
   },
   {
    "duration": 11,
    "start_time": "2021-07-08T09:06:30.500Z"
   },
   {
    "duration": 31,
    "start_time": "2021-07-08T09:06:30.513Z"
   },
   {
    "duration": 18,
    "start_time": "2021-07-08T09:06:30.546Z"
   },
   {
    "duration": 11,
    "start_time": "2021-07-08T09:06:30.566Z"
   },
   {
    "duration": 19,
    "start_time": "2021-07-08T09:06:30.579Z"
   },
   {
    "duration": 20,
    "start_time": "2021-07-08T09:06:49.466Z"
   },
   {
    "duration": 9,
    "start_time": "2021-07-08T09:06:51.994Z"
   },
   {
    "duration": 20,
    "start_time": "2021-07-08T09:06:52.273Z"
   },
   {
    "duration": 246,
    "start_time": "2021-07-08T09:10:21.272Z"
   },
   {
    "duration": 84,
    "start_time": "2021-07-08T09:10:21.436Z"
   },
   {
    "duration": 7,
    "start_time": "2021-07-08T09:10:37.608Z"
   },
   {
    "duration": 189,
    "start_time": "2021-07-08T09:10:38.573Z"
   },
   {
    "duration": 185,
    "start_time": "2021-07-08T09:10:53.181Z"
   },
   {
    "duration": 11,
    "start_time": "2021-07-08T09:10:59.549Z"
   },
   {
    "duration": 42,
    "start_time": "2021-07-08T09:10:59.709Z"
   },
   {
    "duration": 12,
    "start_time": "2021-07-08T09:11:02.857Z"
   },
   {
    "duration": 28,
    "start_time": "2021-07-08T09:11:10.062Z"
   },
   {
    "duration": 249,
    "start_time": "2021-07-08T09:11:37.388Z"
   },
   {
    "duration": 232,
    "start_time": "2021-07-08T09:11:49.485Z"
   },
   {
    "duration": 453,
    "start_time": "2021-07-08T09:12:01.546Z"
   },
   {
    "duration": 440,
    "start_time": "2021-07-08T09:12:12.347Z"
   },
   {
    "duration": 213,
    "start_time": "2021-07-08T09:13:32.196Z"
   },
   {
    "duration": 172,
    "start_time": "2021-07-08T09:14:07.400Z"
   },
   {
    "duration": 185,
    "start_time": "2021-07-08T09:14:14.905Z"
   },
   {
    "duration": 209,
    "start_time": "2021-07-08T09:14:40.109Z"
   },
   {
    "duration": 201,
    "start_time": "2021-07-08T09:14:54.506Z"
   },
   {
    "duration": 622,
    "start_time": "2021-07-08T09:18:14.497Z"
   },
   {
    "duration": 220,
    "start_time": "2021-07-08T09:18:15.121Z"
   },
   {
    "duration": 79,
    "start_time": "2021-07-08T09:18:15.343Z"
   },
   {
    "duration": 4,
    "start_time": "2021-07-08T09:18:15.425Z"
   },
   {
    "duration": 24,
    "start_time": "2021-07-08T09:18:15.431Z"
   },
   {
    "duration": 8,
    "start_time": "2021-07-08T09:18:15.457Z"
   },
   {
    "duration": 16,
    "start_time": "2021-07-08T09:18:15.466Z"
   },
   {
    "duration": 5,
    "start_time": "2021-07-08T09:18:15.484Z"
   },
   {
    "duration": 10,
    "start_time": "2021-07-08T09:18:15.493Z"
   },
   {
    "duration": 8,
    "start_time": "2021-07-08T09:18:15.504Z"
   },
   {
    "duration": 7,
    "start_time": "2021-07-08T09:18:15.513Z"
   },
   {
    "duration": 26,
    "start_time": "2021-07-08T09:18:15.522Z"
   },
   {
    "duration": 49,
    "start_time": "2021-07-08T09:18:15.550Z"
   },
   {
    "duration": 21,
    "start_time": "2021-07-08T09:18:15.601Z"
   },
   {
    "duration": 8,
    "start_time": "2021-07-08T09:18:15.624Z"
   },
   {
    "duration": 3,
    "start_time": "2021-07-08T09:18:15.634Z"
   },
   {
    "duration": 8,
    "start_time": "2021-07-08T09:18:15.639Z"
   },
   {
    "duration": 45,
    "start_time": "2021-07-08T09:18:15.649Z"
   },
   {
    "duration": 13,
    "start_time": "2021-07-08T09:18:15.696Z"
   },
   {
    "duration": 10,
    "start_time": "2021-07-08T09:18:15.711Z"
   },
   {
    "duration": 64,
    "start_time": "2021-07-08T09:18:15.722Z"
   },
   {
    "duration": 19,
    "start_time": "2021-07-08T09:18:15.788Z"
   },
   {
    "duration": 9,
    "start_time": "2021-07-08T09:18:15.809Z"
   },
   {
    "duration": 9,
    "start_time": "2021-07-08T09:18:15.820Z"
   },
   {
    "duration": 18,
    "start_time": "2021-07-08T09:18:15.831Z"
   },
   {
    "duration": 43,
    "start_time": "2021-07-08T09:18:15.851Z"
   },
   {
    "duration": 12,
    "start_time": "2021-07-08T09:18:15.897Z"
   },
   {
    "duration": 219,
    "start_time": "2021-07-08T09:18:15.911Z"
   },
   {
    "duration": 8,
    "start_time": "2021-07-08T09:18:16.132Z"
   },
   {
    "duration": 199,
    "start_time": "2021-07-08T09:18:16.141Z"
   },
   {
    "duration": 18,
    "start_time": "2021-07-08T09:18:16.341Z"
   },
   {
    "duration": 24,
    "start_time": "2021-07-08T09:18:16.361Z"
   },
   {
    "duration": 24,
    "start_time": "2021-07-08T09:18:16.387Z"
   },
   {
    "duration": 211,
    "start_time": "2021-07-08T09:18:16.413Z"
   },
   {
    "duration": 18,
    "start_time": "2021-07-08T09:18:16.626Z"
   },
   {
    "duration": 596,
    "start_time": "2021-07-08T10:06:33.623Z"
   },
   {
    "duration": 181,
    "start_time": "2021-07-08T10:06:34.221Z"
   },
   {
    "duration": 176,
    "start_time": "2021-07-08T10:06:34.635Z"
   },
   {
    "duration": 239,
    "start_time": "2021-07-08T10:06:55.572Z"
   },
   {
    "duration": 6,
    "start_time": "2021-07-08T10:06:57.687Z"
   },
   {
    "duration": 4,
    "start_time": "2021-07-08T10:07:03.956Z"
   },
   {
    "duration": 4,
    "start_time": "2021-07-08T10:07:10.376Z"
   },
   {
    "duration": 4,
    "start_time": "2021-07-08T10:17:19.889Z"
   },
   {
    "duration": 3,
    "start_time": "2021-07-08T10:19:19.407Z"
   },
   {
    "duration": 197,
    "start_time": "2021-07-08T10:19:19.412Z"
   },
   {
    "duration": 127,
    "start_time": "2021-07-08T10:19:19.611Z"
   },
   {
    "duration": 4,
    "start_time": "2021-07-08T10:19:19.740Z"
   },
   {
    "duration": 27,
    "start_time": "2021-07-08T10:19:19.746Z"
   },
   {
    "duration": 7,
    "start_time": "2021-07-08T10:19:19.775Z"
   },
   {
    "duration": 30,
    "start_time": "2021-07-08T10:19:19.784Z"
   },
   {
    "duration": 7,
    "start_time": "2021-07-08T10:19:19.817Z"
   },
   {
    "duration": 26,
    "start_time": "2021-07-08T10:19:19.826Z"
   },
   {
    "duration": 18,
    "start_time": "2021-07-08T10:19:19.854Z"
   },
   {
    "duration": 14,
    "start_time": "2021-07-08T10:19:19.874Z"
   },
   {
    "duration": 48,
    "start_time": "2021-07-08T10:19:19.890Z"
   },
   {
    "duration": 17,
    "start_time": "2021-07-08T10:19:19.940Z"
   },
   {
    "duration": 38,
    "start_time": "2021-07-08T10:19:19.959Z"
   },
   {
    "duration": 8,
    "start_time": "2021-07-08T10:19:19.999Z"
   },
   {
    "duration": 15,
    "start_time": "2021-07-08T10:19:20.009Z"
   },
   {
    "duration": 22,
    "start_time": "2021-07-08T10:19:20.026Z"
   },
   {
    "duration": 10,
    "start_time": "2021-07-08T10:19:20.050Z"
   },
   {
    "duration": 10,
    "start_time": "2021-07-08T10:19:20.062Z"
   },
   {
    "duration": 20,
    "start_time": "2021-07-08T10:19:20.073Z"
   },
   {
    "duration": 29,
    "start_time": "2021-07-08T10:19:20.095Z"
   },
   {
    "duration": 17,
    "start_time": "2021-07-08T10:19:20.126Z"
   },
   {
    "duration": 40,
    "start_time": "2021-07-08T10:19:20.146Z"
   },
   {
    "duration": 15,
    "start_time": "2021-07-08T10:19:20.189Z"
   },
   {
    "duration": 19,
    "start_time": "2021-07-08T10:19:20.206Z"
   },
   {
    "duration": 10,
    "start_time": "2021-07-08T10:19:20.226Z"
   },
   {
    "duration": 11,
    "start_time": "2021-07-08T10:19:20.238Z"
   },
   {
    "duration": 297,
    "start_time": "2021-07-08T10:19:20.250Z"
   },
   {
    "duration": 6,
    "start_time": "2021-07-08T10:19:20.549Z"
   },
   {
    "duration": 191,
    "start_time": "2021-07-08T10:19:20.557Z"
   },
   {
    "duration": 19,
    "start_time": "2021-07-08T10:19:20.750Z"
   },
   {
    "duration": 20,
    "start_time": "2021-07-08T10:19:20.771Z"
   },
   {
    "duration": 15,
    "start_time": "2021-07-08T10:19:20.793Z"
   },
   {
    "duration": 222,
    "start_time": "2021-07-08T10:19:20.809Z"
   },
   {
    "duration": 20,
    "start_time": "2021-07-08T10:19:21.033Z"
   },
   {
    "duration": 27,
    "start_time": "2021-07-08T10:45:04.055Z"
   },
   {
    "duration": 8,
    "start_time": "2021-07-08T10:45:08.478Z"
   },
   {
    "duration": 8,
    "start_time": "2021-07-08T10:45:31.982Z"
   },
   {
    "duration": 10,
    "start_time": "2021-07-08T10:46:01.221Z"
   },
   {
    "duration": 17,
    "start_time": "2021-07-08T10:46:40.011Z"
   },
   {
    "duration": 193,
    "start_time": "2021-07-08T10:48:19.471Z"
   },
   {
    "duration": 225,
    "start_time": "2021-07-08T10:49:26.480Z"
   },
   {
    "duration": 204,
    "start_time": "2021-07-08T10:49:59.992Z"
   },
   {
    "duration": 435,
    "start_time": "2021-07-08T10:50:06.779Z"
   },
   {
    "duration": 199,
    "start_time": "2021-07-08T10:50:14.891Z"
   },
   {
    "duration": 204,
    "start_time": "2021-07-08T10:50:18.501Z"
   },
   {
    "duration": 244,
    "start_time": "2021-07-08T10:50:23.359Z"
   },
   {
    "duration": 192,
    "start_time": "2021-07-08T10:50:29.135Z"
   },
   {
    "duration": 218,
    "start_time": "2021-07-08T10:50:33.092Z"
   },
   {
    "duration": 207,
    "start_time": "2021-07-08T10:52:45.381Z"
   },
   {
    "duration": 5,
    "start_time": "2021-07-08T10:53:34.641Z"
   },
   {
    "duration": 196,
    "start_time": "2021-07-08T10:53:41.478Z"
   },
   {
    "duration": 43,
    "start_time": "2021-07-08T10:53:50.335Z"
   },
   {
    "duration": 32,
    "start_time": "2021-07-08T10:53:55.294Z"
   },
   {
    "duration": 55,
    "start_time": "2021-07-08T10:54:09.675Z"
   },
   {
    "duration": 16,
    "start_time": "2021-07-08T10:54:12.260Z"
   },
   {
    "duration": 15,
    "start_time": "2021-07-08T10:54:49.150Z"
   },
   {
    "duration": 20,
    "start_time": "2021-07-08T10:56:07.596Z"
   },
   {
    "duration": 16,
    "start_time": "2021-07-08T10:58:26.276Z"
   },
   {
    "duration": 22,
    "start_time": "2021-07-08T10:59:00.486Z"
   },
   {
    "duration": 18,
    "start_time": "2021-07-08T11:02:09.653Z"
   },
   {
    "duration": 10,
    "start_time": "2021-07-08T11:03:44.331Z"
   },
   {
    "duration": 10,
    "start_time": "2021-07-08T11:03:54.055Z"
   },
   {
    "duration": 12,
    "start_time": "2021-07-08T11:04:41.967Z"
   },
   {
    "duration": 24,
    "start_time": "2021-07-08T11:07:30.732Z"
   },
   {
    "duration": 6,
    "start_time": "2021-07-08T11:07:37.364Z"
   },
   {
    "duration": 16,
    "start_time": "2021-07-08T11:08:01.819Z"
   },
   {
    "duration": 17,
    "start_time": "2021-07-08T11:09:47.488Z"
   },
   {
    "duration": 246,
    "start_time": "2021-07-08T11:10:00.830Z"
   },
   {
    "duration": 18,
    "start_time": "2021-07-08T11:13:55.195Z"
   },
   {
    "duration": 204,
    "start_time": "2021-07-08T11:14:04.951Z"
   },
   {
    "duration": 19,
    "start_time": "2021-07-08T11:15:10.613Z"
   },
   {
    "duration": 680,
    "start_time": "2021-07-08T11:16:25.793Z"
   },
   {
    "duration": 451,
    "start_time": "2021-07-08T11:16:40.313Z"
   },
   {
    "duration": 469,
    "start_time": "2021-07-08T11:17:21.286Z"
   },
   {
    "duration": 20,
    "start_time": "2021-07-08T11:19:12.554Z"
   },
   {
    "duration": 35,
    "start_time": "2021-07-08T11:20:05.484Z"
   },
   {
    "duration": 53,
    "start_time": "2021-07-08T11:21:40.050Z"
   },
   {
    "duration": 13,
    "start_time": "2021-07-08T11:22:26.059Z"
   },
   {
    "duration": 19,
    "start_time": "2021-07-08T11:22:47.419Z"
   },
   {
    "duration": 25,
    "start_time": "2021-07-08T11:23:19.958Z"
   },
   {
    "duration": 29,
    "start_time": "2021-07-08T11:23:25.415Z"
   },
   {
    "duration": 10,
    "start_time": "2021-07-08T11:24:45.138Z"
   },
   {
    "duration": 19,
    "start_time": "2021-07-08T11:24:54.498Z"
   },
   {
    "duration": 12,
    "start_time": "2021-07-08T11:25:32.225Z"
   },
   {
    "duration": 19,
    "start_time": "2021-07-08T11:25:37.092Z"
   },
   {
    "duration": 17,
    "start_time": "2021-07-08T11:25:58.116Z"
   },
   {
    "duration": 15,
    "start_time": "2021-07-08T11:26:02.258Z"
   },
   {
    "duration": 8,
    "start_time": "2021-07-08T11:26:59.682Z"
   },
   {
    "duration": 184,
    "start_time": "2021-07-08T11:27:21.894Z"
   },
   {
    "duration": 8,
    "start_time": "2021-07-08T11:27:23.824Z"
   },
   {
    "duration": 202,
    "start_time": "2021-07-08T11:27:23.962Z"
   },
   {
    "duration": 360,
    "start_time": "2021-07-08T11:28:33.215Z"
   },
   {
    "duration": 231,
    "start_time": "2021-07-08T11:32:05.542Z"
   },
   {
    "duration": 607,
    "start_time": "2021-07-08T11:36:27.854Z"
   },
   {
    "duration": 241,
    "start_time": "2021-07-08T11:36:28.463Z"
   },
   {
    "duration": 67,
    "start_time": "2021-07-08T11:36:28.709Z"
   },
   {
    "duration": 5,
    "start_time": "2021-07-08T11:36:28.778Z"
   },
   {
    "duration": 32,
    "start_time": "2021-07-08T11:36:28.784Z"
   },
   {
    "duration": 11,
    "start_time": "2021-07-08T11:36:28.819Z"
   },
   {
    "duration": 20,
    "start_time": "2021-07-08T11:36:28.834Z"
   },
   {
    "duration": 36,
    "start_time": "2021-07-08T11:36:28.857Z"
   },
   {
    "duration": 16,
    "start_time": "2021-07-08T11:36:28.895Z"
   },
   {
    "duration": 14,
    "start_time": "2021-07-08T11:36:28.913Z"
   },
   {
    "duration": 9,
    "start_time": "2021-07-08T11:36:28.930Z"
   },
   {
    "duration": 55,
    "start_time": "2021-07-08T11:36:28.941Z"
   },
   {
    "duration": 27,
    "start_time": "2021-07-08T11:36:28.999Z"
   },
   {
    "duration": 30,
    "start_time": "2021-07-08T11:36:29.028Z"
   },
   {
    "duration": 31,
    "start_time": "2021-07-08T11:36:29.060Z"
   },
   {
    "duration": 3,
    "start_time": "2021-07-08T11:36:29.093Z"
   },
   {
    "duration": 12,
    "start_time": "2021-07-08T11:36:29.099Z"
   },
   {
    "duration": 11,
    "start_time": "2021-07-08T11:36:29.112Z"
   },
   {
    "duration": 12,
    "start_time": "2021-07-08T11:36:29.125Z"
   },
   {
    "duration": 9,
    "start_time": "2021-07-08T11:36:29.139Z"
   },
   {
    "duration": 31,
    "start_time": "2021-07-08T11:36:29.191Z"
   },
   {
    "duration": 17,
    "start_time": "2021-07-08T11:36:29.226Z"
   },
   {
    "duration": 7,
    "start_time": "2021-07-08T11:36:29.245Z"
   },
   {
    "duration": 10,
    "start_time": "2021-07-08T11:36:29.254Z"
   },
   {
    "duration": 30,
    "start_time": "2021-07-08T11:36:29.292Z"
   },
   {
    "duration": 11,
    "start_time": "2021-07-08T11:36:29.324Z"
   },
   {
    "duration": 11,
    "start_time": "2021-07-08T11:36:29.337Z"
   },
   {
    "duration": 230,
    "start_time": "2021-07-08T11:36:29.349Z"
   },
   {
    "duration": 13,
    "start_time": "2021-07-08T11:36:29.588Z"
   },
   {
    "duration": 205,
    "start_time": "2021-07-08T11:36:29.603Z"
   },
   {
    "duration": 20,
    "start_time": "2021-07-08T11:36:29.810Z"
   },
   {
    "duration": 9,
    "start_time": "2021-07-08T11:36:29.832Z"
   },
   {
    "duration": 16,
    "start_time": "2021-07-08T11:36:29.843Z"
   },
   {
    "duration": 283,
    "start_time": "2021-07-08T11:36:29.861Z"
   },
   {
    "duration": 50,
    "start_time": "2021-07-08T11:36:30.146Z"
   },
   {
    "duration": 14,
    "start_time": "2021-07-08T11:36:30.198Z"
   },
   {
    "duration": 11,
    "start_time": "2021-07-08T11:36:30.214Z"
   },
   {
    "duration": 245,
    "start_time": "2021-07-08T11:36:30.227Z"
   },
   {
    "duration": 439,
    "start_time": "2021-07-08T11:36:30.474Z"
   },
   {
    "duration": 210,
    "start_time": "2021-07-08T11:36:30.915Z"
   },
   {
    "duration": 15,
    "start_time": "2021-07-08T11:36:31.127Z"
   },
   {
    "duration": 17,
    "start_time": "2021-07-08T11:38:20.451Z"
   },
   {
    "duration": 642,
    "start_time": "2021-07-08T11:46:17.881Z"
   },
   {
    "duration": 210,
    "start_time": "2021-07-08T11:46:18.525Z"
   },
   {
    "duration": 104,
    "start_time": "2021-07-08T11:46:18.741Z"
   },
   {
    "duration": 8,
    "start_time": "2021-07-08T11:46:18.847Z"
   },
   {
    "duration": 25,
    "start_time": "2021-07-08T11:46:18.857Z"
   },
   {
    "duration": 14,
    "start_time": "2021-07-08T11:46:18.884Z"
   },
   {
    "duration": 22,
    "start_time": "2021-07-08T11:46:18.900Z"
   },
   {
    "duration": 5,
    "start_time": "2021-07-08T11:46:18.924Z"
   },
   {
    "duration": 13,
    "start_time": "2021-07-08T11:46:18.931Z"
   },
   {
    "duration": 45,
    "start_time": "2021-07-08T11:46:18.946Z"
   },
   {
    "duration": 12,
    "start_time": "2021-07-08T11:46:18.993Z"
   },
   {
    "duration": 38,
    "start_time": "2021-07-08T11:46:19.006Z"
   },
   {
    "duration": 50,
    "start_time": "2021-07-08T11:46:19.046Z"
   },
   {
    "duration": 29,
    "start_time": "2021-07-08T11:46:19.099Z"
   },
   {
    "duration": 7,
    "start_time": "2021-07-08T11:46:19.130Z"
   },
   {
    "duration": 3,
    "start_time": "2021-07-08T11:46:19.139Z"
   },
   {
    "duration": 11,
    "start_time": "2021-07-08T11:46:19.144Z"
   },
   {
    "duration": 40,
    "start_time": "2021-07-08T11:46:19.157Z"
   },
   {
    "duration": 15,
    "start_time": "2021-07-08T11:46:19.199Z"
   },
   {
    "duration": 10,
    "start_time": "2021-07-08T11:46:19.217Z"
   },
   {
    "duration": 68,
    "start_time": "2021-07-08T11:46:19.230Z"
   },
   {
    "duration": 17,
    "start_time": "2021-07-08T11:46:19.301Z"
   },
   {
    "duration": 7,
    "start_time": "2021-07-08T11:46:19.321Z"
   },
   {
    "duration": 11,
    "start_time": "2021-07-08T11:46:19.330Z"
   },
   {
    "duration": 59,
    "start_time": "2021-07-08T11:46:19.343Z"
   },
   {
    "duration": 17,
    "start_time": "2021-07-08T11:46:19.405Z"
   },
   {
    "duration": 16,
    "start_time": "2021-07-08T11:46:19.424Z"
   },
   {
    "duration": 252,
    "start_time": "2021-07-08T11:46:19.443Z"
   },
   {
    "duration": 9,
    "start_time": "2021-07-08T11:46:19.697Z"
   },
   {
    "duration": 224,
    "start_time": "2021-07-08T11:46:19.708Z"
   },
   {
    "duration": 21,
    "start_time": "2021-07-08T11:46:19.934Z"
   },
   {
    "duration": 9,
    "start_time": "2021-07-08T11:46:19.956Z"
   },
   {
    "duration": 32,
    "start_time": "2021-07-08T11:46:19.967Z"
   },
   {
    "duration": 288,
    "start_time": "2021-07-08T11:46:20.004Z"
   },
   {
    "duration": 23,
    "start_time": "2021-07-08T11:46:20.300Z"
   },
   {
    "duration": 11,
    "start_time": "2021-07-08T11:46:20.325Z"
   },
   {
    "duration": 11,
    "start_time": "2021-07-08T11:46:20.339Z"
   },
   {
    "duration": 259,
    "start_time": "2021-07-08T11:46:20.352Z"
   },
   {
    "duration": 438,
    "start_time": "2021-07-08T11:46:20.613Z"
   },
   {
    "duration": 207,
    "start_time": "2021-07-08T11:46:21.054Z"
   },
   {
    "duration": 27,
    "start_time": "2021-07-08T11:46:21.262Z"
   },
   {
    "duration": 19,
    "start_time": "2021-07-08T11:46:21.291Z"
   },
   {
    "duration": 820,
    "start_time": "2021-07-08T11:49:01.655Z"
   },
   {
    "duration": 372,
    "start_time": "2021-07-08T11:49:02.478Z"
   },
   {
    "duration": 98,
    "start_time": "2021-07-08T11:49:02.853Z"
   },
   {
    "duration": 6,
    "start_time": "2021-07-08T11:49:02.953Z"
   },
   {
    "duration": 39,
    "start_time": "2021-07-08T11:49:02.960Z"
   },
   {
    "duration": 9,
    "start_time": "2021-07-08T11:49:03.003Z"
   },
   {
    "duration": 23,
    "start_time": "2021-07-08T11:49:03.014Z"
   },
   {
    "duration": 6,
    "start_time": "2021-07-08T11:49:03.041Z"
   },
   {
    "duration": 20,
    "start_time": "2021-07-08T11:49:03.049Z"
   },
   {
    "duration": 18,
    "start_time": "2021-07-08T11:49:03.084Z"
   },
   {
    "duration": 14,
    "start_time": "2021-07-08T11:49:03.104Z"
   },
   {
    "duration": 39,
    "start_time": "2021-07-08T11:49:03.119Z"
   },
   {
    "duration": 38,
    "start_time": "2021-07-08T11:49:03.160Z"
   },
   {
    "duration": 26,
    "start_time": "2021-07-08T11:49:03.200Z"
   },
   {
    "duration": 7,
    "start_time": "2021-07-08T11:49:03.227Z"
   },
   {
    "duration": 4,
    "start_time": "2021-07-08T11:49:03.236Z"
   },
   {
    "duration": 15,
    "start_time": "2021-07-08T11:49:03.243Z"
   },
   {
    "duration": 21,
    "start_time": "2021-07-08T11:49:03.285Z"
   },
   {
    "duration": 17,
    "start_time": "2021-07-08T11:49:03.309Z"
   },
   {
    "duration": 10,
    "start_time": "2021-07-08T11:49:03.328Z"
   },
   {
    "duration": 65,
    "start_time": "2021-07-08T11:49:03.340Z"
   },
   {
    "duration": 18,
    "start_time": "2021-07-08T11:49:03.407Z"
   },
   {
    "duration": 8,
    "start_time": "2021-07-08T11:49:03.428Z"
   },
   {
    "duration": 15,
    "start_time": "2021-07-08T11:49:03.438Z"
   },
   {
    "duration": 40,
    "start_time": "2021-07-08T11:49:03.455Z"
   },
   {
    "duration": 12,
    "start_time": "2021-07-08T11:49:03.497Z"
   },
   {
    "duration": 29,
    "start_time": "2021-07-08T11:49:03.511Z"
   },
   {
    "duration": 285,
    "start_time": "2021-07-08T11:49:03.542Z"
   },
   {
    "duration": 8,
    "start_time": "2021-07-08T11:49:03.829Z"
   },
   {
    "duration": 227,
    "start_time": "2021-07-08T11:49:03.838Z"
   },
   {
    "duration": 40,
    "start_time": "2021-07-08T11:49:04.066Z"
   },
   {
    "duration": 10,
    "start_time": "2021-07-08T11:49:04.108Z"
   },
   {
    "duration": 26,
    "start_time": "2021-07-08T11:49:04.121Z"
   },
   {
    "duration": 290,
    "start_time": "2021-07-08T11:49:04.149Z"
   },
   {
    "duration": 26,
    "start_time": "2021-07-08T11:49:04.441Z"
   },
   {
    "duration": 31,
    "start_time": "2021-07-08T11:49:04.470Z"
   },
   {
    "duration": 14,
    "start_time": "2021-07-08T11:49:04.503Z"
   },
   {
    "duration": 259,
    "start_time": "2021-07-08T11:49:04.521Z"
   },
   {
    "duration": 480,
    "start_time": "2021-07-08T11:49:04.782Z"
   },
   {
    "duration": 225,
    "start_time": "2021-07-08T11:49:05.264Z"
   },
   {
    "duration": 22,
    "start_time": "2021-07-08T11:49:05.491Z"
   },
   {
    "duration": 24,
    "start_time": "2021-07-08T11:49:05.515Z"
   },
   {
    "duration": 634,
    "start_time": "2021-07-08T11:52:24.960Z"
   },
   {
    "duration": 199,
    "start_time": "2021-07-08T11:52:25.599Z"
   },
   {
    "duration": 106,
    "start_time": "2021-07-08T11:52:25.803Z"
   },
   {
    "duration": 7,
    "start_time": "2021-07-08T11:52:25.911Z"
   },
   {
    "duration": 29,
    "start_time": "2021-07-08T11:52:25.920Z"
   },
   {
    "duration": 7,
    "start_time": "2021-07-08T11:52:25.951Z"
   },
   {
    "duration": 26,
    "start_time": "2021-07-08T11:52:25.961Z"
   },
   {
    "duration": 11,
    "start_time": "2021-07-08T11:52:25.990Z"
   },
   {
    "duration": 29,
    "start_time": "2021-07-08T11:52:26.005Z"
   },
   {
    "duration": 9,
    "start_time": "2021-07-08T11:52:26.036Z"
   },
   {
    "duration": 8,
    "start_time": "2021-07-08T11:52:26.047Z"
   },
   {
    "duration": 63,
    "start_time": "2021-07-08T11:52:26.057Z"
   },
   {
    "duration": 17,
    "start_time": "2021-07-08T11:52:26.122Z"
   },
   {
    "duration": 43,
    "start_time": "2021-07-08T11:52:26.142Z"
   },
   {
    "duration": 17,
    "start_time": "2021-07-08T11:52:26.187Z"
   },
   {
    "duration": 5,
    "start_time": "2021-07-08T11:52:26.206Z"
   },
   {
    "duration": 12,
    "start_time": "2021-07-08T11:52:26.212Z"
   },
   {
    "duration": 11,
    "start_time": "2021-07-08T11:52:26.226Z"
   },
   {
    "duration": 12,
    "start_time": "2021-07-08T11:52:26.238Z"
   },
   {
    "duration": 38,
    "start_time": "2021-07-08T11:52:26.252Z"
   },
   {
    "duration": 40,
    "start_time": "2021-07-08T11:52:26.292Z"
   },
   {
    "duration": 17,
    "start_time": "2021-07-08T11:52:26.336Z"
   },
   {
    "duration": 39,
    "start_time": "2021-07-08T11:52:26.355Z"
   },
   {
    "duration": 11,
    "start_time": "2021-07-08T11:52:26.395Z"
   },
   {
    "duration": 23,
    "start_time": "2021-07-08T11:52:26.408Z"
   },
   {
    "duration": 12,
    "start_time": "2021-07-08T11:52:26.432Z"
   },
   {
    "duration": 41,
    "start_time": "2021-07-08T11:52:26.446Z"
   },
   {
    "duration": 215,
    "start_time": "2021-07-08T11:52:26.493Z"
   },
   {
    "duration": 8,
    "start_time": "2021-07-08T11:52:26.710Z"
   },
   {
    "duration": 228,
    "start_time": "2021-07-08T11:52:26.720Z"
   },
   {
    "duration": 18,
    "start_time": "2021-07-08T11:52:26.950Z"
   },
   {
    "duration": 35,
    "start_time": "2021-07-08T11:52:26.969Z"
   },
   {
    "duration": 23,
    "start_time": "2021-07-08T11:52:27.006Z"
   },
   {
    "duration": 258,
    "start_time": "2021-07-08T11:52:27.030Z"
   },
   {
    "duration": 24,
    "start_time": "2021-07-08T11:52:27.290Z"
   },
   {
    "duration": 12,
    "start_time": "2021-07-08T11:52:27.316Z"
   },
   {
    "duration": 10,
    "start_time": "2021-07-08T11:52:27.329Z"
   },
   {
    "duration": 298,
    "start_time": "2021-07-08T11:52:27.341Z"
   },
   {
    "duration": 436,
    "start_time": "2021-07-08T11:52:27.641Z"
   },
   {
    "duration": 216,
    "start_time": "2021-07-08T11:52:28.079Z"
   },
   {
    "duration": 20,
    "start_time": "2021-07-08T11:52:28.297Z"
   },
   {
    "duration": 17,
    "start_time": "2021-07-08T11:52:28.319Z"
   },
   {
    "duration": 456,
    "start_time": "2023-04-12T19:08:06.694Z"
   },
   {
    "duration": 290,
    "start_time": "2023-04-12T19:09:00.854Z"
   },
   {
    "duration": 300,
    "start_time": "2023-04-12T19:15:37.987Z"
   },
   {
    "duration": 145,
    "start_time": "2023-04-12T19:15:49.199Z"
   },
   {
    "duration": 22,
    "start_time": "2023-04-12T19:16:34.417Z"
   },
   {
    "duration": 354,
    "start_time": "2023-04-12T19:24:26.198Z"
   },
   {
    "duration": 7,
    "start_time": "2023-04-12T19:24:50.120Z"
   },
   {
    "duration": 7,
    "start_time": "2023-04-12T19:25:03.746Z"
   },
   {
    "duration": 7,
    "start_time": "2023-04-12T19:25:32.005Z"
   },
   {
    "duration": 8,
    "start_time": "2023-04-12T19:25:36.529Z"
   },
   {
    "duration": 8,
    "start_time": "2023-04-12T19:33:22.323Z"
   },
   {
    "duration": 9,
    "start_time": "2023-04-12T19:33:34.788Z"
   },
   {
    "duration": 68,
    "start_time": "2023-04-12T19:33:38.398Z"
   },
   {
    "duration": 106,
    "start_time": "2023-04-12T19:33:42.139Z"
   },
   {
    "duration": 7,
    "start_time": "2023-04-12T19:39:33.962Z"
   },
   {
    "duration": 7,
    "start_time": "2023-04-12T19:40:24.943Z"
   },
   {
    "duration": 11,
    "start_time": "2023-04-12T19:40:30.619Z"
   },
   {
    "duration": 20,
    "start_time": "2023-04-12T19:40:51.265Z"
   },
   {
    "duration": 8,
    "start_time": "2023-04-12T19:43:46.068Z"
   },
   {
    "duration": 9,
    "start_time": "2023-04-12T19:43:53.433Z"
   },
   {
    "duration": 12,
    "start_time": "2023-04-12T19:44:04.029Z"
   },
   {
    "duration": 8,
    "start_time": "2023-04-12T19:44:41.084Z"
   },
   {
    "duration": 10,
    "start_time": "2023-04-12T19:45:30.927Z"
   },
   {
    "duration": 9,
    "start_time": "2023-04-12T19:46:24.103Z"
   },
   {
    "duration": 10,
    "start_time": "2023-04-12T19:51:12.014Z"
   },
   {
    "duration": 11,
    "start_time": "2023-04-12T19:51:27.028Z"
   },
   {
    "duration": 4,
    "start_time": "2023-04-12T19:58:01.354Z"
   },
   {
    "duration": 6,
    "start_time": "2023-04-12T19:58:15.239Z"
   },
   {
    "duration": 6,
    "start_time": "2023-04-12T19:59:54.795Z"
   },
   {
    "duration": 134,
    "start_time": "2023-04-12T20:02:48.190Z"
   },
   {
    "duration": 118,
    "start_time": "2023-04-12T20:03:11.867Z"
   },
   {
    "duration": 5,
    "start_time": "2023-04-12T20:05:27.013Z"
   },
   {
    "duration": 7,
    "start_time": "2023-04-12T20:05:39.257Z"
   },
   {
    "duration": 16,
    "start_time": "2023-04-12T20:06:01.385Z"
   },
   {
    "duration": 8,
    "start_time": "2023-04-12T20:08:24.695Z"
   },
   {
    "duration": 6,
    "start_time": "2023-04-12T20:08:34.907Z"
   },
   {
    "duration": 14,
    "start_time": "2023-04-12T20:09:45.331Z"
   },
   {
    "duration": 7,
    "start_time": "2023-04-12T20:10:02.726Z"
   },
   {
    "duration": 10,
    "start_time": "2023-04-12T20:11:07.534Z"
   },
   {
    "duration": 28,
    "start_time": "2023-04-12T20:11:14.808Z"
   },
   {
    "duration": 72,
    "start_time": "2023-04-12T20:11:27.213Z"
   },
   {
    "duration": 17,
    "start_time": "2023-04-12T20:11:35.606Z"
   },
   {
    "duration": 54,
    "start_time": "2023-04-12T20:13:59.879Z"
   },
   {
    "duration": 8,
    "start_time": "2023-04-12T20:15:05.449Z"
   },
   {
    "duration": 360,
    "start_time": "2023-04-12T20:15:40.201Z"
   },
   {
    "duration": 9,
    "start_time": "2023-04-12T20:16:08.376Z"
   },
   {
    "duration": 9,
    "start_time": "2023-04-12T20:19:24.280Z"
   },
   {
    "duration": 416,
    "start_time": "2023-04-12T20:20:12.296Z"
   },
   {
    "duration": 20,
    "start_time": "2023-04-12T20:21:02.543Z"
   },
   {
    "duration": 186,
    "start_time": "2023-04-12T20:21:05.207Z"
   },
   {
    "duration": 12,
    "start_time": "2023-04-12T20:22:35.489Z"
   },
   {
    "duration": 14,
    "start_time": "2023-04-12T20:23:03.050Z"
   },
   {
    "duration": 18,
    "start_time": "2023-04-12T20:23:11.111Z"
   },
   {
    "duration": 61,
    "start_time": "2023-04-12T20:24:02.988Z"
   },
   {
    "duration": 16,
    "start_time": "2023-04-12T20:24:08.377Z"
   },
   {
    "duration": 382,
    "start_time": "2023-04-12T20:24:38.822Z"
   },
   {
    "duration": 319,
    "start_time": "2023-04-12T20:48:08.100Z"
   },
   {
    "duration": 180,
    "start_time": "2023-04-12T20:48:25.682Z"
   },
   {
    "duration": 28,
    "start_time": "2023-04-12T20:48:44.732Z"
   },
   {
    "duration": 223,
    "start_time": "2023-04-12T20:49:22.169Z"
   },
   {
    "duration": 260,
    "start_time": "2023-04-12T20:49:59.720Z"
   },
   {
    "duration": 14,
    "start_time": "2023-04-12T20:52:27.291Z"
   },
   {
    "duration": 13,
    "start_time": "2023-04-12T20:55:58.683Z"
   },
   {
    "duration": 7,
    "start_time": "2023-04-12T20:56:36.430Z"
   },
   {
    "duration": 7,
    "start_time": "2023-04-12T20:56:40.987Z"
   },
   {
    "duration": 121,
    "start_time": "2023-04-12T20:56:52.497Z"
   },
   {
    "duration": 18,
    "start_time": "2023-04-12T20:56:52.620Z"
   },
   {
    "duration": 187,
    "start_time": "2023-04-12T20:56:52.640Z"
   },
   {
    "duration": 195,
    "start_time": "2023-04-12T20:57:22.972Z"
   },
   {
    "duration": 227,
    "start_time": "2023-04-12T20:57:55.103Z"
   },
   {
    "duration": 761,
    "start_time": "2023-04-12T20:59:28.660Z"
   },
   {
    "duration": 866,
    "start_time": "2023-04-12T20:59:53.438Z"
   },
   {
    "duration": 1900,
    "start_time": "2023-04-12T21:00:49.635Z"
   },
   {
    "duration": 1286,
    "start_time": "2023-04-12T21:02:46.072Z"
   },
   {
    "duration": 120,
    "start_time": "2023-04-12T21:06:48.525Z"
   },
   {
    "duration": 17,
    "start_time": "2023-04-12T21:06:48.647Z"
   },
   {
    "duration": 268,
    "start_time": "2023-04-12T21:06:48.666Z"
   },
   {
    "duration": 50,
    "start_time": "2023-04-12T21:08:54.172Z"
   },
   {
    "duration": 10,
    "start_time": "2023-04-12T21:08:58.468Z"
   },
   {
    "duration": 6,
    "start_time": "2023-04-12T21:09:05.272Z"
   },
   {
    "duration": 8,
    "start_time": "2023-04-12T21:09:12.536Z"
   },
   {
    "duration": 6,
    "start_time": "2023-04-12T21:09:19.198Z"
   },
   {
    "duration": 7,
    "start_time": "2023-04-12T21:09:33.864Z"
   },
   {
    "duration": 9,
    "start_time": "2023-04-12T21:10:25.758Z"
   },
   {
    "duration": 121,
    "start_time": "2023-04-12T21:10:34.448Z"
   },
   {
    "duration": 18,
    "start_time": "2023-04-12T21:10:34.571Z"
   },
   {
    "duration": 376,
    "start_time": "2023-04-12T21:10:34.591Z"
   },
   {
    "duration": 9,
    "start_time": "2023-04-12T21:11:32.942Z"
   },
   {
    "duration": 12,
    "start_time": "2023-04-12T21:12:30.441Z"
   },
   {
    "duration": 60,
    "start_time": "2023-04-12T21:12:40.187Z"
   },
   {
    "duration": 52,
    "start_time": "2023-04-12T21:12:44.287Z"
   },
   {
    "duration": 11,
    "start_time": "2023-04-12T21:12:53.224Z"
   },
   {
    "duration": 12,
    "start_time": "2023-04-12T21:13:02.995Z"
   },
   {
    "duration": 7,
    "start_time": "2023-04-12T21:13:26.325Z"
   },
   {
    "duration": 119,
    "start_time": "2023-04-12T21:13:29.494Z"
   },
   {
    "duration": 18,
    "start_time": "2023-04-12T21:13:29.615Z"
   },
   {
    "duration": 1489,
    "start_time": "2023-04-12T21:13:29.634Z"
   },
   {
    "duration": 930,
    "start_time": "2023-04-12T21:13:43.143Z"
   },
   {
    "duration": 123,
    "start_time": "2023-04-12T21:13:46.512Z"
   },
   {
    "duration": 18,
    "start_time": "2023-04-12T21:13:46.636Z"
   },
   {
    "duration": 834,
    "start_time": "2023-04-12T21:13:46.655Z"
   },
   {
    "duration": 54,
    "start_time": "2023-04-13T12:14:01.807Z"
   },
   {
    "duration": 692,
    "start_time": "2023-04-13T12:14:04.958Z"
   },
   {
    "duration": 0,
    "start_time": "2023-04-13T12:14:05.652Z"
   },
   {
    "duration": 0,
    "start_time": "2023-04-13T12:14:05.653Z"
   },
   {
    "duration": 271,
    "start_time": "2023-04-13T12:14:30.161Z"
   },
   {
    "duration": 14,
    "start_time": "2023-04-13T12:14:36.604Z"
   },
   {
    "duration": 14,
    "start_time": "2023-04-13T12:14:47.705Z"
   },
   {
    "duration": 27,
    "start_time": "2023-04-13T12:15:36.389Z"
   },
   {
    "duration": 17,
    "start_time": "2023-04-13T12:23:30.977Z"
   },
   {
    "duration": 45,
    "start_time": "2023-04-13T12:23:47.006Z"
   },
   {
    "duration": 23,
    "start_time": "2023-04-13T12:24:57.459Z"
   },
   {
    "duration": 32,
    "start_time": "2023-04-13T12:25:46.772Z"
   },
   {
    "duration": 27,
    "start_time": "2023-04-13T12:26:53.235Z"
   },
   {
    "duration": 28,
    "start_time": "2023-04-13T12:32:00.633Z"
   },
   {
    "duration": 33,
    "start_time": "2023-04-13T12:32:12.952Z"
   },
   {
    "duration": 6,
    "start_time": "2023-04-13T12:32:17.683Z"
   },
   {
    "duration": 17,
    "start_time": "2023-04-13T12:32:35.779Z"
   },
   {
    "duration": 53,
    "start_time": "2023-04-13T12:36:05.425Z"
   },
   {
    "duration": 37,
    "start_time": "2023-04-13T12:36:14.803Z"
   },
   {
    "duration": 49,
    "start_time": "2023-04-13T12:37:10.300Z"
   },
   {
    "duration": 31,
    "start_time": "2023-04-13T12:43:53.281Z"
   },
   {
    "duration": 23,
    "start_time": "2023-04-13T12:44:06.301Z"
   },
   {
    "duration": 23,
    "start_time": "2023-04-13T12:55:19.426Z"
   },
   {
    "duration": 30,
    "start_time": "2023-04-13T12:55:24.972Z"
   },
   {
    "duration": 697,
    "start_time": "2023-04-14T11:57:24.429Z"
   },
   {
    "duration": 19,
    "start_time": "2023-04-14T11:57:25.128Z"
   },
   {
    "duration": 19,
    "start_time": "2023-04-14T11:57:25.148Z"
   },
   {
    "duration": 21,
    "start_time": "2023-04-14T11:57:25.169Z"
   },
   {
    "duration": 110,
    "start_time": "2023-04-14T11:57:25.191Z"
   },
   {
    "duration": 0,
    "start_time": "2023-04-14T11:57:25.302Z"
   },
   {
    "duration": 0,
    "start_time": "2023-04-14T11:57:25.303Z"
   },
   {
    "duration": 0,
    "start_time": "2023-04-14T11:57:25.304Z"
   },
   {
    "duration": 82,
    "start_time": "2023-04-14T11:57:45.109Z"
   },
   {
    "duration": 19,
    "start_time": "2023-04-14T11:58:59.580Z"
   },
   {
    "duration": 18,
    "start_time": "2023-04-14T11:59:53.222Z"
   },
   {
    "duration": 20,
    "start_time": "2023-04-14T12:00:06.584Z"
   },
   {
    "duration": 20,
    "start_time": "2023-04-14T12:00:11.016Z"
   },
   {
    "duration": 15,
    "start_time": "2023-04-14T12:00:37.037Z"
   },
   {
    "duration": 23,
    "start_time": "2023-04-14T12:00:50.735Z"
   },
   {
    "duration": 27,
    "start_time": "2023-04-14T12:00:57.245Z"
   },
   {
    "duration": 4,
    "start_time": "2023-04-14T12:05:04.716Z"
   },
   {
    "duration": 270,
    "start_time": "2023-04-14T12:05:42.054Z"
   },
   {
    "duration": 458,
    "start_time": "2023-04-14T12:17:36.588Z"
   },
   {
    "duration": 14,
    "start_time": "2023-04-14T12:21:13.012Z"
   },
   {
    "duration": 18,
    "start_time": "2023-04-14T12:21:56.788Z"
   },
   {
    "duration": 12,
    "start_time": "2023-04-14T12:23:26.180Z"
   },
   {
    "duration": 155,
    "start_time": "2023-04-14T12:23:57.451Z"
   },
   {
    "duration": 24,
    "start_time": "2023-04-14T12:23:57.608Z"
   },
   {
    "duration": 19,
    "start_time": "2023-04-14T12:23:57.633Z"
   },
   {
    "duration": 34,
    "start_time": "2023-04-14T12:23:57.654Z"
   },
   {
    "duration": 5,
    "start_time": "2023-04-14T12:23:57.691Z"
   },
   {
    "duration": 41,
    "start_time": "2023-04-14T12:23:57.698Z"
   },
   {
    "duration": 22,
    "start_time": "2023-04-14T12:23:57.741Z"
   },
   {
    "duration": 94,
    "start_time": "2023-04-14T12:26:14.523Z"
   },
   {
    "duration": 16,
    "start_time": "2023-04-14T12:26:50.157Z"
   },
   {
    "duration": 13,
    "start_time": "2023-04-14T12:27:04.275Z"
   },
   {
    "duration": 14,
    "start_time": "2023-04-14T12:27:11.892Z"
   },
   {
    "duration": 30,
    "start_time": "2023-04-14T12:29:52.326Z"
   },
   {
    "duration": 12,
    "start_time": "2023-04-14T14:18:58.277Z"
   },
   {
    "duration": 14,
    "start_time": "2023-04-14T14:24:51.580Z"
   },
   {
    "duration": 115,
    "start_time": "2023-04-14T14:24:56.416Z"
   },
   {
    "duration": 17,
    "start_time": "2023-04-14T14:24:56.533Z"
   },
   {
    "duration": 9,
    "start_time": "2023-04-14T14:24:56.552Z"
   },
   {
    "duration": 19,
    "start_time": "2023-04-14T14:24:56.562Z"
   },
   {
    "duration": 3,
    "start_time": "2023-04-14T14:24:56.583Z"
   },
   {
    "duration": 36,
    "start_time": "2023-04-14T14:24:56.588Z"
   },
   {
    "duration": 13,
    "start_time": "2023-04-14T14:24:56.626Z"
   },
   {
    "duration": 11,
    "start_time": "2023-04-14T14:41:11.055Z"
   },
   {
    "duration": 83,
    "start_time": "2023-04-14T14:47:30.860Z"
   },
   {
    "duration": 86,
    "start_time": "2023-04-14T14:47:33.994Z"
   },
   {
    "duration": 14,
    "start_time": "2023-04-14T14:47:46.202Z"
   },
   {
    "duration": 15,
    "start_time": "2023-04-14T14:47:59.130Z"
   },
   {
    "duration": 15,
    "start_time": "2023-04-14T15:01:37.248Z"
   },
   {
    "duration": 780,
    "start_time": "2023-04-14T19:04:47.139Z"
   },
   {
    "duration": 24,
    "start_time": "2023-04-14T19:04:47.921Z"
   },
   {
    "duration": 18,
    "start_time": "2023-04-14T19:04:47.947Z"
   },
   {
    "duration": 29,
    "start_time": "2023-04-14T19:04:47.967Z"
   },
   {
    "duration": 6,
    "start_time": "2023-04-14T19:04:47.998Z"
   },
   {
    "duration": 275,
    "start_time": "2023-04-14T19:04:48.006Z"
   },
   {
    "duration": 0,
    "start_time": "2023-04-14T19:04:48.283Z"
   },
   {
    "duration": 0,
    "start_time": "2023-04-14T19:04:48.285Z"
   },
   {
    "duration": 21,
    "start_time": "2023-04-14T19:05:05.328Z"
   },
   {
    "duration": 4,
    "start_time": "2023-04-14T19:05:22.851Z"
   },
   {
    "duration": 17,
    "start_time": "2023-04-14T19:05:29.992Z"
   },
   {
    "duration": 13,
    "start_time": "2023-04-14T19:08:14.982Z"
   },
   {
    "duration": 8,
    "start_time": "2023-04-14T19:08:25.226Z"
   },
   {
    "duration": 9,
    "start_time": "2023-04-14T19:08:32.631Z"
   },
   {
    "duration": 13,
    "start_time": "2023-04-14T19:09:01.597Z"
   },
   {
    "duration": 13,
    "start_time": "2023-04-14T19:09:14.274Z"
   },
   {
    "duration": 12,
    "start_time": "2023-04-14T19:09:19.000Z"
   },
   {
    "duration": 12,
    "start_time": "2023-04-14T19:13:11.223Z"
   },
   {
    "duration": 11,
    "start_time": "2023-04-14T19:14:13.365Z"
   },
   {
    "duration": 137,
    "start_time": "2023-04-14T19:14:15.524Z"
   },
   {
    "duration": 23,
    "start_time": "2023-04-14T19:14:15.663Z"
   },
   {
    "duration": 16,
    "start_time": "2023-04-14T19:14:15.687Z"
   },
   {
    "duration": 42,
    "start_time": "2023-04-14T19:14:15.706Z"
   },
   {
    "duration": 17,
    "start_time": "2023-04-14T19:14:15.750Z"
   },
   {
    "duration": 49,
    "start_time": "2023-04-14T19:14:15.769Z"
   },
   {
    "duration": 0,
    "start_time": "2023-04-14T19:14:15.820Z"
   },
   {
    "duration": 0,
    "start_time": "2023-04-14T19:14:15.822Z"
   },
   {
    "duration": 8,
    "start_time": "2023-04-14T19:14:41.702Z"
   },
   {
    "duration": 12,
    "start_time": "2023-04-14T19:16:28.440Z"
   },
   {
    "duration": 19,
    "start_time": "2023-04-14T19:17:28.735Z"
   },
   {
    "duration": 18,
    "start_time": "2023-04-14T19:17:44.404Z"
   },
   {
    "duration": 16,
    "start_time": "2023-04-14T19:17:52.693Z"
   },
   {
    "duration": 16,
    "start_time": "2023-04-14T19:17:56.856Z"
   },
   {
    "duration": 24,
    "start_time": "2023-04-14T19:20:20.757Z"
   },
   {
    "duration": 18,
    "start_time": "2023-04-14T19:20:32.187Z"
   },
   {
    "duration": 19,
    "start_time": "2023-04-14T19:21:40.384Z"
   },
   {
    "duration": 23,
    "start_time": "2023-04-14T19:21:49.314Z"
   },
   {
    "duration": 142,
    "start_time": "2023-04-14T19:30:47.348Z"
   },
   {
    "duration": 11,
    "start_time": "2023-04-14T19:33:27.738Z"
   },
   {
    "duration": 66,
    "start_time": "2023-04-14T19:33:50.336Z"
   },
   {
    "duration": 144,
    "start_time": "2023-04-14T19:34:21.242Z"
   },
   {
    "duration": 153,
    "start_time": "2023-04-14T19:34:35.981Z"
   },
   {
    "duration": 137,
    "start_time": "2023-04-14T19:36:00.913Z"
   },
   {
    "duration": 17,
    "start_time": "2023-04-14T19:36:36.075Z"
   },
   {
    "duration": 14,
    "start_time": "2023-04-14T19:42:32.365Z"
   },
   {
    "duration": 42,
    "start_time": "2023-04-14T19:43:06.052Z"
   },
   {
    "duration": 52,
    "start_time": "2023-04-14T19:43:14.483Z"
   },
   {
    "duration": 46,
    "start_time": "2023-04-14T19:48:12.989Z"
   },
   {
    "duration": 16,
    "start_time": "2023-04-14T19:48:18.653Z"
   },
   {
    "duration": 13,
    "start_time": "2023-04-14T19:48:29.694Z"
   },
   {
    "duration": 28,
    "start_time": "2023-04-14T19:48:38.447Z"
   },
   {
    "duration": 31,
    "start_time": "2023-04-14T19:50:05.435Z"
   },
   {
    "duration": 29,
    "start_time": "2023-04-14T19:50:16.848Z"
   },
   {
    "duration": 24,
    "start_time": "2023-04-14T19:50:34.487Z"
   },
   {
    "duration": 18,
    "start_time": "2023-04-14T20:12:02.651Z"
   },
   {
    "duration": 13,
    "start_time": "2023-04-14T20:12:45.828Z"
   },
   {
    "duration": 21,
    "start_time": "2023-04-14T20:12:50.950Z"
   },
   {
    "duration": 144,
    "start_time": "2023-04-14T20:13:12.054Z"
   },
   {
    "duration": 25,
    "start_time": "2023-04-14T20:13:12.200Z"
   },
   {
    "duration": 26,
    "start_time": "2023-04-14T20:13:12.227Z"
   },
   {
    "duration": 33,
    "start_time": "2023-04-14T20:13:12.256Z"
   },
   {
    "duration": 5,
    "start_time": "2023-04-14T20:13:12.291Z"
   },
   {
    "duration": 18,
    "start_time": "2023-04-14T20:13:12.298Z"
   },
   {
    "duration": 44,
    "start_time": "2023-04-14T20:13:12.318Z"
   },
   {
    "duration": 51,
    "start_time": "2023-04-14T20:13:30.330Z"
   },
   {
    "duration": 47,
    "start_time": "2023-04-14T20:13:36.219Z"
   },
   {
    "duration": 29,
    "start_time": "2023-04-14T20:14:05.480Z"
   },
   {
    "duration": 14,
    "start_time": "2023-04-14T20:14:21.731Z"
   },
   {
    "duration": 20,
    "start_time": "2023-04-14T20:19:03.530Z"
   },
   {
    "duration": 18,
    "start_time": "2023-04-14T20:19:30.906Z"
   },
   {
    "duration": 14,
    "start_time": "2023-04-14T20:31:16.039Z"
   },
   {
    "duration": 48,
    "start_time": "2023-04-15T08:17:35.511Z"
   },
   {
    "duration": 790,
    "start_time": "2023-04-15T08:17:38.822Z"
   },
   {
    "duration": 23,
    "start_time": "2023-04-15T08:17:39.614Z"
   },
   {
    "duration": 13,
    "start_time": "2023-04-15T08:17:39.639Z"
   },
   {
    "duration": 14,
    "start_time": "2023-04-15T08:17:39.653Z"
   },
   {
    "duration": 16,
    "start_time": "2023-04-15T08:17:39.670Z"
   },
   {
    "duration": 11,
    "start_time": "2023-04-15T08:17:39.711Z"
   },
   {
    "duration": 6,
    "start_time": "2023-04-15T08:17:39.724Z"
   },
   {
    "duration": 23,
    "start_time": "2023-04-15T08:17:39.732Z"
   },
   {
    "duration": 18,
    "start_time": "2023-04-15T08:17:39.757Z"
   },
   {
    "duration": 40,
    "start_time": "2023-04-15T08:17:39.776Z"
   },
   {
    "duration": 19,
    "start_time": "2023-04-15T08:18:12.384Z"
   },
   {
    "duration": 4,
    "start_time": "2023-04-15T08:21:29.760Z"
   },
   {
    "duration": 46,
    "start_time": "2023-04-15T13:36:21.318Z"
   },
   {
    "duration": 780,
    "start_time": "2023-04-15T13:36:23.706Z"
   },
   {
    "duration": 35,
    "start_time": "2023-04-15T13:36:24.489Z"
   },
   {
    "duration": 10,
    "start_time": "2023-04-15T13:36:24.526Z"
   },
   {
    "duration": 10,
    "start_time": "2023-04-15T13:36:24.538Z"
   },
   {
    "duration": 14,
    "start_time": "2023-04-15T13:36:24.549Z"
   },
   {
    "duration": 34,
    "start_time": "2023-04-15T13:36:24.565Z"
   },
   {
    "duration": 17,
    "start_time": "2023-04-15T13:36:24.601Z"
   },
   {
    "duration": 18,
    "start_time": "2023-04-15T13:36:24.620Z"
   },
   {
    "duration": 18,
    "start_time": "2023-04-15T13:36:24.639Z"
   },
   {
    "duration": 33,
    "start_time": "2023-04-15T13:36:24.659Z"
   },
   {
    "duration": 10,
    "start_time": "2023-04-15T13:36:24.694Z"
   },
   {
    "duration": 38,
    "start_time": "2023-04-15T13:36:24.705Z"
   },
   {
    "duration": 21,
    "start_time": "2023-04-15T13:36:32.562Z"
   },
   {
    "duration": 214,
    "start_time": "2023-04-15T13:40:45.979Z"
   },
   {
    "duration": 233,
    "start_time": "2023-04-15T13:40:53.413Z"
   },
   {
    "duration": 108,
    "start_time": "2023-04-15T13:41:09.144Z"
   },
   {
    "duration": 193,
    "start_time": "2023-04-15T13:41:16.821Z"
   },
   {
    "duration": 366,
    "start_time": "2023-04-15T13:41:45.166Z"
   },
   {
    "duration": 186,
    "start_time": "2023-04-15T13:41:52.744Z"
   },
   {
    "duration": 3562,
    "start_time": "2023-04-15T13:47:03.578Z"
   },
   {
    "duration": 3557,
    "start_time": "2023-04-15T13:47:18.594Z"
   },
   {
    "duration": 215,
    "start_time": "2023-04-15T13:47:22.153Z"
   },
   {
    "duration": 595,
    "start_time": "2023-04-15T13:47:51.593Z"
   },
   {
    "duration": 594,
    "start_time": "2023-04-15T13:48:00.863Z"
   },
   {
    "duration": 602,
    "start_time": "2023-04-15T13:48:19.707Z"
   },
   {
    "duration": 582,
    "start_time": "2023-04-15T13:48:25.227Z"
   },
   {
    "duration": 14,
    "start_time": "2023-04-15T14:06:10.839Z"
   },
   {
    "duration": 16,
    "start_time": "2023-04-15T14:09:19.138Z"
   },
   {
    "duration": 7,
    "start_time": "2023-04-15T14:09:28.612Z"
   },
   {
    "duration": 10,
    "start_time": "2023-04-15T14:09:37.092Z"
   },
   {
    "duration": 9,
    "start_time": "2023-04-15T14:09:58.046Z"
   },
   {
    "duration": 7,
    "start_time": "2023-04-15T14:11:05.589Z"
   },
   {
    "duration": 8,
    "start_time": "2023-04-15T14:11:12.142Z"
   },
   {
    "duration": 8,
    "start_time": "2023-04-15T14:13:11.238Z"
   },
   {
    "duration": 9,
    "start_time": "2023-04-15T14:13:15.039Z"
   },
   {
    "duration": 3,
    "start_time": "2023-04-15T14:23:27.891Z"
   },
   {
    "duration": 182,
    "start_time": "2023-04-15T14:23:57.138Z"
   },
   {
    "duration": 35,
    "start_time": "2023-04-15T14:38:48.973Z"
   },
   {
    "duration": 28,
    "start_time": "2023-04-15T14:40:03.990Z"
   },
   {
    "duration": 24,
    "start_time": "2023-04-15T14:41:16.529Z"
   },
   {
    "duration": 27,
    "start_time": "2023-04-15T14:41:23.745Z"
   },
   {
    "duration": 18,
    "start_time": "2023-04-15T14:41:31.829Z"
   },
   {
    "duration": 25,
    "start_time": "2023-04-15T14:46:28.749Z"
   },
   {
    "duration": 19,
    "start_time": "2023-04-15T14:46:52.426Z"
   },
   {
    "duration": 82,
    "start_time": "2023-04-15T19:06:09.241Z"
   },
   {
    "duration": 18,
    "start_time": "2023-04-15T19:07:58.811Z"
   },
   {
    "duration": 21,
    "start_time": "2023-04-15T19:15:17.831Z"
   },
   {
    "duration": 34,
    "start_time": "2023-04-15T19:15:28.124Z"
   },
   {
    "duration": 20,
    "start_time": "2023-04-15T19:15:50.142Z"
   },
   {
    "duration": 7,
    "start_time": "2023-04-15T19:16:35.861Z"
   },
   {
    "duration": 7,
    "start_time": "2023-04-15T19:16:51.823Z"
   },
   {
    "duration": 23,
    "start_time": "2023-04-15T19:18:05.248Z"
   },
   {
    "duration": 29,
    "start_time": "2023-04-15T19:18:49.819Z"
   },
   {
    "duration": 123,
    "start_time": "2023-04-15T19:19:39.234Z"
   },
   {
    "duration": 147,
    "start_time": "2023-04-15T19:19:43.437Z"
   },
   {
    "duration": 44,
    "start_time": "2023-04-15T19:20:14.023Z"
   },
   {
    "duration": 127,
    "start_time": "2023-04-15T19:20:27.938Z"
   },
   {
    "duration": 209,
    "start_time": "2023-04-15T19:34:49.410Z"
   },
   {
    "duration": 137,
    "start_time": "2023-04-15T19:35:28.820Z"
   },
   {
    "duration": 151,
    "start_time": "2023-04-15T19:36:02.587Z"
   },
   {
    "duration": 17,
    "start_time": "2023-04-15T19:36:41.303Z"
   },
   {
    "duration": 31,
    "start_time": "2023-04-15T19:39:09.980Z"
   },
   {
    "duration": 16,
    "start_time": "2023-04-15T19:40:00.354Z"
   },
   {
    "duration": 14,
    "start_time": "2023-04-15T19:40:08.773Z"
   },
   {
    "duration": 16,
    "start_time": "2023-04-15T19:40:18.317Z"
   },
   {
    "duration": 9,
    "start_time": "2023-04-15T19:42:26.470Z"
   },
   {
    "duration": 94,
    "start_time": "2023-04-15T19:46:16.018Z"
   },
   {
    "duration": 72,
    "start_time": "2023-04-15T19:46:23.381Z"
   },
   {
    "duration": 12,
    "start_time": "2023-04-15T19:46:29.066Z"
   },
   {
    "duration": 8,
    "start_time": "2023-04-15T19:46:58.662Z"
   },
   {
    "duration": 27,
    "start_time": "2023-04-15T19:47:07.801Z"
   },
   {
    "duration": 16,
    "start_time": "2023-04-15T19:52:28.576Z"
   },
   {
    "duration": 20,
    "start_time": "2023-04-15T19:53:00.521Z"
   },
   {
    "duration": 13,
    "start_time": "2023-04-15T20:02:15.340Z"
   },
   {
    "duration": 18,
    "start_time": "2023-04-15T20:02:34.523Z"
   },
   {
    "duration": 2,
    "start_time": "2023-04-15T20:02:39.849Z"
   },
   {
    "duration": 21,
    "start_time": "2023-04-15T20:07:30.612Z"
   },
   {
    "duration": 17,
    "start_time": "2023-04-15T20:07:42.963Z"
   },
   {
    "duration": 19,
    "start_time": "2023-04-15T20:08:55.965Z"
   },
   {
    "duration": 33,
    "start_time": "2023-04-15T20:09:27.915Z"
   },
   {
    "duration": 23,
    "start_time": "2023-04-15T20:09:35.623Z"
   },
   {
    "duration": 76,
    "start_time": "2023-04-15T20:17:08.154Z"
   },
   {
    "duration": 29,
    "start_time": "2023-04-15T20:20:15.474Z"
   },
   {
    "duration": 29,
    "start_time": "2023-04-15T20:20:38.273Z"
   },
   {
    "duration": 9,
    "start_time": "2023-04-15T20:21:25.715Z"
   },
   {
    "duration": 6,
    "start_time": "2023-04-15T20:21:29.714Z"
   },
   {
    "duration": 10,
    "start_time": "2023-04-15T20:55:07.844Z"
   },
   {
    "duration": 2489,
    "start_time": "2023-04-15T20:56:51.468Z"
   },
   {
    "duration": 2658,
    "start_time": "2023-04-15T20:57:03.214Z"
   },
   {
    "duration": 978,
    "start_time": "2023-04-15T20:57:44.924Z"
   },
   {
    "duration": 1252,
    "start_time": "2023-04-15T20:57:58.572Z"
   },
   {
    "duration": 1485,
    "start_time": "2023-04-15T20:58:44.761Z"
   },
   {
    "duration": 1777,
    "start_time": "2023-04-15T20:59:25.928Z"
   },
   {
    "duration": 12,
    "start_time": "2023-04-15T21:07:50.583Z"
   },
   {
    "duration": 9,
    "start_time": "2023-04-15T21:07:58.942Z"
   },
   {
    "duration": 9,
    "start_time": "2023-04-15T21:08:30.848Z"
   },
   {
    "duration": 15,
    "start_time": "2023-04-15T21:09:10.621Z"
   },
   {
    "duration": 15,
    "start_time": "2023-04-15T21:09:25.550Z"
   },
   {
    "duration": 10,
    "start_time": "2023-04-15T21:09:32.147Z"
   },
   {
    "duration": 16,
    "start_time": "2023-04-15T21:09:33.779Z"
   },
   {
    "duration": 135,
    "start_time": "2023-04-15T21:09:39.512Z"
   },
   {
    "duration": 36,
    "start_time": "2023-04-15T21:09:39.650Z"
   },
   {
    "duration": 16,
    "start_time": "2023-04-15T21:09:39.688Z"
   },
   {
    "duration": 21,
    "start_time": "2023-04-15T21:09:39.707Z"
   },
   {
    "duration": 21,
    "start_time": "2023-04-15T21:09:39.731Z"
   },
   {
    "duration": 42,
    "start_time": "2023-04-15T21:09:39.754Z"
   },
   {
    "duration": 15,
    "start_time": "2023-04-15T21:09:39.798Z"
   },
   {
    "duration": 31,
    "start_time": "2023-04-15T21:09:39.816Z"
   },
   {
    "duration": 25,
    "start_time": "2023-04-15T21:09:39.849Z"
   },
   {
    "duration": 36,
    "start_time": "2023-04-15T21:09:39.876Z"
   },
   {
    "duration": 4,
    "start_time": "2023-04-15T21:09:39.914Z"
   },
   {
    "duration": 705,
    "start_time": "2023-04-15T21:09:39.920Z"
   },
   {
    "duration": 3,
    "start_time": "2023-04-15T21:09:40.628Z"
   },
   {
    "duration": 87,
    "start_time": "2023-04-15T21:09:40.636Z"
   },
   {
    "duration": 0,
    "start_time": "2023-04-15T21:09:40.726Z"
   },
   {
    "duration": 0,
    "start_time": "2023-04-15T21:09:40.728Z"
   },
   {
    "duration": 0,
    "start_time": "2023-04-15T21:09:40.730Z"
   },
   {
    "duration": 0,
    "start_time": "2023-04-15T21:09:40.732Z"
   },
   {
    "duration": 0,
    "start_time": "2023-04-15T21:09:40.734Z"
   },
   {
    "duration": 18,
    "start_time": "2023-04-15T21:09:43.764Z"
   },
   {
    "duration": 18,
    "start_time": "2023-04-15T21:09:53.488Z"
   },
   {
    "duration": 25,
    "start_time": "2023-04-15T21:13:26.047Z"
   },
   {
    "duration": 54,
    "start_time": "2023-04-15T21:13:50.305Z"
   },
   {
    "duration": 34,
    "start_time": "2023-04-15T21:15:25.978Z"
   },
   {
    "duration": 19,
    "start_time": "2023-04-15T21:16:29.121Z"
   },
   {
    "duration": 177,
    "start_time": "2023-04-15T21:20:54.605Z"
   },
   {
    "duration": 169,
    "start_time": "2023-04-15T21:21:06.600Z"
   },
   {
    "duration": 12,
    "start_time": "2023-04-15T22:09:56.361Z"
   },
   {
    "duration": 34,
    "start_time": "2023-04-15T22:10:47.168Z"
   },
   {
    "duration": 14,
    "start_time": "2023-04-15T22:10:53.628Z"
   },
   {
    "duration": 16,
    "start_time": "2023-04-15T22:10:59.537Z"
   },
   {
    "duration": 20,
    "start_time": "2023-04-15T22:13:59.817Z"
   },
   {
    "duration": 34,
    "start_time": "2023-04-15T22:14:38.527Z"
   },
   {
    "duration": 34,
    "start_time": "2023-04-15T22:15:21.331Z"
   },
   {
    "duration": 32,
    "start_time": "2023-04-15T22:15:45.641Z"
   },
   {
    "duration": 43,
    "start_time": "2023-04-15T22:16:49.939Z"
   },
   {
    "duration": 35,
    "start_time": "2023-04-15T22:17:07.878Z"
   },
   {
    "duration": 51,
    "start_time": "2023-04-15T22:17:23.888Z"
   },
   {
    "duration": 33,
    "start_time": "2023-04-15T22:17:42.834Z"
   },
   {
    "duration": 20,
    "start_time": "2023-04-15T22:17:51.554Z"
   },
   {
    "duration": 22,
    "start_time": "2023-04-15T22:17:53.914Z"
   },
   {
    "duration": 20,
    "start_time": "2023-04-15T22:19:09.815Z"
   },
   {
    "duration": 18,
    "start_time": "2023-04-15T22:19:36.681Z"
   },
   {
    "duration": 14,
    "start_time": "2023-04-15T22:21:00.052Z"
   },
   {
    "duration": 16,
    "start_time": "2023-04-15T22:21:06.742Z"
   },
   {
    "duration": 70,
    "start_time": "2023-04-16T09:06:52.219Z"
   },
   {
    "duration": 889,
    "start_time": "2023-04-16T09:06:55.083Z"
   },
   {
    "duration": 43,
    "start_time": "2023-04-16T09:06:55.975Z"
   },
   {
    "duration": 16,
    "start_time": "2023-04-16T09:06:56.021Z"
   },
   {
    "duration": 61,
    "start_time": "2023-04-16T09:06:56.039Z"
   },
   {
    "duration": 40,
    "start_time": "2023-04-16T09:06:56.104Z"
   },
   {
    "duration": 51,
    "start_time": "2023-04-16T09:06:56.146Z"
   },
   {
    "duration": 35,
    "start_time": "2023-04-16T09:06:56.199Z"
   },
   {
    "duration": 56,
    "start_time": "2023-04-16T09:06:56.237Z"
   },
   {
    "duration": 23,
    "start_time": "2023-04-16T09:06:56.295Z"
   },
   {
    "duration": 36,
    "start_time": "2023-04-16T09:06:56.320Z"
   },
   {
    "duration": 8,
    "start_time": "2023-04-16T09:06:56.368Z"
   },
   {
    "duration": 721,
    "start_time": "2023-04-16T09:06:56.378Z"
   },
   {
    "duration": 4,
    "start_time": "2023-04-16T09:06:57.102Z"
   },
   {
    "duration": 288,
    "start_time": "2023-04-16T09:06:57.112Z"
   },
   {
    "duration": 254,
    "start_time": "2023-04-16T09:06:57.402Z"
   },
   {
    "duration": 19,
    "start_time": "2023-04-16T09:06:57.658Z"
   },
   {
    "duration": 2224,
    "start_time": "2023-04-16T09:06:57.678Z"
   },
   {
    "duration": 41,
    "start_time": "2023-04-16T09:06:59.904Z"
   },
   {
    "duration": 36,
    "start_time": "2023-04-16T09:07:48.769Z"
   },
   {
    "duration": 32,
    "start_time": "2023-04-16T09:07:59.067Z"
   },
   {
    "duration": 29,
    "start_time": "2023-04-16T09:08:13.907Z"
   },
   {
    "duration": 1179,
    "start_time": "2023-04-16T09:08:56.269Z"
   },
   {
    "duration": 53,
    "start_time": "2023-04-16T09:09:33.612Z"
   },
   {
    "duration": 25,
    "start_time": "2023-04-16T09:10:40.401Z"
   },
   {
    "duration": 22,
    "start_time": "2023-04-16T09:20:29.234Z"
   },
   {
    "duration": 9,
    "start_time": "2023-04-16T09:20:48.683Z"
   },
   {
    "duration": 5,
    "start_time": "2023-04-16T09:21:11.508Z"
   },
   {
    "duration": 23,
    "start_time": "2023-04-16T09:21:16.367Z"
   },
   {
    "duration": 16,
    "start_time": "2023-04-16T09:21:33.704Z"
   },
   {
    "duration": 7,
    "start_time": "2023-04-16T09:21:44.944Z"
   },
   {
    "duration": 40,
    "start_time": "2023-04-16T09:28:32.539Z"
   },
   {
    "duration": 177,
    "start_time": "2023-04-16T09:28:38.209Z"
   },
   {
    "duration": 26,
    "start_time": "2023-04-16T09:28:38.388Z"
   },
   {
    "duration": 26,
    "start_time": "2023-04-16T09:28:38.416Z"
   },
   {
    "duration": 33,
    "start_time": "2023-04-16T09:28:38.452Z"
   },
   {
    "duration": 19,
    "start_time": "2023-04-16T09:28:38.488Z"
   },
   {
    "duration": 15,
    "start_time": "2023-04-16T09:28:38.508Z"
   },
   {
    "duration": 37,
    "start_time": "2023-04-16T09:28:38.526Z"
   },
   {
    "duration": 37,
    "start_time": "2023-04-16T09:28:38.569Z"
   },
   {
    "duration": 23,
    "start_time": "2023-04-16T09:28:38.608Z"
   },
   {
    "duration": 31,
    "start_time": "2023-04-16T09:28:38.633Z"
   },
   {
    "duration": 51,
    "start_time": "2023-04-16T09:28:38.668Z"
   },
   {
    "duration": 12,
    "start_time": "2023-04-16T09:28:38.721Z"
   },
   {
    "duration": 796,
    "start_time": "2023-04-16T09:28:38.736Z"
   },
   {
    "duration": 13,
    "start_time": "2023-04-16T09:28:39.535Z"
   },
   {
    "duration": 325,
    "start_time": "2023-04-16T09:28:39.554Z"
   },
   {
    "duration": 233,
    "start_time": "2023-04-16T09:28:39.881Z"
   },
   {
    "duration": 10,
    "start_time": "2023-04-16T09:28:40.115Z"
   },
   {
    "duration": 1541,
    "start_time": "2023-04-16T09:28:40.127Z"
   },
   {
    "duration": 28,
    "start_time": "2023-04-16T09:28:41.670Z"
   },
   {
    "duration": 5,
    "start_time": "2023-04-16T09:28:41.705Z"
   },
   {
    "duration": 36,
    "start_time": "2023-04-16T09:32:09.185Z"
   },
   {
    "duration": 75,
    "start_time": "2023-04-16T09:32:21.074Z"
   },
   {
    "duration": 37,
    "start_time": "2023-04-16T09:32:50.370Z"
   },
   {
    "duration": 8,
    "start_time": "2023-04-16T09:33:48.171Z"
   },
   {
    "duration": 11,
    "start_time": "2023-04-16T09:33:54.292Z"
   },
   {
    "duration": 10,
    "start_time": "2023-04-16T09:34:02.885Z"
   },
   {
    "duration": 38,
    "start_time": "2023-04-16T09:35:03.536Z"
   },
   {
    "duration": 157,
    "start_time": "2023-04-16T09:35:30.179Z"
   },
   {
    "duration": 42,
    "start_time": "2023-04-16T09:35:30.339Z"
   },
   {
    "duration": 127,
    "start_time": "2023-04-16T09:35:30.388Z"
   },
   {
    "duration": 93,
    "start_time": "2023-04-16T09:35:30.518Z"
   },
   {
    "duration": 68,
    "start_time": "2023-04-16T09:35:30.614Z"
   },
   {
    "duration": 239,
    "start_time": "2023-04-16T09:35:30.684Z"
   },
   {
    "duration": 80,
    "start_time": "2023-04-16T09:35:30.926Z"
   },
   {
    "duration": 77,
    "start_time": "2023-04-16T09:35:31.008Z"
   },
   {
    "duration": 130,
    "start_time": "2023-04-16T09:35:31.088Z"
   },
   {
    "duration": 0,
    "start_time": "2023-04-16T09:35:31.220Z"
   },
   {
    "duration": 0,
    "start_time": "2023-04-16T09:35:31.222Z"
   },
   {
    "duration": 0,
    "start_time": "2023-04-16T09:35:31.224Z"
   },
   {
    "duration": 0,
    "start_time": "2023-04-16T09:35:31.225Z"
   },
   {
    "duration": 0,
    "start_time": "2023-04-16T09:35:31.226Z"
   },
   {
    "duration": 0,
    "start_time": "2023-04-16T09:35:31.227Z"
   },
   {
    "duration": 0,
    "start_time": "2023-04-16T09:35:31.229Z"
   },
   {
    "duration": 0,
    "start_time": "2023-04-16T09:35:31.230Z"
   },
   {
    "duration": 0,
    "start_time": "2023-04-16T09:35:31.234Z"
   },
   {
    "duration": 0,
    "start_time": "2023-04-16T09:35:31.237Z"
   },
   {
    "duration": 0,
    "start_time": "2023-04-16T09:35:31.238Z"
   },
   {
    "duration": 0,
    "start_time": "2023-04-16T09:35:31.240Z"
   },
   {
    "duration": 14,
    "start_time": "2023-04-16T09:35:51.219Z"
   },
   {
    "duration": 11,
    "start_time": "2023-04-16T09:36:05.332Z"
   },
   {
    "duration": 12,
    "start_time": "2023-04-16T09:36:26.049Z"
   },
   {
    "duration": 492,
    "start_time": "2023-04-16T09:37:05.486Z"
   },
   {
    "duration": 265,
    "start_time": "2023-04-16T09:37:31.471Z"
   },
   {
    "duration": 9,
    "start_time": "2023-04-16T09:37:53.105Z"
   },
   {
    "duration": 33,
    "start_time": "2023-04-16T09:38:01.906Z"
   },
   {
    "duration": 1035,
    "start_time": "2023-04-16T09:38:28.176Z"
   },
   {
    "duration": 46,
    "start_time": "2023-04-16T09:38:50.022Z"
   },
   {
    "duration": 33,
    "start_time": "2023-04-16T09:39:57.303Z"
   },
   {
    "duration": 54,
    "start_time": "2023-04-16T09:40:44.999Z"
   },
   {
    "duration": 14,
    "start_time": "2023-04-16T09:44:51.638Z"
   },
   {
    "duration": 79,
    "start_time": "2023-04-16T09:44:57.264Z"
   },
   {
    "duration": 27,
    "start_time": "2023-04-16T09:45:01.427Z"
   },
   {
    "duration": 37,
    "start_time": "2023-04-16T09:45:23.783Z"
   },
   {
    "duration": 47,
    "start_time": "2023-04-16T09:45:43.714Z"
   },
   {
    "duration": 5,
    "start_time": "2023-04-16T09:45:53.776Z"
   },
   {
    "duration": 19,
    "start_time": "2023-04-16T09:54:29.271Z"
   },
   {
    "duration": 225,
    "start_time": "2023-04-16T09:54:39.744Z"
   },
   {
    "duration": 34,
    "start_time": "2023-04-16T09:54:39.971Z"
   },
   {
    "duration": 15,
    "start_time": "2023-04-16T09:54:40.007Z"
   },
   {
    "duration": 28,
    "start_time": "2023-04-16T09:54:40.025Z"
   },
   {
    "duration": 27,
    "start_time": "2023-04-16T09:54:40.065Z"
   },
   {
    "duration": 24,
    "start_time": "2023-04-16T09:54:40.094Z"
   },
   {
    "duration": 12,
    "start_time": "2023-04-16T09:54:40.122Z"
   },
   {
    "duration": 58,
    "start_time": "2023-04-16T09:54:40.136Z"
   },
   {
    "duration": 66,
    "start_time": "2023-04-16T09:54:40.196Z"
   },
   {
    "duration": 55,
    "start_time": "2023-04-16T09:54:40.266Z"
   },
   {
    "duration": 50,
    "start_time": "2023-04-16T09:54:40.324Z"
   },
   {
    "duration": 62,
    "start_time": "2023-04-16T09:54:40.376Z"
   },
   {
    "duration": 12,
    "start_time": "2023-04-16T09:54:40.440Z"
   },
   {
    "duration": 1094,
    "start_time": "2023-04-16T09:54:40.457Z"
   },
   {
    "duration": 5,
    "start_time": "2023-04-16T09:54:41.561Z"
   },
   {
    "duration": 398,
    "start_time": "2023-04-16T09:54:41.571Z"
   },
   {
    "duration": 321,
    "start_time": "2023-04-16T09:54:41.971Z"
   },
   {
    "duration": 12,
    "start_time": "2023-04-16T09:54:42.295Z"
   },
   {
    "duration": 1855,
    "start_time": "2023-04-16T09:54:42.310Z"
   },
   {
    "duration": 35,
    "start_time": "2023-04-16T09:54:44.170Z"
   },
   {
    "duration": 9,
    "start_time": "2023-04-16T09:54:44.207Z"
   },
   {
    "duration": 18,
    "start_time": "2023-04-16T09:54:44.218Z"
   },
   {
    "duration": 66,
    "start_time": "2023-04-16T09:54:44.238Z"
   },
   {
    "duration": 24,
    "start_time": "2023-04-16T09:54:52.564Z"
   },
   {
    "duration": 16,
    "start_time": "2023-04-16T09:55:11.011Z"
   },
   {
    "duration": 288,
    "start_time": "2023-04-16T09:55:53.405Z"
   },
   {
    "duration": 259,
    "start_time": "2023-04-16T09:56:11.223Z"
   },
   {
    "duration": 271,
    "start_time": "2023-04-16T09:56:56.577Z"
   },
   {
    "duration": 258,
    "start_time": "2023-04-16T09:58:41.105Z"
   },
   {
    "duration": 250,
    "start_time": "2023-04-16T10:11:57.683Z"
   },
   {
    "duration": 15,
    "start_time": "2023-04-16T10:16:11.817Z"
   },
   {
    "duration": 23,
    "start_time": "2023-04-16T10:16:19.874Z"
   },
   {
    "duration": 235,
    "start_time": "2023-04-16T10:16:31.393Z"
   },
   {
    "duration": 240,
    "start_time": "2023-04-16T10:16:51.185Z"
   },
   {
    "duration": 212,
    "start_time": "2023-04-16T10:17:25.302Z"
   },
   {
    "duration": 244,
    "start_time": "2023-04-16T10:18:20.731Z"
   },
   {
    "duration": 209,
    "start_time": "2023-04-16T10:19:54.108Z"
   },
   {
    "duration": 364,
    "start_time": "2023-04-16T10:20:11.313Z"
   },
   {
    "duration": 68,
    "start_time": "2023-04-16T10:21:29.700Z"
   },
   {
    "duration": 224,
    "start_time": "2023-04-16T10:21:43.055Z"
   },
   {
    "duration": 235,
    "start_time": "2023-04-16T10:22:09.051Z"
   },
   {
    "duration": 210,
    "start_time": "2023-04-16T10:22:22.395Z"
   },
   {
    "duration": 247,
    "start_time": "2023-04-16T10:23:51.041Z"
   },
   {
    "duration": 235,
    "start_time": "2023-04-16T10:24:50.221Z"
   },
   {
    "duration": 231,
    "start_time": "2023-04-16T10:24:59.602Z"
   },
   {
    "duration": 26,
    "start_time": "2023-04-16T10:25:06.365Z"
   },
   {
    "duration": 5,
    "start_time": "2023-04-16T10:26:22.625Z"
   },
   {
    "duration": 18,
    "start_time": "2023-04-16T10:26:26.209Z"
   },
   {
    "duration": 257,
    "start_time": "2023-04-16T10:26:51.258Z"
   },
   {
    "duration": 18,
    "start_time": "2023-04-16T10:32:25.157Z"
   },
   {
    "duration": 24,
    "start_time": "2023-04-16T10:32:39.109Z"
   },
   {
    "duration": 12,
    "start_time": "2023-04-16T10:33:37.830Z"
   },
   {
    "duration": 237,
    "start_time": "2023-04-16T10:33:44.496Z"
   },
   {
    "duration": 259,
    "start_time": "2023-04-16T10:39:54.098Z"
   },
   {
    "duration": 259,
    "start_time": "2023-04-16T10:40:05.201Z"
   },
   {
    "duration": 422,
    "start_time": "2023-04-16T10:40:29.998Z"
   },
   {
    "duration": 269,
    "start_time": "2023-04-16T10:40:41.089Z"
   },
   {
    "duration": 326,
    "start_time": "2023-04-16T10:40:47.375Z"
   },
   {
    "duration": 525,
    "start_time": "2023-04-16T10:41:12.272Z"
   },
   {
    "duration": 321,
    "start_time": "2023-04-16T10:54:48.410Z"
   },
   {
    "duration": 320,
    "start_time": "2023-04-16T10:54:53.128Z"
   },
   {
    "duration": 26,
    "start_time": "2023-04-16T13:06:06.929Z"
   },
   {
    "duration": 165,
    "start_time": "2023-04-16T13:06:36.520Z"
   },
   {
    "duration": 30,
    "start_time": "2023-04-16T13:06:36.688Z"
   },
   {
    "duration": 17,
    "start_time": "2023-04-16T13:06:36.720Z"
   },
   {
    "duration": 37,
    "start_time": "2023-04-16T13:06:36.738Z"
   },
   {
    "duration": 26,
    "start_time": "2023-04-16T13:06:36.778Z"
   },
   {
    "duration": 12,
    "start_time": "2023-04-16T13:06:36.806Z"
   },
   {
    "duration": 35,
    "start_time": "2023-04-16T13:06:36.820Z"
   },
   {
    "duration": 8,
    "start_time": "2023-04-16T13:06:36.857Z"
   },
   {
    "duration": 41,
    "start_time": "2023-04-16T13:06:36.867Z"
   },
   {
    "duration": 19,
    "start_time": "2023-04-16T13:06:36.910Z"
   },
   {
    "duration": 32,
    "start_time": "2023-04-16T13:06:36.930Z"
   },
   {
    "duration": 26,
    "start_time": "2023-04-16T13:06:36.964Z"
   },
   {
    "duration": 5,
    "start_time": "2023-04-16T13:06:36.992Z"
   },
   {
    "duration": 616,
    "start_time": "2023-04-16T13:06:37.000Z"
   },
   {
    "duration": 5,
    "start_time": "2023-04-16T13:06:37.618Z"
   },
   {
    "duration": 232,
    "start_time": "2023-04-16T13:06:37.624Z"
   },
   {
    "duration": 252,
    "start_time": "2023-04-16T13:06:37.858Z"
   },
   {
    "duration": 10,
    "start_time": "2023-04-16T13:06:38.113Z"
   },
   {
    "duration": 1467,
    "start_time": "2023-04-16T13:06:38.125Z"
   },
   {
    "duration": 23,
    "start_time": "2023-04-16T13:06:39.594Z"
   },
   {
    "duration": 23,
    "start_time": "2023-04-16T13:06:39.619Z"
   },
   {
    "duration": 8,
    "start_time": "2023-04-16T13:06:39.653Z"
   },
   {
    "duration": 204,
    "start_time": "2023-04-16T13:06:39.663Z"
   },
   {
    "duration": 227,
    "start_time": "2023-04-16T13:06:39.870Z"
   },
   {
    "duration": 271,
    "start_time": "2023-04-16T13:06:40.100Z"
   },
   {
    "duration": 280,
    "start_time": "2023-04-16T13:06:40.373Z"
   },
   {
    "duration": 28,
    "start_time": "2023-04-16T13:06:56.860Z"
   },
   {
    "duration": 198,
    "start_time": "2023-04-16T13:07:07.923Z"
   },
   {
    "duration": 159,
    "start_time": "2023-04-16T13:07:10.626Z"
   },
   {
    "duration": 26,
    "start_time": "2023-04-16T13:07:10.788Z"
   },
   {
    "duration": 18,
    "start_time": "2023-04-16T13:07:10.816Z"
   },
   {
    "duration": 33,
    "start_time": "2023-04-16T13:07:10.836Z"
   },
   {
    "duration": 21,
    "start_time": "2023-04-16T13:07:10.872Z"
   },
   {
    "duration": 18,
    "start_time": "2023-04-16T13:07:10.895Z"
   },
   {
    "duration": 9,
    "start_time": "2023-04-16T13:07:10.915Z"
   },
   {
    "duration": 24,
    "start_time": "2023-04-16T13:07:10.927Z"
   },
   {
    "duration": 49,
    "start_time": "2023-04-16T13:07:10.955Z"
   },
   {
    "duration": 20,
    "start_time": "2023-04-16T13:07:11.006Z"
   },
   {
    "duration": 32,
    "start_time": "2023-04-16T13:07:11.028Z"
   },
   {
    "duration": 38,
    "start_time": "2023-04-16T13:07:11.063Z"
   },
   {
    "duration": 12,
    "start_time": "2023-04-16T13:07:11.103Z"
   },
   {
    "duration": 680,
    "start_time": "2023-04-16T13:07:11.119Z"
   },
   {
    "duration": 3,
    "start_time": "2023-04-16T13:07:11.802Z"
   },
   {
    "duration": 263,
    "start_time": "2023-04-16T13:07:11.807Z"
   },
   {
    "duration": 266,
    "start_time": "2023-04-16T13:07:12.071Z"
   },
   {
    "duration": 15,
    "start_time": "2023-04-16T13:07:12.341Z"
   },
   {
    "duration": 1517,
    "start_time": "2023-04-16T13:07:12.360Z"
   },
   {
    "duration": 34,
    "start_time": "2023-04-16T13:07:13.879Z"
   },
   {
    "duration": 6,
    "start_time": "2023-04-16T13:07:13.917Z"
   },
   {
    "duration": 54,
    "start_time": "2023-04-16T13:07:13.926Z"
   },
   {
    "duration": 277,
    "start_time": "2023-04-16T13:07:13.982Z"
   },
   {
    "duration": 425,
    "start_time": "2023-04-16T13:07:14.262Z"
   },
   {
    "duration": 252,
    "start_time": "2023-04-16T13:07:14.689Z"
   },
   {
    "duration": 234,
    "start_time": "2023-04-16T13:07:14.943Z"
   },
   {
    "duration": 18,
    "start_time": "2023-04-16T13:07:44.640Z"
   },
   {
    "duration": 24,
    "start_time": "2023-04-16T13:08:24.173Z"
   },
   {
    "duration": 204,
    "start_time": "2023-04-16T13:08:29.908Z"
   },
   {
    "duration": 153,
    "start_time": "2023-04-16T13:08:32.533Z"
   },
   {
    "duration": 23,
    "start_time": "2023-04-16T13:08:32.688Z"
   },
   {
    "duration": 237,
    "start_time": "2023-04-16T13:08:32.712Z"
   },
   {
    "duration": 132,
    "start_time": "2023-04-16T13:08:32.952Z"
   },
   {
    "duration": 22,
    "start_time": "2023-04-16T13:08:33.086Z"
   },
   {
    "duration": 67,
    "start_time": "2023-04-16T13:08:33.111Z"
   },
   {
    "duration": 44,
    "start_time": "2023-04-16T13:08:33.181Z"
   },
   {
    "duration": 102,
    "start_time": "2023-04-16T13:08:33.227Z"
   },
   {
    "duration": 64,
    "start_time": "2023-04-16T13:08:33.331Z"
   },
   {
    "duration": 22,
    "start_time": "2023-04-16T13:08:33.396Z"
   },
   {
    "duration": 17,
    "start_time": "2023-04-16T13:08:33.420Z"
   },
   {
    "duration": 58,
    "start_time": "2023-04-16T13:08:33.439Z"
   },
   {
    "duration": 24,
    "start_time": "2023-04-16T13:08:33.499Z"
   },
   {
    "duration": 633,
    "start_time": "2023-04-16T13:08:33.526Z"
   },
   {
    "duration": 3,
    "start_time": "2023-04-16T13:08:34.161Z"
   },
   {
    "duration": 282,
    "start_time": "2023-04-16T13:08:34.166Z"
   },
   {
    "duration": 243,
    "start_time": "2023-04-16T13:08:34.455Z"
   },
   {
    "duration": 23,
    "start_time": "2023-04-16T13:08:34.700Z"
   },
   {
    "duration": 1363,
    "start_time": "2023-04-16T13:08:34.725Z"
   },
   {
    "duration": 28,
    "start_time": "2023-04-16T13:08:36.092Z"
   },
   {
    "duration": 51,
    "start_time": "2023-04-16T13:08:36.122Z"
   },
   {
    "duration": 56,
    "start_time": "2023-04-16T13:08:36.175Z"
   },
   {
    "duration": 257,
    "start_time": "2023-04-16T13:08:36.233Z"
   },
   {
    "duration": 241,
    "start_time": "2023-04-16T13:08:36.491Z"
   },
   {
    "duration": 377,
    "start_time": "2023-04-16T13:08:36.735Z"
   },
   {
    "duration": 249,
    "start_time": "2023-04-16T13:08:37.114Z"
   },
   {
    "duration": 18,
    "start_time": "2023-04-16T13:09:22.032Z"
   },
   {
    "duration": 156,
    "start_time": "2023-04-16T13:09:41.661Z"
   },
   {
    "duration": 34,
    "start_time": "2023-04-16T13:09:41.820Z"
   },
   {
    "duration": 18,
    "start_time": "2023-04-16T13:09:41.856Z"
   },
   {
    "duration": 25,
    "start_time": "2023-04-16T13:09:41.876Z"
   },
   {
    "duration": 20,
    "start_time": "2023-04-16T13:09:41.904Z"
   },
   {
    "duration": 20,
    "start_time": "2023-04-16T13:09:41.941Z"
   },
   {
    "duration": 193,
    "start_time": "2023-04-16T13:09:41.963Z"
   },
   {
    "duration": 8,
    "start_time": "2023-04-16T13:09:42.160Z"
   },
   {
    "duration": 60,
    "start_time": "2023-04-16T13:09:42.171Z"
   },
   {
    "duration": 71,
    "start_time": "2023-04-16T13:09:42.233Z"
   },
   {
    "duration": 26,
    "start_time": "2023-04-16T13:09:42.307Z"
   },
   {
    "duration": 55,
    "start_time": "2023-04-16T13:09:42.335Z"
   },
   {
    "duration": 6,
    "start_time": "2023-04-16T13:09:42.393Z"
   },
   {
    "duration": 872,
    "start_time": "2023-04-16T13:09:42.402Z"
   },
   {
    "duration": 5,
    "start_time": "2023-04-16T13:09:43.276Z"
   },
   {
    "duration": 696,
    "start_time": "2023-04-16T13:09:43.284Z"
   },
   {
    "duration": 788,
    "start_time": "2023-04-16T13:09:43.983Z"
   },
   {
    "duration": 12,
    "start_time": "2023-04-16T13:09:44.773Z"
   },
   {
    "duration": 2077,
    "start_time": "2023-04-16T13:09:44.790Z"
   },
   {
    "duration": 21,
    "start_time": "2023-04-16T13:09:46.870Z"
   },
   {
    "duration": 13,
    "start_time": "2023-04-16T13:09:46.893Z"
   },
   {
    "duration": 18,
    "start_time": "2023-04-16T13:09:46.909Z"
   },
   {
    "duration": 261,
    "start_time": "2023-04-16T13:09:46.930Z"
   },
   {
    "duration": 248,
    "start_time": "2023-04-16T13:09:47.195Z"
   },
   {
    "duration": 245,
    "start_time": "2023-04-16T13:09:47.445Z"
   },
   {
    "duration": 232,
    "start_time": "2023-04-16T13:09:47.692Z"
   },
   {
    "duration": 346,
    "start_time": "2023-04-16T13:09:57.763Z"
   },
   {
    "duration": 240,
    "start_time": "2023-04-16T13:10:11.320Z"
   },
   {
    "duration": 163,
    "start_time": "2023-04-16T13:12:17.235Z"
   },
   {
    "duration": 28,
    "start_time": "2023-04-16T13:12:17.400Z"
   },
   {
    "duration": 19,
    "start_time": "2023-04-16T13:12:17.430Z"
   },
   {
    "duration": 37,
    "start_time": "2023-04-16T13:12:17.451Z"
   },
   {
    "duration": 22,
    "start_time": "2023-04-16T13:12:17.490Z"
   },
   {
    "duration": 14,
    "start_time": "2023-04-16T13:12:17.514Z"
   },
   {
    "duration": 42,
    "start_time": "2023-04-16T13:12:17.529Z"
   },
   {
    "duration": 26,
    "start_time": "2023-04-16T13:12:17.572Z"
   },
   {
    "duration": 58,
    "start_time": "2023-04-16T13:12:17.600Z"
   },
   {
    "duration": 28,
    "start_time": "2023-04-16T13:12:17.662Z"
   },
   {
    "duration": 14,
    "start_time": "2023-04-16T13:12:17.692Z"
   },
   {
    "duration": 49,
    "start_time": "2023-04-16T13:12:17.708Z"
   },
   {
    "duration": 26,
    "start_time": "2023-04-16T13:12:17.761Z"
   },
   {
    "duration": 617,
    "start_time": "2023-04-16T13:12:17.789Z"
   },
   {
    "duration": 3,
    "start_time": "2023-04-16T13:12:18.408Z"
   },
   {
    "duration": 241,
    "start_time": "2023-04-16T13:12:18.412Z"
   },
   {
    "duration": 258,
    "start_time": "2023-04-16T13:12:18.655Z"
   },
   {
    "duration": 10,
    "start_time": "2023-04-16T13:12:18.915Z"
   },
   {
    "duration": 1386,
    "start_time": "2023-04-16T13:12:18.942Z"
   },
   {
    "duration": 32,
    "start_time": "2023-04-16T13:12:20.330Z"
   },
   {
    "duration": 16,
    "start_time": "2023-04-16T13:12:20.364Z"
   },
   {
    "duration": 18,
    "start_time": "2023-04-16T13:12:20.382Z"
   },
   {
    "duration": 195,
    "start_time": "2023-04-16T13:12:20.402Z"
   },
   {
    "duration": 214,
    "start_time": "2023-04-16T13:12:20.598Z"
   },
   {
    "duration": 246,
    "start_time": "2023-04-16T13:12:20.814Z"
   },
   {
    "duration": 226,
    "start_time": "2023-04-16T13:12:21.062Z"
   },
   {
    "duration": 28,
    "start_time": "2023-04-16T13:12:51.722Z"
   },
   {
    "duration": 49,
    "start_time": "2023-04-17T14:46:31.187Z"
   },
   {
    "duration": 788,
    "start_time": "2023-04-17T14:46:34.148Z"
   },
   {
    "duration": 22,
    "start_time": "2023-04-17T14:46:34.938Z"
   },
   {
    "duration": 11,
    "start_time": "2023-04-17T14:46:34.961Z"
   },
   {
    "duration": 9,
    "start_time": "2023-04-17T14:46:34.974Z"
   },
   {
    "duration": 16,
    "start_time": "2023-04-17T14:46:34.985Z"
   },
   {
    "duration": 12,
    "start_time": "2023-04-17T14:46:35.002Z"
   },
   {
    "duration": 18,
    "start_time": "2023-04-17T14:46:35.016Z"
   },
   {
    "duration": 3,
    "start_time": "2023-04-17T14:46:35.035Z"
   },
   {
    "duration": 44,
    "start_time": "2023-04-17T14:46:35.039Z"
   },
   {
    "duration": 16,
    "start_time": "2023-04-17T14:46:35.085Z"
   },
   {
    "duration": 8,
    "start_time": "2023-04-17T14:46:35.103Z"
   },
   {
    "duration": 30,
    "start_time": "2023-04-17T14:46:35.112Z"
   },
   {
    "duration": 17,
    "start_time": "2023-04-17T14:46:35.160Z"
   },
   {
    "duration": 4,
    "start_time": "2023-04-17T14:46:35.180Z"
   },
   {
    "duration": 527,
    "start_time": "2023-04-17T14:46:35.186Z"
   },
   {
    "duration": 2,
    "start_time": "2023-04-17T14:46:35.715Z"
   },
   {
    "duration": 211,
    "start_time": "2023-04-17T14:46:35.719Z"
   },
   {
    "duration": 445,
    "start_time": "2023-04-17T14:46:35.932Z"
   },
   {
    "duration": 8,
    "start_time": "2023-04-17T14:46:36.379Z"
   },
   {
    "duration": 2265,
    "start_time": "2023-04-17T14:46:36.388Z"
   },
   {
    "duration": 13,
    "start_time": "2023-04-17T14:46:38.659Z"
   },
   {
    "duration": 14,
    "start_time": "2023-04-17T14:46:38.674Z"
   },
   {
    "duration": 8,
    "start_time": "2023-04-17T14:46:38.690Z"
   },
   {
    "duration": 171,
    "start_time": "2023-04-17T14:46:38.699Z"
   },
   {
    "duration": 172,
    "start_time": "2023-04-17T14:46:38.872Z"
   },
   {
    "duration": 192,
    "start_time": "2023-04-17T14:46:39.045Z"
   },
   {
    "duration": 180,
    "start_time": "2023-04-17T14:46:39.239Z"
   },
   {
    "duration": 203,
    "start_time": "2023-04-17T14:50:52.787Z"
   },
   {
    "duration": 190,
    "start_time": "2023-04-17T14:51:12.599Z"
   },
   {
    "duration": 171,
    "start_time": "2023-04-17T14:54:30.487Z"
   },
   {
    "duration": 721,
    "start_time": "2023-04-18T12:29:06.831Z"
   },
   {
    "duration": 22,
    "start_time": "2023-04-18T12:29:07.554Z"
   },
   {
    "duration": 11,
    "start_time": "2023-04-18T12:29:07.577Z"
   },
   {
    "duration": 10,
    "start_time": "2023-04-18T12:29:07.590Z"
   },
   {
    "duration": 13,
    "start_time": "2023-04-18T12:29:07.603Z"
   },
   {
    "duration": 9,
    "start_time": "2023-04-18T12:29:07.618Z"
   },
   {
    "duration": 5,
    "start_time": "2023-04-18T12:29:07.628Z"
   },
   {
    "duration": 2,
    "start_time": "2023-04-18T12:29:07.635Z"
   },
   {
    "duration": 27,
    "start_time": "2023-04-18T12:29:07.638Z"
   },
   {
    "duration": 17,
    "start_time": "2023-04-18T12:29:07.694Z"
   },
   {
    "duration": 10,
    "start_time": "2023-04-18T12:29:07.713Z"
   },
   {
    "duration": 22,
    "start_time": "2023-04-18T12:29:07.725Z"
   },
   {
    "duration": 17,
    "start_time": "2023-04-18T12:29:07.749Z"
   },
   {
    "duration": 4,
    "start_time": "2023-04-18T12:29:07.794Z"
   },
   {
    "duration": 512,
    "start_time": "2023-04-18T12:29:07.800Z"
   },
   {
    "duration": 3,
    "start_time": "2023-04-18T12:29:08.314Z"
   },
   {
    "duration": 393,
    "start_time": "2023-04-18T12:29:08.319Z"
   },
   {
    "duration": 418,
    "start_time": "2023-04-18T12:29:08.714Z"
   },
   {
    "duration": 61,
    "start_time": "2023-04-18T12:29:09.134Z"
   },
   {
    "duration": 1900,
    "start_time": "2023-04-18T12:29:09.197Z"
   },
   {
    "duration": 13,
    "start_time": "2023-04-18T12:29:11.098Z"
   },
   {
    "duration": 6,
    "start_time": "2023-04-18T12:29:11.113Z"
   },
   {
    "duration": 5,
    "start_time": "2023-04-18T12:29:11.121Z"
   },
   {
    "duration": 0,
    "start_time": "2023-04-18T12:29:11.199Z"
   },
   {
    "duration": 0,
    "start_time": "2023-04-18T12:29:11.200Z"
   },
   {
    "duration": 0,
    "start_time": "2023-04-18T12:29:11.201Z"
   },
   {
    "duration": 0,
    "start_time": "2023-04-18T12:29:11.202Z"
   },
   {
    "duration": 72,
    "start_time": "2023-04-18T12:29:24.972Z"
   },
   {
    "duration": 144,
    "start_time": "2023-04-18T12:29:32.414Z"
   },
   {
    "duration": 151,
    "start_time": "2023-04-18T12:30:33.310Z"
   },
   {
    "duration": 69,
    "start_time": "2023-04-18T12:30:57.114Z"
   },
   {
    "duration": 147,
    "start_time": "2023-04-18T12:31:15.529Z"
   },
   {
    "duration": 195,
    "start_time": "2023-04-18T12:31:57.071Z"
   },
   {
    "duration": 202,
    "start_time": "2023-04-18T12:33:13.557Z"
   },
   {
    "duration": 151,
    "start_time": "2023-04-18T12:33:19.275Z"
   },
   {
    "duration": 164,
    "start_time": "2023-04-18T12:33:49.278Z"
   },
   {
    "duration": 287,
    "start_time": "2023-04-18T12:43:03.922Z"
   },
   {
    "duration": 287,
    "start_time": "2023-04-18T12:44:19.624Z"
   },
   {
    "duration": 13,
    "start_time": "2023-04-18T12:44:42.110Z"
   },
   {
    "duration": 363,
    "start_time": "2023-04-18T12:44:55.821Z"
   },
   {
    "duration": 264,
    "start_time": "2023-04-18T12:45:07.170Z"
   },
   {
    "duration": 240,
    "start_time": "2023-04-18T12:45:17.261Z"
   },
   {
    "duration": 247,
    "start_time": "2023-04-18T12:46:06.161Z"
   },
   {
    "duration": 244,
    "start_time": "2023-04-18T12:46:53.979Z"
   },
   {
    "duration": 226,
    "start_time": "2023-04-18T12:48:53.548Z"
   },
   {
    "duration": 241,
    "start_time": "2023-04-18T12:49:26.220Z"
   },
   {
    "duration": 228,
    "start_time": "2023-04-18T12:49:47.523Z"
   },
   {
    "duration": 243,
    "start_time": "2023-04-18T12:50:01.563Z"
   },
   {
    "duration": 168,
    "start_time": "2023-04-18T12:57:16.868Z"
   },
   {
    "duration": 258,
    "start_time": "2023-04-18T12:57:52.571Z"
   },
   {
    "duration": 99,
    "start_time": "2023-04-18T12:58:14.220Z"
   },
   {
    "duration": 231,
    "start_time": "2023-04-18T12:58:45.466Z"
   },
   {
    "duration": 178,
    "start_time": "2023-04-18T12:59:53.031Z"
   },
   {
    "duration": 205,
    "start_time": "2023-04-18T13:00:55.916Z"
   },
   {
    "duration": 167,
    "start_time": "2023-04-18T13:01:23.166Z"
   },
   {
    "duration": 197,
    "start_time": "2023-04-18T13:01:40.222Z"
   },
   {
    "duration": 205,
    "start_time": "2023-04-18T13:05:13.920Z"
   },
   {
    "duration": 188,
    "start_time": "2023-04-18T13:05:16.276Z"
   },
   {
    "duration": 196,
    "start_time": "2023-04-18T13:05:46.316Z"
   },
   {
    "duration": 180,
    "start_time": "2023-04-18T13:05:54.926Z"
   },
   {
    "duration": 48,
    "start_time": "2023-04-18T15:50:39.127Z"
   },
   {
    "duration": 834,
    "start_time": "2023-04-18T15:50:45.244Z"
   },
   {
    "duration": 30,
    "start_time": "2023-04-18T15:50:46.081Z"
   },
   {
    "duration": 17,
    "start_time": "2023-04-18T15:50:46.113Z"
   },
   {
    "duration": 15,
    "start_time": "2023-04-18T15:50:46.132Z"
   },
   {
    "duration": 20,
    "start_time": "2023-04-18T15:50:46.150Z"
   },
   {
    "duration": 39,
    "start_time": "2023-04-18T15:50:46.172Z"
   },
   {
    "duration": 6,
    "start_time": "2023-04-18T15:50:46.213Z"
   },
   {
    "duration": 10,
    "start_time": "2023-04-18T15:50:46.221Z"
   },
   {
    "duration": 41,
    "start_time": "2023-04-18T15:50:46.232Z"
   },
   {
    "duration": 38,
    "start_time": "2023-04-18T15:50:46.276Z"
   },
   {
    "duration": 9,
    "start_time": "2023-04-18T15:50:46.315Z"
   },
   {
    "duration": 23,
    "start_time": "2023-04-18T15:50:46.326Z"
   },
   {
    "duration": 67,
    "start_time": "2023-04-18T15:50:46.350Z"
   },
   {
    "duration": 4,
    "start_time": "2023-04-18T15:50:46.419Z"
   },
   {
    "duration": 1030,
    "start_time": "2023-04-18T15:50:46.425Z"
   },
   {
    "duration": 2,
    "start_time": "2023-04-18T15:50:47.457Z"
   },
   {
    "duration": 423,
    "start_time": "2023-04-18T15:50:47.512Z"
   },
   {
    "duration": 270,
    "start_time": "2023-04-18T15:50:47.937Z"
   },
   {
    "duration": 8,
    "start_time": "2023-04-18T15:50:48.209Z"
   },
   {
    "duration": 1687,
    "start_time": "2023-04-18T15:50:48.219Z"
   },
   {
    "duration": 19,
    "start_time": "2023-04-18T15:50:49.908Z"
   },
   {
    "duration": 14,
    "start_time": "2023-04-18T15:50:49.929Z"
   },
   {
    "duration": 7,
    "start_time": "2023-04-18T15:50:49.945Z"
   },
   {
    "duration": 188,
    "start_time": "2023-04-18T15:50:49.954Z"
   },
   {
    "duration": 189,
    "start_time": "2023-04-18T15:50:50.144Z"
   },
   {
    "duration": 220,
    "start_time": "2023-04-18T15:50:50.334Z"
   },
   {
    "duration": 197,
    "start_time": "2023-04-18T15:50:50.555Z"
   },
   {
    "duration": 207,
    "start_time": "2023-04-18T15:50:50.754Z"
   },
   {
    "duration": 269,
    "start_time": "2023-04-18T15:50:50.963Z"
   },
   {
    "duration": 199,
    "start_time": "2023-04-18T15:50:51.234Z"
   },
   {
    "duration": 246,
    "start_time": "2023-04-18T15:50:51.435Z"
   },
   {
    "duration": 298,
    "start_time": "2023-04-18T15:51:02.915Z"
   },
   {
    "duration": 247,
    "start_time": "2023-04-18T16:02:32.922Z"
   },
   {
    "duration": 9,
    "start_time": "2023-04-18T16:25:26.552Z"
   },
   {
    "duration": 38,
    "start_time": "2023-04-18T18:17:00.019Z"
   },
   {
    "duration": 1161,
    "start_time": "2023-04-18T18:17:14.512Z"
   },
   {
    "duration": 25,
    "start_time": "2023-04-18T18:17:28.117Z"
   },
   {
    "duration": 14,
    "start_time": "2023-04-18T18:17:34.210Z"
   },
   {
    "duration": 12,
    "start_time": "2023-04-18T18:17:37.341Z"
   },
   {
    "duration": 15,
    "start_time": "2023-04-18T18:17:53.517Z"
   },
   {
    "duration": 126,
    "start_time": "2023-04-18T18:17:56.913Z"
   },
   {
    "duration": 20,
    "start_time": "2023-04-18T18:17:57.041Z"
   },
   {
    "duration": 11,
    "start_time": "2023-04-18T18:17:57.062Z"
   },
   {
    "duration": 20,
    "start_time": "2023-04-18T18:17:57.074Z"
   },
   {
    "duration": 28,
    "start_time": "2023-04-18T18:17:57.096Z"
   },
   {
    "duration": 12,
    "start_time": "2023-04-18T18:17:57.125Z"
   },
   {
    "duration": 5,
    "start_time": "2023-04-18T18:17:57.139Z"
   },
   {
    "duration": 31,
    "start_time": "2023-04-18T18:17:57.145Z"
   },
   {
    "duration": 15,
    "start_time": "2023-04-18T18:17:57.178Z"
   },
   {
    "duration": 8,
    "start_time": "2023-04-18T18:17:57.212Z"
   },
   {
    "duration": 14,
    "start_time": "2023-04-18T18:17:57.221Z"
   },
   {
    "duration": 22,
    "start_time": "2023-04-18T18:17:57.236Z"
   },
   {
    "duration": 4,
    "start_time": "2023-04-18T18:17:57.260Z"
   },
   {
    "duration": 481,
    "start_time": "2023-04-18T18:17:57.267Z"
   },
   {
    "duration": 2,
    "start_time": "2023-04-18T18:17:57.749Z"
   },
   {
    "duration": 189,
    "start_time": "2023-04-18T18:17:57.753Z"
   },
   {
    "duration": 194,
    "start_time": "2023-04-18T18:17:57.944Z"
   },
   {
    "duration": 9,
    "start_time": "2023-04-18T18:17:58.140Z"
   },
   {
    "duration": 1076,
    "start_time": "2023-04-18T18:17:58.150Z"
   },
   {
    "duration": 13,
    "start_time": "2023-04-18T18:17:59.228Z"
   },
   {
    "duration": 18,
    "start_time": "2023-04-18T18:17:59.243Z"
   },
   {
    "duration": 13,
    "start_time": "2023-04-18T18:17:59.263Z"
   },
   {
    "duration": 253,
    "start_time": "2023-04-18T18:17:59.278Z"
   },
   {
    "duration": 184,
    "start_time": "2023-04-18T18:17:59.532Z"
   },
   {
    "duration": 215,
    "start_time": "2023-04-18T18:17:59.718Z"
   },
   {
    "duration": 192,
    "start_time": "2023-04-18T18:17:59.936Z"
   },
   {
    "duration": 8,
    "start_time": "2023-04-18T18:18:00.129Z"
   },
   {
    "duration": 224,
    "start_time": "2023-04-18T18:18:00.138Z"
   },
   {
    "duration": 587,
    "start_time": "2023-04-18T18:18:00.363Z"
   },
   {
    "duration": 405,
    "start_time": "2023-04-18T18:18:00.952Z"
   },
   {
    "duration": 511,
    "start_time": "2023-04-18T18:18:01.411Z"
   },
   {
    "duration": 18,
    "start_time": "2023-04-18T18:23:28.526Z"
   },
   {
    "duration": 26,
    "start_time": "2023-04-18T18:26:32.504Z"
   },
   {
    "duration": 885,
    "start_time": "2023-04-18T18:32:39.928Z"
   },
   {
    "duration": 62,
    "start_time": "2023-04-18T18:38:04.821Z"
   },
   {
    "duration": 105,
    "start_time": "2023-04-18T18:38:24.349Z"
   },
   {
    "duration": 24,
    "start_time": "2023-04-18T18:38:44.218Z"
   },
   {
    "duration": 19,
    "start_time": "2023-04-18T18:38:56.225Z"
   },
   {
    "duration": 19,
    "start_time": "2023-04-18T18:38:57.830Z"
   },
   {
    "duration": 132,
    "start_time": "2023-04-18T18:39:20.425Z"
   },
   {
    "duration": 23,
    "start_time": "2023-04-18T18:39:20.559Z"
   },
   {
    "duration": 14,
    "start_time": "2023-04-18T18:39:20.584Z"
   },
   {
    "duration": 17,
    "start_time": "2023-04-18T18:39:20.600Z"
   },
   {
    "duration": 33,
    "start_time": "2023-04-18T18:39:20.624Z"
   },
   {
    "duration": 23,
    "start_time": "2023-04-18T18:39:20.659Z"
   },
   {
    "duration": 5,
    "start_time": "2023-04-18T18:39:20.684Z"
   },
   {
    "duration": 39,
    "start_time": "2023-04-18T18:39:20.691Z"
   },
   {
    "duration": 21,
    "start_time": "2023-04-18T18:39:20.732Z"
   },
   {
    "duration": 8,
    "start_time": "2023-04-18T18:39:20.755Z"
   },
   {
    "duration": 19,
    "start_time": "2023-04-18T18:39:20.765Z"
   },
   {
    "duration": 41,
    "start_time": "2023-04-18T18:39:20.786Z"
   },
   {
    "duration": 4,
    "start_time": "2023-04-18T18:39:20.829Z"
   },
   {
    "duration": 542,
    "start_time": "2023-04-18T18:39:20.836Z"
   },
   {
    "duration": 97,
    "start_time": "2023-04-18T18:39:21.380Z"
   },
   {
    "duration": 215,
    "start_time": "2023-04-18T18:39:21.479Z"
   },
   {
    "duration": 245,
    "start_time": "2023-04-18T18:39:21.696Z"
   },
   {
    "duration": 9,
    "start_time": "2023-04-18T18:39:21.942Z"
   },
   {
    "duration": 1243,
    "start_time": "2023-04-18T18:39:21.953Z"
   },
   {
    "duration": 27,
    "start_time": "2023-04-18T18:39:23.198Z"
   },
   {
    "duration": 16,
    "start_time": "2023-04-18T18:39:23.227Z"
   },
   {
    "duration": 17,
    "start_time": "2023-04-18T18:39:23.245Z"
   },
   {
    "duration": 197,
    "start_time": "2023-04-18T18:39:23.264Z"
   },
   {
    "duration": 226,
    "start_time": "2023-04-18T18:39:23.463Z"
   },
   {
    "duration": 225,
    "start_time": "2023-04-18T18:39:23.691Z"
   },
   {
    "duration": 321,
    "start_time": "2023-04-18T18:39:23.919Z"
   },
   {
    "duration": 11,
    "start_time": "2023-04-18T18:39:24.242Z"
   },
   {
    "duration": 662,
    "start_time": "2023-04-18T18:39:24.255Z"
   },
   {
    "duration": 595,
    "start_time": "2023-04-18T18:39:24.925Z"
   },
   {
    "duration": 432,
    "start_time": "2023-04-18T18:39:25.522Z"
   },
   {
    "duration": 779,
    "start_time": "2023-04-18T18:39:25.955Z"
   },
   {
    "duration": 19,
    "start_time": "2023-04-18T18:39:32.148Z"
   },
   {
    "duration": 20,
    "start_time": "2023-04-18T18:40:54.064Z"
   },
   {
    "duration": 147,
    "start_time": "2023-04-18T18:41:01.120Z"
   },
   {
    "duration": 23,
    "start_time": "2023-04-18T18:41:01.268Z"
   },
   {
    "duration": 54,
    "start_time": "2023-04-18T18:41:01.292Z"
   },
   {
    "duration": 40,
    "start_time": "2023-04-18T18:41:01.347Z"
   },
   {
    "duration": 62,
    "start_time": "2023-04-18T18:41:01.390Z"
   },
   {
    "duration": 32,
    "start_time": "2023-04-18T18:41:01.454Z"
   },
   {
    "duration": 42,
    "start_time": "2023-04-18T18:41:01.488Z"
   },
   {
    "duration": 66,
    "start_time": "2023-04-18T18:41:01.532Z"
   },
   {
    "duration": 64,
    "start_time": "2023-04-18T18:41:01.600Z"
   },
   {
    "duration": 35,
    "start_time": "2023-04-18T18:41:01.666Z"
   },
   {
    "duration": 30,
    "start_time": "2023-04-18T18:41:01.704Z"
   },
   {
    "duration": 47,
    "start_time": "2023-04-18T18:41:01.736Z"
   },
   {
    "duration": 37,
    "start_time": "2023-04-18T18:41:01.784Z"
   },
   {
    "duration": 726,
    "start_time": "2023-04-18T18:41:01.825Z"
   },
   {
    "duration": 202,
    "start_time": "2023-04-18T18:41:02.553Z"
   },
   {
    "duration": 483,
    "start_time": "2023-04-18T18:41:02.757Z"
   },
   {
    "duration": 513,
    "start_time": "2023-04-18T18:41:03.242Z"
   },
   {
    "duration": 63,
    "start_time": "2023-04-18T18:41:03.756Z"
   },
   {
    "duration": 1613,
    "start_time": "2023-04-18T18:41:03.822Z"
   },
   {
    "duration": 13,
    "start_time": "2023-04-18T18:41:05.437Z"
   },
   {
    "duration": 16,
    "start_time": "2023-04-18T18:41:05.452Z"
   },
   {
    "duration": 28,
    "start_time": "2023-04-18T18:41:05.470Z"
   },
   {
    "duration": 179,
    "start_time": "2023-04-18T18:41:05.500Z"
   },
   {
    "duration": 196,
    "start_time": "2023-04-18T18:41:05.680Z"
   },
   {
    "duration": 237,
    "start_time": "2023-04-18T18:41:05.878Z"
   },
   {
    "duration": 191,
    "start_time": "2023-04-18T18:41:06.123Z"
   },
   {
    "duration": 11,
    "start_time": "2023-04-18T18:41:06.322Z"
   },
   {
    "duration": 260,
    "start_time": "2023-04-18T18:41:06.335Z"
   },
   {
    "duration": 390,
    "start_time": "2023-04-18T18:41:06.597Z"
   },
   {
    "duration": 216,
    "start_time": "2023-04-18T18:41:06.989Z"
   },
   {
    "duration": 262,
    "start_time": "2023-04-18T18:41:07.211Z"
   },
   {
    "duration": 19,
    "start_time": "2023-04-18T18:41:07.521Z"
   },
   {
    "duration": 9,
    "start_time": "2023-04-18T18:41:10.629Z"
   },
   {
    "duration": 19,
    "start_time": "2023-04-18T18:41:36.556Z"
   },
   {
    "duration": 17,
    "start_time": "2023-04-18T18:45:36.285Z"
   },
   {
    "duration": 127,
    "start_time": "2023-04-18T18:46:16.316Z"
   },
   {
    "duration": 21,
    "start_time": "2023-04-18T18:46:16.444Z"
   },
   {
    "duration": 11,
    "start_time": "2023-04-18T18:46:16.467Z"
   },
   {
    "duration": 10,
    "start_time": "2023-04-18T18:46:16.479Z"
   },
   {
    "duration": 17,
    "start_time": "2023-04-18T18:46:16.492Z"
   },
   {
    "duration": 9,
    "start_time": "2023-04-18T18:46:16.511Z"
   },
   {
    "duration": 10,
    "start_time": "2023-04-18T18:46:16.521Z"
   },
   {
    "duration": 26,
    "start_time": "2023-04-18T18:46:16.533Z"
   },
   {
    "duration": 25,
    "start_time": "2023-04-18T18:46:16.560Z"
   },
   {
    "duration": 25,
    "start_time": "2023-04-18T18:46:16.587Z"
   },
   {
    "duration": 6,
    "start_time": "2023-04-18T18:46:16.614Z"
   },
   {
    "duration": 24,
    "start_time": "2023-04-18T18:46:16.622Z"
   },
   {
    "duration": 4,
    "start_time": "2023-04-18T18:46:16.648Z"
   },
   {
    "duration": 511,
    "start_time": "2023-04-18T18:46:16.655Z"
   },
   {
    "duration": 99,
    "start_time": "2023-04-18T18:46:17.168Z"
   },
   {
    "duration": 189,
    "start_time": "2023-04-18T18:46:17.268Z"
   },
   {
    "duration": 201,
    "start_time": "2023-04-18T18:46:17.458Z"
   },
   {
    "duration": 7,
    "start_time": "2023-04-18T18:46:17.661Z"
   },
   {
    "duration": 1114,
    "start_time": "2023-04-18T18:46:17.670Z"
   },
   {
    "duration": 11,
    "start_time": "2023-04-18T18:46:18.786Z"
   },
   {
    "duration": 46,
    "start_time": "2023-04-18T18:46:18.798Z"
   },
   {
    "duration": 8,
    "start_time": "2023-04-18T18:46:18.845Z"
   },
   {
    "duration": 171,
    "start_time": "2023-04-18T18:46:18.854Z"
   },
   {
    "duration": 387,
    "start_time": "2023-04-18T18:46:19.027Z"
   },
   {
    "duration": 396,
    "start_time": "2023-04-18T18:46:19.416Z"
   },
   {
    "duration": 331,
    "start_time": "2023-04-18T18:46:19.814Z"
   },
   {
    "duration": 7,
    "start_time": "2023-04-18T18:46:20.147Z"
   },
   {
    "duration": 458,
    "start_time": "2023-04-18T18:46:20.156Z"
   },
   {
    "duration": 537,
    "start_time": "2023-04-18T18:46:20.616Z"
   },
   {
    "duration": 202,
    "start_time": "2023-04-18T18:46:21.154Z"
   },
   {
    "duration": 238,
    "start_time": "2023-04-18T18:46:21.358Z"
   },
   {
    "duration": 97,
    "start_time": "2023-04-18T18:46:22.028Z"
   },
   {
    "duration": 105,
    "start_time": "2023-04-18T18:46:26.410Z"
   },
   {
    "duration": 114,
    "start_time": "2023-04-18T18:46:36.611Z"
   },
   {
    "duration": 119,
    "start_time": "2023-04-18T18:48:58.610Z"
   },
   {
    "duration": 105,
    "start_time": "2023-04-18T18:49:57.812Z"
   },
   {
    "duration": 128,
    "start_time": "2023-04-18T18:50:40.713Z"
   },
   {
    "duration": 24,
    "start_time": "2023-04-18T18:50:40.844Z"
   },
   {
    "duration": 11,
    "start_time": "2023-04-18T18:50:40.870Z"
   },
   {
    "duration": 12,
    "start_time": "2023-04-18T18:50:40.883Z"
   },
   {
    "duration": 20,
    "start_time": "2023-04-18T18:50:40.897Z"
   },
   {
    "duration": 15,
    "start_time": "2023-04-18T18:50:40.920Z"
   },
   {
    "duration": 7,
    "start_time": "2023-04-18T18:50:40.937Z"
   },
   {
    "duration": 43,
    "start_time": "2023-04-18T18:50:40.946Z"
   },
   {
    "duration": 19,
    "start_time": "2023-04-18T18:50:41.013Z"
   },
   {
    "duration": 10,
    "start_time": "2023-04-18T18:50:41.034Z"
   },
   {
    "duration": 6,
    "start_time": "2023-04-18T18:50:41.046Z"
   },
   {
    "duration": 22,
    "start_time": "2023-04-18T18:50:41.054Z"
   },
   {
    "duration": 4,
    "start_time": "2023-04-18T18:50:41.078Z"
   },
   {
    "duration": 512,
    "start_time": "2023-04-18T18:50:41.113Z"
   },
   {
    "duration": 119,
    "start_time": "2023-04-18T18:50:41.627Z"
   },
   {
    "duration": 273,
    "start_time": "2023-04-18T18:50:41.748Z"
   },
   {
    "duration": 393,
    "start_time": "2023-04-18T18:50:42.023Z"
   },
   {
    "duration": 7,
    "start_time": "2023-04-18T18:50:42.418Z"
   },
   {
    "duration": 2610,
    "start_time": "2023-04-18T18:50:42.427Z"
   },
   {
    "duration": 13,
    "start_time": "2023-04-18T18:50:45.039Z"
   },
   {
    "duration": 61,
    "start_time": "2023-04-18T18:50:45.053Z"
   },
   {
    "duration": 6,
    "start_time": "2023-04-18T18:50:45.116Z"
   },
   {
    "duration": 269,
    "start_time": "2023-04-18T18:50:45.123Z"
   },
   {
    "duration": 177,
    "start_time": "2023-04-18T18:50:45.394Z"
   },
   {
    "duration": 197,
    "start_time": "2023-04-18T18:50:45.573Z"
   },
   {
    "duration": 196,
    "start_time": "2023-04-18T18:50:45.772Z"
   },
   {
    "duration": 7,
    "start_time": "2023-04-18T18:50:45.970Z"
   },
   {
    "duration": 216,
    "start_time": "2023-04-18T18:50:45.979Z"
   },
   {
    "duration": 261,
    "start_time": "2023-04-18T18:50:46.197Z"
   },
   {
    "duration": 213,
    "start_time": "2023-04-18T18:50:46.460Z"
   },
   {
    "duration": 372,
    "start_time": "2023-04-18T18:50:46.675Z"
   },
   {
    "duration": 106,
    "start_time": "2023-04-18T18:50:47.948Z"
   },
   {
    "duration": 48,
    "start_time": "2023-04-18T18:52:38.260Z"
   },
   {
    "duration": 46,
    "start_time": "2023-04-18T18:52:45.498Z"
   },
   {
    "duration": 45,
    "start_time": "2023-04-18T18:53:08.516Z"
   },
   {
    "duration": 108,
    "start_time": "2023-04-18T18:53:16.714Z"
   },
   {
    "duration": 813,
    "start_time": "2023-04-18T18:55:18.300Z"
   },
   {
    "duration": 198,
    "start_time": "2023-04-18T19:05:41.147Z"
   },
   {
    "duration": 183,
    "start_time": "2023-04-18T19:05:50.616Z"
   },
   {
    "duration": 177,
    "start_time": "2023-04-18T19:07:11.564Z"
   },
   {
    "duration": 182,
    "start_time": "2023-04-18T19:07:28.533Z"
   },
   {
    "duration": 212,
    "start_time": "2023-04-18T19:15:15.506Z"
   },
   {
    "duration": 200,
    "start_time": "2023-04-18T19:15:25.402Z"
   },
   {
    "duration": 131,
    "start_time": "2023-04-18T19:27:46.737Z"
   },
   {
    "duration": 20,
    "start_time": "2023-04-18T19:27:46.870Z"
   },
   {
    "duration": 20,
    "start_time": "2023-04-18T19:27:46.891Z"
   },
   {
    "duration": 19,
    "start_time": "2023-04-18T19:27:46.912Z"
   },
   {
    "duration": 20,
    "start_time": "2023-04-18T19:27:46.933Z"
   },
   {
    "duration": 25,
    "start_time": "2023-04-18T19:27:46.955Z"
   },
   {
    "duration": 15,
    "start_time": "2023-04-18T19:27:46.982Z"
   },
   {
    "duration": 182,
    "start_time": "2023-04-18T19:27:46.999Z"
   },
   {
    "duration": 36,
    "start_time": "2023-04-18T19:27:47.183Z"
   },
   {
    "duration": 17,
    "start_time": "2023-04-18T19:27:47.220Z"
   },
   {
    "duration": 7,
    "start_time": "2023-04-18T19:27:47.239Z"
   },
   {
    "duration": 7,
    "start_time": "2023-04-18T19:27:47.248Z"
   },
   {
    "duration": 22,
    "start_time": "2023-04-18T19:27:47.257Z"
   },
   {
    "duration": 30,
    "start_time": "2023-04-18T19:27:47.282Z"
   },
   {
    "duration": 598,
    "start_time": "2023-04-18T19:27:47.314Z"
   },
   {
    "duration": 1714,
    "start_time": "2023-04-18T19:27:47.913Z"
   },
   {
    "duration": 600,
    "start_time": "2023-04-18T19:27:49.629Z"
   },
   {
    "duration": 0,
    "start_time": "2023-04-18T19:27:50.231Z"
   },
   {
    "duration": 0,
    "start_time": "2023-04-18T19:27:50.233Z"
   },
   {
    "duration": 0,
    "start_time": "2023-04-18T19:27:50.234Z"
   },
   {
    "duration": 0,
    "start_time": "2023-04-18T19:27:50.235Z"
   },
   {
    "duration": 0,
    "start_time": "2023-04-18T19:27:50.236Z"
   },
   {
    "duration": 0,
    "start_time": "2023-04-18T19:27:50.237Z"
   },
   {
    "duration": 0,
    "start_time": "2023-04-18T19:27:50.238Z"
   },
   {
    "duration": 0,
    "start_time": "2023-04-18T19:27:50.239Z"
   },
   {
    "duration": 0,
    "start_time": "2023-04-18T19:27:50.240Z"
   },
   {
    "duration": 0,
    "start_time": "2023-04-18T19:27:50.241Z"
   },
   {
    "duration": 0,
    "start_time": "2023-04-18T19:27:50.242Z"
   },
   {
    "duration": 0,
    "start_time": "2023-04-18T19:27:50.243Z"
   },
   {
    "duration": 0,
    "start_time": "2023-04-18T19:27:50.244Z"
   },
   {
    "duration": 0,
    "start_time": "2023-04-18T19:27:50.245Z"
   },
   {
    "duration": 5,
    "start_time": "2023-04-18T19:36:39.110Z"
   },
   {
    "duration": 154,
    "start_time": "2023-04-18T19:37:03.231Z"
   },
   {
    "duration": 22,
    "start_time": "2023-04-18T19:37:03.387Z"
   },
   {
    "duration": 16,
    "start_time": "2023-04-18T19:37:03.411Z"
   },
   {
    "duration": 23,
    "start_time": "2023-04-18T19:37:03.428Z"
   },
   {
    "duration": 36,
    "start_time": "2023-04-18T19:37:03.453Z"
   },
   {
    "duration": 23,
    "start_time": "2023-04-18T19:37:03.491Z"
   },
   {
    "duration": 11,
    "start_time": "2023-04-18T19:37:03.516Z"
   },
   {
    "duration": 51,
    "start_time": "2023-04-18T19:37:03.529Z"
   },
   {
    "duration": 20,
    "start_time": "2023-04-18T19:37:03.582Z"
   },
   {
    "duration": 20,
    "start_time": "2023-04-18T19:37:03.604Z"
   },
   {
    "duration": 8,
    "start_time": "2023-04-18T19:37:03.626Z"
   },
   {
    "duration": 38,
    "start_time": "2023-04-18T19:37:03.636Z"
   },
   {
    "duration": 5,
    "start_time": "2023-04-18T19:37:03.676Z"
   },
   {
    "duration": 666,
    "start_time": "2023-04-18T19:37:03.684Z"
   },
   {
    "duration": 1787,
    "start_time": "2023-04-18T19:37:04.352Z"
   },
   {
    "duration": 4,
    "start_time": "2023-04-18T19:37:06.140Z"
   },
   {
    "duration": 638,
    "start_time": "2023-04-18T19:37:06.146Z"
   },
   {
    "duration": 0,
    "start_time": "2023-04-18T19:37:06.786Z"
   },
   {
    "duration": 0,
    "start_time": "2023-04-18T19:37:06.787Z"
   },
   {
    "duration": 0,
    "start_time": "2023-04-18T19:37:06.788Z"
   },
   {
    "duration": 0,
    "start_time": "2023-04-18T19:37:06.790Z"
   },
   {
    "duration": 0,
    "start_time": "2023-04-18T19:37:06.790Z"
   },
   {
    "duration": 0,
    "start_time": "2023-04-18T19:37:06.792Z"
   },
   {
    "duration": 0,
    "start_time": "2023-04-18T19:37:06.793Z"
   },
   {
    "duration": 0,
    "start_time": "2023-04-18T19:37:06.794Z"
   },
   {
    "duration": 0,
    "start_time": "2023-04-18T19:37:06.795Z"
   },
   {
    "duration": 0,
    "start_time": "2023-04-18T19:37:06.796Z"
   },
   {
    "duration": 0,
    "start_time": "2023-04-18T19:37:06.797Z"
   },
   {
    "duration": 0,
    "start_time": "2023-04-18T19:37:06.798Z"
   },
   {
    "duration": 0,
    "start_time": "2023-04-18T19:37:06.800Z"
   },
   {
    "duration": 0,
    "start_time": "2023-04-18T19:37:06.801Z"
   },
   {
    "duration": 17,
    "start_time": "2023-04-18T19:49:34.282Z"
   },
   {
    "duration": 5,
    "start_time": "2023-04-18T19:50:00.485Z"
   },
   {
    "duration": 4,
    "start_time": "2023-04-18T19:50:04.621Z"
   },
   {
    "duration": 156,
    "start_time": "2023-04-18T19:50:05.225Z"
   },
   {
    "duration": 4,
    "start_time": "2023-04-18T19:50:11.626Z"
   },
   {
    "duration": 583,
    "start_time": "2023-04-18T19:50:13.128Z"
   },
   {
    "duration": 186,
    "start_time": "2023-04-18T19:51:54.047Z"
   },
   {
    "duration": 178,
    "start_time": "2023-04-18T19:51:58.420Z"
   },
   {
    "duration": 788,
    "start_time": "2023-04-19T10:37:37.829Z"
   },
   {
    "duration": 25,
    "start_time": "2023-04-19T10:37:38.620Z"
   },
   {
    "duration": 19,
    "start_time": "2023-04-19T10:37:38.647Z"
   },
   {
    "duration": 17,
    "start_time": "2023-04-19T10:37:38.668Z"
   },
   {
    "duration": 19,
    "start_time": "2023-04-19T10:37:38.688Z"
   },
   {
    "duration": 33,
    "start_time": "2023-04-19T10:37:38.709Z"
   },
   {
    "duration": 7,
    "start_time": "2023-04-19T10:37:38.744Z"
   },
   {
    "duration": 45,
    "start_time": "2023-04-19T10:37:38.752Z"
   },
   {
    "duration": 20,
    "start_time": "2023-04-19T10:37:38.799Z"
   },
   {
    "duration": 25,
    "start_time": "2023-04-19T10:37:38.821Z"
   },
   {
    "duration": 14,
    "start_time": "2023-04-19T10:37:38.848Z"
   },
   {
    "duration": 32,
    "start_time": "2023-04-19T10:37:38.864Z"
   },
   {
    "duration": 7,
    "start_time": "2023-04-19T10:37:38.897Z"
   },
   {
    "duration": 1133,
    "start_time": "2023-04-19T10:37:38.908Z"
   },
   {
    "duration": 1448,
    "start_time": "2023-04-19T10:37:40.043Z"
   },
   {
    "duration": 4,
    "start_time": "2023-04-19T10:37:41.493Z"
   },
   {
    "duration": 524,
    "start_time": "2023-04-19T10:37:41.499Z"
   },
   {
    "duration": 0,
    "start_time": "2023-04-19T10:37:42.025Z"
   },
   {
    "duration": 0,
    "start_time": "2023-04-19T10:37:42.027Z"
   },
   {
    "duration": 0,
    "start_time": "2023-04-19T10:37:42.028Z"
   },
   {
    "duration": 0,
    "start_time": "2023-04-19T10:37:42.029Z"
   },
   {
    "duration": 0,
    "start_time": "2023-04-19T10:37:42.031Z"
   },
   {
    "duration": 0,
    "start_time": "2023-04-19T10:37:42.032Z"
   },
   {
    "duration": 0,
    "start_time": "2023-04-19T10:37:42.034Z"
   },
   {
    "duration": 0,
    "start_time": "2023-04-19T10:37:42.035Z"
   },
   {
    "duration": 0,
    "start_time": "2023-04-19T10:37:42.036Z"
   },
   {
    "duration": 0,
    "start_time": "2023-04-19T10:37:42.038Z"
   },
   {
    "duration": 0,
    "start_time": "2023-04-19T10:37:42.039Z"
   },
   {
    "duration": 0,
    "start_time": "2023-04-19T10:37:42.040Z"
   },
   {
    "duration": 0,
    "start_time": "2023-04-19T10:37:42.042Z"
   },
   {
    "duration": 0,
    "start_time": "2023-04-19T10:37:42.043Z"
   },
   {
    "duration": 0,
    "start_time": "2023-04-19T10:37:42.044Z"
   },
   {
    "duration": 0,
    "start_time": "2023-04-19T10:37:42.045Z"
   },
   {
    "duration": 6,
    "start_time": "2023-04-19T10:37:45.448Z"
   },
   {
    "duration": 50,
    "start_time": "2023-04-19T10:39:38.550Z"
   },
   {
    "duration": 1470,
    "start_time": "2023-04-19T10:39:43.113Z"
   },
   {
    "duration": 12,
    "start_time": "2023-04-19T10:40:01.903Z"
   },
   {
    "duration": 13,
    "start_time": "2023-04-19T10:40:36.177Z"
   },
   {
    "duration": 17,
    "start_time": "2023-04-19T10:41:03.349Z"
   },
   {
    "duration": 25,
    "start_time": "2023-04-19T10:41:33.330Z"
   },
   {
    "duration": 143,
    "start_time": "2023-04-19T10:41:36.086Z"
   },
   {
    "duration": 23,
    "start_time": "2023-04-19T10:41:36.231Z"
   },
   {
    "duration": 22,
    "start_time": "2023-04-19T10:41:36.256Z"
   },
   {
    "duration": 21,
    "start_time": "2023-04-19T10:41:36.281Z"
   },
   {
    "duration": 21,
    "start_time": "2023-04-19T10:41:36.304Z"
   },
   {
    "duration": 29,
    "start_time": "2023-04-19T10:41:36.327Z"
   },
   {
    "duration": 23,
    "start_time": "2023-04-19T10:41:36.358Z"
   },
   {
    "duration": 50,
    "start_time": "2023-04-19T10:41:36.382Z"
   },
   {
    "duration": 73,
    "start_time": "2023-04-19T10:41:36.434Z"
   },
   {
    "duration": 69,
    "start_time": "2023-04-19T10:41:36.512Z"
   },
   {
    "duration": 71,
    "start_time": "2023-04-19T10:41:36.584Z"
   },
   {
    "duration": 138,
    "start_time": "2023-04-19T10:41:36.658Z"
   },
   {
    "duration": 31,
    "start_time": "2023-04-19T10:41:36.798Z"
   },
   {
    "duration": 1110,
    "start_time": "2023-04-19T10:41:36.831Z"
   },
   {
    "duration": 1447,
    "start_time": "2023-04-19T10:41:37.943Z"
   },
   {
    "duration": 4,
    "start_time": "2023-04-19T10:41:39.393Z"
   },
   {
    "duration": 619,
    "start_time": "2023-04-19T10:41:39.398Z"
   },
   {
    "duration": 0,
    "start_time": "2023-04-19T10:41:40.019Z"
   },
   {
    "duration": 0,
    "start_time": "2023-04-19T10:41:40.021Z"
   },
   {
    "duration": 0,
    "start_time": "2023-04-19T10:41:40.022Z"
   },
   {
    "duration": 0,
    "start_time": "2023-04-19T10:41:40.024Z"
   },
   {
    "duration": 0,
    "start_time": "2023-04-19T10:41:40.025Z"
   },
   {
    "duration": 0,
    "start_time": "2023-04-19T10:41:40.026Z"
   },
   {
    "duration": 0,
    "start_time": "2023-04-19T10:41:40.027Z"
   },
   {
    "duration": 0,
    "start_time": "2023-04-19T10:41:40.028Z"
   },
   {
    "duration": 0,
    "start_time": "2023-04-19T10:41:40.029Z"
   },
   {
    "duration": 1,
    "start_time": "2023-04-19T10:41:40.030Z"
   },
   {
    "duration": 0,
    "start_time": "2023-04-19T10:41:40.032Z"
   },
   {
    "duration": 0,
    "start_time": "2023-04-19T10:41:40.033Z"
   },
   {
    "duration": 0,
    "start_time": "2023-04-19T10:41:40.034Z"
   },
   {
    "duration": 0,
    "start_time": "2023-04-19T10:41:40.035Z"
   },
   {
    "duration": 0,
    "start_time": "2023-04-19T10:41:40.036Z"
   },
   {
    "duration": 25,
    "start_time": "2023-04-19T10:41:42.092Z"
   },
   {
    "duration": 28,
    "start_time": "2023-04-19T10:42:35.243Z"
   },
   {
    "duration": 32,
    "start_time": "2023-04-19T10:43:31.275Z"
   },
   {
    "duration": 23,
    "start_time": "2023-04-19T10:43:56.355Z"
   },
   {
    "duration": 16,
    "start_time": "2023-04-19T10:44:02.712Z"
   },
   {
    "duration": 25,
    "start_time": "2023-04-19T10:45:03.295Z"
   },
   {
    "duration": 23,
    "start_time": "2023-04-19T10:45:44.925Z"
   },
   {
    "duration": 20,
    "start_time": "2023-04-19T10:45:50.165Z"
   },
   {
    "duration": 32,
    "start_time": "2023-04-19T10:46:22.295Z"
   },
   {
    "duration": 24,
    "start_time": "2023-04-19T10:47:19.777Z"
   },
   {
    "duration": 33,
    "start_time": "2023-04-19T10:47:40.704Z"
   },
   {
    "duration": 24,
    "start_time": "2023-04-19T10:48:02.652Z"
   },
   {
    "duration": 159,
    "start_time": "2023-04-19T10:48:05.657Z"
   },
   {
    "duration": 31,
    "start_time": "2023-04-19T10:48:05.819Z"
   },
   {
    "duration": 44,
    "start_time": "2023-04-19T10:48:05.852Z"
   },
   {
    "duration": 92,
    "start_time": "2023-04-19T10:48:05.899Z"
   },
   {
    "duration": 23,
    "start_time": "2023-04-19T10:48:05.995Z"
   },
   {
    "duration": 39,
    "start_time": "2023-04-19T10:48:06.020Z"
   },
   {
    "duration": 32,
    "start_time": "2023-04-19T10:48:06.061Z"
   },
   {
    "duration": 50,
    "start_time": "2023-04-19T10:48:06.095Z"
   },
   {
    "duration": 62,
    "start_time": "2023-04-19T10:48:06.147Z"
   },
   {
    "duration": 36,
    "start_time": "2023-04-19T10:48:06.211Z"
   },
   {
    "duration": 37,
    "start_time": "2023-04-19T10:48:06.248Z"
   },
   {
    "duration": 51,
    "start_time": "2023-04-19T10:48:06.287Z"
   },
   {
    "duration": 30,
    "start_time": "2023-04-19T10:48:06.340Z"
   },
   {
    "duration": 576,
    "start_time": "2023-04-19T10:48:06.373Z"
   },
   {
    "duration": 876,
    "start_time": "2023-04-19T10:48:06.951Z"
   },
   {
    "duration": 13,
    "start_time": "2023-04-19T10:48:07.829Z"
   },
   {
    "duration": 905,
    "start_time": "2023-04-19T10:48:07.844Z"
   },
   {
    "duration": 0,
    "start_time": "2023-04-19T10:48:08.751Z"
   },
   {
    "duration": 0,
    "start_time": "2023-04-19T10:48:08.752Z"
   },
   {
    "duration": 0,
    "start_time": "2023-04-19T10:48:08.754Z"
   },
   {
    "duration": 0,
    "start_time": "2023-04-19T10:48:08.755Z"
   },
   {
    "duration": 0,
    "start_time": "2023-04-19T10:48:08.756Z"
   },
   {
    "duration": 0,
    "start_time": "2023-04-19T10:48:08.758Z"
   },
   {
    "duration": 0,
    "start_time": "2023-04-19T10:48:08.759Z"
   },
   {
    "duration": 0,
    "start_time": "2023-04-19T10:48:08.760Z"
   },
   {
    "duration": 0,
    "start_time": "2023-04-19T10:48:08.761Z"
   },
   {
    "duration": 0,
    "start_time": "2023-04-19T10:48:08.762Z"
   },
   {
    "duration": 0,
    "start_time": "2023-04-19T10:48:08.764Z"
   },
   {
    "duration": 0,
    "start_time": "2023-04-19T10:48:08.765Z"
   },
   {
    "duration": 0,
    "start_time": "2023-04-19T10:48:08.766Z"
   },
   {
    "duration": 0,
    "start_time": "2023-04-19T10:48:08.767Z"
   },
   {
    "duration": 0,
    "start_time": "2023-04-19T10:48:08.768Z"
   },
   {
    "duration": 26,
    "start_time": "2023-04-19T10:48:12.653Z"
   },
   {
    "duration": 23,
    "start_time": "2023-04-19T10:48:21.589Z"
   },
   {
    "duration": 23,
    "start_time": "2023-04-19T10:48:28.521Z"
   },
   {
    "duration": 24,
    "start_time": "2023-04-19T10:49:08.782Z"
   },
   {
    "duration": 27,
    "start_time": "2023-04-19T10:49:15.620Z"
   },
   {
    "duration": 25,
    "start_time": "2023-04-19T10:49:23.881Z"
   },
   {
    "duration": 48,
    "start_time": "2023-04-19T10:50:33.948Z"
   },
   {
    "duration": 30,
    "start_time": "2023-04-19T10:50:39.956Z"
   },
   {
    "duration": 51,
    "start_time": "2023-04-19T10:51:07.261Z"
   },
   {
    "duration": 25,
    "start_time": "2023-04-19T10:51:22.534Z"
   },
   {
    "duration": 9,
    "start_time": "2023-04-19T10:53:43.706Z"
   },
   {
    "duration": 18,
    "start_time": "2023-04-19T10:53:59.426Z"
   },
   {
    "duration": 11,
    "start_time": "2023-04-19T10:54:06.055Z"
   },
   {
    "duration": 1885,
    "start_time": "2023-04-19T10:54:06.840Z"
   },
   {
    "duration": 22,
    "start_time": "2023-04-19T10:54:08.728Z"
   },
   {
    "duration": 24,
    "start_time": "2023-04-19T10:54:08.752Z"
   },
   {
    "duration": 24,
    "start_time": "2023-04-19T10:54:08.779Z"
   },
   {
    "duration": 209,
    "start_time": "2023-04-19T10:54:08.806Z"
   },
   {
    "duration": 298,
    "start_time": "2023-04-19T10:54:09.116Z"
   },
   {
    "duration": 252,
    "start_time": "2023-04-19T10:54:09.626Z"
   },
   {
    "duration": 238,
    "start_time": "2023-04-19T10:54:09.881Z"
   },
   {
    "duration": 9,
    "start_time": "2023-04-19T10:54:10.351Z"
   },
   {
    "duration": 224,
    "start_time": "2023-04-19T10:54:10.528Z"
   },
   {
    "duration": 316,
    "start_time": "2023-04-19T10:54:10.755Z"
   },
   {
    "duration": 255,
    "start_time": "2023-04-19T10:54:11.074Z"
   },
   {
    "duration": 289,
    "start_time": "2023-04-19T10:54:11.332Z"
   },
   {
    "duration": 27,
    "start_time": "2023-04-19T10:54:11.766Z"
   },
   {
    "duration": 25,
    "start_time": "2023-04-19T10:54:19.367Z"
   },
   {
    "duration": 42,
    "start_time": "2023-04-19T10:55:12.430Z"
   },
   {
    "duration": 24,
    "start_time": "2023-04-19T10:55:19.721Z"
   },
   {
    "duration": 61,
    "start_time": "2023-04-19T10:56:42.105Z"
   },
   {
    "duration": 50,
    "start_time": "2023-04-19T10:56:53.142Z"
   },
   {
    "duration": 23,
    "start_time": "2023-04-19T10:56:58.711Z"
   },
   {
    "duration": 26,
    "start_time": "2023-04-19T10:57:40.831Z"
   },
   {
    "duration": 37,
    "start_time": "2023-04-19T11:15:04.471Z"
   },
   {
    "duration": 28,
    "start_time": "2023-04-19T11:15:39.039Z"
   },
   {
    "duration": 1168,
    "start_time": "2023-04-19T11:19:28.235Z"
   },
   {
    "duration": 18,
    "start_time": "2023-04-19T11:19:40.582Z"
   },
   {
    "duration": 13,
    "start_time": "2023-04-19T11:23:16.862Z"
   },
   {
    "duration": 16,
    "start_time": "2023-04-19T11:24:00.204Z"
   },
   {
    "duration": 29,
    "start_time": "2023-04-19T11:25:29.686Z"
   },
   {
    "duration": 32,
    "start_time": "2023-04-19T11:25:44.842Z"
   },
   {
    "duration": 330,
    "start_time": "2023-04-19T11:35:15.405Z"
   },
   {
    "duration": 17,
    "start_time": "2023-04-19T11:35:26.963Z"
   },
   {
    "duration": 17,
    "start_time": "2023-04-19T11:35:50.322Z"
   },
   {
    "duration": 25,
    "start_time": "2023-04-19T11:36:14.871Z"
   },
   {
    "duration": 8,
    "start_time": "2023-04-19T11:37:57.728Z"
   },
   {
    "duration": 215,
    "start_time": "2023-04-19T11:40:30.857Z"
   },
   {
    "duration": 73,
    "start_time": "2023-04-19T11:46:45.057Z"
   },
   {
    "duration": 4537,
    "start_time": "2023-04-19T11:46:50.515Z"
   },
   {
    "duration": 89,
    "start_time": "2023-04-19T11:47:27.483Z"
   },
   {
    "duration": 21,
    "start_time": "2023-04-19T11:48:40.353Z"
   },
   {
    "duration": 8,
    "start_time": "2023-04-19T11:48:48.089Z"
   },
   {
    "duration": 23,
    "start_time": "2023-04-19T11:49:08.430Z"
   },
   {
    "duration": 19,
    "start_time": "2023-04-19T11:49:34.580Z"
   },
   {
    "duration": 18,
    "start_time": "2023-04-19T11:51:11.947Z"
   },
   {
    "duration": 180,
    "start_time": "2023-04-19T11:52:34.231Z"
   },
   {
    "duration": 193,
    "start_time": "2023-04-19T11:52:53.079Z"
   },
   {
    "duration": 8,
    "start_time": "2023-04-19T12:10:50.207Z"
   },
   {
    "duration": 7,
    "start_time": "2023-04-19T12:11:38.514Z"
   },
   {
    "duration": 44,
    "start_time": "2023-04-19T14:27:19.068Z"
   },
   {
    "duration": 955,
    "start_time": "2023-04-19T14:27:21.580Z"
   },
   {
    "duration": 19,
    "start_time": "2023-04-19T14:27:22.537Z"
   },
   {
    "duration": 10,
    "start_time": "2023-04-19T14:27:22.557Z"
   },
   {
    "duration": 9,
    "start_time": "2023-04-19T14:27:22.569Z"
   },
   {
    "duration": 17,
    "start_time": "2023-04-19T14:27:22.580Z"
   },
   {
    "duration": 9,
    "start_time": "2023-04-19T14:27:22.599Z"
   },
   {
    "duration": 9,
    "start_time": "2023-04-19T14:27:22.609Z"
   },
   {
    "duration": 27,
    "start_time": "2023-04-19T14:27:22.619Z"
   },
   {
    "duration": 16,
    "start_time": "2023-04-19T14:27:22.648Z"
   },
   {
    "duration": 28,
    "start_time": "2023-04-19T14:27:22.666Z"
   },
   {
    "duration": 10,
    "start_time": "2023-04-19T14:27:22.695Z"
   },
   {
    "duration": 33,
    "start_time": "2023-04-19T14:27:22.706Z"
   },
   {
    "duration": 3,
    "start_time": "2023-04-19T14:27:22.741Z"
   },
   {
    "duration": 481,
    "start_time": "2023-04-19T14:27:22.747Z"
   },
   {
    "duration": 761,
    "start_time": "2023-04-19T14:27:23.230Z"
   },
   {
    "duration": 3,
    "start_time": "2023-04-19T14:27:23.994Z"
   },
   {
    "duration": 653,
    "start_time": "2023-04-19T14:27:23.999Z"
   },
   {
    "duration": 0,
    "start_time": "2023-04-19T14:27:24.653Z"
   },
   {
    "duration": 0,
    "start_time": "2023-04-19T14:27:24.655Z"
   },
   {
    "duration": 0,
    "start_time": "2023-04-19T14:27:24.656Z"
   },
   {
    "duration": 0,
    "start_time": "2023-04-19T14:27:24.657Z"
   },
   {
    "duration": 0,
    "start_time": "2023-04-19T14:27:24.658Z"
   },
   {
    "duration": 0,
    "start_time": "2023-04-19T14:27:24.658Z"
   },
   {
    "duration": 0,
    "start_time": "2023-04-19T14:27:24.659Z"
   },
   {
    "duration": 0,
    "start_time": "2023-04-19T14:27:24.660Z"
   },
   {
    "duration": 0,
    "start_time": "2023-04-19T14:27:24.661Z"
   },
   {
    "duration": 0,
    "start_time": "2023-04-19T14:27:24.662Z"
   },
   {
    "duration": 0,
    "start_time": "2023-04-19T14:27:24.663Z"
   },
   {
    "duration": 0,
    "start_time": "2023-04-19T14:27:24.664Z"
   },
   {
    "duration": 0,
    "start_time": "2023-04-19T14:27:24.664Z"
   },
   {
    "duration": 0,
    "start_time": "2023-04-19T14:27:24.666Z"
   },
   {
    "duration": 0,
    "start_time": "2023-04-19T14:27:24.694Z"
   },
   {
    "duration": 0,
    "start_time": "2023-04-19T14:27:24.695Z"
   },
   {
    "duration": 0,
    "start_time": "2023-04-19T14:27:24.696Z"
   },
   {
    "duration": 8,
    "start_time": "2023-04-19T14:27:27.408Z"
   },
   {
    "duration": 7,
    "start_time": "2023-04-19T14:27:29.976Z"
   },
   {
    "duration": 15,
    "start_time": "2023-04-19T14:27:37.344Z"
   },
   {
    "duration": 501,
    "start_time": "2023-04-19T14:27:41.506Z"
   },
   {
    "duration": 180,
    "start_time": "2023-04-19T14:27:45.576Z"
   },
   {
    "duration": 113,
    "start_time": "2023-04-19T14:28:31.959Z"
   },
   {
    "duration": 111,
    "start_time": "2023-04-19T14:28:46.373Z"
   },
   {
    "duration": 149,
    "start_time": "2023-04-19T14:31:09.160Z"
   },
   {
    "duration": 132,
    "start_time": "2023-04-19T14:31:20.476Z"
   },
   {
    "duration": 130,
    "start_time": "2023-04-19T14:34:08.883Z"
   },
   {
    "duration": 111,
    "start_time": "2023-04-19T14:34:41.511Z"
   },
   {
    "duration": 142,
    "start_time": "2023-04-19T14:37:01.053Z"
   },
   {
    "duration": 10,
    "start_time": "2023-04-19T14:40:12.484Z"
   },
   {
    "duration": 1092,
    "start_time": "2023-04-19T14:40:52.503Z"
   },
   {
    "duration": 8,
    "start_time": "2023-04-19T14:41:08.899Z"
   },
   {
    "duration": 47,
    "start_time": "2023-04-19T14:41:13.476Z"
   },
   {
    "duration": 6,
    "start_time": "2023-04-19T14:41:31.450Z"
   },
   {
    "duration": 5,
    "start_time": "2023-04-19T14:41:55.844Z"
   },
   {
    "duration": 48,
    "start_time": "2023-04-19T14:42:16.774Z"
   },
   {
    "duration": 124,
    "start_time": "2023-04-19T14:42:30.376Z"
   },
   {
    "duration": 19,
    "start_time": "2023-04-19T14:42:30.501Z"
   },
   {
    "duration": 23,
    "start_time": "2023-04-19T14:42:30.522Z"
   },
   {
    "duration": 31,
    "start_time": "2023-04-19T14:42:30.547Z"
   },
   {
    "duration": 28,
    "start_time": "2023-04-19T14:42:30.581Z"
   },
   {
    "duration": 34,
    "start_time": "2023-04-19T14:42:30.611Z"
   },
   {
    "duration": 31,
    "start_time": "2023-04-19T14:42:30.647Z"
   },
   {
    "duration": 45,
    "start_time": "2023-04-19T14:42:30.680Z"
   },
   {
    "duration": 61,
    "start_time": "2023-04-19T14:42:30.727Z"
   },
   {
    "duration": 16,
    "start_time": "2023-04-19T14:42:30.790Z"
   },
   {
    "duration": 30,
    "start_time": "2023-04-19T14:42:30.808Z"
   },
   {
    "duration": 40,
    "start_time": "2023-04-19T14:42:30.840Z"
   },
   {
    "duration": 28,
    "start_time": "2023-04-19T14:42:30.882Z"
   },
   {
    "duration": 489,
    "start_time": "2023-04-19T14:42:30.913Z"
   },
   {
    "duration": 742,
    "start_time": "2023-04-19T14:42:31.403Z"
   },
   {
    "duration": 3,
    "start_time": "2023-04-19T14:42:32.146Z"
   },
   {
    "duration": 718,
    "start_time": "2023-04-19T14:42:32.151Z"
   },
   {
    "duration": 0,
    "start_time": "2023-04-19T14:42:32.871Z"
   },
   {
    "duration": 0,
    "start_time": "2023-04-19T14:42:32.872Z"
   },
   {
    "duration": 0,
    "start_time": "2023-04-19T14:42:32.873Z"
   },
   {
    "duration": 0,
    "start_time": "2023-04-19T14:42:32.874Z"
   },
   {
    "duration": 0,
    "start_time": "2023-04-19T14:42:32.875Z"
   },
   {
    "duration": 0,
    "start_time": "2023-04-19T14:42:32.876Z"
   },
   {
    "duration": 0,
    "start_time": "2023-04-19T14:42:32.877Z"
   },
   {
    "duration": 0,
    "start_time": "2023-04-19T14:42:32.878Z"
   },
   {
    "duration": 0,
    "start_time": "2023-04-19T14:42:32.879Z"
   },
   {
    "duration": 0,
    "start_time": "2023-04-19T14:42:32.880Z"
   },
   {
    "duration": 0,
    "start_time": "2023-04-19T14:42:32.881Z"
   },
   {
    "duration": 0,
    "start_time": "2023-04-19T14:42:32.882Z"
   },
   {
    "duration": 0,
    "start_time": "2023-04-19T14:42:32.883Z"
   },
   {
    "duration": 0,
    "start_time": "2023-04-19T14:42:32.883Z"
   },
   {
    "duration": 0,
    "start_time": "2023-04-19T14:42:32.884Z"
   },
   {
    "duration": 0,
    "start_time": "2023-04-19T14:42:32.885Z"
   },
   {
    "duration": 0,
    "start_time": "2023-04-19T14:42:32.886Z"
   },
   {
    "duration": 0,
    "start_time": "2023-04-19T14:42:32.887Z"
   },
   {
    "duration": 44,
    "start_time": "2023-04-19T14:42:35.644Z"
   },
   {
    "duration": 9,
    "start_time": "2023-04-19T14:42:47.981Z"
   },
   {
    "duration": 14,
    "start_time": "2023-04-19T14:42:51.260Z"
   },
   {
    "duration": 196,
    "start_time": "2023-04-19T14:42:53.141Z"
   },
   {
    "duration": 11,
    "start_time": "2023-04-19T14:42:54.150Z"
   },
   {
    "duration": 44,
    "start_time": "2023-04-19T14:43:12.586Z"
   },
   {
    "duration": 18,
    "start_time": "2023-04-19T14:43:21.275Z"
   },
   {
    "duration": 3978,
    "start_time": "2023-04-19T14:43:37.676Z"
   },
   {
    "duration": 0,
    "start_time": "2023-04-19T14:43:41.676Z"
   },
   {
    "duration": 17,
    "start_time": "2023-04-19T14:43:47.717Z"
   },
   {
    "duration": 119,
    "start_time": "2023-04-19T14:44:01.191Z"
   },
   {
    "duration": 20,
    "start_time": "2023-04-19T14:44:01.312Z"
   },
   {
    "duration": 18,
    "start_time": "2023-04-19T14:44:01.334Z"
   },
   {
    "duration": 64,
    "start_time": "2023-04-19T14:44:01.353Z"
   },
   {
    "duration": 86,
    "start_time": "2023-04-19T14:44:01.420Z"
   },
   {
    "duration": 118,
    "start_time": "2023-04-19T14:44:01.508Z"
   },
   {
    "duration": 79,
    "start_time": "2023-04-19T14:44:01.627Z"
   },
   {
    "duration": 116,
    "start_time": "2023-04-19T14:44:01.708Z"
   },
   {
    "duration": 89,
    "start_time": "2023-04-19T14:44:01.826Z"
   },
   {
    "duration": 66,
    "start_time": "2023-04-19T14:44:01.917Z"
   },
   {
    "duration": 57,
    "start_time": "2023-04-19T14:44:01.985Z"
   },
   {
    "duration": 64,
    "start_time": "2023-04-19T14:44:02.043Z"
   },
   {
    "duration": 32,
    "start_time": "2023-04-19T14:44:02.108Z"
   },
   {
    "duration": 895,
    "start_time": "2023-04-19T14:44:02.142Z"
   },
   {
    "duration": 1224,
    "start_time": "2023-04-19T14:44:03.038Z"
   },
   {
    "duration": 3,
    "start_time": "2023-04-19T14:44:04.263Z"
   },
   {
    "duration": 612,
    "start_time": "2023-04-19T14:44:04.268Z"
   },
   {
    "duration": 0,
    "start_time": "2023-04-19T14:44:04.882Z"
   },
   {
    "duration": 0,
    "start_time": "2023-04-19T14:44:04.883Z"
   },
   {
    "duration": 0,
    "start_time": "2023-04-19T14:44:04.884Z"
   },
   {
    "duration": 0,
    "start_time": "2023-04-19T14:44:04.885Z"
   },
   {
    "duration": 0,
    "start_time": "2023-04-19T14:44:04.886Z"
   },
   {
    "duration": 0,
    "start_time": "2023-04-19T14:44:04.888Z"
   },
   {
    "duration": 0,
    "start_time": "2023-04-19T14:44:04.889Z"
   },
   {
    "duration": 0,
    "start_time": "2023-04-19T14:44:04.890Z"
   },
   {
    "duration": 0,
    "start_time": "2023-04-19T14:44:04.891Z"
   },
   {
    "duration": 0,
    "start_time": "2023-04-19T14:44:04.892Z"
   },
   {
    "duration": 0,
    "start_time": "2023-04-19T14:44:04.893Z"
   },
   {
    "duration": 0,
    "start_time": "2023-04-19T14:44:04.894Z"
   },
   {
    "duration": 0,
    "start_time": "2023-04-19T14:44:04.895Z"
   },
   {
    "duration": 0,
    "start_time": "2023-04-19T14:44:04.895Z"
   },
   {
    "duration": 0,
    "start_time": "2023-04-19T14:44:04.896Z"
   },
   {
    "duration": 0,
    "start_time": "2023-04-19T14:44:04.897Z"
   },
   {
    "duration": 0,
    "start_time": "2023-04-19T14:44:04.898Z"
   },
   {
    "duration": 1,
    "start_time": "2023-04-19T14:44:04.899Z"
   },
   {
    "duration": 128,
    "start_time": "2023-04-19T14:44:21.571Z"
   },
   {
    "duration": 120,
    "start_time": "2023-04-19T14:44:30.250Z"
   },
   {
    "duration": 18,
    "start_time": "2023-04-19T14:44:30.371Z"
   },
   {
    "duration": 24,
    "start_time": "2023-04-19T14:44:30.391Z"
   },
   {
    "duration": 36,
    "start_time": "2023-04-19T14:44:30.416Z"
   },
   {
    "duration": 37,
    "start_time": "2023-04-19T14:44:30.454Z"
   },
   {
    "duration": 32,
    "start_time": "2023-04-19T14:44:30.492Z"
   },
   {
    "duration": 24,
    "start_time": "2023-04-19T14:44:30.525Z"
   },
   {
    "duration": 61,
    "start_time": "2023-04-19T14:44:30.551Z"
   },
   {
    "duration": 26,
    "start_time": "2023-04-19T14:44:30.613Z"
   },
   {
    "duration": 37,
    "start_time": "2023-04-19T14:44:30.641Z"
   },
   {
    "duration": 24,
    "start_time": "2023-04-19T14:44:30.679Z"
   },
   {
    "duration": 44,
    "start_time": "2023-04-19T14:44:30.704Z"
   },
   {
    "duration": 11,
    "start_time": "2023-04-19T14:44:30.749Z"
   },
   {
    "duration": 639,
    "start_time": "2023-04-19T14:44:30.764Z"
   },
   {
    "duration": 1444,
    "start_time": "2023-04-19T14:44:31.405Z"
   },
   {
    "duration": 3,
    "start_time": "2023-04-19T14:44:32.851Z"
   },
   {
    "duration": 562,
    "start_time": "2023-04-19T14:44:32.856Z"
   },
   {
    "duration": 0,
    "start_time": "2023-04-19T14:44:33.420Z"
   },
   {
    "duration": 0,
    "start_time": "2023-04-19T14:44:33.421Z"
   },
   {
    "duration": 0,
    "start_time": "2023-04-19T14:44:33.423Z"
   },
   {
    "duration": 0,
    "start_time": "2023-04-19T14:44:33.424Z"
   },
   {
    "duration": 0,
    "start_time": "2023-04-19T14:44:33.425Z"
   },
   {
    "duration": 0,
    "start_time": "2023-04-19T14:44:33.426Z"
   },
   {
    "duration": 0,
    "start_time": "2023-04-19T14:44:33.428Z"
   },
   {
    "duration": 0,
    "start_time": "2023-04-19T14:44:33.429Z"
   },
   {
    "duration": 0,
    "start_time": "2023-04-19T14:44:33.430Z"
   },
   {
    "duration": 0,
    "start_time": "2023-04-19T14:44:33.431Z"
   },
   {
    "duration": 0,
    "start_time": "2023-04-19T14:44:33.433Z"
   },
   {
    "duration": 0,
    "start_time": "2023-04-19T14:44:33.434Z"
   },
   {
    "duration": 0,
    "start_time": "2023-04-19T14:44:33.436Z"
   },
   {
    "duration": 0,
    "start_time": "2023-04-19T14:44:33.437Z"
   },
   {
    "duration": 0,
    "start_time": "2023-04-19T14:44:33.439Z"
   },
   {
    "duration": 0,
    "start_time": "2023-04-19T14:44:33.440Z"
   },
   {
    "duration": 0,
    "start_time": "2023-04-19T14:44:33.441Z"
   },
   {
    "duration": 0,
    "start_time": "2023-04-19T14:44:33.443Z"
   },
   {
    "duration": 132,
    "start_time": "2023-04-19T14:44:35.778Z"
   },
   {
    "duration": 119,
    "start_time": "2023-04-19T14:44:42.283Z"
   },
   {
    "duration": 21,
    "start_time": "2023-04-19T14:44:42.879Z"
   },
   {
    "duration": 12,
    "start_time": "2023-04-19T14:44:43.912Z"
   },
   {
    "duration": 11,
    "start_time": "2023-04-19T14:44:44.536Z"
   },
   {
    "duration": 14,
    "start_time": "2023-04-19T14:44:45.904Z"
   },
   {
    "duration": 9,
    "start_time": "2023-04-19T14:44:46.774Z"
   },
   {
    "duration": 5,
    "start_time": "2023-04-19T14:44:47.700Z"
   },
   {
    "duration": 27,
    "start_time": "2023-04-19T14:44:52.306Z"
   },
   {
    "duration": 16,
    "start_time": "2023-04-19T14:44:53.517Z"
   },
   {
    "duration": 8,
    "start_time": "2023-04-19T14:44:58.139Z"
   },
   {
    "duration": 26,
    "start_time": "2023-04-19T14:45:09.072Z"
   },
   {
    "duration": 801,
    "start_time": "2023-04-19T14:46:01.077Z"
   },
   {
    "duration": 455,
    "start_time": "2023-04-19T14:46:20.683Z"
   },
   {
    "duration": 813,
    "start_time": "2023-04-19T14:46:22.852Z"
   },
   {
    "duration": 19,
    "start_time": "2023-04-19T14:46:44.184Z"
   },
   {
    "duration": 4,
    "start_time": "2023-04-19T14:46:49.843Z"
   },
   {
    "duration": 3918,
    "start_time": "2023-04-19T14:46:51.014Z"
   },
   {
    "duration": 0,
    "start_time": "2023-04-19T14:46:54.951Z"
   },
   {
    "duration": 18,
    "start_time": "2023-04-19T14:47:05.203Z"
   },
   {
    "duration": 124,
    "start_time": "2023-04-19T14:47:37.680Z"
   },
   {
    "duration": 22,
    "start_time": "2023-04-19T14:47:38.000Z"
   },
   {
    "duration": 12,
    "start_time": "2023-04-19T14:47:38.516Z"
   },
   {
    "duration": 12,
    "start_time": "2023-04-19T14:47:38.876Z"
   },
   {
    "duration": 19,
    "start_time": "2023-04-19T14:47:39.241Z"
   },
   {
    "duration": 14,
    "start_time": "2023-04-19T14:47:39.590Z"
   },
   {
    "duration": 5,
    "start_time": "2023-04-19T14:47:39.952Z"
   },
   {
    "duration": 40,
    "start_time": "2023-04-19T14:47:41.244Z"
   },
   {
    "duration": 15,
    "start_time": "2023-04-19T14:47:41.749Z"
   },
   {
    "duration": 8,
    "start_time": "2023-04-19T14:47:43.937Z"
   },
   {
    "duration": 10,
    "start_time": "2023-04-19T14:47:44.750Z"
   },
   {
    "duration": 19,
    "start_time": "2023-04-19T14:47:44.981Z"
   },
   {
    "duration": 5,
    "start_time": "2023-04-19T14:47:45.777Z"
   },
   {
    "duration": 494,
    "start_time": "2023-04-19T14:47:47.291Z"
   },
   {
    "duration": 781,
    "start_time": "2023-04-19T14:47:48.132Z"
   },
   {
    "duration": 30,
    "start_time": "2023-04-19T14:48:01.577Z"
   },
   {
    "duration": 124,
    "start_time": "2023-04-19T14:48:50.551Z"
   },
   {
    "duration": 20,
    "start_time": "2023-04-19T14:48:50.876Z"
   },
   {
    "duration": 12,
    "start_time": "2023-04-19T14:48:51.376Z"
   },
   {
    "duration": 11,
    "start_time": "2023-04-19T14:48:51.705Z"
   },
   {
    "duration": 15,
    "start_time": "2023-04-19T14:48:52.050Z"
   },
   {
    "duration": 10,
    "start_time": "2023-04-19T14:48:52.378Z"
   },
   {
    "duration": 4,
    "start_time": "2023-04-19T14:48:52.711Z"
   },
   {
    "duration": 36,
    "start_time": "2023-04-19T14:48:53.504Z"
   },
   {
    "duration": 16,
    "start_time": "2023-04-19T14:48:53.872Z"
   },
   {
    "duration": 8,
    "start_time": "2023-04-19T14:48:54.194Z"
   },
   {
    "duration": 6,
    "start_time": "2023-04-19T14:48:54.744Z"
   },
   {
    "duration": 18,
    "start_time": "2023-04-19T14:48:54.911Z"
   },
   {
    "duration": 5,
    "start_time": "2023-04-19T14:48:55.276Z"
   },
   {
    "duration": 533,
    "start_time": "2023-04-19T14:48:55.777Z"
   },
   {
    "duration": 40,
    "start_time": "2023-04-19T14:48:56.312Z"
   },
   {
    "duration": 0,
    "start_time": "2023-04-19T14:48:56.353Z"
   },
   {
    "duration": 470,
    "start_time": "2023-04-19T14:49:32.682Z"
   },
   {
    "duration": 43,
    "start_time": "2023-04-19T14:49:33.284Z"
   },
   {
    "duration": 28,
    "start_time": "2023-04-19T14:49:38.847Z"
   },
   {
    "duration": 16,
    "start_time": "2023-04-19T14:49:39.152Z"
   },
   {
    "duration": 10,
    "start_time": "2023-04-19T14:49:39.493Z"
   },
   {
    "duration": 7,
    "start_time": "2023-04-19T14:49:40.038Z"
   },
   {
    "duration": 22,
    "start_time": "2023-04-19T14:49:40.213Z"
   },
   {
    "duration": 4,
    "start_time": "2023-04-19T14:49:40.578Z"
   },
   {
    "duration": 531,
    "start_time": "2023-04-19T14:49:41.042Z"
   },
   {
    "duration": 56,
    "start_time": "2023-04-19T14:49:41.576Z"
   },
   {
    "duration": 808,
    "start_time": "2023-04-19T14:50:47.794Z"
   },
   {
    "duration": 4,
    "start_time": "2023-04-19T14:53:19.684Z"
   },
   {
    "duration": 3820,
    "start_time": "2023-04-19T14:53:21.010Z"
   },
   {
    "duration": 16,
    "start_time": "2023-04-19T14:53:24.832Z"
   },
   {
    "duration": 25,
    "start_time": "2023-04-19T14:53:32.104Z"
   },
   {
    "duration": 125,
    "start_time": "2023-04-19T14:53:33.104Z"
   },
   {
    "duration": 12,
    "start_time": "2023-04-19T14:53:33.487Z"
   },
   {
    "duration": 6,
    "start_time": "2023-04-19T14:53:34.058Z"
   },
   {
    "duration": 23,
    "start_time": "2023-04-19T14:53:34.240Z"
   },
   {
    "duration": 5,
    "start_time": "2023-04-19T14:53:34.596Z"
   },
   {
    "duration": 4004,
    "start_time": "2023-04-19T14:53:35.138Z"
   },
   {
    "duration": 17,
    "start_time": "2023-04-19T14:53:39.144Z"
   },
   {
    "duration": 0,
    "start_time": "2023-04-19T14:53:39.163Z"
   },
   {
    "duration": 120,
    "start_time": "2023-04-19T14:53:55.736Z"
   },
   {
    "duration": 22,
    "start_time": "2023-04-19T14:53:56.643Z"
   },
   {
    "duration": 12,
    "start_time": "2023-04-19T14:53:58.006Z"
   },
   {
    "duration": 11,
    "start_time": "2023-04-19T14:53:59.084Z"
   },
   {
    "duration": 16,
    "start_time": "2023-04-19T14:54:00.040Z"
   },
   {
    "duration": 10,
    "start_time": "2023-04-19T14:54:01.142Z"
   },
   {
    "duration": 4,
    "start_time": "2023-04-19T14:54:01.692Z"
   },
   {
    "duration": 27,
    "start_time": "2023-04-19T14:54:06.044Z"
   },
   {
    "duration": 24,
    "start_time": "2023-04-19T14:55:17.396Z"
   },
   {
    "duration": 15,
    "start_time": "2023-04-19T14:55:47.071Z"
   },
   {
    "duration": 140,
    "start_time": "2023-04-19T14:55:54.147Z"
   },
   {
    "duration": 23,
    "start_time": "2023-04-19T14:55:54.289Z"
   },
   {
    "duration": 15,
    "start_time": "2023-04-19T14:55:54.313Z"
   },
   {
    "duration": 14,
    "start_time": "2023-04-19T14:55:54.330Z"
   },
   {
    "duration": 18,
    "start_time": "2023-04-19T14:55:54.347Z"
   },
   {
    "duration": 36,
    "start_time": "2023-04-19T14:55:54.367Z"
   },
   {
    "duration": 5,
    "start_time": "2023-04-19T14:55:54.405Z"
   },
   {
    "duration": 38,
    "start_time": "2023-04-19T14:55:54.411Z"
   },
   {
    "duration": 20,
    "start_time": "2023-04-19T14:55:54.451Z"
   },
   {
    "duration": 22,
    "start_time": "2023-04-19T14:55:54.472Z"
   },
   {
    "duration": 8,
    "start_time": "2023-04-19T14:55:54.496Z"
   },
   {
    "duration": 35,
    "start_time": "2023-04-19T14:55:54.505Z"
   },
   {
    "duration": 5,
    "start_time": "2023-04-19T14:55:54.541Z"
   },
   {
    "duration": 560,
    "start_time": "2023-04-19T14:55:54.550Z"
   },
   {
    "duration": 26,
    "start_time": "2023-04-19T14:55:55.112Z"
   },
   {
    "duration": 4,
    "start_time": "2023-04-19T14:55:55.194Z"
   },
   {
    "duration": 402,
    "start_time": "2023-04-19T14:55:55.200Z"
   },
   {
    "duration": 8,
    "start_time": "2023-04-19T14:55:55.603Z"
   },
   {
    "duration": 1682,
    "start_time": "2023-04-19T14:55:55.612Z"
   },
   {
    "duration": 13,
    "start_time": "2023-04-19T14:55:57.296Z"
   },
   {
    "duration": 7,
    "start_time": "2023-04-19T14:55:57.310Z"
   },
   {
    "duration": 5,
    "start_time": "2023-04-19T14:55:57.319Z"
   },
   {
    "duration": 244,
    "start_time": "2023-04-19T14:55:57.326Z"
   },
   {
    "duration": 206,
    "start_time": "2023-04-19T14:55:57.571Z"
   },
   {
    "duration": 215,
    "start_time": "2023-04-19T14:55:57.779Z"
   },
   {
    "duration": 191,
    "start_time": "2023-04-19T14:55:57.995Z"
   },
   {
    "duration": 12,
    "start_time": "2023-04-19T14:55:58.187Z"
   },
   {
    "duration": 210,
    "start_time": "2023-04-19T14:55:58.200Z"
   },
   {
    "duration": 260,
    "start_time": "2023-04-19T14:55:58.411Z"
   },
   {
    "duration": 188,
    "start_time": "2023-04-19T14:55:58.672Z"
   },
   {
    "duration": 344,
    "start_time": "2023-04-19T14:55:58.862Z"
   },
   {
    "duration": 13,
    "start_time": "2023-04-19T14:55:59.207Z"
   },
   {
    "duration": 165,
    "start_time": "2023-04-19T14:55:59.222Z"
   },
   {
    "duration": 15,
    "start_time": "2023-04-19T14:55:59.388Z"
   },
   {
    "duration": 20,
    "start_time": "2023-04-19T14:55:59.405Z"
   },
   {
    "duration": 128,
    "start_time": "2023-04-19T15:03:26.109Z"
   },
   {
    "duration": 20,
    "start_time": "2023-04-19T15:03:26.743Z"
   },
   {
    "duration": 13,
    "start_time": "2023-04-19T15:03:27.220Z"
   },
   {
    "duration": 16,
    "start_time": "2023-04-19T15:03:27.597Z"
   },
   {
    "duration": 15,
    "start_time": "2023-04-19T15:03:28.146Z"
   },
   {
    "duration": 10,
    "start_time": "2023-04-19T15:03:28.283Z"
   },
   {
    "duration": 5,
    "start_time": "2023-04-19T15:03:28.608Z"
   },
   {
    "duration": 27,
    "start_time": "2023-04-19T15:03:29.499Z"
   },
   {
    "duration": 15,
    "start_time": "2023-04-19T15:03:29.839Z"
   },
   {
    "duration": 9,
    "start_time": "2023-04-19T15:03:30.518Z"
   },
   {
    "duration": 6,
    "start_time": "2023-04-19T15:03:33.041Z"
   },
   {
    "duration": 19,
    "start_time": "2023-04-19T15:03:33.215Z"
   },
   {
    "duration": 4,
    "start_time": "2023-04-19T15:03:33.594Z"
   },
   {
    "duration": 526,
    "start_time": "2023-04-19T15:03:34.089Z"
   },
   {
    "duration": 791,
    "start_time": "2023-04-19T15:03:34.618Z"
   },
   {
    "duration": 0,
    "start_time": "2023-04-19T15:03:35.411Z"
   },
   {
    "duration": 25,
    "start_time": "2023-04-19T15:04:40.133Z"
   },
   {
    "duration": 120,
    "start_time": "2023-04-19T15:06:20.287Z"
   },
   {
    "duration": 21,
    "start_time": "2023-04-19T15:06:20.594Z"
   },
   {
    "duration": 10,
    "start_time": "2023-04-19T15:06:21.058Z"
   },
   {
    "duration": 14,
    "start_time": "2023-04-19T15:06:21.391Z"
   },
   {
    "duration": 14,
    "start_time": "2023-04-19T15:06:21.712Z"
   },
   {
    "duration": 10,
    "start_time": "2023-04-19T15:06:22.290Z"
   },
   {
    "duration": 5,
    "start_time": "2023-04-19T15:06:22.887Z"
   },
   {
    "duration": 27,
    "start_time": "2023-04-19T15:06:23.510Z"
   },
   {
    "duration": 16,
    "start_time": "2023-04-19T15:06:23.857Z"
   },
   {
    "duration": 7,
    "start_time": "2023-04-19T15:06:24.251Z"
   },
   {
    "duration": 7,
    "start_time": "2023-04-19T15:06:26.729Z"
   },
   {
    "duration": 18,
    "start_time": "2023-04-19T15:06:26.909Z"
   },
   {
    "duration": 4,
    "start_time": "2023-04-19T15:06:27.348Z"
   },
   {
    "duration": 468,
    "start_time": "2023-04-19T15:06:28.187Z"
   },
   {
    "duration": 780,
    "start_time": "2023-04-19T15:06:28.702Z"
   },
   {
    "duration": 5,
    "start_time": "2023-04-19T15:07:02.335Z"
   },
   {
    "duration": 7,
    "start_time": "2023-04-19T15:07:07.017Z"
   },
   {
    "duration": 18,
    "start_time": "2023-04-19T15:07:15.686Z"
   },
   {
    "duration": 618,
    "start_time": "2023-04-19T15:07:28.142Z"
   },
   {
    "duration": 862,
    "start_time": "2023-04-19T15:09:37.237Z"
   },
   {
    "duration": 847,
    "start_time": "2023-04-19T15:09:48.248Z"
   },
   {
    "duration": 902,
    "start_time": "2023-04-19T15:09:59.411Z"
   },
   {
    "duration": 946,
    "start_time": "2023-04-19T15:10:08.378Z"
   },
   {
    "duration": 835,
    "start_time": "2023-04-19T15:10:18.655Z"
   },
   {
    "duration": 893,
    "start_time": "2023-04-19T15:10:29.344Z"
   },
   {
    "duration": 12,
    "start_time": "2023-04-19T15:11:28.828Z"
   },
   {
    "duration": 12,
    "start_time": "2023-04-19T15:11:42.006Z"
   },
   {
    "duration": 89,
    "start_time": "2023-04-19T15:12:14.015Z"
   },
   {
    "duration": 579,
    "start_time": "2023-04-19T15:12:26.746Z"
   },
   {
    "duration": 4,
    "start_time": "2023-04-19T15:13:06.270Z"
   },
   {
    "duration": 671,
    "start_time": "2023-04-19T15:13:18.808Z"
   },
   {
    "duration": 7,
    "start_time": "2023-04-19T15:16:01.698Z"
   },
   {
    "duration": 20,
    "start_time": "2023-04-19T15:18:51.756Z"
   },
   {
    "duration": 28,
    "start_time": "2023-04-19T15:19:06.917Z"
   },
   {
    "duration": 134,
    "start_time": "2023-04-19T15:19:07.256Z"
   },
   {
    "duration": 11,
    "start_time": "2023-04-19T15:19:07.558Z"
   },
   {
    "duration": 6,
    "start_time": "2023-04-19T15:19:08.051Z"
   },
   {
    "duration": 17,
    "start_time": "2023-04-19T15:19:08.212Z"
   },
   {
    "duration": 4,
    "start_time": "2023-04-19T15:19:08.544Z"
   },
   {
    "duration": 4296,
    "start_time": "2023-04-19T15:19:08.976Z"
   },
   {
    "duration": 25,
    "start_time": "2023-04-19T15:19:13.274Z"
   },
   {
    "duration": 0,
    "start_time": "2023-04-19T15:19:13.301Z"
   },
   {
    "duration": 0,
    "start_time": "2023-04-19T15:19:13.302Z"
   },
   {
    "duration": 7,
    "start_time": "2023-04-19T15:19:23.347Z"
   },
   {
    "duration": 4367,
    "start_time": "2023-04-19T15:19:42.520Z"
   },
   {
    "duration": 22,
    "start_time": "2023-04-19T15:19:46.888Z"
   },
   {
    "duration": 0,
    "start_time": "2023-04-19T15:19:46.912Z"
   },
   {
    "duration": 25,
    "start_time": "2023-04-19T15:19:53.181Z"
   },
   {
    "duration": 17,
    "start_time": "2023-04-19T15:19:53.707Z"
   },
   {
    "duration": 9,
    "start_time": "2023-04-19T15:19:54.155Z"
   },
   {
    "duration": 119,
    "start_time": "2023-04-19T15:19:58.960Z"
   },
   {
    "duration": 18,
    "start_time": "2023-04-19T15:19:59.081Z"
   },
   {
    "duration": 24,
    "start_time": "2023-04-19T15:19:59.100Z"
   },
   {
    "duration": 10,
    "start_time": "2023-04-19T15:19:59.125Z"
   },
   {
    "duration": 12,
    "start_time": "2023-04-19T15:19:59.137Z"
   },
   {
    "duration": 13,
    "start_time": "2023-04-19T15:19:59.151Z"
   },
   {
    "duration": 25,
    "start_time": "2023-04-19T15:19:59.165Z"
   },
   {
    "duration": 31,
    "start_time": "2023-04-19T15:19:59.191Z"
   },
   {
    "duration": 15,
    "start_time": "2023-04-19T15:19:59.223Z"
   },
   {
    "duration": 8,
    "start_time": "2023-04-19T15:19:59.239Z"
   },
   {
    "duration": 6,
    "start_time": "2023-04-19T15:19:59.248Z"
   },
   {
    "duration": 23,
    "start_time": "2023-04-19T15:19:59.255Z"
   },
   {
    "duration": 4,
    "start_time": "2023-04-19T15:19:59.295Z"
   },
   {
    "duration": 476,
    "start_time": "2023-04-19T15:19:59.301Z"
   },
   {
    "duration": 1137,
    "start_time": "2023-04-19T15:19:59.779Z"
   },
   {
    "duration": 7,
    "start_time": "2023-04-19T15:20:00.918Z"
   },
   {
    "duration": 71,
    "start_time": "2023-04-19T15:20:00.926Z"
   },
   {
    "duration": 404,
    "start_time": "2023-04-19T15:20:00.998Z"
   },
   {
    "duration": 11,
    "start_time": "2023-04-19T15:20:01.404Z"
   },
   {
    "duration": 1337,
    "start_time": "2023-04-19T15:20:01.417Z"
   },
   {
    "duration": 13,
    "start_time": "2023-04-19T15:20:02.755Z"
   },
   {
    "duration": 14,
    "start_time": "2023-04-19T15:20:02.770Z"
   },
   {
    "duration": 13,
    "start_time": "2023-04-19T15:20:02.786Z"
   },
   {
    "duration": 260,
    "start_time": "2023-04-19T15:20:02.801Z"
   },
   {
    "duration": 149,
    "start_time": "2023-04-19T15:20:03.063Z"
   },
   {
    "duration": 195,
    "start_time": "2023-04-19T15:20:03.214Z"
   },
   {
    "duration": 183,
    "start_time": "2023-04-19T15:20:03.411Z"
   },
   {
    "duration": 7,
    "start_time": "2023-04-19T15:20:03.595Z"
   },
   {
    "duration": 194,
    "start_time": "2023-04-19T15:20:03.604Z"
   },
   {
    "duration": 256,
    "start_time": "2023-04-19T15:20:03.800Z"
   },
   {
    "duration": 188,
    "start_time": "2023-04-19T15:20:04.058Z"
   },
   {
    "duration": 290,
    "start_time": "2023-04-19T15:20:04.248Z"
   },
   {
    "duration": 14,
    "start_time": "2023-04-19T15:20:04.540Z"
   },
   {
    "duration": 155,
    "start_time": "2023-04-19T15:20:04.556Z"
   },
   {
    "duration": 9,
    "start_time": "2023-04-19T15:20:04.713Z"
   },
   {
    "duration": 21,
    "start_time": "2023-04-19T15:20:04.723Z"
   },
   {
    "duration": 92,
    "start_time": "2023-04-19T15:29:59.853Z"
   },
   {
    "duration": 17,
    "start_time": "2023-04-19T15:30:08.159Z"
   },
   {
    "duration": 120,
    "start_time": "2023-04-19T15:30:13.536Z"
   },
   {
    "duration": 21,
    "start_time": "2023-04-19T15:30:13.658Z"
   },
   {
    "duration": 10,
    "start_time": "2023-04-19T15:30:13.680Z"
   },
   {
    "duration": 18,
    "start_time": "2023-04-19T15:30:13.692Z"
   },
   {
    "duration": 13,
    "start_time": "2023-04-19T15:30:13.712Z"
   },
   {
    "duration": 8,
    "start_time": "2023-04-19T15:30:13.727Z"
   },
   {
    "duration": 4,
    "start_time": "2023-04-19T15:30:13.737Z"
   },
   {
    "duration": 24,
    "start_time": "2023-04-19T15:30:13.743Z"
   },
   {
    "duration": 38,
    "start_time": "2023-04-19T15:30:13.768Z"
   },
   {
    "duration": 8,
    "start_time": "2023-04-19T15:30:13.807Z"
   },
   {
    "duration": 4,
    "start_time": "2023-04-19T15:30:13.817Z"
   },
   {
    "duration": 17,
    "start_time": "2023-04-19T15:30:13.822Z"
   },
   {
    "duration": 4,
    "start_time": "2023-04-19T15:30:13.840Z"
   },
   {
    "duration": 559,
    "start_time": "2023-04-19T15:30:13.847Z"
   },
   {
    "duration": 1692,
    "start_time": "2023-04-19T15:30:14.408Z"
   },
   {
    "duration": 6,
    "start_time": "2023-04-19T15:30:16.102Z"
   },
   {
    "duration": 50,
    "start_time": "2023-04-19T15:30:16.109Z"
   },
   {
    "duration": 209,
    "start_time": "2023-04-19T15:30:16.161Z"
   },
   {
    "duration": 8,
    "start_time": "2023-04-19T15:30:16.372Z"
   },
   {
    "duration": 1016,
    "start_time": "2023-04-19T15:30:16.382Z"
   },
   {
    "duration": 13,
    "start_time": "2023-04-19T15:30:17.399Z"
   },
   {
    "duration": 6,
    "start_time": "2023-04-19T15:30:17.414Z"
   },
   {
    "duration": 8,
    "start_time": "2023-04-19T15:30:17.421Z"
   },
   {
    "duration": 166,
    "start_time": "2023-04-19T15:30:17.430Z"
   },
   {
    "duration": 155,
    "start_time": "2023-04-19T15:30:17.598Z"
   },
   {
    "duration": 186,
    "start_time": "2023-04-19T15:30:17.755Z"
   },
   {
    "duration": 187,
    "start_time": "2023-04-19T15:30:17.943Z"
   },
   {
    "duration": 8,
    "start_time": "2023-04-19T15:30:18.132Z"
   },
   {
    "duration": 199,
    "start_time": "2023-04-19T15:30:18.141Z"
   },
   {
    "duration": 244,
    "start_time": "2023-04-19T15:30:18.342Z"
   },
   {
    "duration": 194,
    "start_time": "2023-04-19T15:30:18.594Z"
   },
   {
    "duration": 233,
    "start_time": "2023-04-19T15:30:18.793Z"
   },
   {
    "duration": 12,
    "start_time": "2023-04-19T15:30:19.028Z"
   },
   {
    "duration": 155,
    "start_time": "2023-04-19T15:30:19.042Z"
   },
   {
    "duration": 11,
    "start_time": "2023-04-19T15:30:19.199Z"
   },
   {
    "duration": 36,
    "start_time": "2023-04-19T15:30:19.212Z"
   },
   {
    "duration": 7,
    "start_time": "2023-04-19T15:30:31.304Z"
   },
   {
    "duration": 6,
    "start_time": "2023-04-19T15:30:51.091Z"
   },
   {
    "duration": 17,
    "start_time": "2023-04-19T15:30:53.147Z"
   },
   {
    "duration": 6,
    "start_time": "2023-04-19T15:30:56.291Z"
   },
   {
    "duration": 128,
    "start_time": "2023-04-19T15:31:00.888Z"
   },
   {
    "duration": 20,
    "start_time": "2023-04-19T15:31:01.018Z"
   },
   {
    "duration": 30,
    "start_time": "2023-04-19T15:31:01.039Z"
   },
   {
    "duration": 44,
    "start_time": "2023-04-19T15:31:01.071Z"
   },
   {
    "duration": 169,
    "start_time": "2023-04-19T15:31:01.118Z"
   },
   {
    "duration": 11,
    "start_time": "2023-04-19T15:31:01.289Z"
   },
   {
    "duration": 48,
    "start_time": "2023-04-19T15:31:01.301Z"
   },
   {
    "duration": 113,
    "start_time": "2023-04-19T15:31:01.351Z"
   },
   {
    "duration": 46,
    "start_time": "2023-04-19T15:31:01.466Z"
   },
   {
    "duration": 65,
    "start_time": "2023-04-19T15:31:01.513Z"
   },
   {
    "duration": 31,
    "start_time": "2023-04-19T15:31:01.580Z"
   },
   {
    "duration": 48,
    "start_time": "2023-04-19T15:31:01.612Z"
   },
   {
    "duration": 86,
    "start_time": "2023-04-19T15:31:01.662Z"
   },
   {
    "duration": 515,
    "start_time": "2023-04-19T15:31:01.751Z"
   },
   {
    "duration": 1266,
    "start_time": "2023-04-19T15:31:02.268Z"
   },
   {
    "duration": 4,
    "start_time": "2023-04-19T15:31:03.536Z"
   },
   {
    "duration": 4,
    "start_time": "2023-04-19T15:31:03.594Z"
   },
   {
    "duration": 395,
    "start_time": "2023-04-19T15:31:03.601Z"
   },
   {
    "duration": 8,
    "start_time": "2023-04-19T15:31:03.997Z"
   },
   {
    "duration": 1095,
    "start_time": "2023-04-19T15:31:04.006Z"
   },
   {
    "duration": 12,
    "start_time": "2023-04-19T15:31:05.103Z"
   },
   {
    "duration": 10,
    "start_time": "2023-04-19T15:31:05.116Z"
   },
   {
    "duration": 7,
    "start_time": "2023-04-19T15:31:05.128Z"
   },
   {
    "duration": 172,
    "start_time": "2023-04-19T15:31:05.137Z"
   },
   {
    "duration": 186,
    "start_time": "2023-04-19T15:31:05.311Z"
   },
   {
    "duration": 198,
    "start_time": "2023-04-19T15:31:05.498Z"
   },
   {
    "duration": 191,
    "start_time": "2023-04-19T15:31:05.698Z"
   },
   {
    "duration": 8,
    "start_time": "2023-04-19T15:31:05.894Z"
   },
   {
    "duration": 193,
    "start_time": "2023-04-19T15:31:05.903Z"
   },
   {
    "duration": 248,
    "start_time": "2023-04-19T15:31:06.098Z"
   },
   {
    "duration": 308,
    "start_time": "2023-04-19T15:31:06.347Z"
   },
   {
    "duration": 244,
    "start_time": "2023-04-19T15:31:06.656Z"
   },
   {
    "duration": 14,
    "start_time": "2023-04-19T15:31:06.901Z"
   },
   {
    "duration": 163,
    "start_time": "2023-04-19T15:31:06.917Z"
   },
   {
    "duration": 17,
    "start_time": "2023-04-19T15:31:07.082Z"
   },
   {
    "duration": 21,
    "start_time": "2023-04-19T15:31:07.100Z"
   },
   {
    "duration": 116,
    "start_time": "2023-04-19T15:34:18.037Z"
   },
   {
    "duration": 19,
    "start_time": "2023-04-19T15:34:18.155Z"
   },
   {
    "duration": 11,
    "start_time": "2023-04-19T15:34:18.175Z"
   },
   {
    "duration": 15,
    "start_time": "2023-04-19T15:34:18.187Z"
   },
   {
    "duration": 13,
    "start_time": "2023-04-19T15:34:18.203Z"
   },
   {
    "duration": 9,
    "start_time": "2023-04-19T15:34:18.218Z"
   },
   {
    "duration": 5,
    "start_time": "2023-04-19T15:34:18.228Z"
   },
   {
    "duration": 28,
    "start_time": "2023-04-19T15:34:18.234Z"
   },
   {
    "duration": 38,
    "start_time": "2023-04-19T15:34:18.264Z"
   },
   {
    "duration": 22,
    "start_time": "2023-04-19T15:34:18.303Z"
   },
   {
    "duration": 5,
    "start_time": "2023-04-19T15:34:18.327Z"
   },
   {
    "duration": 18,
    "start_time": "2023-04-19T15:34:18.334Z"
   },
   {
    "duration": 3,
    "start_time": "2023-04-19T15:34:18.354Z"
   },
   {
    "duration": 462,
    "start_time": "2023-04-19T15:34:18.360Z"
   },
   {
    "duration": 1394,
    "start_time": "2023-04-19T15:34:18.823Z"
   },
   {
    "duration": 91,
    "start_time": "2023-04-19T15:34:20.219Z"
   },
   {
    "duration": 0,
    "start_time": "2023-04-19T15:34:20.312Z"
   },
   {
    "duration": 0,
    "start_time": "2023-04-19T15:34:20.314Z"
   },
   {
    "duration": 0,
    "start_time": "2023-04-19T15:34:20.315Z"
   },
   {
    "duration": 0,
    "start_time": "2023-04-19T15:34:20.315Z"
   },
   {
    "duration": 0,
    "start_time": "2023-04-19T15:34:20.317Z"
   },
   {
    "duration": 0,
    "start_time": "2023-04-19T15:34:20.317Z"
   },
   {
    "duration": 0,
    "start_time": "2023-04-19T15:34:20.319Z"
   },
   {
    "duration": 0,
    "start_time": "2023-04-19T15:34:20.320Z"
   },
   {
    "duration": 0,
    "start_time": "2023-04-19T15:34:20.321Z"
   },
   {
    "duration": 0,
    "start_time": "2023-04-19T15:34:20.322Z"
   },
   {
    "duration": 0,
    "start_time": "2023-04-19T15:34:20.323Z"
   },
   {
    "duration": 0,
    "start_time": "2023-04-19T15:34:20.324Z"
   },
   {
    "duration": 0,
    "start_time": "2023-04-19T15:34:20.325Z"
   },
   {
    "duration": 0,
    "start_time": "2023-04-19T15:34:20.326Z"
   },
   {
    "duration": 0,
    "start_time": "2023-04-19T15:34:20.327Z"
   },
   {
    "duration": 0,
    "start_time": "2023-04-19T15:34:20.328Z"
   },
   {
    "duration": 0,
    "start_time": "2023-04-19T15:34:20.329Z"
   },
   {
    "duration": 0,
    "start_time": "2023-04-19T15:34:20.330Z"
   },
   {
    "duration": 0,
    "start_time": "2023-04-19T15:34:20.330Z"
   },
   {
    "duration": 0,
    "start_time": "2023-04-19T15:34:20.331Z"
   },
   {
    "duration": 131,
    "start_time": "2023-04-19T15:34:51.378Z"
   },
   {
    "duration": 19,
    "start_time": "2023-04-19T15:34:51.511Z"
   },
   {
    "duration": 15,
    "start_time": "2023-04-19T15:34:51.532Z"
   },
   {
    "duration": 24,
    "start_time": "2023-04-19T15:34:51.548Z"
   },
   {
    "duration": 28,
    "start_time": "2023-04-19T15:34:51.575Z"
   },
   {
    "duration": 20,
    "start_time": "2023-04-19T15:34:51.605Z"
   },
   {
    "duration": 16,
    "start_time": "2023-04-19T15:34:51.626Z"
   },
   {
    "duration": 32,
    "start_time": "2023-04-19T15:34:51.644Z"
   },
   {
    "duration": 15,
    "start_time": "2023-04-19T15:34:51.678Z"
   },
   {
    "duration": 8,
    "start_time": "2023-04-19T15:34:51.694Z"
   },
   {
    "duration": 24,
    "start_time": "2023-04-19T15:34:51.703Z"
   },
   {
    "duration": 28,
    "start_time": "2023-04-19T15:34:51.729Z"
   },
   {
    "duration": 5,
    "start_time": "2023-04-19T15:34:51.759Z"
   },
   {
    "duration": 518,
    "start_time": "2023-04-19T15:34:51.767Z"
   },
   {
    "duration": 1762,
    "start_time": "2023-04-19T15:34:52.286Z"
   },
   {
    "duration": 37,
    "start_time": "2023-04-19T15:34:54.050Z"
   },
   {
    "duration": 0,
    "start_time": "2023-04-19T15:34:54.089Z"
   },
   {
    "duration": 0,
    "start_time": "2023-04-19T15:34:54.090Z"
   },
   {
    "duration": 0,
    "start_time": "2023-04-19T15:34:54.091Z"
   },
   {
    "duration": 0,
    "start_time": "2023-04-19T15:34:54.092Z"
   },
   {
    "duration": 0,
    "start_time": "2023-04-19T15:34:54.093Z"
   },
   {
    "duration": 0,
    "start_time": "2023-04-19T15:34:54.094Z"
   },
   {
    "duration": 0,
    "start_time": "2023-04-19T15:34:54.095Z"
   },
   {
    "duration": 0,
    "start_time": "2023-04-19T15:34:54.096Z"
   },
   {
    "duration": 0,
    "start_time": "2023-04-19T15:34:54.097Z"
   },
   {
    "duration": 0,
    "start_time": "2023-04-19T15:34:54.099Z"
   },
   {
    "duration": 0,
    "start_time": "2023-04-19T15:34:54.099Z"
   },
   {
    "duration": 0,
    "start_time": "2023-04-19T15:34:54.100Z"
   },
   {
    "duration": 0,
    "start_time": "2023-04-19T15:34:54.101Z"
   },
   {
    "duration": 0,
    "start_time": "2023-04-19T15:34:54.102Z"
   },
   {
    "duration": 0,
    "start_time": "2023-04-19T15:34:54.103Z"
   },
   {
    "duration": 0,
    "start_time": "2023-04-19T15:34:54.104Z"
   },
   {
    "duration": 0,
    "start_time": "2023-04-19T15:34:54.105Z"
   },
   {
    "duration": 0,
    "start_time": "2023-04-19T15:34:54.107Z"
   },
   {
    "duration": 0,
    "start_time": "2023-04-19T15:34:54.108Z"
   },
   {
    "duration": 0,
    "start_time": "2023-04-19T15:34:54.110Z"
   },
   {
    "duration": 121,
    "start_time": "2023-04-19T15:35:16.141Z"
   },
   {
    "duration": 23,
    "start_time": "2023-04-19T15:35:16.265Z"
   },
   {
    "duration": 11,
    "start_time": "2023-04-19T15:35:16.289Z"
   },
   {
    "duration": 14,
    "start_time": "2023-04-19T15:35:16.301Z"
   },
   {
    "duration": 13,
    "start_time": "2023-04-19T15:35:16.317Z"
   },
   {
    "duration": 8,
    "start_time": "2023-04-19T15:35:16.332Z"
   },
   {
    "duration": 4,
    "start_time": "2023-04-19T15:35:16.341Z"
   },
   {
    "duration": 47,
    "start_time": "2023-04-19T15:35:16.347Z"
   },
   {
    "duration": 16,
    "start_time": "2023-04-19T15:35:16.396Z"
   },
   {
    "duration": 9,
    "start_time": "2023-04-19T15:35:16.414Z"
   },
   {
    "duration": 19,
    "start_time": "2023-04-19T15:35:16.424Z"
   },
   {
    "duration": 30,
    "start_time": "2023-04-19T15:35:16.445Z"
   },
   {
    "duration": 3,
    "start_time": "2023-04-19T15:35:16.477Z"
   },
   {
    "duration": 492,
    "start_time": "2023-04-19T15:35:16.483Z"
   },
   {
    "duration": 1551,
    "start_time": "2023-04-19T15:35:16.977Z"
   },
   {
    "duration": 80,
    "start_time": "2023-04-19T15:35:18.529Z"
   },
   {
    "duration": 3,
    "start_time": "2023-04-19T15:35:18.611Z"
   },
   {
    "duration": 278,
    "start_time": "2023-04-19T15:35:18.616Z"
   },
   {
    "duration": 9,
    "start_time": "2023-04-19T15:35:18.895Z"
   },
   {
    "duration": 901,
    "start_time": "2023-04-19T15:35:18.905Z"
   },
   {
    "duration": 12,
    "start_time": "2023-04-19T15:35:19.808Z"
   },
   {
    "duration": 25,
    "start_time": "2023-04-19T15:35:19.821Z"
   },
   {
    "duration": 4,
    "start_time": "2023-04-19T15:35:19.848Z"
   },
   {
    "duration": 150,
    "start_time": "2023-04-19T15:35:19.853Z"
   },
   {
    "duration": 293,
    "start_time": "2023-04-19T15:35:20.004Z"
   },
   {
    "duration": 186,
    "start_time": "2023-04-19T15:35:20.298Z"
   },
   {
    "duration": 191,
    "start_time": "2023-04-19T15:35:20.486Z"
   },
   {
    "duration": 16,
    "start_time": "2023-04-19T15:35:20.680Z"
   },
   {
    "duration": 186,
    "start_time": "2023-04-19T15:35:20.697Z"
   },
   {
    "duration": 253,
    "start_time": "2023-04-19T15:35:20.885Z"
   },
   {
    "duration": 186,
    "start_time": "2023-04-19T15:35:21.139Z"
   },
   {
    "duration": 255,
    "start_time": "2023-04-19T15:35:21.327Z"
   },
   {
    "duration": 19,
    "start_time": "2023-04-19T15:35:21.584Z"
   },
   {
    "duration": 156,
    "start_time": "2023-04-19T15:35:21.604Z"
   },
   {
    "duration": 12,
    "start_time": "2023-04-19T15:35:21.762Z"
   },
   {
    "duration": 30,
    "start_time": "2023-04-19T15:35:21.776Z"
   },
   {
    "duration": 9,
    "start_time": "2023-04-19T15:37:07.387Z"
   },
   {
    "duration": 117,
    "start_time": "2023-04-19T15:37:24.645Z"
   },
   {
    "duration": 20,
    "start_time": "2023-04-19T15:37:24.764Z"
   },
   {
    "duration": 10,
    "start_time": "2023-04-19T15:37:24.786Z"
   },
   {
    "duration": 14,
    "start_time": "2023-04-19T15:37:24.797Z"
   },
   {
    "duration": 12,
    "start_time": "2023-04-19T15:37:24.813Z"
   },
   {
    "duration": 8,
    "start_time": "2023-04-19T15:37:24.827Z"
   },
   {
    "duration": 4,
    "start_time": "2023-04-19T15:37:24.836Z"
   },
   {
    "duration": 27,
    "start_time": "2023-04-19T15:37:24.841Z"
   },
   {
    "duration": 36,
    "start_time": "2023-04-19T15:37:24.869Z"
   },
   {
    "duration": 8,
    "start_time": "2023-04-19T15:37:24.907Z"
   },
   {
    "duration": 6,
    "start_time": "2023-04-19T15:37:24.916Z"
   },
   {
    "duration": 17,
    "start_time": "2023-04-19T15:37:24.923Z"
   },
   {
    "duration": 4,
    "start_time": "2023-04-19T15:37:24.941Z"
   },
   {
    "duration": 498,
    "start_time": "2023-04-19T15:37:24.947Z"
   },
   {
    "duration": 877,
    "start_time": "2023-04-19T15:37:25.447Z"
   },
   {
    "duration": 13,
    "start_time": "2023-04-19T15:37:26.325Z"
   },
   {
    "duration": 5,
    "start_time": "2023-04-19T15:37:26.393Z"
   },
   {
    "duration": 335,
    "start_time": "2023-04-19T15:37:26.399Z"
   },
   {
    "duration": 7,
    "start_time": "2023-04-19T15:37:26.735Z"
   },
   {
    "duration": 1636,
    "start_time": "2023-04-19T15:37:26.794Z"
   },
   {
    "duration": 67,
    "start_time": "2023-04-19T15:37:28.432Z"
   },
   {
    "duration": 6,
    "start_time": "2023-04-19T15:37:28.500Z"
   },
   {
    "duration": 4,
    "start_time": "2023-04-19T15:37:28.507Z"
   },
   {
    "duration": 191,
    "start_time": "2023-04-19T15:37:28.512Z"
   },
   {
    "duration": 165,
    "start_time": "2023-04-19T15:37:28.705Z"
   },
   {
    "duration": 180,
    "start_time": "2023-04-19T15:37:28.872Z"
   },
   {
    "duration": 176,
    "start_time": "2023-04-19T15:37:29.054Z"
   },
   {
    "duration": 7,
    "start_time": "2023-04-19T15:37:29.231Z"
   },
   {
    "duration": 192,
    "start_time": "2023-04-19T15:37:29.240Z"
   },
   {
    "duration": 245,
    "start_time": "2023-04-19T15:37:29.433Z"
   },
   {
    "duration": 194,
    "start_time": "2023-04-19T15:37:29.680Z"
   },
   {
    "duration": 235,
    "start_time": "2023-04-19T15:37:29.876Z"
   },
   {
    "duration": 13,
    "start_time": "2023-04-19T15:37:30.113Z"
   },
   {
    "duration": 174,
    "start_time": "2023-04-19T15:37:30.127Z"
   },
   {
    "duration": 10,
    "start_time": "2023-04-19T15:37:30.302Z"
   },
   {
    "duration": 36,
    "start_time": "2023-04-19T15:37:30.313Z"
   },
   {
    "duration": 119,
    "start_time": "2023-04-19T15:38:26.153Z"
   },
   {
    "duration": 21,
    "start_time": "2023-04-19T15:38:26.274Z"
   },
   {
    "duration": 12,
    "start_time": "2023-04-19T15:38:26.297Z"
   },
   {
    "duration": 10,
    "start_time": "2023-04-19T15:38:26.311Z"
   },
   {
    "duration": 13,
    "start_time": "2023-04-19T15:38:26.323Z"
   },
   {
    "duration": 9,
    "start_time": "2023-04-19T15:38:26.337Z"
   },
   {
    "duration": 5,
    "start_time": "2023-04-19T15:38:26.347Z"
   },
   {
    "duration": 59,
    "start_time": "2023-04-19T15:38:26.353Z"
   },
   {
    "duration": 15,
    "start_time": "2023-04-19T15:38:26.414Z"
   },
   {
    "duration": 7,
    "start_time": "2023-04-19T15:38:26.430Z"
   },
   {
    "duration": 6,
    "start_time": "2023-04-19T15:38:26.439Z"
   },
   {
    "duration": 16,
    "start_time": "2023-04-19T15:38:26.447Z"
   },
   {
    "duration": 4,
    "start_time": "2023-04-19T15:38:26.464Z"
   },
   {
    "duration": 477,
    "start_time": "2023-04-19T15:38:26.495Z"
   },
   {
    "duration": 1649,
    "start_time": "2023-04-19T15:38:26.975Z"
   },
   {
    "duration": 10,
    "start_time": "2023-04-19T15:38:28.625Z"
   },
   {
    "duration": 5,
    "start_time": "2023-04-19T15:38:28.637Z"
   },
   {
    "duration": 199,
    "start_time": "2023-04-19T15:38:28.644Z"
   },
   {
    "duration": 9,
    "start_time": "2023-04-19T15:38:28.845Z"
   },
   {
    "duration": 970,
    "start_time": "2023-04-19T15:38:28.856Z"
   },
   {
    "duration": 16,
    "start_time": "2023-04-19T15:38:29.828Z"
   },
   {
    "duration": 4,
    "start_time": "2023-04-19T15:38:29.846Z"
   },
   {
    "duration": 17,
    "start_time": "2023-04-19T15:38:29.852Z"
   },
   {
    "duration": 313,
    "start_time": "2023-04-19T15:38:29.871Z"
   },
   {
    "duration": 178,
    "start_time": "2023-04-19T15:38:30.186Z"
   },
   {
    "duration": 211,
    "start_time": "2023-04-19T15:38:30.366Z"
   },
   {
    "duration": 217,
    "start_time": "2023-04-19T15:38:30.580Z"
   },
   {
    "duration": 9,
    "start_time": "2023-04-19T15:38:30.799Z"
   },
   {
    "duration": 201,
    "start_time": "2023-04-19T15:38:30.810Z"
   },
   {
    "duration": 263,
    "start_time": "2023-04-19T15:38:31.013Z"
   },
   {
    "duration": 204,
    "start_time": "2023-04-19T15:38:31.278Z"
   },
   {
    "duration": 268,
    "start_time": "2023-04-19T15:38:31.484Z"
   },
   {
    "duration": 13,
    "start_time": "2023-04-19T15:38:31.754Z"
   },
   {
    "duration": 172,
    "start_time": "2023-04-19T15:38:31.769Z"
   },
   {
    "duration": 10,
    "start_time": "2023-04-19T15:38:31.943Z"
   },
   {
    "duration": 20,
    "start_time": "2023-04-19T15:38:31.955Z"
   },
   {
    "duration": 28,
    "start_time": "2023-04-19T15:38:38.152Z"
   },
   {
    "duration": 18,
    "start_time": "2023-04-19T15:38:42.355Z"
   },
   {
    "duration": 118,
    "start_time": "2023-04-19T15:39:21.746Z"
   },
   {
    "duration": 20,
    "start_time": "2023-04-19T15:39:21.866Z"
   },
   {
    "duration": 24,
    "start_time": "2023-04-19T15:39:21.888Z"
   },
   {
    "duration": 12,
    "start_time": "2023-04-19T15:39:21.914Z"
   },
   {
    "duration": 15,
    "start_time": "2023-04-19T15:39:21.928Z"
   },
   {
    "duration": 10,
    "start_time": "2023-04-19T15:39:21.944Z"
   },
   {
    "duration": 7,
    "start_time": "2023-04-19T15:39:21.956Z"
   },
   {
    "duration": 45,
    "start_time": "2023-04-19T15:39:21.964Z"
   },
   {
    "duration": 44,
    "start_time": "2023-04-19T15:39:22.012Z"
   },
   {
    "duration": 16,
    "start_time": "2023-04-19T15:39:22.058Z"
   },
   {
    "duration": 7,
    "start_time": "2023-04-19T15:39:22.076Z"
   },
   {
    "duration": 17,
    "start_time": "2023-04-19T15:39:22.085Z"
   },
   {
    "duration": 4,
    "start_time": "2023-04-19T15:39:22.104Z"
   },
   {
    "duration": 452,
    "start_time": "2023-04-19T15:39:22.111Z"
   },
   {
    "duration": 865,
    "start_time": "2023-04-19T15:39:22.564Z"
   },
   {
    "duration": 18,
    "start_time": "2023-04-19T15:39:23.431Z"
   },
   {
    "duration": 3,
    "start_time": "2023-04-19T15:39:23.451Z"
   },
   {
    "duration": 347,
    "start_time": "2023-04-19T15:39:23.456Z"
   },
   {
    "duration": 8,
    "start_time": "2023-04-19T15:39:23.805Z"
   },
   {
    "duration": 1651,
    "start_time": "2023-04-19T15:39:23.814Z"
   },
   {
    "duration": 11,
    "start_time": "2023-04-19T15:39:25.467Z"
   },
   {
    "duration": 15,
    "start_time": "2023-04-19T15:39:25.479Z"
   },
   {
    "duration": 7,
    "start_time": "2023-04-19T15:39:25.495Z"
   },
   {
    "duration": 160,
    "start_time": "2023-04-19T15:39:25.504Z"
   },
   {
    "duration": 319,
    "start_time": "2023-04-19T15:39:25.666Z"
   },
   {
    "duration": 187,
    "start_time": "2023-04-19T15:39:25.987Z"
   },
   {
    "duration": 173,
    "start_time": "2023-04-19T15:39:26.176Z"
   },
   {
    "duration": 8,
    "start_time": "2023-04-19T15:39:26.350Z"
   },
   {
    "duration": 180,
    "start_time": "2023-04-19T15:39:26.359Z"
   },
   {
    "duration": 238,
    "start_time": "2023-04-19T15:39:26.541Z"
   },
   {
    "duration": 201,
    "start_time": "2023-04-19T15:39:26.780Z"
   },
   {
    "duration": 234,
    "start_time": "2023-04-19T15:39:26.983Z"
   },
   {
    "duration": 13,
    "start_time": "2023-04-19T15:39:27.219Z"
   },
   {
    "duration": 153,
    "start_time": "2023-04-19T15:39:27.234Z"
   },
   {
    "duration": 10,
    "start_time": "2023-04-19T15:39:27.393Z"
   },
   {
    "duration": 19,
    "start_time": "2023-04-19T15:39:27.405Z"
   },
   {
    "duration": 28,
    "start_time": "2023-04-19T15:40:06.649Z"
   },
   {
    "duration": 119,
    "start_time": "2023-04-19T15:40:15.088Z"
   },
   {
    "duration": 18,
    "start_time": "2023-04-19T15:40:15.209Z"
   },
   {
    "duration": 10,
    "start_time": "2023-04-19T15:40:15.229Z"
   },
   {
    "duration": 11,
    "start_time": "2023-04-19T15:40:15.240Z"
   },
   {
    "duration": 15,
    "start_time": "2023-04-19T15:40:15.253Z"
   },
   {
    "duration": 35,
    "start_time": "2023-04-19T15:40:15.269Z"
   },
   {
    "duration": 4,
    "start_time": "2023-04-19T15:40:15.306Z"
   },
   {
    "duration": 29,
    "start_time": "2023-04-19T15:40:15.312Z"
   },
   {
    "duration": 19,
    "start_time": "2023-04-19T15:40:15.343Z"
   },
   {
    "duration": 36,
    "start_time": "2023-04-19T15:40:15.363Z"
   },
   {
    "duration": 8,
    "start_time": "2023-04-19T15:40:15.400Z"
   },
   {
    "duration": 25,
    "start_time": "2023-04-19T15:40:15.410Z"
   },
   {
    "duration": 4,
    "start_time": "2023-04-19T15:40:15.436Z"
   },
   {
    "duration": 546,
    "start_time": "2023-04-19T15:40:15.443Z"
   },
   {
    "duration": 1831,
    "start_time": "2023-04-19T15:40:15.991Z"
   },
   {
    "duration": 24,
    "start_time": "2023-04-19T15:40:17.824Z"
   },
   {
    "duration": 3,
    "start_time": "2023-04-19T15:40:17.849Z"
   },
   {
    "duration": 374,
    "start_time": "2023-04-19T15:40:17.854Z"
   },
   {
    "duration": 8,
    "start_time": "2023-04-19T15:40:18.230Z"
   },
   {
    "duration": 1726,
    "start_time": "2023-04-19T15:40:18.240Z"
   },
   {
    "duration": 13,
    "start_time": "2023-04-19T15:40:19.967Z"
   },
   {
    "duration": 26,
    "start_time": "2023-04-19T15:40:19.981Z"
   },
   {
    "duration": 24,
    "start_time": "2023-04-19T15:40:20.008Z"
   },
   {
    "duration": 172,
    "start_time": "2023-04-19T15:40:20.033Z"
   },
   {
    "duration": 164,
    "start_time": "2023-04-19T15:40:20.206Z"
   },
   {
    "duration": 197,
    "start_time": "2023-04-19T15:40:20.371Z"
   },
   {
    "duration": 347,
    "start_time": "2023-04-19T15:40:20.570Z"
   },
   {
    "duration": 7,
    "start_time": "2023-04-19T15:40:20.919Z"
   },
   {
    "duration": 189,
    "start_time": "2023-04-19T15:40:20.928Z"
   },
   {
    "duration": 250,
    "start_time": "2023-04-19T15:40:21.119Z"
   },
   {
    "duration": 203,
    "start_time": "2023-04-19T15:40:21.371Z"
   },
   {
    "duration": 228,
    "start_time": "2023-04-19T15:40:21.575Z"
   },
   {
    "duration": 12,
    "start_time": "2023-04-19T15:40:21.804Z"
   },
   {
    "duration": 160,
    "start_time": "2023-04-19T15:40:21.818Z"
   },
   {
    "duration": 16,
    "start_time": "2023-04-19T15:40:21.979Z"
   },
   {
    "duration": 15,
    "start_time": "2023-04-19T15:40:21.996Z"
   },
   {
    "duration": 119,
    "start_time": "2023-04-19T15:40:58.140Z"
   },
   {
    "duration": 27,
    "start_time": "2023-04-19T15:40:58.261Z"
   },
   {
    "duration": 10,
    "start_time": "2023-04-19T15:40:58.290Z"
   },
   {
    "duration": 10,
    "start_time": "2023-04-19T15:40:58.301Z"
   },
   {
    "duration": 14,
    "start_time": "2023-04-19T15:40:58.314Z"
   },
   {
    "duration": 10,
    "start_time": "2023-04-19T15:40:58.330Z"
   },
   {
    "duration": 6,
    "start_time": "2023-04-19T15:40:58.342Z"
   },
   {
    "duration": 56,
    "start_time": "2023-04-19T15:40:58.349Z"
   },
   {
    "duration": 22,
    "start_time": "2023-04-19T15:40:58.407Z"
   },
   {
    "duration": 7,
    "start_time": "2023-04-19T15:40:58.431Z"
   },
   {
    "duration": 8,
    "start_time": "2023-04-19T15:40:58.440Z"
   },
   {
    "duration": 49,
    "start_time": "2023-04-19T15:40:58.449Z"
   },
   {
    "duration": 4,
    "start_time": "2023-04-19T15:40:58.500Z"
   },
   {
    "duration": 498,
    "start_time": "2023-04-19T15:40:58.507Z"
   },
   {
    "duration": 48,
    "start_time": "2023-04-19T15:40:59.007Z"
   },
   {
    "duration": 0,
    "start_time": "2023-04-19T15:40:59.057Z"
   },
   {
    "duration": 0,
    "start_time": "2023-04-19T15:40:59.059Z"
   },
   {
    "duration": 0,
    "start_time": "2023-04-19T15:40:59.060Z"
   },
   {
    "duration": 0,
    "start_time": "2023-04-19T15:40:59.061Z"
   },
   {
    "duration": 0,
    "start_time": "2023-04-19T15:40:59.063Z"
   },
   {
    "duration": 0,
    "start_time": "2023-04-19T15:40:59.064Z"
   },
   {
    "duration": 0,
    "start_time": "2023-04-19T15:40:59.065Z"
   },
   {
    "duration": 0,
    "start_time": "2023-04-19T15:40:59.066Z"
   },
   {
    "duration": 0,
    "start_time": "2023-04-19T15:40:59.067Z"
   },
   {
    "duration": 0,
    "start_time": "2023-04-19T15:40:59.094Z"
   },
   {
    "duration": 0,
    "start_time": "2023-04-19T15:40:59.096Z"
   },
   {
    "duration": 0,
    "start_time": "2023-04-19T15:40:59.097Z"
   },
   {
    "duration": 0,
    "start_time": "2023-04-19T15:40:59.098Z"
   },
   {
    "duration": 0,
    "start_time": "2023-04-19T15:40:59.099Z"
   },
   {
    "duration": 0,
    "start_time": "2023-04-19T15:40:59.100Z"
   },
   {
    "duration": 0,
    "start_time": "2023-04-19T15:40:59.101Z"
   },
   {
    "duration": 0,
    "start_time": "2023-04-19T15:40:59.102Z"
   },
   {
    "duration": 0,
    "start_time": "2023-04-19T15:40:59.103Z"
   },
   {
    "duration": 0,
    "start_time": "2023-04-19T15:40:59.105Z"
   },
   {
    "duration": 0,
    "start_time": "2023-04-19T15:40:59.106Z"
   },
   {
    "duration": 0,
    "start_time": "2023-04-19T15:40:59.107Z"
   },
   {
    "duration": 122,
    "start_time": "2023-04-19T15:41:49.939Z"
   },
   {
    "duration": 18,
    "start_time": "2023-04-19T15:41:50.063Z"
   },
   {
    "duration": 11,
    "start_time": "2023-04-19T15:41:50.083Z"
   },
   {
    "duration": 18,
    "start_time": "2023-04-19T15:41:50.095Z"
   },
   {
    "duration": 19,
    "start_time": "2023-04-19T15:41:50.116Z"
   },
   {
    "duration": 11,
    "start_time": "2023-04-19T15:41:50.137Z"
   },
   {
    "duration": 8,
    "start_time": "2023-04-19T15:41:50.149Z"
   },
   {
    "duration": 45,
    "start_time": "2023-04-19T15:41:50.159Z"
   },
   {
    "duration": 22,
    "start_time": "2023-04-19T15:41:50.206Z"
   },
   {
    "duration": 9,
    "start_time": "2023-04-19T15:41:50.230Z"
   },
   {
    "duration": 6,
    "start_time": "2023-04-19T15:41:50.241Z"
   },
   {
    "duration": 20,
    "start_time": "2023-04-19T15:41:50.249Z"
   },
   {
    "duration": 4,
    "start_time": "2023-04-19T15:41:50.295Z"
   },
   {
    "duration": 508,
    "start_time": "2023-04-19T15:41:50.302Z"
   },
   {
    "duration": 1820,
    "start_time": "2023-04-19T15:41:50.812Z"
   },
   {
    "duration": 25,
    "start_time": "2023-04-19T15:41:52.634Z"
   },
   {
    "duration": 3,
    "start_time": "2023-04-19T15:41:52.660Z"
   },
   {
    "duration": 195,
    "start_time": "2023-04-19T15:41:52.665Z"
   },
   {
    "duration": 8,
    "start_time": "2023-04-19T15:41:52.862Z"
   },
   {
    "duration": 1046,
    "start_time": "2023-04-19T15:41:52.871Z"
   },
   {
    "duration": 12,
    "start_time": "2023-04-19T15:41:53.919Z"
   },
   {
    "duration": 4,
    "start_time": "2023-04-19T15:41:53.933Z"
   },
   {
    "duration": 17,
    "start_time": "2023-04-19T15:41:53.939Z"
   },
   {
    "duration": 223,
    "start_time": "2023-04-19T15:41:53.957Z"
   },
   {
    "duration": 178,
    "start_time": "2023-04-19T15:41:54.182Z"
   },
   {
    "duration": 352,
    "start_time": "2023-04-19T15:41:54.362Z"
   },
   {
    "duration": 172,
    "start_time": "2023-04-19T15:41:54.716Z"
   },
   {
    "duration": 10,
    "start_time": "2023-04-19T15:41:54.890Z"
   },
   {
    "duration": 194,
    "start_time": "2023-04-19T15:41:54.902Z"
   },
   {
    "duration": 248,
    "start_time": "2023-04-19T15:41:55.098Z"
   },
   {
    "duration": 201,
    "start_time": "2023-04-19T15:41:55.348Z"
   },
   {
    "duration": 237,
    "start_time": "2023-04-19T15:41:55.551Z"
   },
   {
    "duration": 16,
    "start_time": "2023-04-19T15:41:55.790Z"
   },
   {
    "duration": 160,
    "start_time": "2023-04-19T15:41:55.808Z"
   },
   {
    "duration": 11,
    "start_time": "2023-04-19T15:41:55.969Z"
   },
   {
    "duration": 23,
    "start_time": "2023-04-19T15:41:55.982Z"
   },
   {
    "duration": 469,
    "start_time": "2023-04-19T15:45:25.552Z"
   },
   {
    "duration": 117,
    "start_time": "2023-04-19T15:45:28.226Z"
   },
   {
    "duration": 20,
    "start_time": "2023-04-19T15:45:28.345Z"
   },
   {
    "duration": 11,
    "start_time": "2023-04-19T15:45:28.366Z"
   },
   {
    "duration": 9,
    "start_time": "2023-04-19T15:45:28.378Z"
   },
   {
    "duration": 15,
    "start_time": "2023-04-19T15:45:28.389Z"
   },
   {
    "duration": 9,
    "start_time": "2023-04-19T15:45:28.405Z"
   },
   {
    "duration": 4,
    "start_time": "2023-04-19T15:45:28.415Z"
   },
   {
    "duration": 27,
    "start_time": "2023-04-19T15:45:28.421Z"
   },
   {
    "duration": 16,
    "start_time": "2023-04-19T15:45:28.450Z"
   },
   {
    "duration": 34,
    "start_time": "2023-04-19T15:45:28.467Z"
   },
   {
    "duration": 8,
    "start_time": "2023-04-19T15:45:28.503Z"
   },
   {
    "duration": 25,
    "start_time": "2023-04-19T15:45:28.512Z"
   },
   {
    "duration": 6,
    "start_time": "2023-04-19T15:45:28.539Z"
   },
   {
    "duration": 558,
    "start_time": "2023-04-19T15:45:28.547Z"
   },
   {
    "duration": 1581,
    "start_time": "2023-04-19T15:45:29.107Z"
   },
   {
    "duration": 26,
    "start_time": "2023-04-19T15:45:30.693Z"
   },
   {
    "duration": 18,
    "start_time": "2023-04-19T15:45:30.721Z"
   },
   {
    "duration": 203,
    "start_time": "2023-04-19T15:45:30.741Z"
   },
   {
    "duration": 8,
    "start_time": "2023-04-19T15:45:30.945Z"
   },
   {
    "duration": 1087,
    "start_time": "2023-04-19T15:45:30.955Z"
   },
   {
    "duration": 12,
    "start_time": "2023-04-19T15:45:32.043Z"
   },
   {
    "duration": 4,
    "start_time": "2023-04-19T15:45:32.056Z"
   },
   {
    "duration": 8,
    "start_time": "2023-04-19T15:45:32.062Z"
   },
   {
    "duration": 167,
    "start_time": "2023-04-19T15:45:32.072Z"
   },
   {
    "duration": 164,
    "start_time": "2023-04-19T15:45:32.240Z"
   },
   {
    "duration": 180,
    "start_time": "2023-04-19T15:45:32.405Z"
   },
   {
    "duration": 180,
    "start_time": "2023-04-19T15:45:32.586Z"
   },
   {
    "duration": 6,
    "start_time": "2023-04-19T15:45:32.768Z"
   },
   {
    "duration": 186,
    "start_time": "2023-04-19T15:45:32.776Z"
   },
   {
    "duration": 415,
    "start_time": "2023-04-19T15:45:32.963Z"
   },
   {
    "duration": 194,
    "start_time": "2023-04-19T15:45:33.379Z"
   },
   {
    "duration": 240,
    "start_time": "2023-04-19T15:45:33.575Z"
   },
   {
    "duration": 13,
    "start_time": "2023-04-19T15:45:33.817Z"
   },
   {
    "duration": 156,
    "start_time": "2023-04-19T15:45:33.832Z"
   },
   {
    "duration": 14,
    "start_time": "2023-04-19T15:45:33.990Z"
   },
   {
    "duration": 13,
    "start_time": "2023-04-19T15:45:34.005Z"
   },
   {
    "duration": 4,
    "start_time": "2023-04-19T15:46:08.780Z"
   },
   {
    "duration": 7,
    "start_time": "2023-04-19T15:46:16.555Z"
   },
   {
    "duration": 31,
    "start_time": "2023-04-19T15:47:28.892Z"
   },
   {
    "duration": 14,
    "start_time": "2023-04-19T15:47:43.131Z"
   },
   {
    "duration": 18,
    "start_time": "2023-04-19T15:47:58.091Z"
   },
   {
    "duration": 1229,
    "start_time": "2023-04-19T15:53:28.302Z"
   },
   {
    "duration": 114,
    "start_time": "2023-04-19T15:53:48.904Z"
   },
   {
    "duration": 144,
    "start_time": "2023-04-19T16:02:58.500Z"
   },
   {
    "duration": 1083,
    "start_time": "2023-04-19T19:48:20.113Z"
   },
   {
    "duration": 25,
    "start_time": "2023-04-19T19:48:21.199Z"
   },
   {
    "duration": 12,
    "start_time": "2023-04-19T19:48:21.226Z"
   },
   {
    "duration": 28,
    "start_time": "2023-04-19T19:48:21.240Z"
   },
   {
    "duration": 21,
    "start_time": "2023-04-19T19:48:21.271Z"
   },
   {
    "duration": 24,
    "start_time": "2023-04-19T19:48:21.293Z"
   },
   {
    "duration": 13,
    "start_time": "2023-04-19T19:48:21.319Z"
   },
   {
    "duration": 44,
    "start_time": "2023-04-19T19:48:21.333Z"
   },
   {
    "duration": 34,
    "start_time": "2023-04-19T19:48:21.379Z"
   },
   {
    "duration": 10,
    "start_time": "2023-04-19T19:48:21.415Z"
   },
   {
    "duration": 11,
    "start_time": "2023-04-19T19:48:21.427Z"
   },
   {
    "duration": 24,
    "start_time": "2023-04-19T19:48:21.440Z"
   },
   {
    "duration": 10,
    "start_time": "2023-04-19T19:48:21.466Z"
   },
   {
    "duration": 615,
    "start_time": "2023-04-19T19:48:21.481Z"
   },
   {
    "duration": 1079,
    "start_time": "2023-04-19T19:48:22.099Z"
   },
   {
    "duration": 32,
    "start_time": "2023-04-19T19:48:23.179Z"
   },
   {
    "duration": 5,
    "start_time": "2023-04-19T19:48:23.213Z"
   },
   {
    "duration": 228,
    "start_time": "2023-04-19T19:48:23.219Z"
   },
   {
    "duration": 10,
    "start_time": "2023-04-19T19:48:23.449Z"
   },
   {
    "duration": 2496,
    "start_time": "2023-04-19T19:48:23.461Z"
   },
   {
    "duration": 69,
    "start_time": "2023-04-19T19:48:25.960Z"
   },
   {
    "duration": 5,
    "start_time": "2023-04-19T19:48:26.031Z"
   },
   {
    "duration": 6,
    "start_time": "2023-04-19T19:48:26.038Z"
   },
   {
    "duration": 569,
    "start_time": "2023-04-19T19:48:26.046Z"
   },
   {
    "duration": 358,
    "start_time": "2023-04-19T19:48:26.617Z"
   },
   {
    "duration": 249,
    "start_time": "2023-04-19T19:48:26.977Z"
   },
   {
    "duration": 210,
    "start_time": "2023-04-19T19:48:27.228Z"
   },
   {
    "duration": 11,
    "start_time": "2023-04-19T19:48:27.440Z"
   },
   {
    "duration": 270,
    "start_time": "2023-04-19T19:48:27.453Z"
   },
   {
    "duration": 307,
    "start_time": "2023-04-19T19:48:27.726Z"
   },
   {
    "duration": 232,
    "start_time": "2023-04-19T19:48:28.034Z"
   },
   {
    "duration": 332,
    "start_time": "2023-04-19T19:48:28.269Z"
   },
   {
    "duration": 19,
    "start_time": "2023-04-19T19:48:28.603Z"
   },
   {
    "duration": 288,
    "start_time": "2023-04-19T19:48:28.623Z"
   },
   {
    "duration": 12,
    "start_time": "2023-04-19T19:48:28.913Z"
   },
   {
    "duration": 20,
    "start_time": "2023-04-19T19:48:28.927Z"
   },
   {
    "duration": 227,
    "start_time": "2023-04-19T19:48:28.949Z"
   },
   {
    "duration": 4,
    "start_time": "2023-04-19T19:48:29.179Z"
   },
   {
    "duration": 147,
    "start_time": "2023-04-19T19:48:44.744Z"
   },
   {
    "duration": 95,
    "start_time": "2023-04-19T19:55:37.251Z"
   },
   {
    "duration": 388,
    "start_time": "2023-04-19T19:56:53.297Z"
   },
   {
    "duration": 9,
    "start_time": "2023-04-19T19:58:15.304Z"
   },
   {
    "duration": 9,
    "start_time": "2023-04-19T19:58:29.590Z"
   },
   {
    "duration": 204,
    "start_time": "2023-04-19T19:58:41.424Z"
   },
   {
    "duration": 306,
    "start_time": "2023-04-19T20:04:16.509Z"
   },
   {
    "duration": 305,
    "start_time": "2023-04-19T20:04:25.693Z"
   },
   {
    "duration": 4467,
    "start_time": "2023-04-19T20:04:41.491Z"
   },
   {
    "duration": 4806,
    "start_time": "2023-04-19T20:05:00.824Z"
   },
   {
    "duration": 374,
    "start_time": "2023-04-19T20:05:20.161Z"
   },
   {
    "duration": 334,
    "start_time": "2023-04-19T20:05:33.637Z"
   },
   {
    "duration": 341,
    "start_time": "2023-04-19T20:05:52.308Z"
   },
   {
    "duration": 366,
    "start_time": "2023-04-19T20:07:17.124Z"
   },
   {
    "duration": 5028,
    "start_time": "2023-04-19T20:08:04.856Z"
   },
   {
    "duration": 488,
    "start_time": "2023-04-19T20:09:08.926Z"
   },
   {
    "duration": 4868,
    "start_time": "2023-04-19T20:09:16.244Z"
   },
   {
    "duration": 435,
    "start_time": "2023-04-19T20:10:34.604Z"
   },
   {
    "duration": 4587,
    "start_time": "2023-04-19T20:10:47.424Z"
   },
   {
    "duration": 145,
    "start_time": "2023-04-19T20:32:45.540Z"
   },
   {
    "duration": 140,
    "start_time": "2023-04-19T20:38:36.629Z"
   },
   {
    "duration": 12,
    "start_time": "2023-04-19T20:40:17.554Z"
   },
   {
    "duration": 7,
    "start_time": "2023-04-19T20:40:24.227Z"
   },
   {
    "duration": 16,
    "start_time": "2023-04-19T20:41:54.520Z"
   },
   {
    "duration": 18,
    "start_time": "2023-04-19T20:42:08.083Z"
   },
   {
    "duration": 23,
    "start_time": "2023-04-19T20:46:26.125Z"
   },
   {
    "duration": 28,
    "start_time": "2023-04-19T20:46:37.484Z"
   },
   {
    "duration": 132,
    "start_time": "2023-04-19T21:47:55.321Z"
   },
   {
    "duration": 138,
    "start_time": "2023-04-19T22:17:38.321Z"
   },
   {
    "duration": 22,
    "start_time": "2023-04-19T22:17:38.461Z"
   },
   {
    "duration": 11,
    "start_time": "2023-04-19T22:17:38.485Z"
   },
   {
    "duration": 10,
    "start_time": "2023-04-19T22:17:38.498Z"
   },
   {
    "duration": 14,
    "start_time": "2023-04-19T22:17:38.510Z"
   },
   {
    "duration": 11,
    "start_time": "2023-04-19T22:17:38.525Z"
   },
   {
    "duration": 6,
    "start_time": "2023-04-19T22:17:38.537Z"
   },
   {
    "duration": 26,
    "start_time": "2023-04-19T22:17:38.545Z"
   },
   {
    "duration": 40,
    "start_time": "2023-04-19T22:17:38.573Z"
   },
   {
    "duration": 8,
    "start_time": "2023-04-19T22:17:38.615Z"
   },
   {
    "duration": 5,
    "start_time": "2023-04-19T22:17:38.625Z"
   },
   {
    "duration": 18,
    "start_time": "2023-04-19T22:17:38.632Z"
   },
   {
    "duration": 4,
    "start_time": "2023-04-19T22:17:38.652Z"
   },
   {
    "duration": 590,
    "start_time": "2023-04-19T22:17:38.658Z"
   },
   {
    "duration": 1178,
    "start_time": "2023-04-19T22:17:39.249Z"
   },
   {
    "duration": 84,
    "start_time": "2023-04-19T22:17:40.429Z"
   },
   {
    "duration": 5,
    "start_time": "2023-04-19T22:17:40.515Z"
   },
   {
    "duration": 407,
    "start_time": "2023-04-19T22:17:40.522Z"
   },
   {
    "duration": 9,
    "start_time": "2023-04-19T22:17:40.930Z"
   },
   {
    "duration": 1466,
    "start_time": "2023-04-19T22:17:40.940Z"
   },
   {
    "duration": 12,
    "start_time": "2023-04-19T22:17:42.411Z"
   },
   {
    "duration": 4,
    "start_time": "2023-04-19T22:17:42.424Z"
   },
   {
    "duration": 5,
    "start_time": "2023-04-19T22:17:42.430Z"
   },
   {
    "duration": 185,
    "start_time": "2023-04-19T22:17:42.437Z"
   },
   {
    "duration": 303,
    "start_time": "2023-04-19T22:17:42.623Z"
   },
   {
    "duration": 201,
    "start_time": "2023-04-19T22:17:42.928Z"
   },
   {
    "duration": 203,
    "start_time": "2023-04-19T22:17:43.131Z"
   },
   {
    "duration": 8,
    "start_time": "2023-04-19T22:17:43.336Z"
   },
   {
    "duration": 223,
    "start_time": "2023-04-19T22:17:43.346Z"
   },
   {
    "duration": 269,
    "start_time": "2023-04-19T22:17:43.571Z"
   },
   {
    "duration": 213,
    "start_time": "2023-04-19T22:17:43.842Z"
   },
   {
    "duration": 257,
    "start_time": "2023-04-19T22:17:44.057Z"
   },
   {
    "duration": 13,
    "start_time": "2023-04-19T22:17:44.317Z"
   },
   {
    "duration": 171,
    "start_time": "2023-04-19T22:17:44.331Z"
   },
   {
    "duration": 159,
    "start_time": "2023-04-19T22:17:44.504Z"
   },
   {
    "duration": 149,
    "start_time": "2023-04-19T22:17:44.664Z"
   },
   {
    "duration": 18,
    "start_time": "2023-04-19T22:17:44.815Z"
   },
   {
    "duration": 149,
    "start_time": "2023-04-19T22:17:44.835Z"
   },
   {
    "duration": 153,
    "start_time": "2023-04-19T22:17:44.986Z"
   },
   {
    "duration": 386,
    "start_time": "2023-04-19T22:17:45.140Z"
   },
   {
    "duration": 4740,
    "start_time": "2023-04-19T22:17:45.528Z"
   },
   {
    "duration": 134,
    "start_time": "2023-04-19T22:17:50.271Z"
   },
   {
    "duration": 22,
    "start_time": "2023-04-19T22:17:50.406Z"
   },
   {
    "duration": 14,
    "start_time": "2023-04-19T22:17:50.430Z"
   },
   {
    "duration": 21,
    "start_time": "2023-04-19T22:17:50.446Z"
   },
   {
    "duration": 16,
    "start_time": "2023-04-19T22:17:50.469Z"
   },
   {
    "duration": 27,
    "start_time": "2023-04-19T22:17:50.486Z"
   },
   {
    "duration": 6,
    "start_time": "2023-04-19T22:17:50.515Z"
   },
   {
    "duration": 29,
    "start_time": "2023-04-19T22:17:50.523Z"
   },
   {
    "duration": 45,
    "start_time": "2023-04-19T22:17:50.554Z"
   },
   {
    "duration": 8,
    "start_time": "2023-04-19T22:17:50.600Z"
   },
   {
    "duration": 14,
    "start_time": "2023-04-19T22:17:50.609Z"
   },
   {
    "duration": 31,
    "start_time": "2023-04-19T22:17:50.624Z"
   },
   {
    "duration": 4,
    "start_time": "2023-04-19T22:17:50.658Z"
   },
   {
    "duration": 496,
    "start_time": "2023-04-19T22:17:50.844Z"
   },
   {
    "duration": 890,
    "start_time": "2023-04-19T22:17:51.343Z"
   },
   {
    "duration": 20,
    "start_time": "2023-04-19T22:17:52.234Z"
   },
   {
    "duration": 6,
    "start_time": "2023-04-19T22:17:52.256Z"
   },
   {
    "duration": 199,
    "start_time": "2023-04-19T22:17:52.513Z"
   },
   {
    "duration": 8,
    "start_time": "2023-04-19T22:17:53.042Z"
   },
   {
    "duration": 1128,
    "start_time": "2023-04-19T22:17:53.460Z"
   },
   {
    "duration": 21,
    "start_time": "2023-04-19T22:17:54.590Z"
   },
   {
    "duration": 4,
    "start_time": "2023-04-19T22:17:54.613Z"
   },
   {
    "duration": 5,
    "start_time": "2023-04-19T22:17:55.073Z"
   },
   {
    "duration": 163,
    "start_time": "2023-04-19T22:17:55.571Z"
   },
   {
    "duration": 166,
    "start_time": "2023-04-19T22:17:55.930Z"
   },
   {
    "duration": 200,
    "start_time": "2023-04-19T22:17:57.020Z"
   },
   {
    "duration": 191,
    "start_time": "2023-04-19T22:17:57.222Z"
   },
   {
    "duration": 8,
    "start_time": "2023-04-19T22:17:57.415Z"
   },
   {
    "duration": 329,
    "start_time": "2023-04-19T22:17:57.424Z"
   },
   {
    "duration": 270,
    "start_time": "2023-04-19T22:17:57.754Z"
   },
   {
    "duration": 210,
    "start_time": "2023-04-19T22:17:58.026Z"
   },
   {
    "duration": 258,
    "start_time": "2023-04-19T22:17:58.238Z"
   },
   {
    "duration": 13,
    "start_time": "2023-04-19T22:17:58.632Z"
   },
   {
    "duration": 165,
    "start_time": "2023-04-19T22:17:59.101Z"
   },
   {
    "duration": 165,
    "start_time": "2023-04-19T22:17:59.506Z"
   },
   {
    "duration": 132,
    "start_time": "2023-04-19T22:17:59.733Z"
   },
   {
    "duration": 19,
    "start_time": "2023-04-19T22:18:00.213Z"
   },
   {
    "duration": 130,
    "start_time": "2023-04-19T22:18:00.450Z"
   },
   {
    "duration": 160,
    "start_time": "2023-04-19T22:18:00.865Z"
   },
   {
    "duration": 388,
    "start_time": "2023-04-19T22:18:01.301Z"
   },
   {
    "duration": 4587,
    "start_time": "2023-04-19T22:18:01.692Z"
   },
   {
    "duration": 511,
    "start_time": "2023-04-19T22:38:12.636Z"
   },
   {
    "duration": 21,
    "start_time": "2023-04-19T22:38:13.150Z"
   },
   {
    "duration": 14,
    "start_time": "2023-04-19T22:38:13.172Z"
   },
   {
    "duration": 9,
    "start_time": "2023-04-19T22:38:13.188Z"
   },
   {
    "duration": 12,
    "start_time": "2023-04-19T22:38:13.198Z"
   },
   {
    "duration": 28,
    "start_time": "2023-04-19T22:38:13.212Z"
   },
   {
    "duration": 12,
    "start_time": "2023-04-19T22:38:13.241Z"
   },
   {
    "duration": 33,
    "start_time": "2023-04-19T22:38:13.254Z"
   },
   {
    "duration": 14,
    "start_time": "2023-04-19T22:38:13.289Z"
   },
   {
    "duration": 7,
    "start_time": "2023-04-19T22:38:13.305Z"
   },
   {
    "duration": 9,
    "start_time": "2023-04-19T22:38:13.313Z"
   },
   {
    "duration": 22,
    "start_time": "2023-04-19T22:38:13.324Z"
   },
   {
    "duration": 4,
    "start_time": "2023-04-19T22:38:13.347Z"
   },
   {
    "duration": 433,
    "start_time": "2023-04-19T22:38:13.352Z"
   },
   {
    "duration": 833,
    "start_time": "2023-04-19T22:38:13.786Z"
   },
   {
    "duration": 22,
    "start_time": "2023-04-19T22:38:14.620Z"
   },
   {
    "duration": 3,
    "start_time": "2023-04-19T22:38:14.644Z"
   },
   {
    "duration": 174,
    "start_time": "2023-04-19T22:38:14.648Z"
   },
   {
    "duration": 12,
    "start_time": "2023-04-19T22:38:14.824Z"
   },
   {
    "duration": 1222,
    "start_time": "2023-04-19T22:38:14.837Z"
   },
   {
    "duration": 11,
    "start_time": "2023-04-19T22:38:16.061Z"
   },
   {
    "duration": 9,
    "start_time": "2023-04-19T22:38:16.074Z"
   },
   {
    "duration": 20,
    "start_time": "2023-04-19T22:38:16.084Z"
   },
   {
    "duration": 151,
    "start_time": "2023-04-19T22:38:16.105Z"
   },
   {
    "duration": 151,
    "start_time": "2023-04-19T22:38:16.257Z"
   },
   {
    "duration": 168,
    "start_time": "2023-04-19T22:38:16.409Z"
   },
   {
    "duration": 155,
    "start_time": "2023-04-19T22:38:16.578Z"
   },
   {
    "duration": 6,
    "start_time": "2023-04-19T22:38:16.736Z"
   },
   {
    "duration": 188,
    "start_time": "2023-04-19T22:38:16.743Z"
   },
   {
    "duration": 222,
    "start_time": "2023-04-19T22:38:16.933Z"
   },
   {
    "duration": 170,
    "start_time": "2023-04-19T22:38:17.156Z"
   },
   {
    "duration": 218,
    "start_time": "2023-04-19T22:38:17.327Z"
   },
   {
    "duration": 13,
    "start_time": "2023-04-19T22:38:17.546Z"
   },
   {
    "duration": 138,
    "start_time": "2023-04-19T22:38:17.560Z"
   },
   {
    "duration": 208,
    "start_time": "2023-04-19T22:38:17.700Z"
   },
   {
    "duration": 130,
    "start_time": "2023-04-19T22:38:17.909Z"
   },
   {
    "duration": 16,
    "start_time": "2023-04-19T22:38:18.040Z"
   },
   {
    "duration": 116,
    "start_time": "2023-04-19T22:38:18.058Z"
   },
   {
    "duration": 119,
    "start_time": "2023-04-19T22:38:18.176Z"
   },
   {
    "duration": 324,
    "start_time": "2023-04-19T22:38:18.297Z"
   },
   {
    "duration": 3900,
    "start_time": "2023-04-19T22:38:18.623Z"
   },
   {
    "duration": 525,
    "start_time": "2023-04-20T17:54:08.639Z"
   },
   {
    "duration": 22,
    "start_time": "2023-04-20T17:54:09.166Z"
   },
   {
    "duration": 17,
    "start_time": "2023-04-20T17:54:09.189Z"
   },
   {
    "duration": 19,
    "start_time": "2023-04-20T17:54:09.208Z"
   },
   {
    "duration": 28,
    "start_time": "2023-04-20T17:54:09.229Z"
   },
   {
    "duration": 9,
    "start_time": "2023-04-20T17:54:09.259Z"
   },
   {
    "duration": 5,
    "start_time": "2023-04-20T17:54:09.269Z"
   },
   {
    "duration": 29,
    "start_time": "2023-04-20T17:54:09.276Z"
   },
   {
    "duration": 17,
    "start_time": "2023-04-20T17:54:09.306Z"
   },
   {
    "duration": 7,
    "start_time": "2023-04-20T17:54:09.324Z"
   },
   {
    "duration": 8,
    "start_time": "2023-04-20T17:54:09.333Z"
   },
   {
    "duration": 40,
    "start_time": "2023-04-20T17:54:09.343Z"
   },
   {
    "duration": 4,
    "start_time": "2023-04-20T17:54:09.385Z"
   },
   {
    "duration": 510,
    "start_time": "2023-04-20T17:54:09.392Z"
   },
   {
    "duration": 858,
    "start_time": "2023-04-20T17:54:09.903Z"
   },
   {
    "duration": 27,
    "start_time": "2023-04-20T17:54:10.763Z"
   },
   {
    "duration": 3,
    "start_time": "2023-04-20T17:54:10.792Z"
   },
   {
    "duration": 187,
    "start_time": "2023-04-20T17:54:10.797Z"
   },
   {
    "duration": 7,
    "start_time": "2023-04-20T17:54:10.986Z"
   },
   {
    "duration": 1353,
    "start_time": "2023-04-20T17:54:10.994Z"
   },
   {
    "duration": 12,
    "start_time": "2023-04-20T17:54:12.348Z"
   },
   {
    "duration": 24,
    "start_time": "2023-04-20T17:54:12.361Z"
   },
   {
    "duration": 6,
    "start_time": "2023-04-20T17:54:12.387Z"
   },
   {
    "duration": 161,
    "start_time": "2023-04-20T17:54:12.395Z"
   },
   {
    "duration": 170,
    "start_time": "2023-04-20T17:54:12.558Z"
   },
   {
    "duration": 174,
    "start_time": "2023-04-20T17:54:12.729Z"
   },
   {
    "duration": 181,
    "start_time": "2023-04-20T17:54:12.904Z"
   },
   {
    "duration": 7,
    "start_time": "2023-04-20T17:54:13.087Z"
   },
   {
    "duration": 196,
    "start_time": "2023-04-20T17:54:13.095Z"
   },
   {
    "duration": 264,
    "start_time": "2023-04-20T17:54:13.292Z"
   },
   {
    "duration": 195,
    "start_time": "2023-04-20T17:54:13.557Z"
   },
   {
    "duration": 240,
    "start_time": "2023-04-20T17:54:13.754Z"
   },
   {
    "duration": 13,
    "start_time": "2023-04-20T17:54:13.996Z"
   },
   {
    "duration": 248,
    "start_time": "2023-04-20T17:54:14.011Z"
   },
   {
    "duration": 145,
    "start_time": "2023-04-20T17:54:14.261Z"
   },
   {
    "duration": 132,
    "start_time": "2023-04-20T17:54:14.408Z"
   },
   {
    "duration": 18,
    "start_time": "2023-04-20T17:54:14.542Z"
   },
   {
    "duration": 132,
    "start_time": "2023-04-20T17:54:14.561Z"
   },
   {
    "duration": 165,
    "start_time": "2023-04-20T17:54:14.694Z"
   },
   {
    "duration": 368,
    "start_time": "2023-04-20T17:54:14.861Z"
   },
   {
    "duration": 4365,
    "start_time": "2023-04-20T17:54:15.232Z"
   },
   {
    "duration": 6,
    "start_time": "2023-04-20T18:26:50.243Z"
   },
   {
    "duration": 544,
    "start_time": "2023-04-20T18:27:04.090Z"
   },
   {
    "duration": 23,
    "start_time": "2023-04-20T18:27:04.636Z"
   },
   {
    "duration": 35,
    "start_time": "2023-04-20T18:27:04.660Z"
   },
   {
    "duration": 37,
    "start_time": "2023-04-20T18:27:04.697Z"
   },
   {
    "duration": 46,
    "start_time": "2023-04-20T18:27:04.737Z"
   },
   {
    "duration": 25,
    "start_time": "2023-04-20T18:27:04.785Z"
   },
   {
    "duration": 34,
    "start_time": "2023-04-20T18:27:04.812Z"
   },
   {
    "duration": 63,
    "start_time": "2023-04-20T18:27:04.848Z"
   },
   {
    "duration": 51,
    "start_time": "2023-04-20T18:27:04.913Z"
   },
   {
    "duration": 49,
    "start_time": "2023-04-20T18:27:04.966Z"
   },
   {
    "duration": 36,
    "start_time": "2023-04-20T18:27:05.017Z"
   },
   {
    "duration": 65,
    "start_time": "2023-04-20T18:27:05.055Z"
   },
   {
    "duration": 63,
    "start_time": "2023-04-20T18:27:05.121Z"
   },
   {
    "duration": 39,
    "start_time": "2023-04-20T18:27:05.187Z"
   },
   {
    "duration": 563,
    "start_time": "2023-04-20T18:27:05.227Z"
   },
   {
    "duration": 911,
    "start_time": "2023-04-20T18:27:05.792Z"
   },
   {
    "duration": 18,
    "start_time": "2023-04-20T18:27:06.704Z"
   },
   {
    "duration": 40,
    "start_time": "2023-04-20T18:27:06.724Z"
   },
   {
    "duration": 202,
    "start_time": "2023-04-20T18:27:06.766Z"
   },
   {
    "duration": 14,
    "start_time": "2023-04-20T18:27:06.970Z"
   },
   {
    "duration": 1440,
    "start_time": "2023-04-20T18:27:06.985Z"
   },
   {
    "duration": 15,
    "start_time": "2023-04-20T18:27:08.427Z"
   },
   {
    "duration": 51,
    "start_time": "2023-04-20T18:27:08.443Z"
   },
   {
    "duration": 49,
    "start_time": "2023-04-20T18:27:08.496Z"
   },
   {
    "duration": 235,
    "start_time": "2023-04-20T18:27:08.546Z"
   },
   {
    "duration": 184,
    "start_time": "2023-04-20T18:27:08.783Z"
   },
   {
    "duration": 208,
    "start_time": "2023-04-20T18:27:08.969Z"
   },
   {
    "duration": 185,
    "start_time": "2023-04-20T18:27:09.182Z"
   },
   {
    "duration": 16,
    "start_time": "2023-04-20T18:27:09.368Z"
   },
   {
    "duration": 218,
    "start_time": "2023-04-20T18:27:09.386Z"
   },
   {
    "duration": 280,
    "start_time": "2023-04-20T18:27:09.606Z"
   },
   {
    "duration": 212,
    "start_time": "2023-04-20T18:27:09.888Z"
   },
   {
    "duration": 250,
    "start_time": "2023-04-20T18:27:10.102Z"
   },
   {
    "duration": 12,
    "start_time": "2023-04-20T18:27:10.353Z"
   },
   {
    "duration": 284,
    "start_time": "2023-04-20T18:27:10.366Z"
   },
   {
    "duration": 158,
    "start_time": "2023-04-20T18:27:10.652Z"
   },
   {
    "duration": 136,
    "start_time": "2023-04-20T18:27:10.812Z"
   },
   {
    "duration": 17,
    "start_time": "2023-04-20T18:27:10.950Z"
   },
   {
    "duration": 150,
    "start_time": "2023-04-20T18:27:10.969Z"
   },
   {
    "duration": 137,
    "start_time": "2023-04-20T18:27:11.121Z"
   },
   {
    "duration": 366,
    "start_time": "2023-04-20T18:27:11.262Z"
   },
   {
    "duration": 5354,
    "start_time": "2023-04-20T18:27:11.630Z"
   },
   {
    "duration": 5,
    "start_time": "2023-04-20T18:34:50.009Z"
   },
   {
    "duration": 714,
    "start_time": "2023-04-20T18:34:57.912Z"
   },
   {
    "duration": 20,
    "start_time": "2023-04-20T18:34:58.628Z"
   },
   {
    "duration": 15,
    "start_time": "2023-04-20T18:34:58.652Z"
   },
   {
    "duration": 28,
    "start_time": "2023-04-20T18:34:58.669Z"
   },
   {
    "duration": 47,
    "start_time": "2023-04-20T18:34:58.699Z"
   },
   {
    "duration": 30,
    "start_time": "2023-04-20T18:34:58.748Z"
   },
   {
    "duration": 31,
    "start_time": "2023-04-20T18:34:58.780Z"
   },
   {
    "duration": 48,
    "start_time": "2023-04-20T18:34:58.813Z"
   },
   {
    "duration": 41,
    "start_time": "2023-04-20T18:34:58.863Z"
   },
   {
    "duration": 36,
    "start_time": "2023-04-20T18:34:58.908Z"
   },
   {
    "duration": 10,
    "start_time": "2023-04-20T18:34:58.945Z"
   },
   {
    "duration": 14,
    "start_time": "2023-04-20T18:34:58.957Z"
   },
   {
    "duration": 54,
    "start_time": "2023-04-20T18:34:58.975Z"
   },
   {
    "duration": 13,
    "start_time": "2023-04-20T18:34:59.030Z"
   },
   {
    "duration": 605,
    "start_time": "2023-04-20T18:34:59.044Z"
   },
   {
    "duration": 1034,
    "start_time": "2023-04-20T18:34:59.650Z"
   },
   {
    "duration": 32,
    "start_time": "2023-04-20T18:35:00.686Z"
   },
   {
    "duration": 14,
    "start_time": "2023-04-20T18:35:00.721Z"
   },
   {
    "duration": 26,
    "start_time": "2023-04-20T18:35:00.737Z"
   },
   {
    "duration": 375,
    "start_time": "2023-04-20T18:35:00.765Z"
   },
   {
    "duration": 10,
    "start_time": "2023-04-20T18:35:01.142Z"
   },
   {
    "duration": 2194,
    "start_time": "2023-04-20T18:35:01.154Z"
   },
   {
    "duration": 12,
    "start_time": "2023-04-20T18:35:03.350Z"
   },
   {
    "duration": 19,
    "start_time": "2023-04-20T18:35:03.364Z"
   },
   {
    "duration": 6,
    "start_time": "2023-04-20T18:35:03.385Z"
   },
   {
    "duration": 217,
    "start_time": "2023-04-20T18:35:03.395Z"
   },
   {
    "duration": 217,
    "start_time": "2023-04-20T18:35:03.614Z"
   },
   {
    "duration": 251,
    "start_time": "2023-04-20T18:35:03.833Z"
   },
   {
    "duration": 219,
    "start_time": "2023-04-20T18:35:04.088Z"
   },
   {
    "duration": 10,
    "start_time": "2023-04-20T18:35:04.309Z"
   },
   {
    "duration": 242,
    "start_time": "2023-04-20T18:35:04.320Z"
   },
   {
    "duration": 355,
    "start_time": "2023-04-20T18:35:04.564Z"
   },
   {
    "duration": 249,
    "start_time": "2023-04-20T18:35:04.921Z"
   },
   {
    "duration": 293,
    "start_time": "2023-04-20T18:35:05.172Z"
   },
   {
    "duration": 19,
    "start_time": "2023-04-20T18:35:05.467Z"
   },
   {
    "duration": 253,
    "start_time": "2023-04-20T18:35:05.488Z"
   },
   {
    "duration": 176,
    "start_time": "2023-04-20T18:35:05.743Z"
   },
   {
    "duration": 150,
    "start_time": "2023-04-20T18:35:05.921Z"
   },
   {
    "duration": 29,
    "start_time": "2023-04-20T18:35:06.073Z"
   },
   {
    "duration": 141,
    "start_time": "2023-04-20T18:35:06.105Z"
   },
   {
    "duration": 150,
    "start_time": "2023-04-20T18:35:06.248Z"
   },
   {
    "duration": 392,
    "start_time": "2023-04-20T18:35:06.401Z"
   },
   {
    "duration": 5015,
    "start_time": "2023-04-20T18:35:06.794Z"
   },
   {
    "duration": 6,
    "start_time": "2023-04-20T18:51:42.808Z"
   },
   {
    "duration": 172,
    "start_time": "2023-04-20T19:03:04.524Z"
   },
   {
    "duration": 120,
    "start_time": "2023-04-21T16:20:57.775Z"
   },
   {
    "duration": 447,
    "start_time": "2023-04-21T16:21:05.028Z"
   },
   {
    "duration": 3,
    "start_time": "2023-04-21T16:21:11.707Z"
   },
   {
    "duration": 957,
    "start_time": "2023-04-21T16:21:11.712Z"
   },
   {
    "duration": 62,
    "start_time": "2023-04-21T16:21:12.672Z"
   },
   {
    "duration": 17,
    "start_time": "2023-04-21T16:21:12.736Z"
   },
   {
    "duration": 77,
    "start_time": "2023-04-21T16:21:12.756Z"
   },
   {
    "duration": 81,
    "start_time": "2023-04-21T16:21:12.836Z"
   },
   {
    "duration": 15,
    "start_time": "2023-04-21T16:21:12.920Z"
   },
   {
    "duration": 11,
    "start_time": "2023-04-21T16:21:12.937Z"
   },
   {
    "duration": 81,
    "start_time": "2023-04-21T16:21:12.950Z"
   },
   {
    "duration": 28,
    "start_time": "2023-04-21T16:21:13.032Z"
   },
   {
    "duration": 19,
    "start_time": "2023-04-21T16:21:13.122Z"
   },
   {
    "duration": 16,
    "start_time": "2023-04-21T16:21:13.143Z"
   },
   {
    "duration": 59,
    "start_time": "2023-04-21T16:21:13.161Z"
   },
   {
    "duration": 43,
    "start_time": "2023-04-21T16:21:13.222Z"
   },
   {
    "duration": 55,
    "start_time": "2023-04-21T16:21:13.267Z"
   },
   {
    "duration": 1496,
    "start_time": "2023-04-21T16:21:13.324Z"
   },
   {
    "duration": 1427,
    "start_time": "2023-04-21T16:21:14.826Z"
   },
   {
    "duration": 52,
    "start_time": "2023-04-21T16:21:16.255Z"
   },
   {
    "duration": 9,
    "start_time": "2023-04-21T16:21:16.309Z"
   },
   {
    "duration": 8,
    "start_time": "2023-04-21T16:21:16.320Z"
   },
   {
    "duration": 254,
    "start_time": "2023-04-21T16:21:16.331Z"
   },
   {
    "duration": 9,
    "start_time": "2023-04-21T16:21:16.587Z"
   },
   {
    "duration": 1955,
    "start_time": "2023-04-21T16:21:16.598Z"
   },
   {
    "duration": 17,
    "start_time": "2023-04-21T16:21:18.555Z"
   },
   {
    "duration": 4,
    "start_time": "2023-04-21T16:21:18.574Z"
   },
   {
    "duration": 9,
    "start_time": "2023-04-21T16:21:18.580Z"
   },
   {
    "duration": 283,
    "start_time": "2023-04-21T16:21:18.591Z"
   },
   {
    "duration": 262,
    "start_time": "2023-04-21T16:21:18.877Z"
   },
   {
    "duration": 294,
    "start_time": "2023-04-21T16:21:19.155Z"
   },
   {
    "duration": 220,
    "start_time": "2023-04-21T16:21:19.451Z"
   },
   {
    "duration": 8,
    "start_time": "2023-04-21T16:21:19.672Z"
   },
   {
    "duration": 270,
    "start_time": "2023-04-21T16:21:19.682Z"
   },
   {
    "duration": 326,
    "start_time": "2023-04-21T16:21:19.954Z"
   },
   {
    "duration": 264,
    "start_time": "2023-04-21T16:21:20.282Z"
   },
   {
    "duration": 317,
    "start_time": "2023-04-21T16:21:20.548Z"
   },
   {
    "duration": 14,
    "start_time": "2023-04-21T16:21:20.867Z"
   },
   {
    "duration": 310,
    "start_time": "2023-04-21T16:21:20.883Z"
   },
   {
    "duration": 195,
    "start_time": "2023-04-21T16:21:21.194Z"
   },
   {
    "duration": 209,
    "start_time": "2023-04-21T16:21:21.391Z"
   },
   {
    "duration": 171,
    "start_time": "2023-04-21T16:21:21.602Z"
   },
   {
    "duration": 42,
    "start_time": "2023-04-21T16:21:21.775Z"
   },
   {
    "duration": 151,
    "start_time": "2023-04-21T16:21:21.824Z"
   },
   {
    "duration": 218,
    "start_time": "2023-04-21T16:21:21.977Z"
   },
   {
    "duration": 449,
    "start_time": "2023-04-21T16:21:22.197Z"
   },
   {
    "duration": 5241,
    "start_time": "2023-04-21T16:21:22.647Z"
   },
   {
    "duration": 99,
    "start_time": "2023-04-21T16:21:48.885Z"
   },
   {
    "duration": 28,
    "start_time": "2023-04-21T16:22:56.041Z"
   },
   {
    "duration": 50,
    "start_time": "2023-04-21T16:32:17.657Z"
   },
   {
    "duration": 54,
    "start_time": "2023-04-21T16:38:22.440Z"
   },
   {
    "duration": 64,
    "start_time": "2023-04-21T16:38:39.357Z"
   },
   {
    "duration": 179,
    "start_time": "2023-04-21T16:39:25.264Z"
   },
   {
    "duration": 74,
    "start_time": "2023-04-21T16:39:35.564Z"
   },
   {
    "duration": 64,
    "start_time": "2023-04-21T16:39:52.348Z"
   },
   {
    "duration": 64,
    "start_time": "2023-04-21T16:40:04.941Z"
   },
   {
    "duration": 66,
    "start_time": "2023-04-21T16:41:54.529Z"
   },
   {
    "duration": 55,
    "start_time": "2023-04-21T16:42:02.141Z"
   },
   {
    "duration": 66,
    "start_time": "2023-04-21T16:42:30.630Z"
   },
   {
    "duration": 98,
    "start_time": "2023-04-21T16:43:43.985Z"
   },
   {
    "duration": 54,
    "start_time": "2023-04-21T16:43:59.853Z"
   },
   {
    "duration": 58,
    "start_time": "2023-04-21T16:44:32.429Z"
   },
   {
    "duration": 68,
    "start_time": "2023-04-21T16:46:31.632Z"
   },
   {
    "duration": 181,
    "start_time": "2023-04-21T16:47:42.694Z"
   },
   {
    "duration": 66,
    "start_time": "2023-04-21T16:49:45.972Z"
   },
   {
    "duration": 134,
    "start_time": "2023-04-21T16:50:54.305Z"
   },
   {
    "duration": 122,
    "start_time": "2023-04-21T16:50:57.883Z"
   },
   {
    "duration": 131,
    "start_time": "2023-04-21T16:53:12.387Z"
   },
   {
    "duration": 255,
    "start_time": "2023-04-21T16:53:19.340Z"
   },
   {
    "duration": 95,
    "start_time": "2023-04-21T16:53:23.883Z"
   },
   {
    "duration": 69,
    "start_time": "2023-04-21T16:57:20.170Z"
   },
   {
    "duration": 217,
    "start_time": "2023-04-21T16:58:59.287Z"
   },
   {
    "duration": 240,
    "start_time": "2023-04-21T17:03:30.894Z"
   },
   {
    "duration": 3,
    "start_time": "2023-04-21T17:05:37.880Z"
   },
   {
    "duration": 343,
    "start_time": "2023-04-21T17:05:38.052Z"
   },
   {
    "duration": 81,
    "start_time": "2023-04-21T17:05:38.716Z"
   },
   {
    "duration": 31,
    "start_time": "2023-04-21T17:05:39.222Z"
   },
   {
    "duration": 35,
    "start_time": "2023-04-21T17:05:39.568Z"
   },
   {
    "duration": 134,
    "start_time": "2023-04-21T17:05:39.969Z"
   },
   {
    "duration": 51,
    "start_time": "2023-04-21T17:05:40.344Z"
   },
   {
    "duration": 45,
    "start_time": "2023-04-21T17:05:40.688Z"
   },
   {
    "duration": 16,
    "start_time": "2023-04-21T17:05:41.031Z"
   },
   {
    "duration": 93,
    "start_time": "2023-04-21T17:05:42.297Z"
   },
   {
    "duration": 58,
    "start_time": "2023-04-21T17:05:42.721Z"
   },
   {
    "duration": 38,
    "start_time": "2023-04-21T17:05:45.397Z"
   },
   {
    "duration": 35,
    "start_time": "2023-04-21T17:05:45.437Z"
   },
   {
    "duration": 31,
    "start_time": "2023-04-21T17:05:45.480Z"
   },
   {
    "duration": 68,
    "start_time": "2023-04-21T17:05:45.537Z"
   },
   {
    "duration": 9,
    "start_time": "2023-04-21T17:05:45.608Z"
   },
   {
    "duration": 65,
    "start_time": "2023-04-21T17:05:46.704Z"
   },
   {
    "duration": 16,
    "start_time": "2023-04-21T17:05:47.059Z"
   },
   {
    "duration": 31,
    "start_time": "2023-04-21T17:05:48.492Z"
   },
   {
    "duration": 20,
    "start_time": "2023-04-21T17:06:57.579Z"
   },
   {
    "duration": 49,
    "start_time": "2023-04-21T17:07:24.926Z"
   },
   {
    "duration": 9,
    "start_time": "2023-04-21T17:11:11.890Z"
   },
   {
    "duration": 37,
    "start_time": "2023-04-21T17:11:20.446Z"
   },
   {
    "duration": 5,
    "start_time": "2023-04-21T17:11:34.095Z"
   },
   {
    "duration": 27,
    "start_time": "2023-04-21T17:15:38.868Z"
   },
   {
    "duration": 3,
    "start_time": "2023-04-21T18:57:22.754Z"
   },
   {
    "duration": 164,
    "start_time": "2023-04-21T18:57:22.760Z"
   },
   {
    "duration": 21,
    "start_time": "2023-04-21T18:57:22.925Z"
   },
   {
    "duration": 28,
    "start_time": "2023-04-21T18:57:22.948Z"
   },
   {
    "duration": 18,
    "start_time": "2023-04-21T18:57:22.978Z"
   },
   {
    "duration": 47,
    "start_time": "2023-04-21T18:57:22.998Z"
   },
   {
    "duration": 15,
    "start_time": "2023-04-21T18:57:23.047Z"
   },
   {
    "duration": 47,
    "start_time": "2023-04-21T18:57:23.064Z"
   },
   {
    "duration": 5,
    "start_time": "2023-04-21T18:57:23.114Z"
   },
   {
    "duration": 39,
    "start_time": "2023-04-21T18:57:23.121Z"
   },
   {
    "duration": 22,
    "start_time": "2023-04-21T18:57:23.162Z"
   },
   {
    "duration": 30,
    "start_time": "2023-04-21T18:57:23.186Z"
   },
   {
    "duration": 11,
    "start_time": "2023-04-21T18:57:23.218Z"
   },
   {
    "duration": 9,
    "start_time": "2023-04-21T18:57:23.231Z"
   },
   {
    "duration": 69,
    "start_time": "2023-04-21T18:57:23.243Z"
   },
   {
    "duration": 5,
    "start_time": "2023-04-21T18:57:23.314Z"
   },
   {
    "duration": 25,
    "start_time": "2023-04-21T18:57:23.321Z"
   },
   {
    "duration": 4,
    "start_time": "2023-04-21T18:57:23.348Z"
   },
   {
    "duration": 20,
    "start_time": "2023-04-21T18:57:23.354Z"
   },
   {
    "duration": 10,
    "start_time": "2023-04-21T18:57:23.377Z"
   },
   {
    "duration": 197,
    "start_time": "2023-04-21T18:57:23.411Z"
   },
   {
    "duration": 10,
    "start_time": "2023-04-21T18:57:23.611Z"
   },
   {
    "duration": 2423,
    "start_time": "2023-04-21T18:57:23.623Z"
   },
   {
    "duration": 14,
    "start_time": "2023-04-21T18:57:26.050Z"
   },
   {
    "duration": 7,
    "start_time": "2023-04-21T18:57:26.066Z"
   },
   {
    "duration": 5,
    "start_time": "2023-04-21T18:57:26.074Z"
   },
   {
    "duration": 200,
    "start_time": "2023-04-21T18:57:26.081Z"
   },
   {
    "duration": 207,
    "start_time": "2023-04-21T18:57:26.283Z"
   },
   {
    "duration": 215,
    "start_time": "2023-04-21T18:57:26.492Z"
   },
   {
    "duration": 207,
    "start_time": "2023-04-21T18:57:26.712Z"
   },
   {
    "duration": 8,
    "start_time": "2023-04-21T18:57:26.921Z"
   },
   {
    "duration": 229,
    "start_time": "2023-04-21T18:57:26.930Z"
   },
   {
    "duration": 293,
    "start_time": "2023-04-21T18:57:27.160Z"
   },
   {
    "duration": 230,
    "start_time": "2023-04-21T18:57:27.454Z"
   },
   {
    "duration": 286,
    "start_time": "2023-04-21T18:57:27.686Z"
   },
   {
    "duration": 12,
    "start_time": "2023-04-21T18:57:27.974Z"
   },
   {
    "duration": 200,
    "start_time": "2023-04-21T18:57:27.988Z"
   },
   {
    "duration": 278,
    "start_time": "2023-04-21T18:57:28.190Z"
   },
   {
    "duration": 204,
    "start_time": "2023-04-21T18:57:28.470Z"
   },
   {
    "duration": 177,
    "start_time": "2023-04-21T18:57:28.676Z"
   },
   {
    "duration": 24,
    "start_time": "2023-04-21T18:57:28.855Z"
   },
   {
    "duration": 247,
    "start_time": "2023-04-21T18:57:28.880Z"
   },
   {
    "duration": 184,
    "start_time": "2023-04-21T18:57:29.130Z"
   },
   {
    "duration": 398,
    "start_time": "2023-04-21T18:57:29.316Z"
   },
   {
    "duration": 4974,
    "start_time": "2023-04-21T18:57:29.716Z"
   },
   {
    "duration": 175,
    "start_time": "2023-04-21T18:57:40.705Z"
   },
   {
    "duration": 336,
    "start_time": "2023-04-21T19:03:45.061Z"
   },
   {
    "duration": 3,
    "start_time": "2023-04-21T19:03:56.803Z"
   },
   {
    "duration": 142,
    "start_time": "2023-04-21T19:03:56.808Z"
   },
   {
    "duration": 34,
    "start_time": "2023-04-21T19:03:56.952Z"
   },
   {
    "duration": 17,
    "start_time": "2023-04-21T19:03:56.988Z"
   },
   {
    "duration": 15,
    "start_time": "2023-04-21T19:03:57.008Z"
   },
   {
    "duration": 48,
    "start_time": "2023-04-21T19:03:57.025Z"
   },
   {
    "duration": 45,
    "start_time": "2023-04-21T19:03:57.076Z"
   },
   {
    "duration": 14,
    "start_time": "2023-04-21T19:03:57.123Z"
   },
   {
    "duration": 7,
    "start_time": "2023-04-21T19:03:57.139Z"
   },
   {
    "duration": 66,
    "start_time": "2023-04-21T19:03:57.148Z"
   },
   {
    "duration": 19,
    "start_time": "2023-04-21T19:03:57.218Z"
   },
   {
    "duration": 11,
    "start_time": "2023-04-21T19:03:57.239Z"
   },
   {
    "duration": 12,
    "start_time": "2023-04-21T19:03:57.252Z"
   },
   {
    "duration": 7,
    "start_time": "2023-04-21T19:03:57.266Z"
   },
   {
    "duration": 57,
    "start_time": "2023-04-21T19:03:57.275Z"
   },
   {
    "duration": 5,
    "start_time": "2023-04-21T19:03:57.334Z"
   },
   {
    "duration": 31,
    "start_time": "2023-04-21T19:03:57.340Z"
   },
   {
    "duration": 6,
    "start_time": "2023-04-21T19:03:57.373Z"
   },
   {
    "duration": 34,
    "start_time": "2023-04-21T19:03:57.380Z"
   },
   {
    "duration": 11,
    "start_time": "2023-04-21T19:03:57.416Z"
   },
   {
    "duration": 304,
    "start_time": "2023-04-21T19:03:57.429Z"
   },
   {
    "duration": 11,
    "start_time": "2023-04-21T19:03:57.735Z"
   },
   {
    "duration": 2371,
    "start_time": "2023-04-21T19:03:57.748Z"
   },
   {
    "duration": 13,
    "start_time": "2023-04-21T19:04:00.122Z"
   },
   {
    "duration": 29,
    "start_time": "2023-04-21T19:04:00.136Z"
   },
   {
    "duration": 22,
    "start_time": "2023-04-21T19:04:00.167Z"
   },
   {
    "duration": 186,
    "start_time": "2023-04-21T19:04:00.191Z"
   },
   {
    "duration": 208,
    "start_time": "2023-04-21T19:04:00.378Z"
   },
   {
    "duration": 240,
    "start_time": "2023-04-21T19:04:00.591Z"
   },
   {
    "duration": 280,
    "start_time": "2023-04-21T19:04:00.834Z"
   },
   {
    "duration": 10,
    "start_time": "2023-04-21T19:04:01.115Z"
   },
   {
    "duration": 257,
    "start_time": "2023-04-21T19:04:01.128Z"
   },
   {
    "duration": 306,
    "start_time": "2023-04-21T19:04:01.387Z"
   },
   {
    "duration": 228,
    "start_time": "2023-04-21T19:04:01.695Z"
   },
   {
    "duration": 287,
    "start_time": "2023-04-21T19:04:01.925Z"
   },
   {
    "duration": 15,
    "start_time": "2023-04-21T19:04:02.214Z"
   },
   {
    "duration": 208,
    "start_time": "2023-04-21T19:04:02.231Z"
   },
   {
    "duration": 175,
    "start_time": "2023-04-21T19:04:02.441Z"
   },
   {
    "duration": 208,
    "start_time": "2023-04-21T19:04:02.618Z"
   },
   {
    "duration": 172,
    "start_time": "2023-04-21T19:04:02.828Z"
   },
   {
    "duration": 24,
    "start_time": "2023-04-21T19:04:03.003Z"
   },
   {
    "duration": 153,
    "start_time": "2023-04-21T19:04:03.029Z"
   },
   {
    "duration": 307,
    "start_time": "2023-04-21T19:04:03.184Z"
   },
   {
    "duration": 436,
    "start_time": "2023-04-21T19:04:03.494Z"
   },
   {
    "duration": 4862,
    "start_time": "2023-04-21T19:04:03.932Z"
   },
   {
    "duration": 3,
    "start_time": "2023-04-21T19:06:16.500Z"
   },
   {
    "duration": 173,
    "start_time": "2023-04-21T19:06:16.505Z"
   },
   {
    "duration": 37,
    "start_time": "2023-04-21T19:06:16.682Z"
   },
   {
    "duration": 21,
    "start_time": "2023-04-21T19:06:16.721Z"
   },
   {
    "duration": 13,
    "start_time": "2023-04-21T19:06:16.745Z"
   },
   {
    "duration": 62,
    "start_time": "2023-04-21T19:06:16.760Z"
   },
   {
    "duration": 18,
    "start_time": "2023-04-21T19:06:16.824Z"
   },
   {
    "duration": 13,
    "start_time": "2023-04-21T19:06:16.845Z"
   },
   {
    "duration": 6,
    "start_time": "2023-04-21T19:06:16.860Z"
   },
   {
    "duration": 69,
    "start_time": "2023-04-21T19:06:16.867Z"
   },
   {
    "duration": 19,
    "start_time": "2023-04-21T19:06:16.938Z"
   },
   {
    "duration": 19,
    "start_time": "2023-04-21T19:06:16.959Z"
   },
   {
    "duration": 6,
    "start_time": "2023-04-21T19:06:16.980Z"
   },
   {
    "duration": 32,
    "start_time": "2023-04-21T19:06:16.987Z"
   },
   {
    "duration": 26,
    "start_time": "2023-04-21T19:06:17.021Z"
   },
   {
    "duration": 7,
    "start_time": "2023-04-21T19:06:17.048Z"
   },
   {
    "duration": 56,
    "start_time": "2023-04-21T19:06:17.057Z"
   },
   {
    "duration": 4,
    "start_time": "2023-04-21T19:06:17.116Z"
   },
   {
    "duration": 19,
    "start_time": "2023-04-21T19:06:17.123Z"
   },
   {
    "duration": 20,
    "start_time": "2023-04-21T19:06:17.144Z"
   },
   {
    "duration": 309,
    "start_time": "2023-04-21T19:06:17.166Z"
   },
   {
    "duration": 11,
    "start_time": "2023-04-21T19:06:17.477Z"
   },
   {
    "duration": 1220,
    "start_time": "2023-04-21T19:06:17.490Z"
   },
   {
    "duration": 14,
    "start_time": "2023-04-21T19:06:18.713Z"
   },
   {
    "duration": 9,
    "start_time": "2023-04-21T19:06:18.728Z"
   },
   {
    "duration": 6,
    "start_time": "2023-04-21T19:06:18.739Z"
   },
   {
    "duration": 395,
    "start_time": "2023-04-21T19:06:18.746Z"
   },
   {
    "duration": 387,
    "start_time": "2023-04-21T19:06:19.143Z"
   },
   {
    "duration": 423,
    "start_time": "2023-04-21T19:06:19.535Z"
   },
   {
    "duration": 602,
    "start_time": "2023-04-21T19:06:20.012Z"
   },
   {
    "duration": 9,
    "start_time": "2023-04-21T19:06:20.615Z"
   },
   {
    "duration": 339,
    "start_time": "2023-04-21T19:06:20.625Z"
   },
   {
    "duration": 287,
    "start_time": "2023-04-21T19:06:20.966Z"
   },
   {
    "duration": 287,
    "start_time": "2023-04-21T19:06:21.254Z"
   },
   {
    "duration": 505,
    "start_time": "2023-04-21T19:06:21.542Z"
   },
   {
    "duration": 66,
    "start_time": "2023-04-21T19:06:22.048Z"
   },
   {
    "duration": 326,
    "start_time": "2023-04-21T19:06:22.117Z"
   },
   {
    "duration": 301,
    "start_time": "2023-04-21T19:06:22.444Z"
   },
   {
    "duration": 375,
    "start_time": "2023-04-21T19:06:22.747Z"
   },
   {
    "duration": 296,
    "start_time": "2023-04-21T19:06:23.124Z"
   },
   {
    "duration": 20,
    "start_time": "2023-04-21T19:06:23.422Z"
   },
   {
    "duration": 282,
    "start_time": "2023-04-21T19:06:23.444Z"
   },
   {
    "duration": 305,
    "start_time": "2023-04-21T19:06:23.728Z"
   },
   {
    "duration": 809,
    "start_time": "2023-04-21T19:06:24.035Z"
   },
   {
    "duration": 4928,
    "start_time": "2023-04-21T19:06:24.846Z"
   },
   {
    "duration": 317,
    "start_time": "2023-04-21T19:06:40.574Z"
   },
   {
    "duration": 11,
    "start_time": "2023-04-21T19:09:50.106Z"
   },
   {
    "duration": 4,
    "start_time": "2023-04-21T19:10:21.515Z"
   },
   {
    "duration": 143,
    "start_time": "2023-04-21T19:10:21.521Z"
   },
   {
    "duration": 22,
    "start_time": "2023-04-21T19:10:21.666Z"
   },
   {
    "duration": 17,
    "start_time": "2023-04-21T19:10:21.691Z"
   },
   {
    "duration": 14,
    "start_time": "2023-04-21T19:10:21.710Z"
   },
   {
    "duration": 53,
    "start_time": "2023-04-21T19:10:21.726Z"
   },
   {
    "duration": 42,
    "start_time": "2023-04-21T19:10:21.782Z"
   },
   {
    "duration": 14,
    "start_time": "2023-04-21T19:10:21.826Z"
   },
   {
    "duration": 5,
    "start_time": "2023-04-21T19:10:21.844Z"
   },
   {
    "duration": 64,
    "start_time": "2023-04-21T19:10:21.852Z"
   },
   {
    "duration": 20,
    "start_time": "2023-04-21T19:10:21.919Z"
   },
   {
    "duration": 8,
    "start_time": "2023-04-21T19:10:21.941Z"
   },
   {
    "duration": 10,
    "start_time": "2023-04-21T19:10:21.951Z"
   },
   {
    "duration": 11,
    "start_time": "2023-04-21T19:10:21.963Z"
   },
   {
    "duration": 56,
    "start_time": "2023-04-21T19:10:21.975Z"
   },
   {
    "duration": 6,
    "start_time": "2023-04-21T19:10:22.034Z"
   },
   {
    "duration": 31,
    "start_time": "2023-04-21T19:10:22.042Z"
   },
   {
    "duration": 6,
    "start_time": "2023-04-21T19:10:22.075Z"
   },
   {
    "duration": 31,
    "start_time": "2023-04-21T19:10:22.083Z"
   },
   {
    "duration": 25,
    "start_time": "2023-04-21T19:10:22.116Z"
   },
   {
    "duration": 352,
    "start_time": "2023-04-21T19:10:22.144Z"
   },
   {
    "duration": 15,
    "start_time": "2023-04-21T19:10:22.498Z"
   },
   {
    "duration": 2108,
    "start_time": "2023-04-21T19:10:22.515Z"
   },
   {
    "duration": 15,
    "start_time": "2023-04-21T19:10:24.627Z"
   },
   {
    "duration": 16,
    "start_time": "2023-04-21T19:10:24.643Z"
   },
   {
    "duration": 7,
    "start_time": "2023-04-21T19:10:24.713Z"
   },
   {
    "duration": 394,
    "start_time": "2023-04-21T19:10:24.722Z"
   },
   {
    "duration": 327,
    "start_time": "2023-04-21T19:10:25.119Z"
   },
   {
    "duration": 221,
    "start_time": "2023-04-21T19:10:25.448Z"
   },
   {
    "duration": 220,
    "start_time": "2023-04-21T19:10:25.671Z"
   },
   {
    "duration": 22,
    "start_time": "2023-04-21T19:10:25.892Z"
   },
   {
    "duration": 231,
    "start_time": "2023-04-21T19:10:25.916Z"
   },
   {
    "duration": 294,
    "start_time": "2023-04-21T19:10:26.149Z"
   },
   {
    "duration": 253,
    "start_time": "2023-04-21T19:10:26.445Z"
   },
   {
    "duration": 316,
    "start_time": "2023-04-21T19:10:26.701Z"
   },
   {
    "duration": 19,
    "start_time": "2023-04-21T19:10:27.019Z"
   },
   {
    "duration": 218,
    "start_time": "2023-04-21T19:10:27.040Z"
   },
   {
    "duration": 192,
    "start_time": "2023-04-21T19:10:27.260Z"
   },
   {
    "duration": 219,
    "start_time": "2023-04-21T19:10:27.455Z"
   },
   {
    "duration": 170,
    "start_time": "2023-04-21T19:10:27.676Z"
   },
   {
    "duration": 27,
    "start_time": "2023-04-21T19:10:27.848Z"
   },
   {
    "duration": 235,
    "start_time": "2023-04-21T19:10:27.877Z"
   },
   {
    "duration": 332,
    "start_time": "2023-04-21T19:10:28.114Z"
   },
   {
    "duration": 436,
    "start_time": "2023-04-21T19:10:28.448Z"
   },
   {
    "duration": 5011,
    "start_time": "2023-04-21T19:10:28.886Z"
   },
   {
    "duration": 310,
    "start_time": "2023-04-21T19:11:06.660Z"
   },
   {
    "duration": 3,
    "start_time": "2023-04-21T19:11:10.256Z"
   },
   {
    "duration": 140,
    "start_time": "2023-04-21T19:11:10.262Z"
   },
   {
    "duration": 25,
    "start_time": "2023-04-21T19:11:10.404Z"
   },
   {
    "duration": 13,
    "start_time": "2023-04-21T19:11:10.431Z"
   },
   {
    "duration": 16,
    "start_time": "2023-04-21T19:11:10.447Z"
   },
   {
    "duration": 75,
    "start_time": "2023-04-21T19:11:10.465Z"
   },
   {
    "duration": 16,
    "start_time": "2023-04-21T19:11:10.543Z"
   },
   {
    "duration": 12,
    "start_time": "2023-04-21T19:11:10.561Z"
   },
   {
    "duration": 39,
    "start_time": "2023-04-21T19:11:10.574Z"
   },
   {
    "duration": 39,
    "start_time": "2023-04-21T19:11:10.615Z"
   },
   {
    "duration": 19,
    "start_time": "2023-04-21T19:11:10.657Z"
   },
   {
    "duration": 42,
    "start_time": "2023-04-21T19:11:10.678Z"
   },
   {
    "duration": 12,
    "start_time": "2023-04-21T19:11:10.724Z"
   },
   {
    "duration": 16,
    "start_time": "2023-04-21T19:11:10.738Z"
   },
   {
    "duration": 57,
    "start_time": "2023-04-21T19:11:10.757Z"
   },
   {
    "duration": 6,
    "start_time": "2023-04-21T19:11:10.816Z"
   },
   {
    "duration": 29,
    "start_time": "2023-04-21T19:11:10.825Z"
   },
   {
    "duration": 6,
    "start_time": "2023-04-21T19:11:10.856Z"
   },
   {
    "duration": 8,
    "start_time": "2023-04-21T19:11:10.864Z"
   },
   {
    "duration": 49,
    "start_time": "2023-04-21T19:11:10.874Z"
   },
   {
    "duration": 328,
    "start_time": "2023-04-21T19:11:10.926Z"
   },
   {
    "duration": 9,
    "start_time": "2023-04-21T19:11:11.256Z"
   },
   {
    "duration": 2375,
    "start_time": "2023-04-21T19:11:11.267Z"
   },
   {
    "duration": 17,
    "start_time": "2023-04-21T19:11:13.644Z"
   },
   {
    "duration": 13,
    "start_time": "2023-04-21T19:11:13.663Z"
   },
   {
    "duration": 10,
    "start_time": "2023-04-21T19:11:13.678Z"
   },
   {
    "duration": 228,
    "start_time": "2023-04-21T19:11:13.690Z"
   },
   {
    "duration": 213,
    "start_time": "2023-04-21T19:11:13.920Z"
   },
   {
    "duration": 229,
    "start_time": "2023-04-21T19:11:14.135Z"
   },
   {
    "duration": 224,
    "start_time": "2023-04-21T19:11:14.366Z"
   },
   {
    "duration": 22,
    "start_time": "2023-04-21T19:11:14.592Z"
   },
   {
    "duration": 280,
    "start_time": "2023-04-21T19:11:14.616Z"
   },
   {
    "duration": 302,
    "start_time": "2023-04-21T19:11:14.897Z"
   },
   {
    "duration": 240,
    "start_time": "2023-04-21T19:11:15.201Z"
   },
   {
    "duration": 284,
    "start_time": "2023-04-21T19:11:15.443Z"
   },
   {
    "duration": 17,
    "start_time": "2023-04-21T19:11:15.729Z"
   },
   {
    "duration": 369,
    "start_time": "2023-04-21T19:11:15.752Z"
   },
   {
    "duration": 190,
    "start_time": "2023-04-21T19:11:16.124Z"
   },
   {
    "duration": 203,
    "start_time": "2023-04-21T19:11:16.316Z"
   },
   {
    "duration": 170,
    "start_time": "2023-04-21T19:11:16.521Z"
   },
   {
    "duration": 32,
    "start_time": "2023-04-21T19:11:16.693Z"
   },
   {
    "duration": 163,
    "start_time": "2023-04-21T19:11:16.727Z"
   },
   {
    "duration": 169,
    "start_time": "2023-04-21T19:11:16.892Z"
   },
   {
    "duration": 423,
    "start_time": "2023-04-21T19:11:17.063Z"
   },
   {
    "duration": 5024,
    "start_time": "2023-04-21T19:11:17.488Z"
   },
   {
    "duration": 12,
    "start_time": "2023-04-21T19:20:18.228Z"
   },
   {
    "duration": 233,
    "start_time": "2023-04-21T19:20:18.242Z"
   },
   {
    "duration": 25,
    "start_time": "2023-04-21T19:20:18.479Z"
   },
   {
    "duration": 37,
    "start_time": "2023-04-21T19:20:18.506Z"
   },
   {
    "duration": 18,
    "start_time": "2023-04-21T19:20:18.546Z"
   },
   {
    "duration": 42,
    "start_time": "2023-04-21T19:20:18.566Z"
   },
   {
    "duration": 25,
    "start_time": "2023-04-21T19:20:18.610Z"
   },
   {
    "duration": 28,
    "start_time": "2023-04-21T19:20:18.638Z"
   },
   {
    "duration": 6,
    "start_time": "2023-04-21T19:20:18.669Z"
   },
   {
    "duration": 68,
    "start_time": "2023-04-21T19:20:18.677Z"
   },
   {
    "duration": 25,
    "start_time": "2023-04-21T19:20:18.749Z"
   },
   {
    "duration": 12,
    "start_time": "2023-04-21T19:20:18.776Z"
   },
   {
    "duration": 27,
    "start_time": "2023-04-21T19:20:18.791Z"
   },
   {
    "duration": 17,
    "start_time": "2023-04-21T19:20:18.820Z"
   },
   {
    "duration": 42,
    "start_time": "2023-04-21T19:20:18.839Z"
   },
   {
    "duration": 4,
    "start_time": "2023-04-21T19:20:18.883Z"
   },
   {
    "duration": 33,
    "start_time": "2023-04-21T19:20:18.889Z"
   },
   {
    "duration": 4,
    "start_time": "2023-04-21T19:20:18.924Z"
   },
   {
    "duration": 31,
    "start_time": "2023-04-21T19:20:18.930Z"
   },
   {
    "duration": 30,
    "start_time": "2023-04-21T19:20:18.963Z"
   },
   {
    "duration": 773,
    "start_time": "2023-04-21T19:20:18.995Z"
   },
   {
    "duration": 52,
    "start_time": "2023-04-21T19:20:19.770Z"
   },
   {
    "duration": 2575,
    "start_time": "2023-04-21T19:20:19.824Z"
   },
   {
    "duration": 29,
    "start_time": "2023-04-21T19:20:22.401Z"
   },
   {
    "duration": 8,
    "start_time": "2023-04-21T19:20:22.432Z"
   },
   {
    "duration": 36,
    "start_time": "2023-04-21T19:20:22.441Z"
   },
   {
    "duration": 6,
    "start_time": "2023-04-21T19:20:22.479Z"
   },
   {
    "duration": 261,
    "start_time": "2023-04-21T19:20:22.487Z"
   },
   {
    "duration": 223,
    "start_time": "2023-04-21T19:20:22.753Z"
   },
   {
    "duration": 278,
    "start_time": "2023-04-21T19:20:22.978Z"
   },
   {
    "duration": 244,
    "start_time": "2023-04-21T19:20:23.258Z"
   },
   {
    "duration": 57,
    "start_time": "2023-04-21T19:20:23.504Z"
   },
   {
    "duration": 281,
    "start_time": "2023-04-21T19:20:23.563Z"
   },
   {
    "duration": 569,
    "start_time": "2023-04-21T19:20:23.853Z"
   },
   {
    "duration": 266,
    "start_time": "2023-04-21T19:20:24.428Z"
   },
   {
    "duration": 328,
    "start_time": "2023-04-21T19:20:24.697Z"
   },
   {
    "duration": 19,
    "start_time": "2023-04-21T19:20:25.027Z"
   },
   {
    "duration": 214,
    "start_time": "2023-04-21T19:20:25.048Z"
   },
   {
    "duration": 185,
    "start_time": "2023-04-21T19:20:25.263Z"
   },
   {
    "duration": 212,
    "start_time": "2023-04-21T19:20:25.450Z"
   },
   {
    "duration": 176,
    "start_time": "2023-04-21T19:20:25.664Z"
   },
   {
    "duration": 22,
    "start_time": "2023-04-21T19:20:25.843Z"
   },
   {
    "duration": 181,
    "start_time": "2023-04-21T19:20:25.866Z"
   },
   {
    "duration": 199,
    "start_time": "2023-04-21T19:20:26.049Z"
   },
   {
    "duration": 439,
    "start_time": "2023-04-21T19:20:26.250Z"
   },
   {
    "duration": 5463,
    "start_time": "2023-04-21T19:20:26.691Z"
   },
   {
    "duration": 105,
    "start_time": "2023-04-21T19:27:23.162Z"
   },
   {
    "duration": 18,
    "start_time": "2023-04-21T19:31:30.378Z"
   },
   {
    "duration": 4,
    "start_time": "2023-04-21T19:31:35.849Z"
   },
   {
    "duration": 161,
    "start_time": "2023-04-21T19:31:35.856Z"
   },
   {
    "duration": 32,
    "start_time": "2023-04-21T19:31:36.025Z"
   },
   {
    "duration": 11,
    "start_time": "2023-04-21T19:31:36.059Z"
   },
   {
    "duration": 14,
    "start_time": "2023-04-21T19:31:36.073Z"
   },
   {
    "duration": 76,
    "start_time": "2023-04-21T19:31:36.088Z"
   },
   {
    "duration": 17,
    "start_time": "2023-04-21T19:31:36.166Z"
   },
   {
    "duration": 39,
    "start_time": "2023-04-21T19:31:36.184Z"
   },
   {
    "duration": 8,
    "start_time": "2023-04-21T19:31:36.232Z"
   },
   {
    "duration": 19,
    "start_time": "2023-04-21T19:31:36.242Z"
   },
   {
    "duration": 8,
    "start_time": "2023-04-21T19:31:36.263Z"
   },
   {
    "duration": 47,
    "start_time": "2023-04-21T19:31:36.272Z"
   },
   {
    "duration": 10,
    "start_time": "2023-04-21T19:31:36.321Z"
   },
   {
    "duration": 24,
    "start_time": "2023-04-21T19:31:36.336Z"
   },
   {
    "duration": 4,
    "start_time": "2023-04-21T19:31:36.362Z"
   },
   {
    "duration": 49,
    "start_time": "2023-04-21T19:31:36.368Z"
   },
   {
    "duration": 8,
    "start_time": "2023-04-21T19:31:36.419Z"
   },
   {
    "duration": 16,
    "start_time": "2023-04-21T19:31:36.428Z"
   },
   {
    "duration": 12,
    "start_time": "2023-04-21T19:31:36.447Z"
   },
   {
    "duration": 316,
    "start_time": "2023-04-21T19:31:36.461Z"
   },
   {
    "duration": 11,
    "start_time": "2023-04-21T19:31:36.779Z"
   },
   {
    "duration": 31,
    "start_time": "2023-04-21T19:31:36.792Z"
   },
   {
    "duration": 1353,
    "start_time": "2023-04-21T19:31:36.831Z"
   },
   {
    "duration": 27,
    "start_time": "2023-04-21T19:31:38.186Z"
   },
   {
    "duration": 7,
    "start_time": "2023-04-21T19:31:38.219Z"
   },
   {
    "duration": 41,
    "start_time": "2023-04-21T19:31:38.231Z"
   },
   {
    "duration": 5,
    "start_time": "2023-04-21T19:31:38.274Z"
   },
   {
    "duration": 219,
    "start_time": "2023-04-21T19:31:38.281Z"
   },
   {
    "duration": 229,
    "start_time": "2023-04-21T19:31:38.503Z"
   },
   {
    "duration": 299,
    "start_time": "2023-04-21T19:31:38.740Z"
   },
   {
    "duration": 467,
    "start_time": "2023-04-21T19:31:39.041Z"
   },
   {
    "duration": 22,
    "start_time": "2023-04-21T19:31:39.509Z"
   },
   {
    "duration": 238,
    "start_time": "2023-04-21T19:31:39.543Z"
   },
   {
    "duration": 363,
    "start_time": "2023-04-21T19:31:39.783Z"
   },
   {
    "duration": 237,
    "start_time": "2023-04-21T19:31:40.148Z"
   },
   {
    "duration": 314,
    "start_time": "2023-04-21T19:31:40.387Z"
   },
   {
    "duration": 32,
    "start_time": "2023-04-21T19:31:40.703Z"
   },
   {
    "duration": 199,
    "start_time": "2023-04-21T19:31:40.748Z"
   },
   {
    "duration": 181,
    "start_time": "2023-04-21T19:31:40.949Z"
   },
   {
    "duration": 210,
    "start_time": "2023-04-21T19:31:41.139Z"
   },
   {
    "duration": 192,
    "start_time": "2023-04-21T19:31:41.353Z"
   },
   {
    "duration": 19,
    "start_time": "2023-04-21T19:31:41.548Z"
   },
   {
    "duration": 168,
    "start_time": "2023-04-21T19:31:41.568Z"
   },
   {
    "duration": 201,
    "start_time": "2023-04-21T19:31:41.738Z"
   },
   {
    "duration": 429,
    "start_time": "2023-04-21T19:31:41.941Z"
   },
   {
    "duration": 7271,
    "start_time": "2023-04-21T19:31:42.372Z"
   },
   {
    "duration": 85,
    "start_time": "2023-04-21T21:24:30.039Z"
   },
   {
    "duration": 22,
    "start_time": "2023-04-21T21:27:44.721Z"
   },
   {
    "duration": 15,
    "start_time": "2023-04-21T21:28:23.089Z"
   },
   {
    "duration": 22,
    "start_time": "2023-04-21T21:29:02.404Z"
   },
   {
    "duration": 10,
    "start_time": "2023-04-21T21:29:14.059Z"
   },
   {
    "duration": 191,
    "start_time": "2023-04-21T21:29:14.999Z"
   },
   {
    "duration": 92,
    "start_time": "2023-04-21T21:30:05.901Z"
   },
   {
    "duration": 203,
    "start_time": "2023-04-21T21:30:36.165Z"
   },
   {
    "duration": 9,
    "start_time": "2023-04-21T21:32:08.388Z"
   },
   {
    "duration": 189,
    "start_time": "2023-04-21T21:33:17.643Z"
   },
   {
    "duration": 104,
    "start_time": "2023-04-21T21:33:58.275Z"
   },
   {
    "duration": 170,
    "start_time": "2023-04-21T21:38:22.097Z"
   },
   {
    "duration": 196,
    "start_time": "2023-04-21T21:43:18.703Z"
   },
   {
    "duration": 182,
    "start_time": "2023-04-21T21:44:06.355Z"
   },
   {
    "duration": 168,
    "start_time": "2023-04-21T21:44:56.437Z"
   },
   {
    "duration": 11,
    "start_time": "2023-04-21T21:50:10.753Z"
   },
   {
    "duration": 188,
    "start_time": "2023-04-21T21:51:34.088Z"
   },
   {
    "duration": 167,
    "start_time": "2023-04-21T21:52:40.101Z"
   },
   {
    "duration": 140,
    "start_time": "2023-04-21T21:54:19.942Z"
   },
   {
    "duration": 157,
    "start_time": "2023-04-21T21:54:30.629Z"
   },
   {
    "duration": 104,
    "start_time": "2023-04-21T21:54:46.783Z"
   },
   {
    "duration": 155,
    "start_time": "2023-04-21T21:55:30.383Z"
   },
   {
    "duration": 462,
    "start_time": "2023-04-22T17:51:03.415Z"
   },
   {
    "duration": 183,
    "start_time": "2023-04-22T17:51:03.879Z"
   },
   {
    "duration": 32,
    "start_time": "2023-04-22T17:51:04.065Z"
   },
   {
    "duration": 48,
    "start_time": "2023-04-22T17:51:04.099Z"
   },
   {
    "duration": 31,
    "start_time": "2023-04-22T17:51:04.149Z"
   },
   {
    "duration": 89,
    "start_time": "2023-04-22T17:51:04.181Z"
   },
   {
    "duration": 17,
    "start_time": "2023-04-22T17:51:04.272Z"
   },
   {
    "duration": 50,
    "start_time": "2023-04-22T17:51:04.291Z"
   },
   {
    "duration": 21,
    "start_time": "2023-04-22T17:51:04.343Z"
   },
   {
    "duration": 79,
    "start_time": "2023-04-22T17:51:04.366Z"
   },
   {
    "duration": 30,
    "start_time": "2023-04-22T17:51:04.446Z"
   },
   {
    "duration": 55,
    "start_time": "2023-04-22T17:51:04.478Z"
   },
   {
    "duration": 38,
    "start_time": "2023-04-22T17:51:04.534Z"
   },
   {
    "duration": 62,
    "start_time": "2023-04-22T17:51:04.576Z"
   },
   {
    "duration": 19,
    "start_time": "2023-04-22T17:51:04.640Z"
   },
   {
    "duration": 73,
    "start_time": "2023-04-22T17:51:04.660Z"
   },
   {
    "duration": 24,
    "start_time": "2023-04-22T17:51:04.735Z"
   },
   {
    "duration": 49,
    "start_time": "2023-04-22T17:51:04.761Z"
   },
   {
    "duration": 50,
    "start_time": "2023-04-22T17:51:04.812Z"
   },
   {
    "duration": 357,
    "start_time": "2023-04-22T17:51:04.864Z"
   },
   {
    "duration": 10,
    "start_time": "2023-04-22T17:51:05.223Z"
   },
   {
    "duration": 102,
    "start_time": "2023-04-22T17:51:05.234Z"
   },
   {
    "duration": 0,
    "start_time": "2023-04-22T17:51:05.338Z"
   },
   {
    "duration": 0,
    "start_time": "2023-04-22T17:51:05.339Z"
   },
   {
    "duration": 0,
    "start_time": "2023-04-22T17:51:05.340Z"
   },
   {
    "duration": 0,
    "start_time": "2023-04-22T17:51:05.341Z"
   },
   {
    "duration": 0,
    "start_time": "2023-04-22T17:51:05.343Z"
   },
   {
    "duration": 0,
    "start_time": "2023-04-22T17:51:05.344Z"
   },
   {
    "duration": 0,
    "start_time": "2023-04-22T17:51:05.345Z"
   },
   {
    "duration": 0,
    "start_time": "2023-04-22T17:51:05.346Z"
   },
   {
    "duration": 0,
    "start_time": "2023-04-22T17:51:05.347Z"
   },
   {
    "duration": 0,
    "start_time": "2023-04-22T17:51:05.348Z"
   },
   {
    "duration": 0,
    "start_time": "2023-04-22T17:51:05.349Z"
   },
   {
    "duration": 0,
    "start_time": "2023-04-22T17:51:05.350Z"
   },
   {
    "duration": 0,
    "start_time": "2023-04-22T17:51:05.353Z"
   },
   {
    "duration": 0,
    "start_time": "2023-04-22T17:51:05.353Z"
   },
   {
    "duration": 0,
    "start_time": "2023-04-22T17:51:05.355Z"
   },
   {
    "duration": 0,
    "start_time": "2023-04-22T17:51:05.356Z"
   },
   {
    "duration": 0,
    "start_time": "2023-04-22T17:51:05.357Z"
   },
   {
    "duration": 0,
    "start_time": "2023-04-22T17:51:05.358Z"
   },
   {
    "duration": 0,
    "start_time": "2023-04-22T17:51:05.360Z"
   },
   {
    "duration": 0,
    "start_time": "2023-04-22T17:51:05.362Z"
   },
   {
    "duration": 0,
    "start_time": "2023-04-22T17:51:05.363Z"
   },
   {
    "duration": 0,
    "start_time": "2023-04-22T17:51:05.364Z"
   },
   {
    "duration": 0,
    "start_time": "2023-04-22T17:51:05.366Z"
   },
   {
    "duration": 0,
    "start_time": "2023-04-22T17:51:05.367Z"
   },
   {
    "duration": 0,
    "start_time": "2023-04-22T17:51:05.368Z"
   },
   {
    "duration": 0,
    "start_time": "2023-04-22T17:51:05.369Z"
   },
   {
    "duration": 456,
    "start_time": "2023-04-22T17:52:32.705Z"
   },
   {
    "duration": 173,
    "start_time": "2023-04-22T17:52:33.164Z"
   },
   {
    "duration": 32,
    "start_time": "2023-04-22T17:52:33.339Z"
   },
   {
    "duration": 18,
    "start_time": "2023-04-22T17:52:33.373Z"
   },
   {
    "duration": 33,
    "start_time": "2023-04-22T17:52:33.401Z"
   },
   {
    "duration": 71,
    "start_time": "2023-04-22T17:52:33.436Z"
   },
   {
    "duration": 22,
    "start_time": "2023-04-22T17:52:33.510Z"
   },
   {
    "duration": 27,
    "start_time": "2023-04-22T17:52:33.534Z"
   },
   {
    "duration": 9,
    "start_time": "2023-04-22T17:52:33.563Z"
   },
   {
    "duration": 40,
    "start_time": "2023-04-22T17:52:33.583Z"
   },
   {
    "duration": 10,
    "start_time": "2023-04-22T17:52:33.625Z"
   },
   {
    "duration": 6,
    "start_time": "2023-04-22T17:52:33.637Z"
   },
   {
    "duration": 18,
    "start_time": "2023-04-22T17:52:33.645Z"
   },
   {
    "duration": 26,
    "start_time": "2023-04-22T17:52:33.667Z"
   },
   {
    "duration": 27,
    "start_time": "2023-04-22T17:52:33.695Z"
   },
   {
    "duration": 35,
    "start_time": "2023-04-22T17:52:33.724Z"
   },
   {
    "duration": 12,
    "start_time": "2023-04-22T17:52:33.761Z"
   },
   {
    "duration": 31,
    "start_time": "2023-04-22T17:52:33.776Z"
   },
   {
    "duration": 25,
    "start_time": "2023-04-22T17:52:33.810Z"
   },
   {
    "duration": 300,
    "start_time": "2023-04-22T17:52:33.837Z"
   },
   {
    "duration": 9,
    "start_time": "2023-04-22T17:52:34.139Z"
   },
   {
    "duration": 22,
    "start_time": "2023-04-22T17:52:34.154Z"
   },
   {
    "duration": 1910,
    "start_time": "2023-04-22T17:52:34.178Z"
   },
   {
    "duration": 21,
    "start_time": "2023-04-22T17:52:36.090Z"
   },
   {
    "duration": 18,
    "start_time": "2023-04-22T17:52:36.114Z"
   },
   {
    "duration": 55,
    "start_time": "2023-04-22T17:52:36.134Z"
   },
   {
    "duration": 6,
    "start_time": "2023-04-22T17:52:36.191Z"
   },
   {
    "duration": 271,
    "start_time": "2023-04-22T17:52:36.199Z"
   },
   {
    "duration": 222,
    "start_time": "2023-04-22T17:52:36.473Z"
   },
   {
    "duration": 251,
    "start_time": "2023-04-22T17:52:36.697Z"
   },
   {
    "duration": 237,
    "start_time": "2023-04-22T17:52:36.950Z"
   },
   {
    "duration": 26,
    "start_time": "2023-04-22T17:52:37.189Z"
   },
   {
    "duration": 10,
    "start_time": "2023-04-22T17:52:37.217Z"
   },
   {
    "duration": 319,
    "start_time": "2023-04-22T17:52:37.228Z"
   },
   {
    "duration": 0,
    "start_time": "2023-04-22T17:52:37.550Z"
   },
   {
    "duration": 0,
    "start_time": "2023-04-22T17:52:37.551Z"
   },
   {
    "duration": 0,
    "start_time": "2023-04-22T17:52:37.553Z"
   },
   {
    "duration": 0,
    "start_time": "2023-04-22T17:52:37.554Z"
   },
   {
    "duration": 0,
    "start_time": "2023-04-22T17:52:37.556Z"
   },
   {
    "duration": 0,
    "start_time": "2023-04-22T17:52:37.557Z"
   },
   {
    "duration": 0,
    "start_time": "2023-04-22T17:52:37.558Z"
   },
   {
    "duration": 0,
    "start_time": "2023-04-22T17:52:37.560Z"
   },
   {
    "duration": 0,
    "start_time": "2023-04-22T17:52:37.561Z"
   },
   {
    "duration": 0,
    "start_time": "2023-04-22T17:52:37.562Z"
   },
   {
    "duration": 0,
    "start_time": "2023-04-22T17:52:37.583Z"
   },
   {
    "duration": 0,
    "start_time": "2023-04-22T17:52:37.585Z"
   },
   {
    "duration": 0,
    "start_time": "2023-04-22T17:52:37.586Z"
   },
   {
    "duration": 163,
    "start_time": "2023-04-22T17:55:15.050Z"
   },
   {
    "duration": 469,
    "start_time": "2023-04-22T17:55:29.749Z"
   },
   {
    "duration": 138,
    "start_time": "2023-04-22T17:55:30.221Z"
   },
   {
    "duration": 21,
    "start_time": "2023-04-22T17:55:30.361Z"
   },
   {
    "duration": 37,
    "start_time": "2023-04-22T17:55:30.384Z"
   },
   {
    "duration": 24,
    "start_time": "2023-04-22T17:55:30.423Z"
   },
   {
    "duration": 61,
    "start_time": "2023-04-22T17:55:30.449Z"
   },
   {
    "duration": 21,
    "start_time": "2023-04-22T17:55:30.512Z"
   },
   {
    "duration": 33,
    "start_time": "2023-04-22T17:55:30.535Z"
   },
   {
    "duration": 34,
    "start_time": "2023-04-22T17:55:30.570Z"
   },
   {
    "duration": 47,
    "start_time": "2023-04-22T17:55:30.608Z"
   },
   {
    "duration": 46,
    "start_time": "2023-04-22T17:55:30.658Z"
   },
   {
    "duration": 52,
    "start_time": "2023-04-22T17:55:30.706Z"
   },
   {
    "duration": 45,
    "start_time": "2023-04-22T17:55:30.761Z"
   },
   {
    "duration": 56,
    "start_time": "2023-04-22T17:55:30.808Z"
   },
   {
    "duration": 30,
    "start_time": "2023-04-22T17:55:30.865Z"
   },
   {
    "duration": 58,
    "start_time": "2023-04-22T17:55:30.897Z"
   },
   {
    "duration": 29,
    "start_time": "2023-04-22T17:55:30.957Z"
   },
   {
    "duration": 33,
    "start_time": "2023-04-22T17:55:30.988Z"
   },
   {
    "duration": 59,
    "start_time": "2023-04-22T17:55:31.023Z"
   },
   {
    "duration": 243,
    "start_time": "2023-04-22T17:55:31.083Z"
   },
   {
    "duration": 9,
    "start_time": "2023-04-22T17:55:31.327Z"
   },
   {
    "duration": 32,
    "start_time": "2023-04-22T17:55:31.338Z"
   },
   {
    "duration": 1452,
    "start_time": "2023-04-22T17:55:31.372Z"
   },
   {
    "duration": 14,
    "start_time": "2023-04-22T17:55:32.826Z"
   },
   {
    "duration": 18,
    "start_time": "2023-04-22T17:55:32.842Z"
   },
   {
    "duration": 38,
    "start_time": "2023-04-22T17:55:32.861Z"
   },
   {
    "duration": 5,
    "start_time": "2023-04-22T17:55:32.901Z"
   },
   {
    "duration": 174,
    "start_time": "2023-04-22T17:55:32.910Z"
   },
   {
    "duration": 197,
    "start_time": "2023-04-22T17:55:33.086Z"
   },
   {
    "duration": 188,
    "start_time": "2023-04-22T17:55:33.284Z"
   },
   {
    "duration": 202,
    "start_time": "2023-04-22T17:55:33.474Z"
   },
   {
    "duration": 17,
    "start_time": "2023-04-22T17:55:33.683Z"
   },
   {
    "duration": 11,
    "start_time": "2023-04-22T17:55:33.702Z"
   },
   {
    "duration": 178,
    "start_time": "2023-04-22T17:55:33.715Z"
   },
   {
    "duration": 240,
    "start_time": "2023-04-22T17:55:33.895Z"
   },
   {
    "duration": 169,
    "start_time": "2023-04-22T17:55:34.137Z"
   },
   {
    "duration": 228,
    "start_time": "2023-04-22T17:55:34.308Z"
   },
   {
    "duration": 13,
    "start_time": "2023-04-22T17:55:34.537Z"
   },
   {
    "duration": 261,
    "start_time": "2023-04-22T17:55:34.552Z"
   },
   {
    "duration": 9,
    "start_time": "2023-04-22T17:55:34.815Z"
   },
   {
    "duration": 232,
    "start_time": "2023-04-22T17:55:34.826Z"
   },
   {
    "duration": 155,
    "start_time": "2023-04-22T17:55:35.059Z"
   },
   {
    "duration": 19,
    "start_time": "2023-04-22T17:55:35.216Z"
   },
   {
    "duration": 154,
    "start_time": "2023-04-22T17:55:35.237Z"
   },
   {
    "duration": 162,
    "start_time": "2023-04-22T17:55:35.393Z"
   },
   {
    "duration": 363,
    "start_time": "2023-04-22T17:55:35.557Z"
   },
   {
    "duration": 4618,
    "start_time": "2023-04-22T17:55:35.922Z"
   },
   {
    "duration": 822,
    "start_time": "2023-04-22T18:04:19.310Z"
   },
   {
    "duration": 249,
    "start_time": "2023-04-22T18:04:49.662Z"
   },
   {
    "duration": 425,
    "start_time": "2023-04-22T18:05:00.055Z"
   },
   {
    "duration": 188,
    "start_time": "2023-04-22T18:05:00.482Z"
   },
   {
    "duration": 34,
    "start_time": "2023-04-22T18:05:00.673Z"
   },
   {
    "duration": 63,
    "start_time": "2023-04-22T18:05:00.709Z"
   },
   {
    "duration": 56,
    "start_time": "2023-04-22T18:05:00.774Z"
   },
   {
    "duration": 118,
    "start_time": "2023-04-22T18:05:00.832Z"
   },
   {
    "duration": 42,
    "start_time": "2023-04-22T18:05:00.952Z"
   },
   {
    "duration": 49,
    "start_time": "2023-04-22T18:05:00.996Z"
   },
   {
    "duration": 75,
    "start_time": "2023-04-22T18:05:01.046Z"
   },
   {
    "duration": 102,
    "start_time": "2023-04-22T18:05:01.123Z"
   },
   {
    "duration": 41,
    "start_time": "2023-04-22T18:05:01.227Z"
   },
   {
    "duration": 70,
    "start_time": "2023-04-22T18:05:01.269Z"
   },
   {
    "duration": 27,
    "start_time": "2023-04-22T18:05:01.340Z"
   },
   {
    "duration": 72,
    "start_time": "2023-04-22T18:05:01.370Z"
   },
   {
    "duration": 18,
    "start_time": "2023-04-22T18:05:01.443Z"
   },
   {
    "duration": 90,
    "start_time": "2023-04-22T18:05:01.462Z"
   },
   {
    "duration": 59,
    "start_time": "2023-04-22T18:05:01.554Z"
   },
   {
    "duration": 56,
    "start_time": "2023-04-22T18:05:01.615Z"
   },
   {
    "duration": 145,
    "start_time": "2023-04-22T18:05:01.673Z"
   },
   {
    "duration": 302,
    "start_time": "2023-04-22T18:05:01.820Z"
   },
   {
    "duration": 8,
    "start_time": "2023-04-22T18:05:02.124Z"
   },
   {
    "duration": 33,
    "start_time": "2023-04-22T18:05:02.134Z"
   },
   {
    "duration": 1888,
    "start_time": "2023-04-22T18:05:02.169Z"
   },
   {
    "duration": 13,
    "start_time": "2023-04-22T18:05:04.058Z"
   },
   {
    "duration": 11,
    "start_time": "2023-04-22T18:05:04.072Z"
   },
   {
    "duration": 62,
    "start_time": "2023-04-22T18:05:04.085Z"
   },
   {
    "duration": 21,
    "start_time": "2023-04-22T18:05:04.148Z"
   },
   {
    "duration": 358,
    "start_time": "2023-04-22T18:05:04.171Z"
   },
   {
    "duration": 493,
    "start_time": "2023-04-22T18:05:04.531Z"
   },
   {
    "duration": 561,
    "start_time": "2023-04-22T18:05:05.026Z"
   },
   {
    "duration": 426,
    "start_time": "2023-04-22T18:05:05.588Z"
   },
   {
    "duration": 73,
    "start_time": "2023-04-22T18:05:06.016Z"
   },
   {
    "duration": 10,
    "start_time": "2023-04-22T18:05:06.091Z"
   },
   {
    "duration": 493,
    "start_time": "2023-04-22T18:05:06.104Z"
   },
   {
    "duration": 353,
    "start_time": "2023-04-22T18:05:06.601Z"
   },
   {
    "duration": 190,
    "start_time": "2023-04-22T18:05:06.955Z"
   },
   {
    "duration": 280,
    "start_time": "2023-04-22T18:05:07.146Z"
   },
   {
    "duration": 785,
    "start_time": "2023-04-22T18:05:07.429Z"
   },
   {
    "duration": 17,
    "start_time": "2023-04-22T18:05:08.216Z"
   },
   {
    "duration": 213,
    "start_time": "2023-04-22T18:05:08.235Z"
   },
   {
    "duration": 10,
    "start_time": "2023-04-22T18:05:08.452Z"
   },
   {
    "duration": 223,
    "start_time": "2023-04-22T18:05:08.464Z"
   },
   {
    "duration": 185,
    "start_time": "2023-04-22T18:05:08.689Z"
   },
   {
    "duration": 28,
    "start_time": "2023-04-22T18:05:08.877Z"
   },
   {
    "duration": 263,
    "start_time": "2023-04-22T18:05:08.907Z"
   },
   {
    "duration": 183,
    "start_time": "2023-04-22T18:05:09.172Z"
   },
   {
    "duration": 441,
    "start_time": "2023-04-22T18:05:09.357Z"
   },
   {
    "duration": 6199,
    "start_time": "2023-04-22T18:05:09.800Z"
   },
   {
    "duration": 55,
    "start_time": "2025-04-05T16:26:55.387Z"
   },
   {
    "duration": 6,
    "start_time": "2025-04-05T16:35:04.497Z"
   }
  ],
  "colab": {
   "name": "DA+. Сборный проект 1. Шаблон (1).ipynb",
   "provenance": []
  },
  "kernelspec": {
   "display_name": "Python 3 (ipykernel)",
   "language": "python",
   "name": "python3"
  },
  "language_info": {
   "codemirror_mode": {
    "name": "ipython",
    "version": 3
   },
   "file_extension": ".py",
   "mimetype": "text/x-python",
   "name": "python",
   "nbconvert_exporter": "python",
   "pygments_lexer": "ipython3",
   "version": "3.9.5"
  },
  "toc": {
   "base_numbering": 1,
   "nav_menu": {},
   "number_sections": true,
   "sideBar": true,
   "skip_h1_title": true,
   "title_cell": "Table of Contents",
   "title_sidebar": "Contents",
   "toc_cell": false,
   "toc_position": {
    "height": "calc(100% - 180px)",
    "left": "10px",
    "top": "150px",
    "width": "165px"
   },
   "toc_section_display": true,
   "toc_window_display": true
  },
  "widgets": {
   "application/vnd.jupyter.widget-state+json": {
    "state": {},
    "version_major": 2,
    "version_minor": 0
   }
  }
 },
 "nbformat": 4,
 "nbformat_minor": 1
}
